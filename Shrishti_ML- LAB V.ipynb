{
 "cells": [
  {
   "cell_type": "code",
   "execution_count": 1,
   "metadata": {},
   "outputs": [
    {
     "data": {
      "text/html": [
       "<div>\n",
       "<style scoped>\n",
       "    .dataframe tbody tr th:only-of-type {\n",
       "        vertical-align: middle;\n",
       "    }\n",
       "\n",
       "    .dataframe tbody tr th {\n",
       "        vertical-align: top;\n",
       "    }\n",
       "\n",
       "    .dataframe thead th {\n",
       "        text-align: right;\n",
       "    }\n",
       "</style>\n",
       "<table border=\"1\" class=\"dataframe\">\n",
       "  <thead>\n",
       "    <tr style=\"text-align: right;\">\n",
       "      <th></th>\n",
       "      <th>school</th>\n",
       "      <th>sex</th>\n",
       "      <th>age</th>\n",
       "      <th>address</th>\n",
       "      <th>famsize</th>\n",
       "      <th>Pstatus</th>\n",
       "      <th>Medu</th>\n",
       "      <th>Fedu</th>\n",
       "      <th>Mjob</th>\n",
       "      <th>Fjob</th>\n",
       "      <th>...</th>\n",
       "      <th>internet</th>\n",
       "      <th>romantic</th>\n",
       "      <th>famrel</th>\n",
       "      <th>freetime</th>\n",
       "      <th>goout</th>\n",
       "      <th>Dalc</th>\n",
       "      <th>Walc</th>\n",
       "      <th>health</th>\n",
       "      <th>absences</th>\n",
       "      <th>grade</th>\n",
       "    </tr>\n",
       "  </thead>\n",
       "  <tbody>\n",
       "    <tr>\n",
       "      <th>0</th>\n",
       "      <td>GP</td>\n",
       "      <td>F</td>\n",
       "      <td>18</td>\n",
       "      <td>U</td>\n",
       "      <td>GT3</td>\n",
       "      <td>A</td>\n",
       "      <td>4</td>\n",
       "      <td>4</td>\n",
       "      <td>at_home</td>\n",
       "      <td>teacher</td>\n",
       "      <td>...</td>\n",
       "      <td>no</td>\n",
       "      <td>no</td>\n",
       "      <td>4</td>\n",
       "      <td>3</td>\n",
       "      <td>4</td>\n",
       "      <td>1</td>\n",
       "      <td>1</td>\n",
       "      <td>3</td>\n",
       "      <td>6</td>\n",
       "      <td>F</td>\n",
       "    </tr>\n",
       "    <tr>\n",
       "      <th>1</th>\n",
       "      <td>GP</td>\n",
       "      <td>F</td>\n",
       "      <td>17</td>\n",
       "      <td>U</td>\n",
       "      <td>GT3</td>\n",
       "      <td>T</td>\n",
       "      <td>1</td>\n",
       "      <td>1</td>\n",
       "      <td>at_home</td>\n",
       "      <td>other</td>\n",
       "      <td>...</td>\n",
       "      <td>yes</td>\n",
       "      <td>no</td>\n",
       "      <td>5</td>\n",
       "      <td>3</td>\n",
       "      <td>3</td>\n",
       "      <td>1</td>\n",
       "      <td>1</td>\n",
       "      <td>3</td>\n",
       "      <td>4</td>\n",
       "      <td>F</td>\n",
       "    </tr>\n",
       "    <tr>\n",
       "      <th>2</th>\n",
       "      <td>GP</td>\n",
       "      <td>F</td>\n",
       "      <td>15</td>\n",
       "      <td>U</td>\n",
       "      <td>LE3</td>\n",
       "      <td>T</td>\n",
       "      <td>1</td>\n",
       "      <td>1</td>\n",
       "      <td>at_home</td>\n",
       "      <td>other</td>\n",
       "      <td>...</td>\n",
       "      <td>yes</td>\n",
       "      <td>no</td>\n",
       "      <td>4</td>\n",
       "      <td>3</td>\n",
       "      <td>2</td>\n",
       "      <td>2</td>\n",
       "      <td>3</td>\n",
       "      <td>3</td>\n",
       "      <td>10</td>\n",
       "      <td>C</td>\n",
       "    </tr>\n",
       "    <tr>\n",
       "      <th>3</th>\n",
       "      <td>GP</td>\n",
       "      <td>F</td>\n",
       "      <td>15</td>\n",
       "      <td>U</td>\n",
       "      <td>GT3</td>\n",
       "      <td>T</td>\n",
       "      <td>4</td>\n",
       "      <td>2</td>\n",
       "      <td>health</td>\n",
       "      <td>services</td>\n",
       "      <td>...</td>\n",
       "      <td>yes</td>\n",
       "      <td>yes</td>\n",
       "      <td>3</td>\n",
       "      <td>2</td>\n",
       "      <td>2</td>\n",
       "      <td>1</td>\n",
       "      <td>1</td>\n",
       "      <td>5</td>\n",
       "      <td>2</td>\n",
       "      <td>B</td>\n",
       "    </tr>\n",
       "    <tr>\n",
       "      <th>4</th>\n",
       "      <td>GP</td>\n",
       "      <td>F</td>\n",
       "      <td>16</td>\n",
       "      <td>U</td>\n",
       "      <td>GT3</td>\n",
       "      <td>T</td>\n",
       "      <td>3</td>\n",
       "      <td>3</td>\n",
       "      <td>other</td>\n",
       "      <td>other</td>\n",
       "      <td>...</td>\n",
       "      <td>no</td>\n",
       "      <td>no</td>\n",
       "      <td>4</td>\n",
       "      <td>3</td>\n",
       "      <td>2</td>\n",
       "      <td>1</td>\n",
       "      <td>2</td>\n",
       "      <td>5</td>\n",
       "      <td>4</td>\n",
       "      <td>C</td>\n",
       "    </tr>\n",
       "  </tbody>\n",
       "</table>\n",
       "<p>5 rows × 31 columns</p>\n",
       "</div>"
      ],
      "text/plain": [
       "  school sex  age address famsize Pstatus  Medu  Fedu     Mjob      Fjob  ...  \\\n",
       "0     GP   F   18       U     GT3       A     4     4  at_home   teacher  ...   \n",
       "1     GP   F   17       U     GT3       T     1     1  at_home     other  ...   \n",
       "2     GP   F   15       U     LE3       T     1     1  at_home     other  ...   \n",
       "3     GP   F   15       U     GT3       T     4     2   health  services  ...   \n",
       "4     GP   F   16       U     GT3       T     3     3    other     other  ...   \n",
       "\n",
       "  internet romantic  famrel  freetime  goout Dalc Walc health absences grade  \n",
       "0       no       no       4         3      4    1    1      3        6     F  \n",
       "1      yes       no       5         3      3    1    1      3        4     F  \n",
       "2      yes       no       4         3      2    2    3      3       10     C  \n",
       "3      yes      yes       3         2      2    1    1      5        2     B  \n",
       "4       no       no       4         3      2    1    2      5        4     C  \n",
       "\n",
       "[5 rows x 31 columns]"
      ]
     },
     "execution_count": 1,
     "metadata": {},
     "output_type": "execute_result"
    }
   ],
   "source": [
    "import pandas as pd\n",
    "df= pd.read_csv('student-mat.csv')\n",
    "df.head()"
   ]
  },
  {
   "cell_type": "code",
   "execution_count": 2,
   "metadata": {},
   "outputs": [],
   "source": [
    "df['school']= df['school'].map({'GP':1, 'MS': 0}).astype(int)\n",
    "df['sex']= df['sex'].map({'F':1, 'M': 0}).astype(int)\n",
    "df['address']= df['address'].map({'R':0, 'U': 1}).astype(int)\n",
    "df['famsize']= df['famsize'].map({'GT3':1, 'LE3': 0}).astype(int)\n",
    "df['Pstatus']= df['Pstatus'].map({'A':0, 'T': 1}).astype(int)\n",
    "df['schoolsup']=df['schoolsup'].map({'yes':0, 'no':1}).astype(int)\n",
    "df['famsup']=df['famsup'].map({'yes':1, 'no': 0}).astype(int)\n",
    "df['paid']=df['paid'].map({'yes':0, 'no':1}).astype(int)\n",
    "df['activities']=df['activities'].map({'yes':1, 'no':0}).astype(int)\n",
    "df['nursery']=df['nursery'].map({'yes': 1, 'no': 0}).astype(int)\n",
    "df['higher']=df['higher'].map({'yes':1, 'no': 0}).astype(int)\n",
    "df['internet']=df['internet'].map({'yes': 1, 'no': 0}).astype(int)\n",
    "df['romantic']=df['romantic'].map({'yes':0, 'no': 1}).astype(int)"
   ]
  },
  {
   "cell_type": "code",
   "execution_count": 3,
   "metadata": {},
   "outputs": [],
   "source": [
    "F= pd.get_dummies(df['Fjob'])\n",
    "df= pd.concat([df,F], axis=1)\n",
    "\n",
    "d= pd.get_dummies(df['Mjob'])\n",
    "df= pd.concat([df,d], axis=1)\n",
    "\n",
    "r=pd.get_dummies(df['reason'])\n",
    "df= pd.concat([df,r], axis=1)\n",
    "\n",
    "g=pd.get_dummies(df['guardian'])\n",
    "df= pd.concat([df,g], axis=1)"
   ]
  },
  {
   "cell_type": "code",
   "execution_count": 4,
   "metadata": {},
   "outputs": [],
   "source": [
    "df.drop('Fjob', axis=1, inplace=True)\n",
    "df.drop('Mjob', axis=1, inplace=True)\n",
    "df.drop('reason', axis=1, inplace=True)\n",
    "df.drop('guardian', axis=1, inplace=True)"
   ]
  },
  {
   "cell_type": "code",
   "execution_count": 5,
   "metadata": {},
   "outputs": [
    {
     "name": "stdout",
     "output_type": "stream",
     "text": [
      "<class 'pandas.core.frame.DataFrame'>\n",
      "RangeIndex: 395 entries, 0 to 394\n",
      "Data columns (total 44 columns):\n",
      "school        395 non-null int32\n",
      "sex           395 non-null int32\n",
      "age           395 non-null int64\n",
      "address       395 non-null int32\n",
      "famsize       395 non-null int32\n",
      "Pstatus       395 non-null int32\n",
      "Medu          395 non-null int64\n",
      "Fedu          395 non-null int64\n",
      "traveltime    395 non-null int64\n",
      "studytime     395 non-null int64\n",
      "failures      395 non-null int64\n",
      "schoolsup     395 non-null int32\n",
      "famsup        395 non-null int32\n",
      "paid          395 non-null int32\n",
      "activities    395 non-null int32\n",
      "nursery       395 non-null int32\n",
      "higher        395 non-null int32\n",
      "internet      395 non-null int32\n",
      "romantic      395 non-null int32\n",
      "famrel        395 non-null int64\n",
      "freetime      395 non-null int64\n",
      "goout         395 non-null int64\n",
      "Dalc          395 non-null int64\n",
      "Walc          395 non-null int64\n",
      "health        395 non-null int64\n",
      "absences      395 non-null int64\n",
      "grade         395 non-null object\n",
      "at_home       395 non-null uint8\n",
      "health        395 non-null uint8\n",
      "other         395 non-null uint8\n",
      "services      395 non-null uint8\n",
      "teacher       395 non-null uint8\n",
      "at_home       395 non-null uint8\n",
      "health        395 non-null uint8\n",
      "other         395 non-null uint8\n",
      "services      395 non-null uint8\n",
      "teacher       395 non-null uint8\n",
      "course        395 non-null uint8\n",
      "home          395 non-null uint8\n",
      "other         395 non-null uint8\n",
      "reputation    395 non-null uint8\n",
      "father        395 non-null uint8\n",
      "mother        395 non-null uint8\n",
      "other         395 non-null uint8\n",
      "dtypes: int32(13), int64(13), object(1), uint8(17)\n",
      "memory usage: 69.9+ KB\n"
     ]
    }
   ],
   "source": [
    "df.info()"
   ]
  },
  {
   "cell_type": "code",
   "execution_count": 6,
   "metadata": {},
   "outputs": [
    {
     "data": {
      "text/plain": [
       "school        69\n",
       "sex           69\n",
       "age           69\n",
       "address       69\n",
       "famsize       69\n",
       "Pstatus       69\n",
       "Medu          69\n",
       "Fedu          69\n",
       "traveltime    69\n",
       "studytime     69\n",
       "failures      69\n",
       "schoolsup     69\n",
       "famsup        69\n",
       "paid          69\n",
       "activities    69\n",
       "nursery       69\n",
       "higher        69\n",
       "internet      69\n",
       "romantic      69\n",
       "famrel        69\n",
       "freetime      69\n",
       "goout         69\n",
       "Dalc          69\n",
       "Walc          69\n",
       "health        69\n",
       "absences      69\n",
       "grade         69\n",
       "at_home       69\n",
       "health        69\n",
       "other         69\n",
       "services      69\n",
       "teacher       69\n",
       "at_home       69\n",
       "health        69\n",
       "other         69\n",
       "services      69\n",
       "teacher       69\n",
       "course        69\n",
       "home          69\n",
       "other         69\n",
       "reputation    69\n",
       "father        69\n",
       "mother        69\n",
       "other         69\n",
       "dtype: int64"
      ]
     },
     "execution_count": 6,
     "metadata": {},
     "output_type": "execute_result"
    }
   ],
   "source": [
    "df[df['grade']=='F'].count()"
   ]
  },
  {
   "cell_type": "code",
   "execution_count": 7,
   "metadata": {},
   "outputs": [
    {
     "data": {
      "text/plain": [
       "array(['F', 'C', 'B', 'A'], dtype=object)"
      ]
     },
     "execution_count": 7,
     "metadata": {},
     "output_type": "execute_result"
    }
   ],
   "source": [
    "df['grade'].unique()"
   ]
  },
  {
   "cell_type": "code",
   "execution_count": 8,
   "metadata": {},
   "outputs": [
    {
     "data": {
      "text/plain": [
       "array(['F', 'Not F'], dtype=object)"
      ]
     },
     "execution_count": 8,
     "metadata": {},
     "output_type": "execute_result"
    }
   ],
   "source": [
    "df['grade']= df['grade'].map({'A':'Not F', 'B':'Not F','C':'Not F','F':'F'})\n",
    "df['grade'].unique()"
   ]
  },
  {
   "cell_type": "code",
   "execution_count": 9,
   "metadata": {},
   "outputs": [],
   "source": [
    "y=pd.DataFrame(df['grade'])"
   ]
  },
  {
   "cell_type": "code",
   "execution_count": 10,
   "metadata": {},
   "outputs": [],
   "source": [
    "df.drop('grade', axis=1, inplace=True)"
   ]
  },
  {
   "cell_type": "code",
   "execution_count": 11,
   "metadata": {},
   "outputs": [
    {
     "name": "stdout",
     "output_type": "stream",
     "text": [
      "<class 'pandas.core.frame.DataFrame'>\n",
      "RangeIndex: 395 entries, 0 to 394\n",
      "Data columns (total 43 columns):\n",
      "school        395 non-null int32\n",
      "sex           395 non-null int32\n",
      "age           395 non-null int64\n",
      "address       395 non-null int32\n",
      "famsize       395 non-null int32\n",
      "Pstatus       395 non-null int32\n",
      "Medu          395 non-null int64\n",
      "Fedu          395 non-null int64\n",
      "traveltime    395 non-null int64\n",
      "studytime     395 non-null int64\n",
      "failures      395 non-null int64\n",
      "schoolsup     395 non-null int32\n",
      "famsup        395 non-null int32\n",
      "paid          395 non-null int32\n",
      "activities    395 non-null int32\n",
      "nursery       395 non-null int32\n",
      "higher        395 non-null int32\n",
      "internet      395 non-null int32\n",
      "romantic      395 non-null int32\n",
      "famrel        395 non-null int64\n",
      "freetime      395 non-null int64\n",
      "goout         395 non-null int64\n",
      "Dalc          395 non-null int64\n",
      "Walc          395 non-null int64\n",
      "health        395 non-null int64\n",
      "absences      395 non-null int64\n",
      "at_home       395 non-null uint8\n",
      "health        395 non-null uint8\n",
      "other         395 non-null uint8\n",
      "services      395 non-null uint8\n",
      "teacher       395 non-null uint8\n",
      "at_home       395 non-null uint8\n",
      "health        395 non-null uint8\n",
      "other         395 non-null uint8\n",
      "services      395 non-null uint8\n",
      "teacher       395 non-null uint8\n",
      "course        395 non-null uint8\n",
      "home          395 non-null uint8\n",
      "other         395 non-null uint8\n",
      "reputation    395 non-null uint8\n",
      "father        395 non-null uint8\n",
      "mother        395 non-null uint8\n",
      "other         395 non-null uint8\n",
      "dtypes: int32(13), int64(13), uint8(17)\n",
      "memory usage: 66.9 KB\n"
     ]
    }
   ],
   "source": [
    "X= pd.DataFrame(df)\n",
    "X.info()"
   ]
  },
  {
   "cell_type": "code",
   "execution_count": 12,
   "metadata": {},
   "outputs": [],
   "source": [
    "from sklearn.preprocessing import MinMaxScaler\n",
    "from sklearn.model_selection import train_test_split\n",
    "\n",
    "X_train_org, X_test_org, y_train, y_test= train_test_split(X,y, random_state=0)\n",
    "\n",
    "scaler=MinMaxScaler()\n",
    "scaler.fit(X_train_org)\n",
    "X_train=scaler.transform(X_train_org)\n",
    "X_test = scaler.fit_transform(X_test_org)"
   ]
  },
  {
   "cell_type": "code",
   "execution_count": 13,
   "metadata": {},
   "outputs": [
    {
     "data": {
      "text/plain": [
       "(296, 43)"
      ]
     },
     "execution_count": 13,
     "metadata": {},
     "output_type": "execute_result"
    }
   ],
   "source": [
    "X_train_org.shape"
   ]
  },
  {
   "cell_type": "code",
   "execution_count": 15,
   "metadata": {},
   "outputs": [
    {
     "name": "stdout",
     "output_type": "stream",
     "text": [
      "{'max_depth': 3}\n",
      "0.5923623995052567\n",
      "make_scorer(roc_auc_score, needs_threshold=True)\n"
     ]
    },
    {
     "name": "stderr",
     "output_type": "stream",
     "text": [
      "c:\\users\\lenovo\\appdata\\local\\programs\\python\\python37\\lib\\site-packages\\sklearn\\model_selection\\_search.py:823: FutureWarning: The parameter 'iid' is deprecated in 0.22 and will be removed in 0.24.\n",
      "  \"removed in 0.24.\", FutureWarning\n"
     ]
    }
   ],
   "source": [
    "from sklearn.tree import DecisionTreeClassifier\n",
    "from sklearn.model_selection import GridSearchCV\n",
    "from sklearn.metrics import f1_score\n",
    "\n",
    "\n",
    "param_grid = {'max_depth':[2, 3, 5, 7, 10]}\n",
    "\n",
    "grid3 = GridSearchCV(DecisionTreeClassifier(random_state = 0), param_grid, cv = 5, scoring='roc_auc',\n",
    "                    return_train_score= True, iid = False)\n",
    "grid3.fit(X_train, y_train)\n",
    "print(grid3.best_params_)\n",
    "print(grid3.best_score_)\n",
    "print(grid3.scorer_)\n",
    "#nfold_predictions=cross_val_predict(grid3.best_estimator_, X_, y_train, cv=10)\n"
   ]
  },
  {
   "cell_type": "code",
   "execution_count": 80,
   "metadata": {},
   "outputs": [],
   "source": [
    "tree = DecisionTreeClassifier(max_depth=3).fit(X_train, y_train)\n",
    "pred_tree = tree.predict(X_test)"
   ]
  },
  {
   "cell_type": "code",
   "execution_count": 81,
   "metadata": {},
   "outputs": [
    {
     "name": "stdout",
     "output_type": "stream",
     "text": [
      "Confusion matrix:\n",
      "[[ 7 10]\n",
      " [ 7 75]]\n"
     ]
    }
   ],
   "source": [
    "from sklearn.metrics import confusion_matrix\n",
    "\n",
    "confusion = confusion_matrix(y_test, pred_tree)\n",
    "print(\"Confusion matrix:\\n{}\".format(confusion))"
   ]
  },
  {
   "cell_type": "code",
   "execution_count": 83,
   "metadata": {},
   "outputs": [
    {
     "name": "stdout",
     "output_type": "stream",
     "text": [
      "Test score: 0.8283\n"
     ]
    }
   ],
   "source": [
    "print(\"Test score: {:.4f}\".format(tree.score(X_test, y_test)))"
   ]
  },
  {
   "cell_type": "code",
   "execution_count": null,
   "metadata": {},
   "outputs": [],
   "source": []
  }
 ],
 "metadata": {
  "kernelspec": {
   "display_name": "Python 3",
   "language": "python",
   "name": "python3"
  },
  "language_info": {
   "codemirror_mode": {
    "name": "ipython",
    "version": 3
   },
   "file_extension": ".py",
   "mimetype": "text/x-python",
   "name": "python",
   "nbconvert_exporter": "python",
   "pygments_lexer": "ipython3",
   "version": "3.7.4"
  }
 },
 "nbformat": 4,
 "nbformat_minor": 2
}

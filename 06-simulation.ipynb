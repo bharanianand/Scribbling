{
 "cells": [
  {
   "cell_type": "markdown",
   "metadata": {},
   "source": [
    "# Lecture 6--Simulation"
   ]
  },
  {
   "cell_type": "markdown",
   "metadata": {},
   "source": [
    "## 1. Programming: Graphviz"
   ]
  },
  {
   "cell_type": "markdown",
   "metadata": {},
   "source": []
  },
  {
   "cell_type": "markdown",
   "metadata": {},
   "source": [
    "## 2. Data Science: ARMA processes\n",
    "\n",
    "### 2.1 Foundation\n",
    "#### Definition\n",
    "#### Simulation\n",
    "### 2.2 State-space representation\n",
    "#### Format\n",
    "#### ARMA to state-space\n",
    "#### Code\n",
    "### 2.3 Kalman filter\n",
    "#### Estimation via CSS\n",
    "#### Estimation via Maximum likelihood\n",
    "#### Code\n",
    "#### Forecasting\n",
    "### 2.4 Stationarity tests\n",
    "#### Dickey-Fuller test\n",
    "#### KPSS test\n",
    "#### Code"
   ]
  },
  {
   "cell_type": "code",
   "execution_count": null,
   "metadata": {},
   "outputs": [],
   "source": []
  },
  {
   "cell_type": "code",
   "execution_count": 3,
   "metadata": {},
   "outputs": [],
   "source": [
    "import numpy as np\n",
    "def kpss(series,diffs=0,trend=False,lagshort=True):\n",
    "    where = np.where(np.all(np.isfinite(y.values),1))[0]\n",
    "    start,end = where[0],where[-1]\n",
    "    y = y.values[start:end+1,:]\n",
    "    y = np.diff(y,n=diffs)\n",
    "    n = y.shape[0]\n",
    "    if lagshort: \n",
    "        lags = int(4*(n/100)**0.25)\n",
    "    else: \n",
    "        lags = int(12*(n/100)**0.25)\n",
    "    y = y.reshape(-1,1)\n",
    "    x = np.ones((n,1))\n",
    "    if trend:\n",
    "        x = np.hstack((x,np.arange(n).reshape(-1,1)))\n",
    "        table = np.array([0.119,0.146,0.176,0.216])\n",
    "    else:\n",
    "        table = np.array([0.347,0.463,0.574,0.739])\n",
    "    tablep = np.array([0.1,0.05,0.025,0.01])\n",
    "    res = y-x@np.linalg.solve(x.T@x,x.T@y)\n",
    "    s = res.cumsum(0)\n",
    "    eta = s.T@s/n**2\n",
    "    sig = [2*(1-i/(lags+1))*(res[i:,:].T@res[:res.shape[0]-i,:])[0,0]/res[i:,:].shape[0] for i in range(1,lags+1)]\n",
    "    sig = np.array(sig).sum()\n",
    "    sig += (res.T@res)[0,0]/res.shape[0]\n",
    "    stat = eta/sig\n",
    "    p = np.interp(stat,table,tablep)\n",
    "    df = pd.DataFrame(columns=['method','stat','lags','p'])\n",
    "    df.loc[0] = ['kpss',stat,lags,p]\n",
    "    return df\n",
    "def adf(series,diffs=0,lags=None,explosive=False):\n",
    "    where = np.where(np.all(np.isfinite(y.values),1))[0]\n",
    "    start,end = where[0],where[-1]\n",
    "    y = y.values[start:end+1,:]\n",
    "    y = np.diff(y,n=diffs)\n",
    "    n = y.shape[0]\n",
    "    if lags is None: lags=int((n-1)**(1/3))\n",
    "    y = y.reshape(-1,1)\n",
    "    dy = np.diff(y)\n",
    "    ly = y[lags:-1,:]\n",
    "    n -= lags+1\n",
    "    ymat = dy[lags:,:]\n",
    "    xmat = [dy[lags-i:-i,:] for i in range(1,lags+1)]\n",
    "    xmat = np.hstack((ly,np.ones((n,1)),np.arange(n).reshape(-1,1),*xmat))\n",
    "    b = np.linalg.solve(xmat.T@xmat,xmat.T@ymat)\n",
    "    e = ymat-xmat@b\n",
    "    vb = (e.T@e/n)*np.linalg.inv(xmat.T@xmat)\n",
    "    stat = b.flatten()/np.sqrt(np.diagonal(vb))\n",
    "    stat = stat[0]\n",
    "    method = 'adf'\n",
    "    table = [[4.38, 4.15, 4.04, 3.99, 3.98, 3.96],\\\n",
    "        [3.95, 3.8 , 3.73, 3.69, 3.68, 3.66],\\\n",
    "        [3.6 , 3.5 , 3.45, 3.43, 3.42, 3.41],\\\n",
    "        [3.24, 3.18, 3.15, 3.13, 3.13, 3.12],\\\n",
    "        [1.14, 1.19, 1.22, 1.23, 1.24, 1.25],\\\n",
    "        [0.8 , 0.87, 0.9 , 0.92, 0.93, 0.94],\\\n",
    "        [0.5 , 0.58, 0.62, 0.64, 0.65, 0.66],\\\n",
    "        [0.15, 0.24, 0.28, 0.31, 0.32, 0.33]]\n",
    "    tableT = np.array([25, 50, 100, 250, 500, 10000])\n",
    "    tablep = np.array([0.01,0.025,0.05,0.10,0.90,0.95,0.975,0.88])\n",
    "    tableilp = []\n",
    "    ntmp = n\n",
    "    if n > tableT.max(): \n",
    "        ntmp = tableT.max()\n",
    "    for row in table:\n",
    "        tableilp += [np.interp(ntmp,tableT,np.array(row))]\n",
    "    tableilp = -np.array(tableilp)\n",
    "    p = np.interp(stat,tableilp,tablep)\n",
    "    df = pd.DataFrame(columns=['method','stat','lags','p'])\n",
    "    df.loc[0] = ['adf',stat,lags,p]\n",
    "    return df"
   ]
  },
  {
   "cell_type": "markdown",
   "metadata": {},
   "source": [
    "## 3. Programming challenges"
   ]
  },
  {
   "cell_type": "markdown",
   "metadata": {},
   "source": [
    "### 3.1 Spurious regression"
   ]
  },
  {
   "cell_type": "code",
   "execution_count": null,
   "metadata": {},
   "outputs": [],
   "source": []
  },
  {
   "cell_type": "markdown",
   "metadata": {},
   "source": [
    "### 3.2 OLS estimation of AR(1) process"
   ]
  }
 ],
 "metadata": {
  "kernelspec": {
   "display_name": "Python 3",
   "language": "python",
   "name": "python3"
  },
  "language_info": {
   "codemirror_mode": {
    "name": "ipython",
    "version": 3
   },
   "file_extension": ".py",
   "mimetype": "text/x-python",
   "name": "python",
   "nbconvert_exporter": "python",
   "pygments_lexer": "ipython3",
   "version": "3.7.4"
  }
 },
 "nbformat": 4,
 "nbformat_minor": 2
}

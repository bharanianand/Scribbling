{
 "cells": [
  {
   "cell_type": "code",
   "execution_count": 1,
   "metadata": {},
   "outputs": [
    {
     "name": "stdout",
     "output_type": "stream",
     "text": [
      "X\n"
     ]
    }
   ],
   "source": [
    "\n",
    "\n",
    "print('X')"
   ]
  },
  {
   "cell_type": "markdown",
   "metadata": {},
   "source": [
    "# Lecture 1--Core python"
   ]
  },
  {
   "cell_type": "markdown",
   "metadata": {},
   "source": [
    "## Miscellaneous: \n",
    "* Review Syllabus\n",
    "* Install Anaconda\n",
    "* Start Jupyter notebooks"
   ]
  },
  {
   "cell_type": "markdown",
   "metadata": {},
   "source": [
    "## Programming: Jupyter basics\n",
    "\n",
    "#### Printing/display\n",
    "\n",
    "The command in python to print anything is ```print```. That said, in Jupyter we do not need to always use ```print```:\n"
   ]
  },
  {
   "cell_type": "code",
   "execution_count": 3,
   "metadata": {},
   "outputs": [
    {
     "data": {
      "text/plain": [
       "0.625"
      ]
     },
     "execution_count": 3,
     "metadata": {},
     "output_type": "execute_result"
    }
   ],
   "source": [
    "5/8"
   ]
  },
  {
   "cell_type": "markdown",
   "metadata": {},
   "source": [
    "Note that in jupyter, only the last statement gets shown back to us:"
   ]
  },
  {
   "cell_type": "code",
   "execution_count": 7,
   "metadata": {},
   "outputs": [
    {
     "ename": "SyntaxError",
     "evalue": "unexpected character after line continuation character (<ipython-input-7-5c9514832f6b>, line 1)",
     "output_type": "error",
     "traceback": [
      "\u001b[1;36m  File \u001b[1;32m\"<ipython-input-7-5c9514832f6b>\"\u001b[1;36m, line \u001b[1;32m1\u001b[0m\n\u001b[1;33m    \"Hello,\" \\n \"World!\"\u001b[0m\n\u001b[1;37m                        ^\u001b[0m\n\u001b[1;31mSyntaxError\u001b[0m\u001b[1;31m:\u001b[0m unexpected character after line continuation character\n"
     ]
    }
   ],
   "source": [
    "\"Hello\"\n",
    "\"World!\""
   ]
  },
  {
   "cell_type": "markdown",
   "metadata": {},
   "source": [
    "\n",
    "#### Markdown blocks\n",
    "\n",
    "In Jupyter, you can switch a code block to Markdown and type to document your code and allow other people to read it. In fact, the very words you are reading are just a markdown block that has been formatted. Below you will find an unformatted markdown block. With ctrl+enter you can process it. Double clicking on it will turn it back into edit mode.\n"
   ]
  },
  {
   "cell_type": "markdown",
   "metadata": {},
   "source": [
    "##### Example subheading\n",
    "\n",
    "This code is written in markdown so that it can be formatted for human reading."
   ]
  },
  {
   "cell_type": "markdown",
   "metadata": {},
   "source": [
    "#### Code comments\n",
    "\n",
    "Sometimes I will comment my code. Comments in python appear after the ```#``` operator. Anything on a line after a ```#``` is a comment and is not necessary. These comments are to help you. Great programmers use lots of comments so that other people can understand their code and so that they know what is happening if they look at it months or years later."
   ]
  },
  {
   "cell_type": "code",
   "execution_count": 3,
   "metadata": {},
   "outputs": [
    {
     "data": {
      "text/plain": [
       "'Hello, World!'"
      ]
     },
     "execution_count": 3,
     "metadata": {},
     "output_type": "execute_result"
    }
   ],
   "source": [
    "\"Hello, World!\" ## Here we are showing our first python code"
   ]
  },
  {
   "cell_type": "markdown",
   "metadata": {},
   "source": [
    "## Topic: Core python\n",
    "\n",
    "### Data types\t\t\n",
    "\t\n",
    "#### Primitives\t\n",
    "\n",
    "Booleans"
   ]
  },
  {
   "cell_type": "code",
   "execution_count": 9,
   "metadata": {},
   "outputs": [
    {
     "data": {
      "text/plain": [
       "True"
      ]
     },
     "execution_count": 9,
     "metadata": {},
     "output_type": "execute_result"
    }
   ],
   "source": [
    "True"
   ]
  },
  {
   "cell_type": "code",
   "execution_count": 5,
   "metadata": {},
   "outputs": [
    {
     "data": {
      "text/plain": [
       "False"
      ]
     },
     "execution_count": 5,
     "metadata": {},
     "output_type": "execute_result"
    }
   ],
   "source": [
    "False"
   ]
  },
  {
   "cell_type": "code",
   "execution_count": 6,
   "metadata": {},
   "outputs": [
    {
     "data": {
      "text/plain": [
       "False"
      ]
     },
     "execution_count": 6,
     "metadata": {},
     "output_type": "execute_result"
    }
   ],
   "source": [
    "5==4"
   ]
  },
  {
   "cell_type": "code",
   "execution_count": 21,
   "metadata": {},
   "outputs": [
    {
     "data": {
      "text/plain": [
       "'A B'"
      ]
     },
     "execution_count": 21,
     "metadata": {},
     "output_type": "execute_result"
    }
   ],
   "source": [
    "\"A\" + \"B\""
   ]
  },
  {
   "cell_type": "code",
   "execution_count": 8,
   "metadata": {},
   "outputs": [
    {
     "data": {
      "text/plain": [
       "True"
      ]
     },
     "execution_count": 8,
     "metadata": {},
     "output_type": "execute_result"
    }
   ],
   "source": [
    "1==True"
   ]
  },
  {
   "cell_type": "code",
   "execution_count": 9,
   "metadata": {},
   "outputs": [
    {
     "data": {
      "text/plain": [
       "True"
      ]
     },
     "execution_count": 9,
     "metadata": {},
     "output_type": "execute_result"
    }
   ],
   "source": [
    "0==False"
   ]
  },
  {
   "cell_type": "markdown",
   "metadata": {},
   "source": [
    "Strings"
   ]
  },
  {
   "cell_type": "code",
   "execution_count": 10,
   "metadata": {},
   "outputs": [
    {
     "name": "stdout",
     "output_type": "stream",
     "text": [
      "Hello World!\n"
     ]
    }
   ],
   "source": [
    "print(\"Hello World!\")"
   ]
  },
  {
   "cell_type": "code",
   "execution_count": 11,
   "metadata": {},
   "outputs": [
    {
     "data": {
      "text/plain": [
       "'Hello, World!'"
      ]
     },
     "execution_count": 11,
     "metadata": {},
     "output_type": "execute_result"
    }
   ],
   "source": [
    "\"Hello,\" + \" World!\""
   ]
  },
  {
   "cell_type": "markdown",
   "metadata": {},
   "source": [
    "Numerics"
   ]
  },
  {
   "cell_type": "code",
   "execution_count": 12,
   "metadata": {},
   "outputs": [
    {
     "data": {
      "text/plain": [
       "5"
      ]
     },
     "execution_count": 12,
     "metadata": {},
     "output_type": "execute_result"
    }
   ],
   "source": [
    "5 # This is an int"
   ]
  },
  {
   "cell_type": "code",
   "execution_count": 13,
   "metadata": {},
   "outputs": [
    {
     "data": {
      "text/plain": [
       "4.5"
      ]
     },
     "execution_count": 13,
     "metadata": {},
     "output_type": "execute_result"
    }
   ],
   "source": [
    "4.5 # This is a float"
   ]
  },
  {
   "cell_type": "code",
   "execution_count": 14,
   "metadata": {},
   "outputs": [
    {
     "data": {
      "text/plain": [
       "6.0"
      ]
     },
     "execution_count": 14,
     "metadata": {},
     "output_type": "execute_result"
    }
   ],
   "source": [
    "5.4 + 0.6 # Addition"
   ]
  },
  {
   "cell_type": "code",
   "execution_count": 15,
   "metadata": {},
   "outputs": [
    {
     "data": {
      "text/plain": [
       "1.5"
      ]
     },
     "execution_count": 15,
     "metadata": {},
     "output_type": "execute_result"
    }
   ],
   "source": [
    "3/2 # Division"
   ]
  },
  {
   "cell_type": "code",
   "execution_count": 16,
   "metadata": {},
   "outputs": [
    {
     "data": {
      "text/plain": [
       "1"
      ]
     },
     "execution_count": 16,
     "metadata": {},
     "output_type": "execute_result"
    }
   ],
   "source": [
    "3//2 # Division w/o remainder"
   ]
  },
  {
   "cell_type": "code",
   "execution_count": 17,
   "metadata": {},
   "outputs": [
    {
     "data": {
      "text/plain": [
       "1"
      ]
     },
     "execution_count": 17,
     "metadata": {},
     "output_type": "execute_result"
    }
   ],
   "source": [
    "3%2 # Remainder (modulus) division"
   ]
  },
  {
   "cell_type": "code",
   "execution_count": 18,
   "metadata": {},
   "outputs": [
    {
     "data": {
      "text/plain": [
       "5"
      ]
     },
     "execution_count": 18,
     "metadata": {},
     "output_type": "execute_result"
    }
   ],
   "source": [
    "7^2 # Some bitwise whatever (don't use)"
   ]
  },
  {
   "cell_type": "code",
   "execution_count": 19,
   "metadata": {},
   "outputs": [
    {
     "data": {
      "text/plain": [
       "49"
      ]
     },
     "execution_count": 19,
     "metadata": {},
     "output_type": "execute_result"
    }
   ],
   "source": [
    "7**2 # Raised to power (do use)"
   ]
  },
  {
   "cell_type": "markdown",
   "metadata": {},
   "source": [
    "Casting"
   ]
  },
  {
   "cell_type": "code",
   "execution_count": 20,
   "metadata": {},
   "outputs": [
    {
     "data": {
      "text/plain": [
       "5"
      ]
     },
     "execution_count": 20,
     "metadata": {},
     "output_type": "execute_result"
    }
   ],
   "source": [
    "int(\"5\")"
   ]
  },
  {
   "cell_type": "code",
   "execution_count": 21,
   "metadata": {},
   "outputs": [
    {
     "ename": "ValueError",
     "evalue": "invalid literal for int() with base 10: '5.0001'",
     "output_type": "error",
     "traceback": [
      "\u001b[0;31m---------------------------------------------------------------------------\u001b[0m",
      "\u001b[0;31mValueError\u001b[0m                                Traceback (most recent call last)",
      "\u001b[0;32m<ipython-input-21-7657d1902f05>\u001b[0m in \u001b[0;36m<module>\u001b[0;34m\u001b[0m\n\u001b[0;32m----> 1\u001b[0;31m \u001b[0mint\u001b[0m\u001b[0;34m(\u001b[0m\u001b[0;34m\"5.0001\"\u001b[0m\u001b[0;34m)\u001b[0m\u001b[0;34m\u001b[0m\u001b[0;34m\u001b[0m\u001b[0m\n\u001b[0m",
      "\u001b[0;31mValueError\u001b[0m: invalid literal for int() with base 10: '5.0001'"
     ]
    }
   ],
   "source": [
    "int(\"5.0001\")"
   ]
  },
  {
   "cell_type": "code",
   "execution_count": 22,
   "metadata": {},
   "outputs": [
    {
     "data": {
      "text/plain": [
       "5.0002"
      ]
     },
     "execution_count": 22,
     "metadata": {},
     "output_type": "execute_result"
    }
   ],
   "source": [
    "float(\"5.0002\")"
   ]
  },
  {
   "cell_type": "code",
   "execution_count": 23,
   "metadata": {},
   "outputs": [
    {
     "data": {
      "text/plain": [
       "0"
      ]
     },
     "execution_count": 23,
     "metadata": {},
     "output_type": "execute_result"
    }
   ],
   "source": [
    "int(False)"
   ]
  },
  {
   "cell_type": "code",
   "execution_count": 24,
   "metadata": {},
   "outputs": [
    {
     "data": {
      "text/plain": [
       "'7'"
      ]
     },
     "execution_count": 24,
     "metadata": {},
     "output_type": "execute_result"
    }
   ],
   "source": [
    "str(7)"
   ]
  },
  {
   "cell_type": "markdown",
   "metadata": {},
   "source": [
    "#### Collections\n",
    "##### Lists (IMPORTANT)\n",
    "\n",
    "The most important collection in python is the list. A list is a collection of things. Those things can have any type, and they can be referenced by an index. It is important to note that python uses zero-based indexing."
   ]
  },
  {
   "cell_type": "code",
   "execution_count": 25,
   "metadata": {},
   "outputs": [
    {
     "data": {
      "text/plain": [
       "7"
      ]
     },
     "execution_count": 25,
     "metadata": {},
     "output_type": "execute_result"
    }
   ],
   "source": [
    "mylist = [5,7,9,11]\n",
    "mylist[1]"
   ]
  },
  {
   "cell_type": "code",
   "execution_count": 26,
   "metadata": {},
   "outputs": [
    {
     "data": {
      "text/plain": [
       "11"
      ]
     },
     "execution_count": 26,
     "metadata": {},
     "output_type": "execute_result"
    }
   ],
   "source": [
    "mylist[-1]"
   ]
  },
  {
   "cell_type": "code",
   "execution_count": 27,
   "metadata": {},
   "outputs": [
    {
     "data": {
      "text/plain": [
       "[7, 9, 11]"
      ]
     },
     "execution_count": 27,
     "metadata": {},
     "output_type": "execute_result"
    }
   ],
   "source": [
    "mylist[1:]"
   ]
  },
  {
   "cell_type": "code",
   "execution_count": 28,
   "metadata": {},
   "outputs": [
    {
     "data": {
      "text/plain": [
       "[5, 7, 9]"
      ]
     },
     "execution_count": 28,
     "metadata": {},
     "output_type": "execute_result"
    }
   ],
   "source": [
    "mylist[:-1]"
   ]
  },
  {
   "cell_type": "code",
   "execution_count": 29,
   "metadata": {},
   "outputs": [
    {
     "data": {
      "text/plain": [
       "[9]"
      ]
     },
     "execution_count": 29,
     "metadata": {},
     "output_type": "execute_result"
    }
   ],
   "source": [
    "mylist[2:3]"
   ]
  },
  {
   "cell_type": "code",
   "execution_count": 30,
   "metadata": {},
   "outputs": [
    {
     "data": {
      "text/plain": [
       "[5, 9, 11]"
      ]
     },
     "execution_count": 30,
     "metadata": {},
     "output_type": "execute_result"
    }
   ],
   "source": [
    "del mylist[1]\n",
    "mylist"
   ]
  },
  {
   "cell_type": "code",
   "execution_count": 31,
   "metadata": {},
   "outputs": [
    {
     "data": {
      "text/plain": [
       "3"
      ]
     },
     "execution_count": 31,
     "metadata": {},
     "output_type": "execute_result"
    }
   ],
   "source": [
    "len(mylist)"
   ]
  },
  {
   "cell_type": "code",
   "execution_count": 32,
   "metadata": {},
   "outputs": [
    {
     "data": {
      "text/plain": [
       "[11, 9, 5]"
      ]
     },
     "execution_count": 32,
     "metadata": {},
     "output_type": "execute_result"
    }
   ],
   "source": [
    "mylist.sort(reverse=True)\n",
    "mylist"
   ]
  },
  {
   "cell_type": "code",
   "execution_count": 33,
   "metadata": {},
   "outputs": [
    {
     "data": {
      "text/plain": [
       "[11, 9, 5, 7]"
      ]
     },
     "execution_count": 33,
     "metadata": {},
     "output_type": "execute_result"
    }
   ],
   "source": [
    "mylist + [7]"
   ]
  },
  {
   "cell_type": "markdown",
   "metadata": {},
   "source": [
    "You can find a helpful set of [python list functions here](https://www.programiz.com/python-programming/methods/list).\n",
    "\n",
    "##### Tuples\n",
    "\n",
    "A tuple is a list where you can't change the elements. Why would you want this? It's unclear, but sometimes when writing python we get tuples from other functions or whatever. This means we have to know what tuples are and how to use them.\n",
    "\n",
    "Note: You can convert any tuple or tuple-like object ```A``` to a list with the ```list(A)``` function."
   ]
  },
  {
   "cell_type": "code",
   "execution_count": 34,
   "metadata": {},
   "outputs": [
    {
     "data": {
      "text/plain": [
       "(3, 4, 5)"
      ]
     },
     "execution_count": 34,
     "metadata": {},
     "output_type": "execute_result"
    }
   ],
   "source": [
    "(3,4,5)"
   ]
  },
  {
   "cell_type": "code",
   "execution_count": 35,
   "metadata": {},
   "outputs": [
    {
     "data": {
      "text/plain": [
       "4"
      ]
     },
     "execution_count": 35,
     "metadata": {},
     "output_type": "execute_result"
    }
   ],
   "source": [
    "(3,4,5)[1]"
   ]
  },
  {
   "cell_type": "code",
   "execution_count": 36,
   "metadata": {},
   "outputs": [
    {
     "data": {
      "text/plain": [
       "(3, 4, 5, 6)"
      ]
     },
     "execution_count": 36,
     "metadata": {},
     "output_type": "execute_result"
    }
   ],
   "source": [
    "(3,4,5)+(6,)"
   ]
  },
  {
   "cell_type": "code",
   "execution_count": 37,
   "metadata": {},
   "outputs": [
    {
     "ename": "TypeError",
     "evalue": "'tuple' object does not support item assignment",
     "output_type": "error",
     "traceback": [
      "\u001b[0;31m---------------------------------------------------------------------------\u001b[0m",
      "\u001b[0;31mTypeError\u001b[0m                                 Traceback (most recent call last)",
      "\u001b[0;32m<ipython-input-37-f6c9dea04c40>\u001b[0m in \u001b[0;36m<module>\u001b[0;34m\u001b[0m\n\u001b[0;32m----> 1\u001b[0;31m \u001b[0;34m(\u001b[0m\u001b[0;36m3\u001b[0m\u001b[0;34m,\u001b[0m\u001b[0;36m4\u001b[0m\u001b[0;34m,\u001b[0m\u001b[0;36m5\u001b[0m\u001b[0;34m)\u001b[0m\u001b[0;34m[\u001b[0m\u001b[0;36m1\u001b[0m\u001b[0;34m]\u001b[0m \u001b[0;34m=\u001b[0m \u001b[0;36m6\u001b[0m\u001b[0;34m\u001b[0m\u001b[0;34m\u001b[0m\u001b[0m\n\u001b[0m",
      "\u001b[0;31mTypeError\u001b[0m: 'tuple' object does not support item assignment"
     ]
    }
   ],
   "source": [
    "(3,4,5)[1] = 6"
   ]
  },
  {
   "cell_type": "markdown",
   "metadata": {},
   "source": [
    "##### Sets\n",
    "\n",
    "I don't choose to use sets very often, but they are an interesting concept nonetheless. Sets are unordered lists where any element can only be included once. This basically means that a set in Python has the same definition as a set in mathematics. Programatically, they can be a little strange to work with and there are some caveats to be aware of (if you plan to use them often). However, for our purposes, I will be skipping most of those to make things easier"
   ]
  },
  {
   "cell_type": "code",
   "execution_count": 38,
   "metadata": {},
   "outputs": [
    {
     "data": {
      "text/plain": [
       "{2, 3}"
      ]
     },
     "execution_count": 38,
     "metadata": {},
     "output_type": "execute_result"
    }
   ],
   "source": [
    "{2,3}"
   ]
  },
  {
   "cell_type": "code",
   "execution_count": 39,
   "metadata": {},
   "outputs": [
    {
     "data": {
      "text/plain": [
       "{4, 7, 8, 9, 10}"
      ]
     },
     "execution_count": 39,
     "metadata": {},
     "output_type": "execute_result"
    }
   ],
   "source": [
    "myset = {7,8,9}\n",
    "myset.add(10)\n",
    "myset.add(4)\n",
    "myset.add(7)\n",
    "myset"
   ]
  },
  {
   "cell_type": "markdown",
   "metadata": {},
   "source": [
    "##### Dictionaries (IMPORTANT)\n",
    "\n",
    "Another fundamental data structure in python is the dictionary. Dictionaries are essentially just a mapping. Every item in a dictionary has a key and is referenced by this key. So if you know the key (like a word in the dictionary) then you can find information about that key (like the definition in the dictionary). [A helpful set of functions relating to dictionaries can be found here.](https://www.programiz.com/python-programming/methods/dictionary)"
   ]
  },
  {
   "cell_type": "code",
   "execution_count": 22,
   "metadata": {},
   "outputs": [
    {
     "data": {
      "text/plain": [
       "1"
      ]
     },
     "execution_count": 22,
     "metadata": {},
     "output_type": "execute_result"
    }
   ],
   "source": [
    "mydict = {'a':1,'b':2,'c':3,'e' : 217}\n",
    "mydict['a']"
   ]
  },
  {
   "cell_type": "code",
   "execution_count": 41,
   "metadata": {},
   "outputs": [
    {
     "data": {
      "text/plain": [
       "3"
      ]
     },
     "execution_count": 41,
     "metadata": {},
     "output_type": "execute_result"
    }
   ],
   "source": [
    "mydict['c']"
   ]
  },
  {
   "cell_type": "code",
   "execution_count": 42,
   "metadata": {},
   "outputs": [
    {
     "data": {
      "text/plain": [
       "4"
      ]
     },
     "execution_count": 42,
     "metadata": {},
     "output_type": "execute_result"
    }
   ],
   "source": [
    "mydict['d'] = 4\n",
    "mydict['d']"
   ]
  },
  {
   "cell_type": "code",
   "execution_count": 23,
   "metadata": {},
   "outputs": [
    {
     "data": {
      "text/plain": [
       "217"
      ]
     },
     "execution_count": 23,
     "metadata": {},
     "output_type": "execute_result"
    }
   ],
   "source": [
    "mydict['e']"
   ]
  },
  {
   "cell_type": "code",
   "execution_count": 26,
   "metadata": {},
   "outputs": [
    {
     "data": {
      "text/plain": [
       "-2"
      ]
     },
     "execution_count": 26,
     "metadata": {},
     "output_type": "execute_result"
    }
   ],
   "source": [
    "mydict.get('f',-1)  # get with default of -1 if not in dictionary"
   ]
  },
  {
   "cell_type": "code",
   "execution_count": 45,
   "metadata": {},
   "outputs": [
    {
     "data": {
      "text/plain": [
       "dict_keys(['a', 'b', 'c', 'd'])"
      ]
     },
     "execution_count": 45,
     "metadata": {},
     "output_type": "execute_result"
    }
   ],
   "source": [
    "mydict.keys()"
   ]
  },
  {
   "cell_type": "code",
   "execution_count": 46,
   "metadata": {
    "collapsed": true
   },
   "outputs": [
    {
     "data": {
      "text/plain": [
       "dict_values([1, 2, 3, 4])"
      ]
     },
     "execution_count": 46,
     "metadata": {},
     "output_type": "execute_result"
    }
   ],
   "source": [
    "mydict.values()"
   ]
  },
  {
   "cell_type": "markdown",
   "metadata": {},
   "source": [
    "### Control structures\n",
    "#### Conditionals\n",
    "Logical operators:\n",
    "\n",
    "* Equal: ```==``` or ```is```\n",
    "* Not equal: ```!=``` or ```is not```\n",
    "* less than: ```<```\n",
    "* greater than: ```>```\n",
    "* lt or eq: ```<=```\n",
    "* ge or eq: ```>=```\n",
    "* And: ```and```\n",
    "* Or: ```or```\n",
    "* Not: ```not```\n",
    "* Is contained in list: ```in```\n",
    "* List ```A``` is empty: ```A```"
   ]
  },
  {
   "cell_type": "code",
   "execution_count": 47,
   "metadata": {},
   "outputs": [
    {
     "data": {
      "text/plain": [
       "True"
      ]
     },
     "execution_count": 47,
     "metadata": {},
     "output_type": "execute_result"
    }
   ],
   "source": [
    "2<3 or 3>=4"
   ]
  },
  {
   "cell_type": "code",
   "execution_count": 48,
   "metadata": {},
   "outputs": [
    {
     "data": {
      "text/plain": [
       "True"
      ]
     },
     "execution_count": 48,
     "metadata": {},
     "output_type": "execute_result"
    }
   ],
   "source": [
    "A = [2,3,4]\n",
    "3 in A"
   ]
  },
  {
   "cell_type": "code",
   "execution_count": 49,
   "metadata": {},
   "outputs": [
    {
     "data": {
      "text/plain": [
       "True"
      ]
     },
     "execution_count": 49,
     "metadata": {},
     "output_type": "execute_result"
    }
   ],
   "source": [
    "bool(A)"
   ]
  },
  {
   "cell_type": "markdown",
   "metadata": {},
   "source": [
    "If clauses"
   ]
  },
  {
   "cell_type": "code",
   "execution_count": 50,
   "metadata": {},
   "outputs": [],
   "source": [
    "if 5>6:\n",
    "    print('It\\'s greater')"
   ]
  },
  {
   "cell_type": "code",
   "execution_count": 51,
   "metadata": {},
   "outputs": [
    {
     "name": "stdout",
     "output_type": "stream",
     "text": [
      "I have a short name\n"
     ]
    }
   ],
   "source": [
    "my_name = \"jason\"\n",
    "if len(my_name)<=3:\n",
    "    print('I have a very short name')\n",
    "elif len(my_name)<=5:\n",
    "    print('I have a short name')\n",
    "elif len(my_name)<=7:\n",
    "    print('I have a normal name')\n",
    "elif len(my_name)<=9:\n",
    "    print('I have a long name')\n",
    "else:\n",
    "    print('I have a very long name')"
   ]
  },
  {
   "cell_type": "markdown",
   "metadata": {},
   "source": [
    "Inline if"
   ]
  },
  {
   "cell_type": "code",
   "execution_count": 52,
   "metadata": {},
   "outputs": [
    {
     "data": {
      "text/plain": [
       "0"
      ]
     },
     "execution_count": 52,
     "metadata": {},
     "output_type": "execute_result"
    }
   ],
   "source": [
    "x = 7\n",
    "1 if x > 7 else 0"
   ]
  },
  {
   "cell_type": "markdown",
   "metadata": {},
   "source": [
    "#### Loops\n",
    "While loops"
   ]
  },
  {
   "cell_type": "code",
   "execution_count": 53,
   "metadata": {},
   "outputs": [
    {
     "data": {
      "text/plain": [
       "5040"
      ]
     },
     "execution_count": 53,
     "metadata": {},
     "output_type": "execute_result"
    }
   ],
   "source": [
    "x = 7\n",
    "fact = 1\n",
    "while x>1:\n",
    "    fact *= x\n",
    "    x -= 1\n",
    "fact"
   ]
  },
  {
   "cell_type": "markdown",
   "metadata": {},
   "source": [
    "For loops"
   ]
  },
  {
   "cell_type": "code",
   "execution_count": 54,
   "metadata": {},
   "outputs": [
    {
     "data": {
      "text/plain": [
       "120"
      ]
     },
     "execution_count": 54,
     "metadata": {},
     "output_type": "execute_result"
    }
   ],
   "source": [
    "x = 5\n",
    "fact = 1\n",
    "for i in range(2,x+1):\n",
    "    fact*=i\n",
    "fact"
   ]
  },
  {
   "cell_type": "markdown",
   "metadata": {},
   "source": [
    "Inline for   "
   ]
  },
  {
   "cell_type": "code",
   "execution_count": 55,
   "metadata": {},
   "outputs": [
    {
     "data": {
      "text/plain": [
       "[0, 1, 4, 9, 16]"
      ]
     },
     "execution_count": 55,
     "metadata": {},
     "output_type": "execute_result"
    }
   ],
   "source": [
    "[i**2 for i in range(5)]"
   ]
  },
  {
   "cell_type": "markdown",
   "metadata": {},
   "source": [
    "#### User-defined functions\t"
   ]
  },
  {
   "cell_type": "code",
   "execution_count": 56,
   "metadata": {},
   "outputs": [
    {
     "data": {
      "text/plain": [
       "49"
      ]
     },
     "execution_count": 56,
     "metadata": {},
     "output_type": "execute_result"
    }
   ],
   "source": [
    "def myfunc(x):\n",
    "    return x**2\n",
    "myfunc(7)"
   ]
  },
  {
   "cell_type": "markdown",
   "metadata": {},
   "source": [
    "Lambda notation"
   ]
  },
  {
   "cell_type": "code",
   "execution_count": 57,
   "metadata": {},
   "outputs": [
    {
     "data": {
      "text/plain": [
       "25"
      ]
     },
     "execution_count": 57,
     "metadata": {},
     "output_type": "execute_result"
    }
   ],
   "source": [
    "myfunc = lambda x: x**2\n",
    "myfunc(5)"
   ]
  },
  {
   "cell_type": "markdown",
   "metadata": {},
   "source": [
    "Yield/return (it's a bad idea to use yield)"
   ]
  },
  {
   "cell_type": "code",
   "execution_count": 58,
   "metadata": {},
   "outputs": [
    {
     "name": "stdout",
     "output_type": "stream",
     "text": [
      "<generator object myfunc at 0x7f314429b6d0>\n"
     ]
    }
   ],
   "source": [
    "def myfunc(x):\n",
    "    for item in x:\n",
    "        yield item**2    # Don't do this. It's obtuse. Strive for clarity, yield isn't clear\n",
    "print(myfunc(range(5)))"
   ]
  },
  {
   "cell_type": "code",
   "execution_count": 59,
   "metadata": {},
   "outputs": [
    {
     "name": "stdout",
     "output_type": "stream",
     "text": [
      "0\n",
      "1\n",
      "4\n",
      "9\n",
      "16\n"
     ]
    }
   ],
   "source": [
    "for item in myfunc(range(5)):\n",
    "    print(item)"
   ]
  },
  {
   "cell_type": "markdown",
   "metadata": {},
   "source": [
    "## Data science: Vector geometry\n",
    "\n",
    "### Vector spaces\t\t\n",
    "#### Row vectors vs Column\t\n",
    "Row vector notation (we don't use):\n",
    "$$\n",
    "x=[x_1,\\dots,x_n]\n",
    "$$\n",
    "\n",
    "Column vector notation (we do use):\n",
    "$$\n",
    "x=\n",
    "\\begin{bmatrix}\n",
    "x_1 \\\\\n",
    "\\vdots \\\\\n",
    "x_n\n",
    "\\end{bmatrix}\n",
    "$$\n",
    "\n",
    "#### Addition\n",
    "\n",
    "General formula\n",
    "$$\n",
    "x+y=\n",
    "\\begin{bmatrix}\n",
    "x_1+y_1 \\\\\n",
    "\\vdots \\\\\n",
    "x_n+y_n\n",
    "\\end{bmatrix}\n",
    "$$\n",
    "\n",
    "Example:\n",
    "$$\n",
    "\\begin{bmatrix}\n",
    "2 \\\\\n",
    "1\n",
    "\\end{bmatrix}\n",
    "+\n",
    "\\begin{bmatrix}\n",
    "1 \\\\\n",
    "2\n",
    "\\end{bmatrix}\n",
    "=\n",
    "\\begin{bmatrix}\n",
    "3 \\\\\n",
    "3\n",
    "\\end{bmatrix}\n",
    "$$\n",
    "\n",
    "Geometrically:"
   ]
  },
  {
   "cell_type": "code",
   "execution_count": 60,
   "metadata": {},
   "outputs": [
    {
     "data": {
      "image/png": "[encoded data removed]",
      "text/plain": [
       "<Figure size 432x288 with 1 Axes>"
      ]
     },
     "metadata": {
      "needs_background": "light"
     },
     "output_type": "display_data"
    }
   ],
   "source": [
    "## YOU DO NOT NEED TO KNOW THIS CODE\n",
    "## I AM USING THIS HERE TO MAKE PICTURES\n",
    "## YOU ARE RESPONSIBLE FOR THE PICTURES\n",
    "## YOU WILL LEARN THIS LATER\n",
    "\n",
    "import matplotlib.pyplot as pt\n",
    "import numpy as np\n",
    "%matplotlib inline\n",
    "\n",
    "fig = pt.figure()\n",
    "pt.quiver([0,0,2,1,0],[0,0,1,2,0],[2,1,1,2,3],[1,2,2,1,3]\n",
    "          ,color=['r','b','b','r','g'],units='xy',scale=1)\n",
    "pt.axis('equal')\n",
    "pt.axis('off')\n",
    "pt.ylim(-0,3)\n",
    "pt.show()"
   ]
  },
  {
   "cell_type": "markdown",
   "metadata": {},
   "source": [
    "#### Scalar multiplication\n",
    "\n",
    "$$\n",
    "a\\cdot x=\n",
    "\\begin{bmatrix}\n",
    "a\\cdot x_1 \\\\\n",
    "\\vdots \\\\\n",
    "a\\cdot x_n\n",
    "\\end{bmatrix}\n",
    "$$\n",
    "\n",
    "$$\n",
    "2\\cdot\n",
    "\\begin{bmatrix}\n",
    "2 \\\\\n",
    "1\n",
    "\\end{bmatrix}\n",
    "=\n",
    "\\begin{bmatrix}\n",
    "4 \\\\\n",
    "2\n",
    "\\end{bmatrix}\n",
    "$$"
   ]
  },
  {
   "cell_type": "code",
   "execution_count": 61,
   "metadata": {},
   "outputs": [
    {
     "data": {
      "image/png": "[encoded data removed]",
      "text/plain": [
       "<Figure size 432x288 with 1 Axes>"
      ]
     },
     "metadata": {
      "needs_background": "light"
     },
     "output_type": "display_data"
    }
   ],
   "source": [
    "fig = pt.figure()\n",
    "pt.quiver([0,0],[0,0],[0.75,0.25],[0.75,0.25]\n",
    "          ,color=['r','b'],units='xy',scale=0.5)\n",
    "pt.xlim(-0,3)\n",
    "pt.ylim(-0,3)\n",
    "pt.axis('off')\n",
    "pt.show()"
   ]
  },
  {
   "cell_type": "markdown",
   "metadata": {},
   "source": [
    "### Vector Measures\n",
    "#### Norms\n",
    "\n",
    "$L_p$ norm:\n",
    "$$\\left\\Vert x\\right\\Vert_p=\\left(\\sum_{i=1}^r |x_i|^p\\right)^{1/p}$$\n",
    "\n",
    "Euclidean norm:\n",
    "$$\\left\\Vert x\\right\\Vert=\\left\\Vert x\\right\\Vert_2=\\sqrt{\\sum_{i=1}^r x_i^2}$$\n",
    "#### Inner product\n",
    "\n",
    "$$\\langle x,y\\rangle=\\sum_{i=1}^r x_i y_i$$\n",
    "$$\\left\\Vert x\\right\\Vert=\\sqrt{\\langle x,x\\rangle}$$\n",
    "#### Orthogonality (perpendicular)\n",
    "$$x\\perp y \\Longleftrightarrow \\langle x,y\\rangle=0$$ \n",
    "#### Cosine law\n",
    "$$\\cos\\theta=\\frac{\\langle x,y\\rangle}{\\left\\Vert x\\right\\Vert\\left\\Vert y\\right\\Vert}$$\n",
    "where $\\theta$ is the angle between $x$ and $y$"
   ]
  },
  {
   "cell_type": "markdown",
   "metadata": {},
   "source": [
    "## Programming challenges\n",
    "\n",
    "### Hailstone numbers\t\t\n",
    "\n",
    "$$\n",
    "x_{n+1} = \n",
    "\\Bigg\\{\n",
    "\\begin{matrix}\n",
    "x_n/2 & \\text{if } x_n \\text{ even}\\\\\n",
    "3x_n+1 & \\text{otherwise}\n",
    "\\end{matrix}\n",
    "$$\n",
    "\n",
    "For a given starting value $x_0$, the hailstone number is how many steps it takes for the above sequence to first reach the number $1$."
   ]
  },
  {
   "cell_type": "code",
   "execution_count": null,
   "metadata": {},
   "outputs": [],
   "source": [
    "import time\n",
    "\n",
    "def combination(x,a,b):\n",
    "    count = 1\n",
    "    y = [x]\n",
    "    temp = 0\n",
    "    while count!=1000 :\n",
    "        count += 1;\n",
    "        if x%2==0:\n",
    "            x = x/2\n",
    "            y.append(int(x))  \n",
    "        else:\n",
    "            x = a*x + b\n",
    "            y.append(int(x))  \n",
    "    #print(y)\n",
    "    print(\"The convergence pattern for a = \" +str(a)+ \",  b = \" +str(b)+\" and x = \"+str(y[0]))\n",
    "    flag = 0\n",
    "    for k in range(0,20):\n",
    "        if flag == 1:\n",
    "            break\n",
    "        else:\n",
    "            for i in range(k+1,1000):\n",
    "                if flag == 1:\n",
    "                    break\n",
    "                elif  y[i] == y[k]:\n",
    "                    for j in range(k,i):\n",
    "                        print(y[j], end = \" \")\n",
    "                    print(\"\\n\")\n",
    "                    flag = 1\n",
    "                    break\n",
    "    if flag == 0:\n",
    "        print(\" No Convergence pattern \")\n",
    "\n",
    "def haili():        \n",
    "    #x = int(input(\"Enter a number\"))                    \n",
    "     for x in range(1,1000):\n",
    "        for a in range(1,11):\n",
    "            for b in range(1,11):\n",
    "                combination(x,a,b)\n",
    "\n",
    "start_time = time.time()\n",
    "haili()\n",
    "print(\"--- %s seconds ---\" % (time.time() - start_time))"
   ]
  },
  {
   "cell_type": "code",
   "execution_count": 66,
   "metadata": {},
   "outputs": [
    {
     "name": "stdout",
     "output_type": "stream",
     "text": [
      "Pattern is\n",
      "1 1\n",
      "1 1\n",
      "Convergence occurs for : \n",
      "[19, 20, 10, 5, 6, 3, 4, 2, 1]\n",
      "no convergence for\n",
      "1 2\n",
      "Pattern is\n",
      "1 3\n",
      "no convergence for\n",
      "1 4\n",
      "Pattern is\n",
      "1 5\n",
      "1 5\n",
      "Convergence occurs for : \n",
      "[19, 20, 10, 5, 6, 3, 4, 2, 1, 2, 2, 1, 1]\n",
      "no convergence for\n",
      "1 6\n",
      "Pattern is\n",
      "1 7\n",
      "no convergence for\n",
      "1 8\n",
      "Pattern is\n",
      "1 9\n",
      "no convergence for\n",
      "1 10\n",
      "no convergence for\n",
      "2 1\n",
      "Pattern is\n",
      "2 2\n",
      "no convergence for\n",
      "2 3\n",
      "no convergence for\n",
      "2 4\n",
      "no convergence for\n",
      "2 5\n",
      "no convergence for\n",
      "2 6\n",
      "no convergence for\n",
      "2 7\n",
      "no convergence for\n",
      "2 8\n",
      "no convergence for\n",
      "2 9\n",
      "no convergence for\n",
      "2 10\n",
      "Pattern is\n",
      "3 1\n",
      "no convergence for\n",
      "3 2\n",
      "Pattern is\n",
      "3 3\n",
      "no convergence for\n",
      "3 4\n",
      "Pattern is\n",
      "3 5\n",
      "no convergence for\n",
      "3 6\n",
      "Pattern is\n",
      "3 7\n",
      "no convergence for\n",
      "3 8\n",
      "Pattern is\n",
      "3 9\n",
      "no convergence for\n",
      "3 10\n",
      "no convergence for\n",
      "4 1\n",
      "no convergence for\n",
      "4 2\n",
      "no convergence for\n",
      "4 3\n",
      "Pattern is\n",
      "4 4\n",
      "no convergence for\n",
      "4 5\n",
      "no convergence for\n",
      "4 6\n",
      "no convergence for\n",
      "4 7\n",
      "no convergence for\n",
      "4 8\n",
      "no convergence for\n",
      "4 9\n",
      "no convergence for\n",
      "4 10\n",
      "Pattern is\n",
      "5 1\n",
      "no convergence for\n",
      "5 2\n",
      "Pattern is\n",
      "5 3\n",
      "no convergence for\n",
      "5 4\n",
      "Pattern is\n",
      "5 5\n",
      "no convergence for\n",
      "5 6\n",
      "Pattern is\n",
      "5 7\n",
      "no convergence for\n",
      "5 8\n",
      "Pattern is\n",
      "5 9\n",
      "no convergence for\n",
      "5 10\n",
      "no convergence for\n",
      "6 1\n",
      "no convergence for\n",
      "6 2\n",
      "no convergence for\n",
      "6 3\n",
      "no convergence for\n",
      "6 4\n",
      "no convergence for\n",
      "6 5\n",
      "Pattern is\n",
      "6 6\n",
      "no convergence for\n",
      "6 7\n",
      "no convergence for\n",
      "6 8\n",
      "no convergence for\n",
      "6 9\n",
      "no convergence for\n",
      "6 10\n",
      "Pattern is\n",
      "7 1\n",
      "no convergence for\n",
      "7 2\n",
      "Pattern is\n",
      "7 3\n",
      "no convergence for\n",
      "7 4\n",
      "Pattern is\n",
      "7 5\n",
      "no convergence for\n",
      "7 6\n",
      "Pattern is\n",
      "7 7\n",
      "no convergence for\n",
      "7 8\n",
      "Pattern is\n",
      "7 9\n",
      "no convergence for\n",
      "7 10\n",
      "no convergence for\n",
      "8 1\n",
      "no convergence for\n",
      "8 2\n",
      "no convergence for\n",
      "8 3\n",
      "no convergence for\n",
      "8 4\n",
      "no convergence for\n",
      "8 5\n",
      "no convergence for\n",
      "8 6\n",
      "no convergence for\n",
      "8 7\n",
      "Pattern is\n",
      "8 8\n",
      "no convergence for\n",
      "8 9\n",
      "no convergence for\n",
      "8 10\n",
      "Pattern is\n",
      "9 1\n",
      "no convergence for\n",
      "9 2\n",
      "Pattern is\n",
      "9 3\n",
      "no convergence for\n",
      "9 4\n",
      "Pattern is\n",
      "9 5\n",
      "no convergence for\n",
      "9 6\n",
      "Pattern is\n",
      "9 7\n",
      "9 7\n",
      "Convergence occurs for : \n",
      "[19, 20, 10, 5, 6, 3, 4, 2, 1, 2, 2, 1, 1, 6, 6, 3, 3, 12, 6, 6, 3, 3, 10, 10, 5, 5, 20, 20, 10, 10, 5, 5, 24, 12, 12, 6, 6, 3, 3, 20, 20, 10, 10, 5, 5, 36, 18, 9, 60, 30, 15, 96, 48, 24, 24, 12, 12, 6, 6, 3, 3, 28, 14, 7, 56, 28, 28, 14, 14, 7, 7, 64, 32, 16, 8, 4, 4, 2, 2, 1, 1]\n",
      "no convergence for\n",
      "9 8\n",
      "Pattern is\n",
      "9 9\n",
      "no convergence for\n",
      "9 10\n",
      "no convergence for\n",
      "10 1\n",
      "no convergence for\n",
      "10 2\n",
      "no convergence for\n",
      "10 3\n",
      "no convergence for\n",
      "10 4\n",
      "no convergence for\n",
      "10 5\n",
      "no convergence for\n",
      "10 6\n",
      "no convergence for\n",
      "10 7\n",
      "no convergence for\n",
      "10 8\n",
      "no convergence for\n",
      "10 9\n",
      "Pattern is\n",
      "10 10\n"
     ]
    }
   ],
   "source": [
    "x=19   #Initialization\n",
    "hailstone=[] #Initialization\n",
    "count = 0\n",
    "\n",
    "for x1 in range(1,11):\n",
    "    for x2 in range(1,11):\n",
    "        if(x1+x2<21):       #x1,x2 pairs should be less than or equal to 10\n",
    "            if((x1%2!=0 and x2%2!=0) or x1==x2 ):\n",
    "                #print(x)\n",
    "                while(x>=0):\n",
    "                    #print(x)\n",
    "                    hailstone.append(x)\n",
    "                    if(len(hailstone)<9999):\n",
    "                        if(x%2==0):\n",
    "                            x //= 2\n",
    "                            count+=1\n",
    "                        else :\n",
    "                            x=x1*x+x2\n",
    "                            count+=1\n",
    "                    if x in hailstone :\n",
    "                        hailstone.append(x)\n",
    "                        break\n",
    "                if x in hailstone:\n",
    "                    print(\"Pattern is\")\n",
    "                    print(x1,x2)\n",
    "                    if(hailstone[-2]==1):     #Since 1 will be the last in the pattern.\n",
    "                        print(x1,x2)\n",
    "                        print(\"Convergence occurs for : \")\n",
    "                        print(hailstone[:-1])\n",
    "                else :\n",
    "                    print(\"No convergence for\")\n",
    "                    print(x1,x2)\n",
    "            else :\n",
    "                print(\"no convergence for\")\n",
    "                print(x1,x2)\n",
    "                "
   ]
  },
  {
   "cell_type": "code",
   "execution_count": 42,
   "metadata": {},
   "outputs": [
    {
     "name": "stdout",
     "output_type": "stream",
     "text": [
      "no convergence for\n",
      "1 1\n",
      "no convergence for\n",
      "1 2\n",
      "no convergence for\n",
      "1 3\n",
      "no convergence for\n",
      "1 4\n",
      "no convergence for\n",
      "1 5\n",
      "no convergence for\n",
      "1 6\n",
      "no convergence for\n",
      "1 7\n",
      "no convergence for\n",
      "1 8\n",
      "no convergence for\n",
      "1 9\n",
      "no convergence for\n",
      "1 10\n",
      "no convergence for\n",
      "2 1\n",
      "no convergence for\n",
      "2 2\n",
      "no convergence for\n",
      "2 3\n",
      "no convergence for\n",
      "2 4\n",
      "no convergence for\n",
      "2 5\n",
      "no convergence for\n",
      "2 6\n",
      "no convergence for\n",
      "2 7\n",
      "no convergence for\n",
      "2 8\n",
      "no convergence for\n",
      "2 9\n",
      "no convergence for\n",
      "2 10\n",
      "no convergence for\n",
      "3 1\n",
      "no convergence for\n",
      "3 2\n",
      "no convergence for\n",
      "3 3\n",
      "no convergence for\n",
      "3 4\n",
      "no convergence for\n",
      "3 5\n",
      "no convergence for\n",
      "3 6\n",
      "no convergence for\n",
      "3 7\n",
      "no convergence for\n",
      "3 8\n",
      "no convergence for\n",
      "3 9\n",
      "no convergence for\n",
      "3 10\n",
      "no convergence for\n",
      "4 1\n",
      "no convergence for\n",
      "4 2\n",
      "no convergence for\n",
      "4 3\n",
      "no convergence for\n",
      "4 4\n",
      "no convergence for\n",
      "4 5\n",
      "no convergence for\n",
      "4 6\n",
      "no convergence for\n",
      "4 7\n",
      "no convergence for\n",
      "4 8\n",
      "no convergence for\n",
      "4 9\n",
      "no convergence for\n",
      "4 10\n",
      "no convergence for\n",
      "5 1\n",
      "no convergence for\n",
      "5 2\n",
      "no convergence for\n",
      "5 3\n",
      "no convergence for\n",
      "5 4\n",
      "no convergence for\n",
      "5 5\n",
      "no convergence for\n",
      "5 6\n",
      "no convergence for\n",
      "5 7\n",
      "no convergence for\n",
      "5 8\n",
      "no convergence for\n",
      "5 9\n",
      "no convergence for\n",
      "5 10\n",
      "no convergence for\n",
      "6 1\n",
      "no convergence for\n",
      "6 2\n",
      "no convergence for\n",
      "6 3\n",
      "no convergence for\n",
      "6 4\n",
      "no convergence for\n",
      "6 5\n",
      "no convergence for\n",
      "6 6\n",
      "no convergence for\n",
      "6 7\n",
      "no convergence for\n",
      "6 8\n",
      "no convergence for\n",
      "6 9\n",
      "no convergence for\n",
      "6 10\n",
      "no convergence for\n",
      "7 1\n",
      "no convergence for\n",
      "7 2\n",
      "no convergence for\n",
      "7 3\n",
      "no convergence for\n",
      "7 4\n",
      "no convergence for\n",
      "7 5\n",
      "no convergence for\n",
      "7 6\n",
      "no convergence for\n",
      "7 7\n",
      "no convergence for\n",
      "7 8\n",
      "no convergence for\n",
      "7 9\n",
      "no convergence for\n",
      "7 10\n",
      "no convergence for\n",
      "8 1\n",
      "no convergence for\n",
      "8 2\n",
      "no convergence for\n",
      "8 3\n",
      "no convergence for\n",
      "8 4\n",
      "no convergence for\n",
      "8 5\n",
      "no convergence for\n",
      "8 6\n",
      "no convergence for\n",
      "8 7\n",
      "no convergence for\n",
      "8 8\n",
      "no convergence for\n",
      "8 9\n",
      "no convergence for\n",
      "8 10\n",
      "no convergence for\n",
      "9 1\n",
      "no convergence for\n",
      "9 2\n",
      "no convergence for\n",
      "9 3\n",
      "no convergence for\n",
      "9 4\n",
      "no convergence for\n",
      "9 5\n",
      "no convergence for\n",
      "9 6\n",
      "no convergence for\n",
      "9 7\n",
      "no convergence for\n",
      "9 8\n",
      "no convergence for\n",
      "9 9\n",
      "no convergence for\n",
      "9 10\n",
      "no convergence for\n",
      "10 1\n",
      "no convergence for\n",
      "10 2\n",
      "no convergence for\n",
      "10 3\n",
      "no convergence for\n",
      "10 4\n",
      "no convergence for\n",
      "10 5\n",
      "no convergence for\n",
      "10 6\n",
      "no convergence for\n",
      "10 7\n",
      "no convergence for\n",
      "10 8\n",
      "no convergence for\n",
      "10 9\n",
      "no convergence for\n",
      "10 10\n"
     ]
    }
   ],
   "source": [
    "for x1 in range(1,11):\n",
    "    for x2 in range(1,11):\n",
    "        if(x1+x2<=20):\n",
    "            if(len(hailstone)<10000):\n",
    "                if((x1%2!=0 & x2%2!=0) | x1 == x2):\n",
    "                    x=19\n",
    "                    hailstone=[]\n",
    "                    count=0\n",
    "                    while(x>=0):\n",
    "                        hailstone.append(x)\n",
    "                        if(x%2==0):\n",
    "                            x //= 2\n",
    "                            count+=1\n",
    "                        else :\n",
    "                            x=x1*x+x2\n",
    "                            count+=1\n",
    "                        if x in hailstone :\n",
    "                            hailstone.append(x)\n",
    "                        break\n",
    "                if x in hailstone:\n",
    "                    print(\"Pattern is\")\n",
    "                    print(x1,x2)\n",
    "                    if(hailstone[-2]==1):     #Since 1 will be the last in the pattern.\n",
    "                        print(x1,x2)\n",
    "                        print(\"Convergence occurs for : \")\n",
    "                        print(hailstone[:-1])\n",
    "                else :\n",
    "                    print(\"No convergence for\")\n",
    "                    print(x1,x2)\n",
    "            else :\n",
    "                print(\"no convergence for\")\n",
    "                print(x1,x2)"
   ]
  },
  {
   "cell_type": "code",
   "execution_count": 9,
   "metadata": {},
   "outputs": [
    {
     "name": "stdout",
     "output_type": "stream",
     "text": [
      "1 10 [1, 0, 0, 0, 0, 0, 0, 0, 0]\n",
      "2 10 [1, 0, 0, 0, 0, 0, 0, 0, 0]\n",
      "3 10 [1, 0, 0, 0, 0, 0, 0, 0, 0]\n",
      "4 10 [1, 0, 0, 0, 0, 0, 0, 0, 0]\n",
      "5 10 [1, 0, 0, 0, 0, 0, 0, 0, 0]\n",
      "6 10 [1, 0, 0, 0, 0, 0, 0, 0, 0]\n",
      "7 10 [1, 0, 0, 0, 0, 0, 0, 0, 0]\n",
      "8 10 [1, 0, 0, 0, 0, 0, 0, 0, 0]\n",
      "9 10 [1, 0, 0, 0, 0, 0, 0, 0, 0]\n",
      "10 10 [1, 0, 0, 0, 0, 0, 0, 0, 0]\n"
     ]
    }
   ],
   "source": [
    "def hailstone(x,a,b):\n",
    "    count = 0\n",
    "    while x==1:\n",
    "        count +=1\n",
    "        if x%2==0:\n",
    "            x //= 2\n",
    "        else: \n",
    "                x= a*x+b\n",
    "    return count\n",
    "for a in range(1,11):\n",
    "        for b in range(1,11):\n",
    "            lst = []\n",
    "        for x in range(1,10):\n",
    "            lst += [hailstone(x,a,b)]\n",
    "        print(a,b,lst)\n",
    "            "
   ]
  },
  {
   "cell_type": "markdown",
   "metadata": {},
   "source": [
    "### FizzBuzz\t\t\t\n",
    "\n",
    "Print out a sequence of numbers $1,2,\\dots,99$ on multiples of $5$ print ```Fizz``` instead of the number. On multiples of $7$ print ```Buzz``` instead of the number. At $35$ or any multiple of both, print ```FizzBuzz```."
   ]
  },
  {
   "cell_type": "code",
   "execution_count": null,
   "metadata": {},
   "outputs": [],
   "source": [
    "## Write your code here\n",
    "h_str = \"\"\n",
    "for i in range(1,100):\n",
    "    h_str +='Fizz' if i%5==0 else h_str\n",
    "    h_str +='Buzz' if i%7==0 else h_str\n",
    "    h_str +='FizzBuzz' if i%5==0 and i%7==0 else h_str\n",
    "    i\n",
    "        \n",
    "    \n",
    "\n"
   ]
  },
  {
   "cell_type": "markdown",
   "metadata": {},
   "source": [
    "### Pascal's triangle\n",
    "\n",
    "Write a program to print out the lines of Pascal's triangle."
   ]
  },
  {
   "cell_type": "code",
   "execution_count": 2,
   "metadata": {},
   "outputs": [
    {
     "ename": "IndexError",
     "evalue": "list index out of range",
     "output_type": "error",
     "traceback": [
      "\u001b[1;31m---------------------------------------------------------------------------\u001b[0m",
      "\u001b[1;31mIndexError\u001b[0m                                Traceback (most recent call last)",
      "\u001b[1;32m<ipython-input-2-f13ddfa11e3b>\u001b[0m in \u001b[0;36m<module>\u001b[1;34m\u001b[0m\n\u001b[0;32m      6\u001b[0m \u001b[1;33m\u001b[0m\u001b[0m\n\u001b[0;32m      7\u001b[0m \u001b[1;32mfor\u001b[0m \u001b[0mi\u001b[0m \u001b[1;32min\u001b[0m \u001b[0mrange\u001b[0m\u001b[1;33m(\u001b[0m\u001b[1;36m1\u001b[0m\u001b[1;33m,\u001b[0m\u001b[1;36m10\u001b[0m\u001b[1;33m)\u001b[0m\u001b[1;33m:\u001b[0m\u001b[1;33m\u001b[0m\u001b[1;33m\u001b[0m\u001b[0m\n\u001b[1;32m----> 8\u001b[1;33m     \u001b[0my\u001b[0m \u001b[1;33m=\u001b[0m \u001b[0mx\u001b[0m\u001b[1;33m[\u001b[0m\u001b[0mi\u001b[0m\u001b[1;33m-\u001b[0m\u001b[1;36m1\u001b[0m\u001b[1;33m]\u001b[0m \u001b[1;33m+\u001b[0m \u001b[0mx\u001b[0m\u001b[1;33m[\u001b[0m\u001b[0mi\u001b[0m\u001b[1;33m]\u001b[0m\u001b[1;33m\u001b[0m\u001b[1;33m\u001b[0m\u001b[0m\n\u001b[0m\u001b[0;32m      9\u001b[0m \u001b[1;33m\u001b[0m\u001b[0m\n\u001b[0;32m     10\u001b[0m \u001b[0mprint\u001b[0m\u001b[1;33m(\u001b[0m\u001b[0mx\u001b[0m\u001b[1;33m)\u001b[0m\u001b[1;33m\u001b[0m\u001b[1;33m\u001b[0m\u001b[0m\n",
      "\u001b[1;31mIndexError\u001b[0m: list index out of range"
     ]
    }
   ],
   "source": [
    "## Write your code here\n",
    "\n",
    "\n",
    "x = [1,2,1]\n",
    "y= [1]*(len(x)+1)\n",
    "\n",
    "for i in range(10):\n",
    "    y = x[i-1] + x[i]\n",
    "    \n",
    "print(x)\n",
    "print(y)\n",
    "\n"
   ]
  }
 ],
 "metadata": {
  "kernelspec": {
   "display_name": "Python 3",
   "language": "python",
   "name": "python3"
  },
  "language_info": {
   "codemirror_mode": {
    "name": "ipython",
    "version": 3
   },
   "file_extension": ".py",
   "mimetype": "text/x-python",
   "name": "python",
   "nbconvert_exporter": "python",
   "pygments_lexer": "ipython3",
   "version": "3.7.4"
  }
 },
 "nbformat": 4,
 "nbformat_minor": 2
}

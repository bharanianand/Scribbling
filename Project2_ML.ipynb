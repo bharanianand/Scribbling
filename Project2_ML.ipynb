{
 "cells": [
  {
   "cell_type": "markdown",
   "metadata": {
    "colab_type": "text",
    "id": "tGqbyWTOCWG1"
   },
   "source": [
    "# Classification Data Set for Airline Passenger Satisfaction"
   ]
  },
  {
   "cell_type": "code",
   "execution_count": 1,
   "metadata": {
    "colab": {},
    "colab_type": "code",
    "id": "4wWZaGPGCWG2"
   },
   "outputs": [],
   "source": [
    "import numpy as np\n",
    "import pandas as pd\n",
    "import seaborn as sns\n",
    "\n",
    "def prRed(skk): print(\"\\033[1m \\033[91m {}\\033[00m\" .format(skk)) \n",
    "def prGreen(skk): print(\"\\033[1m \\033[92m {}\\033[00m\" .format(skk)) \n",
    "def prYellow(skk): print(\"\\033[1m \\033[93m {}\\033[00m\" .format(skk)) \n",
    "def prBlack(skk): print(\"\\033[1m \\033[98m {}\\033[00m\" .format(skk)) "
   ]
  },
  {
   "cell_type": "code",
   "execution_count": 2,
   "metadata": {
    "colab": {},
    "colab_type": "code",
    "id": "yBbUlXddCWG5"
   },
   "outputs": [],
   "source": [
    "train=pd.read_csv(\"Atrain.csv\")\n",
    "test=pd.read_csv(\"Atest.csv\")"
   ]
  },
  {
   "cell_type": "code",
   "execution_count": 3,
   "metadata": {
    "colab": {
     "base_uri": "https://localhost:8080/",
     "height": 69
    },
    "colab_type": "code",
    "id": "HWcKz7ehCWG8",
    "outputId": "d553e327-538e-4972-8390-33d042182bd8"
   },
   "outputs": [
    {
     "data": {
      "text/plain": [
       "neutral or dissatisfied    58879\n",
       "satisfied                  45025\n",
       "Name: satisfaction, dtype: int64"
      ]
     },
     "execution_count": 3,
     "metadata": {},
     "output_type": "execute_result"
    }
   ],
   "source": [
    "train['satisfaction'].value_counts()"
   ]
  },
  {
   "cell_type": "code",
   "execution_count": 4,
   "metadata": {
    "colab": {
     "base_uri": "https://localhost:8080/",
     "height": 69
    },
    "colab_type": "code",
    "id": "p0-c3gAACWG_",
    "outputId": "d7ab3ff5-4a68-45bc-9f72-d736f1dc7024"
   },
   "outputs": [
    {
     "data": {
      "text/plain": [
       "neutral or dissatisfied    14573\n",
       "satisfied                  11403\n",
       "Name: satisfaction, dtype: int64"
      ]
     },
     "execution_count": 4,
     "metadata": {},
     "output_type": "execute_result"
    }
   ],
   "source": [
    "test['satisfaction'].value_counts()"
   ]
  },
  {
   "cell_type": "code",
   "execution_count": 5,
   "metadata": {
    "colab": {
     "base_uri": "https://localhost:8080/",
     "height": 361
    },
    "colab_type": "code",
    "id": "B_5efFrzCWHC",
    "outputId": "ea2074b8-3856-40e7-8c1a-7b9d064272b8"
   },
   "outputs": [
    {
     "data": {
      "text/html": [
       "<div>\n",
       "<style scoped>\n",
       "    .dataframe tbody tr th:only-of-type {\n",
       "        vertical-align: middle;\n",
       "    }\n",
       "\n",
       "    .dataframe tbody tr th {\n",
       "        vertical-align: top;\n",
       "    }\n",
       "\n",
       "    .dataframe thead th {\n",
       "        text-align: right;\n",
       "    }\n",
       "</style>\n",
       "<table border=\"1\" class=\"dataframe\">\n",
       "  <thead>\n",
       "    <tr style=\"text-align: right;\">\n",
       "      <th></th>\n",
       "      <th>Unnamed: 0</th>\n",
       "      <th>id</th>\n",
       "      <th>Gender</th>\n",
       "      <th>Customer Type</th>\n",
       "      <th>Age</th>\n",
       "      <th>Type of Travel</th>\n",
       "      <th>Class</th>\n",
       "      <th>Flight Distance</th>\n",
       "      <th>Inflight wifi service</th>\n",
       "      <th>Departure/Arrival time convenient</th>\n",
       "      <th>...</th>\n",
       "      <th>Inflight entertainment</th>\n",
       "      <th>On-board service</th>\n",
       "      <th>Leg room service</th>\n",
       "      <th>Baggage handling</th>\n",
       "      <th>Checkin service</th>\n",
       "      <th>Inflight service</th>\n",
       "      <th>Cleanliness</th>\n",
       "      <th>Departure Delay in Minutes</th>\n",
       "      <th>Arrival Delay in Minutes</th>\n",
       "      <th>satisfaction</th>\n",
       "    </tr>\n",
       "  </thead>\n",
       "  <tbody>\n",
       "    <tr>\n",
       "      <th>0</th>\n",
       "      <td>0</td>\n",
       "      <td>70172</td>\n",
       "      <td>Male</td>\n",
       "      <td>Loyal Customer</td>\n",
       "      <td>13</td>\n",
       "      <td>Personal Travel</td>\n",
       "      <td>Eco Plus</td>\n",
       "      <td>460</td>\n",
       "      <td>3</td>\n",
       "      <td>4.0</td>\n",
       "      <td>...</td>\n",
       "      <td>5</td>\n",
       "      <td>4</td>\n",
       "      <td>3</td>\n",
       "      <td>4</td>\n",
       "      <td>4</td>\n",
       "      <td>5</td>\n",
       "      <td>5</td>\n",
       "      <td>25</td>\n",
       "      <td>18.0</td>\n",
       "      <td>neutral or dissatisfied</td>\n",
       "    </tr>\n",
       "    <tr>\n",
       "      <th>1</th>\n",
       "      <td>1</td>\n",
       "      <td>5047</td>\n",
       "      <td>Male</td>\n",
       "      <td>disloyal Customer</td>\n",
       "      <td>25</td>\n",
       "      <td>Business travel</td>\n",
       "      <td>Business</td>\n",
       "      <td>235</td>\n",
       "      <td>3</td>\n",
       "      <td>2.0</td>\n",
       "      <td>...</td>\n",
       "      <td>1</td>\n",
       "      <td>1</td>\n",
       "      <td>5</td>\n",
       "      <td>3</td>\n",
       "      <td>1</td>\n",
       "      <td>4</td>\n",
       "      <td>1</td>\n",
       "      <td>1</td>\n",
       "      <td>6.0</td>\n",
       "      <td>neutral or dissatisfied</td>\n",
       "    </tr>\n",
       "    <tr>\n",
       "      <th>2</th>\n",
       "      <td>2</td>\n",
       "      <td>110028</td>\n",
       "      <td>Female</td>\n",
       "      <td>Loyal Customer</td>\n",
       "      <td>26</td>\n",
       "      <td>Business travel</td>\n",
       "      <td>Business</td>\n",
       "      <td>1142</td>\n",
       "      <td>2</td>\n",
       "      <td>2.0</td>\n",
       "      <td>...</td>\n",
       "      <td>5</td>\n",
       "      <td>4</td>\n",
       "      <td>3</td>\n",
       "      <td>4</td>\n",
       "      <td>4</td>\n",
       "      <td>4</td>\n",
       "      <td>5</td>\n",
       "      <td>0</td>\n",
       "      <td>0.0</td>\n",
       "      <td>satisfied</td>\n",
       "    </tr>\n",
       "    <tr>\n",
       "      <th>3</th>\n",
       "      <td>3</td>\n",
       "      <td>24026</td>\n",
       "      <td>Female</td>\n",
       "      <td>Loyal Customer</td>\n",
       "      <td>25</td>\n",
       "      <td>Business travel</td>\n",
       "      <td>Business</td>\n",
       "      <td>562</td>\n",
       "      <td>2</td>\n",
       "      <td>5.0</td>\n",
       "      <td>...</td>\n",
       "      <td>2</td>\n",
       "      <td>2</td>\n",
       "      <td>5</td>\n",
       "      <td>3</td>\n",
       "      <td>1</td>\n",
       "      <td>4</td>\n",
       "      <td>2</td>\n",
       "      <td>11</td>\n",
       "      <td>9.0</td>\n",
       "      <td>neutral or dissatisfied</td>\n",
       "    </tr>\n",
       "    <tr>\n",
       "      <th>4</th>\n",
       "      <td>4</td>\n",
       "      <td>119299</td>\n",
       "      <td>Male</td>\n",
       "      <td>Loyal Customer</td>\n",
       "      <td>61</td>\n",
       "      <td>Business travel</td>\n",
       "      <td>Business</td>\n",
       "      <td>214</td>\n",
       "      <td>3</td>\n",
       "      <td>3.0</td>\n",
       "      <td>...</td>\n",
       "      <td>3</td>\n",
       "      <td>3</td>\n",
       "      <td>4</td>\n",
       "      <td>4</td>\n",
       "      <td>3</td>\n",
       "      <td>3</td>\n",
       "      <td>3</td>\n",
       "      <td>0</td>\n",
       "      <td>0.0</td>\n",
       "      <td>satisfied</td>\n",
       "    </tr>\n",
       "  </tbody>\n",
       "</table>\n",
       "<p>5 rows × 25 columns</p>\n",
       "</div>"
      ],
      "text/plain": [
       "   Unnamed: 0      id  Gender      Customer Type  Age   Type of Travel  \\\n",
       "0           0   70172    Male     Loyal Customer   13  Personal Travel   \n",
       "1           1    5047    Male  disloyal Customer   25  Business travel   \n",
       "2           2  110028  Female     Loyal Customer   26  Business travel   \n",
       "3           3   24026  Female     Loyal Customer   25  Business travel   \n",
       "4           4  119299    Male     Loyal Customer   61  Business travel   \n",
       "\n",
       "      Class  Flight Distance  Inflight wifi service  \\\n",
       "0  Eco Plus              460                      3   \n",
       "1  Business              235                      3   \n",
       "2  Business             1142                      2   \n",
       "3  Business              562                      2   \n",
       "4  Business              214                      3   \n",
       "\n",
       "   Departure/Arrival time convenient  ...  Inflight entertainment  \\\n",
       "0                                4.0  ...                       5   \n",
       "1                                2.0  ...                       1   \n",
       "2                                2.0  ...                       5   \n",
       "3                                5.0  ...                       2   \n",
       "4                                3.0  ...                       3   \n",
       "\n",
       "   On-board service  Leg room service  Baggage handling  Checkin service  \\\n",
       "0                 4                 3                 4                4   \n",
       "1                 1                 5                 3                1   \n",
       "2                 4                 3                 4                4   \n",
       "3                 2                 5                 3                1   \n",
       "4                 3                 4                 4                3   \n",
       "\n",
       "   Inflight service  Cleanliness  Departure Delay in Minutes  \\\n",
       "0                 5            5                          25   \n",
       "1                 4            1                           1   \n",
       "2                 4            5                           0   \n",
       "3                 4            2                          11   \n",
       "4                 3            3                           0   \n",
       "\n",
       "   Arrival Delay in Minutes             satisfaction  \n",
       "0                      18.0  neutral or dissatisfied  \n",
       "1                       6.0  neutral or dissatisfied  \n",
       "2                       0.0                satisfied  \n",
       "3                       9.0  neutral or dissatisfied  \n",
       "4                       0.0                satisfied  \n",
       "\n",
       "[5 rows x 25 columns]"
      ]
     },
     "execution_count": 5,
     "metadata": {},
     "output_type": "execute_result"
    }
   ],
   "source": [
    "train.head()"
   ]
  },
  {
   "cell_type": "code",
   "execution_count": 6,
   "metadata": {
    "colab": {
     "base_uri": "https://localhost:8080/",
     "height": 361
    },
    "colab_type": "code",
    "id": "tC3LNWjvCWHF",
    "outputId": "6ca8b5e8-fbff-4fb7-c125-73559c28a973"
   },
   "outputs": [
    {
     "data": {
      "text/html": [
       "<div>\n",
       "<style scoped>\n",
       "    .dataframe tbody tr th:only-of-type {\n",
       "        vertical-align: middle;\n",
       "    }\n",
       "\n",
       "    .dataframe tbody tr th {\n",
       "        vertical-align: top;\n",
       "    }\n",
       "\n",
       "    .dataframe thead th {\n",
       "        text-align: right;\n",
       "    }\n",
       "</style>\n",
       "<table border=\"1\" class=\"dataframe\">\n",
       "  <thead>\n",
       "    <tr style=\"text-align: right;\">\n",
       "      <th></th>\n",
       "      <th>Unnamed: 0</th>\n",
       "      <th>id</th>\n",
       "      <th>Gender</th>\n",
       "      <th>Customer Type</th>\n",
       "      <th>Age</th>\n",
       "      <th>Type of Travel</th>\n",
       "      <th>Class</th>\n",
       "      <th>Flight Distance</th>\n",
       "      <th>Inflight wifi service</th>\n",
       "      <th>Departure/Arrival time convenient</th>\n",
       "      <th>...</th>\n",
       "      <th>Inflight entertainment</th>\n",
       "      <th>On-board service</th>\n",
       "      <th>Leg room service</th>\n",
       "      <th>Baggage handling</th>\n",
       "      <th>Checkin service</th>\n",
       "      <th>Inflight service</th>\n",
       "      <th>Cleanliness</th>\n",
       "      <th>Departure Delay in Minutes</th>\n",
       "      <th>Arrival Delay in Minutes</th>\n",
       "      <th>satisfaction</th>\n",
       "    </tr>\n",
       "  </thead>\n",
       "  <tbody>\n",
       "    <tr>\n",
       "      <th>0</th>\n",
       "      <td>0</td>\n",
       "      <td>19556</td>\n",
       "      <td>Female</td>\n",
       "      <td>Loyal Customer</td>\n",
       "      <td>52</td>\n",
       "      <td>Business travel</td>\n",
       "      <td>Eco</td>\n",
       "      <td>160</td>\n",
       "      <td>5</td>\n",
       "      <td>4</td>\n",
       "      <td>...</td>\n",
       "      <td>5</td>\n",
       "      <td>5</td>\n",
       "      <td>5</td>\n",
       "      <td>5</td>\n",
       "      <td>2</td>\n",
       "      <td>5</td>\n",
       "      <td>5</td>\n",
       "      <td>50</td>\n",
       "      <td>44.0</td>\n",
       "      <td>satisfied</td>\n",
       "    </tr>\n",
       "    <tr>\n",
       "      <th>1</th>\n",
       "      <td>1</td>\n",
       "      <td>90035</td>\n",
       "      <td>Female</td>\n",
       "      <td>Loyal Customer</td>\n",
       "      <td>36</td>\n",
       "      <td>Business travel</td>\n",
       "      <td>Business</td>\n",
       "      <td>2863</td>\n",
       "      <td>1</td>\n",
       "      <td>1</td>\n",
       "      <td>...</td>\n",
       "      <td>4</td>\n",
       "      <td>4</td>\n",
       "      <td>4</td>\n",
       "      <td>4</td>\n",
       "      <td>3</td>\n",
       "      <td>4</td>\n",
       "      <td>5</td>\n",
       "      <td>0</td>\n",
       "      <td>0.0</td>\n",
       "      <td>satisfied</td>\n",
       "    </tr>\n",
       "    <tr>\n",
       "      <th>2</th>\n",
       "      <td>2</td>\n",
       "      <td>12360</td>\n",
       "      <td>Male</td>\n",
       "      <td>disloyal Customer</td>\n",
       "      <td>20</td>\n",
       "      <td>Business travel</td>\n",
       "      <td>Eco</td>\n",
       "      <td>192</td>\n",
       "      <td>2</td>\n",
       "      <td>0</td>\n",
       "      <td>...</td>\n",
       "      <td>2</td>\n",
       "      <td>4</td>\n",
       "      <td>1</td>\n",
       "      <td>3</td>\n",
       "      <td>2</td>\n",
       "      <td>2</td>\n",
       "      <td>2</td>\n",
       "      <td>0</td>\n",
       "      <td>0.0</td>\n",
       "      <td>neutral or dissatisfied</td>\n",
       "    </tr>\n",
       "    <tr>\n",
       "      <th>3</th>\n",
       "      <td>3</td>\n",
       "      <td>77959</td>\n",
       "      <td>Male</td>\n",
       "      <td>Loyal Customer</td>\n",
       "      <td>44</td>\n",
       "      <td>Business travel</td>\n",
       "      <td>Business</td>\n",
       "      <td>3377</td>\n",
       "      <td>0</td>\n",
       "      <td>0</td>\n",
       "      <td>...</td>\n",
       "      <td>1</td>\n",
       "      <td>1</td>\n",
       "      <td>1</td>\n",
       "      <td>1</td>\n",
       "      <td>3</td>\n",
       "      <td>1</td>\n",
       "      <td>4</td>\n",
       "      <td>0</td>\n",
       "      <td>6.0</td>\n",
       "      <td>satisfied</td>\n",
       "    </tr>\n",
       "    <tr>\n",
       "      <th>4</th>\n",
       "      <td>4</td>\n",
       "      <td>36875</td>\n",
       "      <td>Female</td>\n",
       "      <td>Loyal Customer</td>\n",
       "      <td>49</td>\n",
       "      <td>Business travel</td>\n",
       "      <td>Eco</td>\n",
       "      <td>1182</td>\n",
       "      <td>2</td>\n",
       "      <td>3</td>\n",
       "      <td>...</td>\n",
       "      <td>2</td>\n",
       "      <td>2</td>\n",
       "      <td>2</td>\n",
       "      <td>2</td>\n",
       "      <td>4</td>\n",
       "      <td>2</td>\n",
       "      <td>4</td>\n",
       "      <td>0</td>\n",
       "      <td>20.0</td>\n",
       "      <td>satisfied</td>\n",
       "    </tr>\n",
       "  </tbody>\n",
       "</table>\n",
       "<p>5 rows × 25 columns</p>\n",
       "</div>"
      ],
      "text/plain": [
       "   Unnamed: 0     id  Gender      Customer Type  Age   Type of Travel  \\\n",
       "0           0  19556  Female     Loyal Customer   52  Business travel   \n",
       "1           1  90035  Female     Loyal Customer   36  Business travel   \n",
       "2           2  12360    Male  disloyal Customer   20  Business travel   \n",
       "3           3  77959    Male     Loyal Customer   44  Business travel   \n",
       "4           4  36875  Female     Loyal Customer   49  Business travel   \n",
       "\n",
       "      Class  Flight Distance  Inflight wifi service  \\\n",
       "0       Eco              160                      5   \n",
       "1  Business             2863                      1   \n",
       "2       Eco              192                      2   \n",
       "3  Business             3377                      0   \n",
       "4       Eco             1182                      2   \n",
       "\n",
       "   Departure/Arrival time convenient  ...  Inflight entertainment  \\\n",
       "0                                  4  ...                       5   \n",
       "1                                  1  ...                       4   \n",
       "2                                  0  ...                       2   \n",
       "3                                  0  ...                       1   \n",
       "4                                  3  ...                       2   \n",
       "\n",
       "   On-board service  Leg room service  Baggage handling  Checkin service  \\\n",
       "0                 5                 5                 5                2   \n",
       "1                 4                 4                 4                3   \n",
       "2                 4                 1                 3                2   \n",
       "3                 1                 1                 1                3   \n",
       "4                 2                 2                 2                4   \n",
       "\n",
       "   Inflight service  Cleanliness  Departure Delay in Minutes  \\\n",
       "0                 5            5                          50   \n",
       "1                 4            5                           0   \n",
       "2                 2            2                           0   \n",
       "3                 1            4                           0   \n",
       "4                 2            4                           0   \n",
       "\n",
       "   Arrival Delay in Minutes             satisfaction  \n",
       "0                      44.0                satisfied  \n",
       "1                       0.0                satisfied  \n",
       "2                       0.0  neutral or dissatisfied  \n",
       "3                       6.0                satisfied  \n",
       "4                      20.0                satisfied  \n",
       "\n",
       "[5 rows x 25 columns]"
      ]
     },
     "execution_count": 6,
     "metadata": {},
     "output_type": "execute_result"
    }
   ],
   "source": [
    "test.head()"
   ]
  },
  {
   "cell_type": "code",
   "execution_count": 7,
   "metadata": {
    "colab": {
     "base_uri": "https://localhost:8080/",
     "height": 173
    },
    "colab_type": "code",
    "id": "G9WQwz1KCWHI",
    "outputId": "b277ba4b-e1b4-47d4-f249-2e4042843d12"
   },
   "outputs": [
    {
     "data": {
      "text/plain": [
       "array(['Unnamed: 0', 'id', 'Gender', 'Customer Type', 'Age',\n",
       "       'Type of Travel', 'Class', 'Flight Distance',\n",
       "       'Inflight wifi service', 'Departure/Arrival time convenient',\n",
       "       'Ease of Online booking', 'Gate location', 'Food and drink',\n",
       "       'Online boarding', 'Seat comfort', 'Inflight entertainment',\n",
       "       'On-board service', 'Leg room service', 'Baggage handling',\n",
       "       'Checkin service', 'Inflight service', 'Cleanliness',\n",
       "       'Departure Delay in Minutes', 'Arrival Delay in Minutes',\n",
       "       'satisfaction'], dtype=object)"
      ]
     },
     "execution_count": 7,
     "metadata": {},
     "output_type": "execute_result"
    }
   ],
   "source": [
    "train.columns.values\n",
    "test.columns.values"
   ]
  },
  {
   "cell_type": "code",
   "execution_count": 8,
   "metadata": {
    "colab": {
     "base_uri": "https://localhost:8080/",
     "height": 35
    },
    "colab_type": "code",
    "id": "ZbGas9LkCWHL",
    "outputId": "17a9fce8-93e4-421f-b1bd-75ffbcefd9ab"
   },
   "outputs": [
    {
     "data": {
      "text/plain": [
       "(103904, 25)"
      ]
     },
     "execution_count": 8,
     "metadata": {},
     "output_type": "execute_result"
    }
   ],
   "source": [
    "train.shape"
   ]
  },
  {
   "cell_type": "code",
   "execution_count": 9,
   "metadata": {
    "colab": {
     "base_uri": "https://localhost:8080/",
     "height": 35
    },
    "colab_type": "code",
    "id": "3ZxfAH2VCWHO",
    "outputId": "b8624045-d6c2-4d3e-f9e0-39cbae562525"
   },
   "outputs": [
    {
     "data": {
      "text/plain": [
       "(25976, 25)"
      ]
     },
     "execution_count": 9,
     "metadata": {},
     "output_type": "execute_result"
    }
   ],
   "source": [
    "test.shape"
   ]
  },
  {
   "cell_type": "code",
   "execution_count": 10,
   "metadata": {
    "colab": {
     "base_uri": "https://localhost:8080/",
     "height": 173
    },
    "colab_type": "code",
    "id": "4fEq0vy4CWHQ",
    "outputId": "ed92e7d0-f0bf-43f7-a656-cf9e6a64d1de"
   },
   "outputs": [
    {
     "data": {
      "text/plain": [
       "array(['Unnamed: 0', 'id', 'Gender', 'Customer Type', 'Age',\n",
       "       'Type of Travel', 'Class', 'Flight Distance',\n",
       "       'Inflight wifi service', 'Departure/Arrival time convenient',\n",
       "       'Ease of Online booking', 'Gate location', 'Food and drink',\n",
       "       'Online boarding', 'Seat comfort', 'Inflight entertainment',\n",
       "       'On-board service', 'Leg room service', 'Baggage handling',\n",
       "       'Checkin service', 'Inflight service', 'Cleanliness',\n",
       "       'Departure Delay in Minutes', 'Arrival Delay in Minutes',\n",
       "       'satisfaction'], dtype=object)"
      ]
     },
     "execution_count": 10,
     "metadata": {},
     "output_type": "execute_result"
    }
   ],
   "source": [
    "test.columns.values"
   ]
  },
  {
   "cell_type": "code",
   "execution_count": 11,
   "metadata": {
    "colab": {
     "base_uri": "https://localhost:8080/",
     "height": 572
    },
    "colab_type": "code",
    "id": "33D09w5CCWHS",
    "outputId": "7baf7770-5aaa-45d4-f266-806c10d89ea0"
   },
   "outputs": [
    {
     "name": "stdout",
     "output_type": "stream",
     "text": [
      "<class 'pandas.core.frame.DataFrame'>\n",
      "RangeIndex: 103904 entries, 0 to 103903\n",
      "Data columns (total 25 columns):\n",
      "Unnamed: 0                           103904 non-null int64\n",
      "id                                   103904 non-null int64\n",
      "Gender                               103904 non-null object\n",
      "Customer Type                        103904 non-null object\n",
      "Age                                  103904 non-null int64\n",
      "Type of Travel                       103904 non-null object\n",
      "Class                                103904 non-null object\n",
      "Flight Distance                      103904 non-null int64\n",
      "Inflight wifi service                103904 non-null int64\n",
      "Departure/Arrival time convenient    103901 non-null float64\n",
      "Ease of Online booking               103904 non-null int64\n",
      "Gate location                        103904 non-null int64\n",
      "Food and drink                       103904 non-null int64\n",
      "Online boarding                      103904 non-null int64\n",
      "Seat comfort                         103904 non-null int64\n",
      "Inflight entertainment               103904 non-null int64\n",
      "On-board service                     103904 non-null int64\n",
      "Leg room service                     103904 non-null int64\n",
      "Baggage handling                     103904 non-null int64\n",
      "Checkin service                      103904 non-null int64\n",
      "Inflight service                     103904 non-null int64\n",
      "Cleanliness                          103904 non-null int64\n",
      "Departure Delay in Minutes           103904 non-null int64\n",
      "Arrival Delay in Minutes             103594 non-null float64\n",
      "satisfaction                         103904 non-null object\n",
      "dtypes: float64(2), int64(18), object(5)\n",
      "memory usage: 19.8+ MB\n"
     ]
    }
   ],
   "source": [
    "train.info()"
   ]
  },
  {
   "cell_type": "code",
   "execution_count": 12,
   "metadata": {
    "colab": {},
    "colab_type": "code",
    "id": "dkJLPKTrCWHW"
   },
   "outputs": [],
   "source": [
    "train.drop(['Unnamed: 0'], axis=1, inplace=True)\n",
    "\n",
    "test.drop(['Unnamed: 0'], axis=1, inplace=True)"
   ]
  },
  {
   "cell_type": "code",
   "execution_count": 13,
   "metadata": {
    "colab": {
     "base_uri": "https://localhost:8080/",
     "height": 361
    },
    "colab_type": "code",
    "id": "3kzpqt-NCWHY",
    "outputId": "2c1e1f96-f619-4e83-bf53-7f5b3ef2db57"
   },
   "outputs": [
    {
     "data": {
      "text/html": [
       "<div>\n",
       "<style scoped>\n",
       "    .dataframe tbody tr th:only-of-type {\n",
       "        vertical-align: middle;\n",
       "    }\n",
       "\n",
       "    .dataframe tbody tr th {\n",
       "        vertical-align: top;\n",
       "    }\n",
       "\n",
       "    .dataframe thead th {\n",
       "        text-align: right;\n",
       "    }\n",
       "</style>\n",
       "<table border=\"1\" class=\"dataframe\">\n",
       "  <thead>\n",
       "    <tr style=\"text-align: right;\">\n",
       "      <th></th>\n",
       "      <th>id</th>\n",
       "      <th>Gender</th>\n",
       "      <th>Customer Type</th>\n",
       "      <th>Age</th>\n",
       "      <th>Type of Travel</th>\n",
       "      <th>Class</th>\n",
       "      <th>Flight Distance</th>\n",
       "      <th>Inflight wifi service</th>\n",
       "      <th>Departure/Arrival time convenient</th>\n",
       "      <th>Ease of Online booking</th>\n",
       "      <th>...</th>\n",
       "      <th>Inflight entertainment</th>\n",
       "      <th>On-board service</th>\n",
       "      <th>Leg room service</th>\n",
       "      <th>Baggage handling</th>\n",
       "      <th>Checkin service</th>\n",
       "      <th>Inflight service</th>\n",
       "      <th>Cleanliness</th>\n",
       "      <th>Departure Delay in Minutes</th>\n",
       "      <th>Arrival Delay in Minutes</th>\n",
       "      <th>satisfaction</th>\n",
       "    </tr>\n",
       "  </thead>\n",
       "  <tbody>\n",
       "    <tr>\n",
       "      <th>0</th>\n",
       "      <td>70172</td>\n",
       "      <td>Male</td>\n",
       "      <td>Loyal Customer</td>\n",
       "      <td>13</td>\n",
       "      <td>Personal Travel</td>\n",
       "      <td>Eco Plus</td>\n",
       "      <td>460</td>\n",
       "      <td>3</td>\n",
       "      <td>4.0</td>\n",
       "      <td>3</td>\n",
       "      <td>...</td>\n",
       "      <td>5</td>\n",
       "      <td>4</td>\n",
       "      <td>3</td>\n",
       "      <td>4</td>\n",
       "      <td>4</td>\n",
       "      <td>5</td>\n",
       "      <td>5</td>\n",
       "      <td>25</td>\n",
       "      <td>18.0</td>\n",
       "      <td>neutral or dissatisfied</td>\n",
       "    </tr>\n",
       "    <tr>\n",
       "      <th>1</th>\n",
       "      <td>5047</td>\n",
       "      <td>Male</td>\n",
       "      <td>disloyal Customer</td>\n",
       "      <td>25</td>\n",
       "      <td>Business travel</td>\n",
       "      <td>Business</td>\n",
       "      <td>235</td>\n",
       "      <td>3</td>\n",
       "      <td>2.0</td>\n",
       "      <td>3</td>\n",
       "      <td>...</td>\n",
       "      <td>1</td>\n",
       "      <td>1</td>\n",
       "      <td>5</td>\n",
       "      <td>3</td>\n",
       "      <td>1</td>\n",
       "      <td>4</td>\n",
       "      <td>1</td>\n",
       "      <td>1</td>\n",
       "      <td>6.0</td>\n",
       "      <td>neutral or dissatisfied</td>\n",
       "    </tr>\n",
       "    <tr>\n",
       "      <th>2</th>\n",
       "      <td>110028</td>\n",
       "      <td>Female</td>\n",
       "      <td>Loyal Customer</td>\n",
       "      <td>26</td>\n",
       "      <td>Business travel</td>\n",
       "      <td>Business</td>\n",
       "      <td>1142</td>\n",
       "      <td>2</td>\n",
       "      <td>2.0</td>\n",
       "      <td>2</td>\n",
       "      <td>...</td>\n",
       "      <td>5</td>\n",
       "      <td>4</td>\n",
       "      <td>3</td>\n",
       "      <td>4</td>\n",
       "      <td>4</td>\n",
       "      <td>4</td>\n",
       "      <td>5</td>\n",
       "      <td>0</td>\n",
       "      <td>0.0</td>\n",
       "      <td>satisfied</td>\n",
       "    </tr>\n",
       "    <tr>\n",
       "      <th>3</th>\n",
       "      <td>24026</td>\n",
       "      <td>Female</td>\n",
       "      <td>Loyal Customer</td>\n",
       "      <td>25</td>\n",
       "      <td>Business travel</td>\n",
       "      <td>Business</td>\n",
       "      <td>562</td>\n",
       "      <td>2</td>\n",
       "      <td>5.0</td>\n",
       "      <td>5</td>\n",
       "      <td>...</td>\n",
       "      <td>2</td>\n",
       "      <td>2</td>\n",
       "      <td>5</td>\n",
       "      <td>3</td>\n",
       "      <td>1</td>\n",
       "      <td>4</td>\n",
       "      <td>2</td>\n",
       "      <td>11</td>\n",
       "      <td>9.0</td>\n",
       "      <td>neutral or dissatisfied</td>\n",
       "    </tr>\n",
       "    <tr>\n",
       "      <th>4</th>\n",
       "      <td>119299</td>\n",
       "      <td>Male</td>\n",
       "      <td>Loyal Customer</td>\n",
       "      <td>61</td>\n",
       "      <td>Business travel</td>\n",
       "      <td>Business</td>\n",
       "      <td>214</td>\n",
       "      <td>3</td>\n",
       "      <td>3.0</td>\n",
       "      <td>3</td>\n",
       "      <td>...</td>\n",
       "      <td>3</td>\n",
       "      <td>3</td>\n",
       "      <td>4</td>\n",
       "      <td>4</td>\n",
       "      <td>3</td>\n",
       "      <td>3</td>\n",
       "      <td>3</td>\n",
       "      <td>0</td>\n",
       "      <td>0.0</td>\n",
       "      <td>satisfied</td>\n",
       "    </tr>\n",
       "  </tbody>\n",
       "</table>\n",
       "<p>5 rows × 24 columns</p>\n",
       "</div>"
      ],
      "text/plain": [
       "       id  Gender      Customer Type  Age   Type of Travel     Class  \\\n",
       "0   70172    Male     Loyal Customer   13  Personal Travel  Eco Plus   \n",
       "1    5047    Male  disloyal Customer   25  Business travel  Business   \n",
       "2  110028  Female     Loyal Customer   26  Business travel  Business   \n",
       "3   24026  Female     Loyal Customer   25  Business travel  Business   \n",
       "4  119299    Male     Loyal Customer   61  Business travel  Business   \n",
       "\n",
       "   Flight Distance  Inflight wifi service  Departure/Arrival time convenient  \\\n",
       "0              460                      3                                4.0   \n",
       "1              235                      3                                2.0   \n",
       "2             1142                      2                                2.0   \n",
       "3              562                      2                                5.0   \n",
       "4              214                      3                                3.0   \n",
       "\n",
       "   Ease of Online booking  ...  Inflight entertainment  On-board service  \\\n",
       "0                       3  ...                       5                 4   \n",
       "1                       3  ...                       1                 1   \n",
       "2                       2  ...                       5                 4   \n",
       "3                       5  ...                       2                 2   \n",
       "4                       3  ...                       3                 3   \n",
       "\n",
       "   Leg room service  Baggage handling  Checkin service  Inflight service  \\\n",
       "0                 3                 4                4                 5   \n",
       "1                 5                 3                1                 4   \n",
       "2                 3                 4                4                 4   \n",
       "3                 5                 3                1                 4   \n",
       "4                 4                 4                3                 3   \n",
       "\n",
       "   Cleanliness  Departure Delay in Minutes  Arrival Delay in Minutes  \\\n",
       "0            5                          25                      18.0   \n",
       "1            1                           1                       6.0   \n",
       "2            5                           0                       0.0   \n",
       "3            2                          11                       9.0   \n",
       "4            3                           0                       0.0   \n",
       "\n",
       "              satisfaction  \n",
       "0  neutral or dissatisfied  \n",
       "1  neutral or dissatisfied  \n",
       "2                satisfied  \n",
       "3  neutral or dissatisfied  \n",
       "4                satisfied  \n",
       "\n",
       "[5 rows x 24 columns]"
      ]
     },
     "execution_count": 13,
     "metadata": {},
     "output_type": "execute_result"
    }
   ],
   "source": [
    "train.head()"
   ]
  },
  {
   "cell_type": "code",
   "execution_count": 14,
   "metadata": {
    "colab": {},
    "colab_type": "code",
    "id": "fZDHXU_SCWHa"
   },
   "outputs": [],
   "source": [
    "train = train.sample(frac=0.1, replace=False, random_state=1)"
   ]
  },
  {
   "cell_type": "code",
   "execution_count": 15,
   "metadata": {
    "colab": {
     "base_uri": "https://localhost:8080/",
     "height": 35
    },
    "colab_type": "code",
    "id": "jb4QN4rICWHc",
    "outputId": "9dfc888a-ef3d-40eb-9979-44c3b556dba4"
   },
   "outputs": [
    {
     "data": {
      "text/plain": [
       "(10390, 24)"
      ]
     },
     "execution_count": 15,
     "metadata": {},
     "output_type": "execute_result"
    }
   ],
   "source": [
    "train.shape"
   ]
  },
  {
   "cell_type": "code",
   "execution_count": 16,
   "metadata": {
    "colab": {
     "base_uri": "https://localhost:8080/",
     "height": 35
    },
    "colab_type": "code",
    "id": "zw3E3OVZCWHf",
    "outputId": "f5ea5312-5eac-4878-ed7d-9e40f036a1a7"
   },
   "outputs": [
    {
     "data": {
      "text/plain": [
       "(2598, 24)"
      ]
     },
     "execution_count": 16,
     "metadata": {},
     "output_type": "execute_result"
    }
   ],
   "source": [
    "test = test.sample(frac=0.1, replace=False, random_state=1)\n",
    "\n",
    "test.shape"
   ]
  },
  {
   "cell_type": "code",
   "execution_count": 17,
   "metadata": {
    "colab": {
     "base_uri": "https://localhost:8080/",
     "height": 555
    },
    "colab_type": "code",
    "id": "Z55PRer7CWHh",
    "outputId": "b54658e6-1c19-48d6-cacb-2ed085810690"
   },
   "outputs": [
    {
     "name": "stdout",
     "output_type": "stream",
     "text": [
      "<class 'pandas.core.frame.DataFrame'>\n",
      "Int64Index: 10390 entries, 65830 to 102919\n",
      "Data columns (total 24 columns):\n",
      "id                                   10390 non-null int64\n",
      "Gender                               10390 non-null object\n",
      "Customer Type                        10390 non-null object\n",
      "Age                                  10390 non-null int64\n",
      "Type of Travel                       10390 non-null object\n",
      "Class                                10390 non-null object\n",
      "Flight Distance                      10390 non-null int64\n",
      "Inflight wifi service                10390 non-null int64\n",
      "Departure/Arrival time convenient    10389 non-null float64\n",
      "Ease of Online booking               10390 non-null int64\n",
      "Gate location                        10390 non-null int64\n",
      "Food and drink                       10390 non-null int64\n",
      "Online boarding                      10390 non-null int64\n",
      "Seat comfort                         10390 non-null int64\n",
      "Inflight entertainment               10390 non-null int64\n",
      "On-board service                     10390 non-null int64\n",
      "Leg room service                     10390 non-null int64\n",
      "Baggage handling                     10390 non-null int64\n",
      "Checkin service                      10390 non-null int64\n",
      "Inflight service                     10390 non-null int64\n",
      "Cleanliness                          10390 non-null int64\n",
      "Departure Delay in Minutes           10390 non-null int64\n",
      "Arrival Delay in Minutes             10359 non-null float64\n",
      "satisfaction                         10390 non-null object\n",
      "dtypes: float64(2), int64(17), object(5)\n",
      "memory usage: 2.0+ MB\n"
     ]
    }
   ],
   "source": [
    "train.info()"
   ]
  },
  {
   "cell_type": "code",
   "execution_count": 18,
   "metadata": {
    "colab": {
     "base_uri": "https://localhost:8080/",
     "height": 555
    },
    "colab_type": "code",
    "id": "BuREEkHTCWHk",
    "outputId": "998b42f9-08ec-49cd-e478-31f43ec99d9f"
   },
   "outputs": [
    {
     "name": "stdout",
     "output_type": "stream",
     "text": [
      "<class 'pandas.core.frame.DataFrame'>\n",
      "Int64Index: 10390 entries, 65830 to 102919\n",
      "Data columns (total 24 columns):\n",
      "id                                   10390 non-null int64\n",
      "Gender                               10390 non-null object\n",
      "Customer Type                        10390 non-null object\n",
      "Age                                  10390 non-null int64\n",
      "Type of Travel                       10390 non-null object\n",
      "Class                                10390 non-null object\n",
      "Flight Distance                      10390 non-null int64\n",
      "Inflight wifi service                10390 non-null int64\n",
      "Departure/Arrival time convenient    10389 non-null float64\n",
      "Ease of Online booking               10390 non-null int64\n",
      "Gate location                        10390 non-null int64\n",
      "Food and drink                       10390 non-null int64\n",
      "Online boarding                      10390 non-null int64\n",
      "Seat comfort                         10390 non-null int64\n",
      "Inflight entertainment               10390 non-null int64\n",
      "On-board service                     10390 non-null int64\n",
      "Leg room service                     10390 non-null int64\n",
      "Baggage handling                     10390 non-null int64\n",
      "Checkin service                      10390 non-null int64\n",
      "Inflight service                     10390 non-null int64\n",
      "Cleanliness                          10390 non-null int64\n",
      "Departure Delay in Minutes           10390 non-null int64\n",
      "Arrival Delay in Minutes             10390 non-null float64\n",
      "satisfaction                         10390 non-null object\n",
      "dtypes: float64(2), int64(17), object(5)\n",
      "memory usage: 2.0+ MB\n"
     ]
    }
   ],
   "source": [
    "train['Arrival Delay in Minutes']=train['Arrival Delay in Minutes'].fillna(train['Arrival Delay in Minutes'].mean())\n",
    "train.info()"
   ]
  },
  {
   "cell_type": "code",
   "execution_count": 19,
   "metadata": {
    "colab": {
     "base_uri": "https://localhost:8080/",
     "height": 555
    },
    "colab_type": "code",
    "id": "7T1CI03ICWHm",
    "outputId": "2cef20b7-c572-46c3-ed09-2f8505f1a76b"
   },
   "outputs": [
    {
     "name": "stdout",
     "output_type": "stream",
     "text": [
      "<class 'pandas.core.frame.DataFrame'>\n",
      "Int64Index: 10390 entries, 65830 to 102919\n",
      "Data columns (total 24 columns):\n",
      "id                                   10390 non-null int64\n",
      "Gender                               10390 non-null object\n",
      "Customer Type                        10390 non-null object\n",
      "Age                                  10390 non-null int64\n",
      "Type of Travel                       10390 non-null object\n",
      "Class                                10390 non-null object\n",
      "Flight Distance                      10390 non-null int64\n",
      "Inflight wifi service                10390 non-null int64\n",
      "Departure/Arrival time convenient    10390 non-null float64\n",
      "Ease of Online booking               10390 non-null int64\n",
      "Gate location                        10390 non-null int64\n",
      "Food and drink                       10390 non-null int64\n",
      "Online boarding                      10390 non-null int64\n",
      "Seat comfort                         10390 non-null int64\n",
      "Inflight entertainment               10390 non-null int64\n",
      "On-board service                     10390 non-null int64\n",
      "Leg room service                     10390 non-null int64\n",
      "Baggage handling                     10390 non-null int64\n",
      "Checkin service                      10390 non-null int64\n",
      "Inflight service                     10390 non-null int64\n",
      "Cleanliness                          10390 non-null int64\n",
      "Departure Delay in Minutes           10390 non-null int64\n",
      "Arrival Delay in Minutes             10390 non-null float64\n",
      "satisfaction                         10390 non-null object\n",
      "dtypes: float64(2), int64(17), object(5)\n",
      "memory usage: 2.0+ MB\n"
     ]
    }
   ],
   "source": [
    "train['Departure/Arrival time convenient'].replace(' ', np.nan)\n",
    "train['Departure/Arrival time convenient']=train['Departure/Arrival time convenient'].fillna(train['Departure/Arrival time convenient'].mean())\n",
    "train.info()"
   ]
  },
  {
   "cell_type": "code",
   "execution_count": 20,
   "metadata": {
    "colab": {},
    "colab_type": "code",
    "id": "b6miZIVtCWHq"
   },
   "outputs": [],
   "source": [
    "test['Arrival Delay in Minutes']= test['Arrival Delay in Minutes'].fillna(test['Arrival Delay in Minutes'].mean())"
   ]
  },
  {
   "cell_type": "code",
   "execution_count": 21,
   "metadata": {
    "colab": {
     "base_uri": "https://localhost:8080/",
     "height": 17
    },
    "colab_type": "code",
    "id": "0F7nuGdkCWHs",
    "outputId": "8e9ba404-092b-465a-cb98-418414abb8ff"
   },
   "outputs": [
    {
     "data": {
      "image/png": "[encoded data removed]",
      "text/plain": [
       "<Figure size 720x720 with 4 Axes>"
      ]
     },
     "metadata": {
      "needs_background": "light"
     },
     "output_type": "display_data"
    }
   ],
   "source": [
    "import matplotlib.pyplot as plt\n",
    "\n",
    "b = sns.FacetGrid(train, height = 5, row = 'Gender', col = 'Type of Travel', hue = 'Type of Travel')\n",
    "b.map(plt.hist, 'Age', rwidth = 0.8)\n",
    "b.fig.suptitle('Type of Travel by Gender/ Age')\n",
    "plt.subplots_adjust(top = 0.90)"
   ]
  },
  {
   "cell_type": "code",
   "execution_count": 22,
   "metadata": {
    "colab": {
     "base_uri": "https://localhost:8080/",
     "height": 17
    },
    "colab_type": "code",
    "id": "XuPWVbBOCWHu",
    "outputId": "51225ced-bc1b-450a-b774-59f951d6e4f0"
   },
   "outputs": [
    {
     "data": {
      "image/png": "[encoded data removed]",
      "text/plain": [
       "<Figure size 648x432 with 6 Axes>"
      ]
     },
     "metadata": {
      "needs_background": "light"
     },
     "output_type": "display_data"
    }
   ],
   "source": [
    "a = sns.FacetGrid(train, height = 3, row = 'Gender', col = 'Class', hue = 'Class', margin_titles = True)\n",
    "a.map(plt.hist, 'Age', rwidth = 0.8)\n",
    "a.fig.suptitle('Type of Travel by Gender/ Age')\n",
    "plt.subplots_adjust(top = 0.90)"
   ]
  },
  {
   "cell_type": "code",
   "execution_count": 23,
   "metadata": {
    "colab": {
     "base_uri": "https://localhost:8080/",
     "height": 171
    },
    "colab_type": "code",
    "id": "gd0JXmK4CWHx",
    "outputId": "2b520735-ee26-4ada-a22f-a8e0d78cd9d7"
   },
   "outputs": [
    {
     "data": {
      "text/html": [
       "<div>\n",
       "<style scoped>\n",
       "    .dataframe tbody tr th:only-of-type {\n",
       "        vertical-align: middle;\n",
       "    }\n",
       "\n",
       "    .dataframe tbody tr th {\n",
       "        vertical-align: top;\n",
       "    }\n",
       "\n",
       "    .dataframe thead th {\n",
       "        text-align: right;\n",
       "    }\n",
       "</style>\n",
       "<table border=\"1\" class=\"dataframe\">\n",
       "  <thead>\n",
       "    <tr style=\"text-align: right;\">\n",
       "      <th></th>\n",
       "      <th>Gender</th>\n",
       "      <th>Customer Type</th>\n",
       "      <th>Type of Travel</th>\n",
       "      <th>Class</th>\n",
       "      <th>satisfaction</th>\n",
       "    </tr>\n",
       "  </thead>\n",
       "  <tbody>\n",
       "    <tr>\n",
       "      <th>count</th>\n",
       "      <td>10390</td>\n",
       "      <td>10390</td>\n",
       "      <td>10390</td>\n",
       "      <td>10390</td>\n",
       "      <td>10390</td>\n",
       "    </tr>\n",
       "    <tr>\n",
       "      <th>unique</th>\n",
       "      <td>2</td>\n",
       "      <td>2</td>\n",
       "      <td>2</td>\n",
       "      <td>3</td>\n",
       "      <td>2</td>\n",
       "    </tr>\n",
       "    <tr>\n",
       "      <th>top</th>\n",
       "      <td>Female</td>\n",
       "      <td>Loyal Customer</td>\n",
       "      <td>Business travel</td>\n",
       "      <td>Business</td>\n",
       "      <td>neutral or dissatisfied</td>\n",
       "    </tr>\n",
       "    <tr>\n",
       "      <th>freq</th>\n",
       "      <td>5285</td>\n",
       "      <td>8533</td>\n",
       "      <td>7152</td>\n",
       "      <td>5032</td>\n",
       "      <td>5974</td>\n",
       "    </tr>\n",
       "  </tbody>\n",
       "</table>\n",
       "</div>"
      ],
      "text/plain": [
       "        Gender   Customer Type   Type of Travel     Class  \\\n",
       "count    10390           10390            10390     10390   \n",
       "unique       2               2                2         3   \n",
       "top     Female  Loyal Customer  Business travel  Business   \n",
       "freq      5285            8533             7152      5032   \n",
       "\n",
       "                   satisfaction  \n",
       "count                     10390  \n",
       "unique                        2  \n",
       "top     neutral or dissatisfied  \n",
       "freq                       5974  "
      ]
     },
     "execution_count": 23,
     "metadata": {},
     "output_type": "execute_result"
    }
   ],
   "source": [
    "train.describe(include=['O'])"
   ]
  },
  {
   "cell_type": "code",
   "execution_count": 24,
   "metadata": {
    "colab": {
     "base_uri": "https://localhost:8080/",
     "height": 451
    },
    "colab_type": "code",
    "id": "vNlCpdRACWHz",
    "outputId": "14f704f8-b79f-4f29-e266-f4d614041a24"
   },
   "outputs": [
    {
     "data": {
      "text/plain": [
       "id                                   5285\n",
       "Gender                               5285\n",
       "Customer Type                        5285\n",
       "Age                                  5285\n",
       "Type of Travel                       5285\n",
       "Class                                5285\n",
       "Flight Distance                      5285\n",
       "Inflight wifi service                5285\n",
       "Departure/Arrival time convenient    5285\n",
       "Ease of Online booking               5285\n",
       "Gate location                        5285\n",
       "Food and drink                       5285\n",
       "Online boarding                      5285\n",
       "Seat comfort                         5285\n",
       "Inflight entertainment               5285\n",
       "On-board service                     5285\n",
       "Leg room service                     5285\n",
       "Baggage handling                     5285\n",
       "Checkin service                      5285\n",
       "Inflight service                     5285\n",
       "Cleanliness                          5285\n",
       "Departure Delay in Minutes           5285\n",
       "Arrival Delay in Minutes             5285\n",
       "satisfaction                         5285\n",
       "dtype: int64"
      ]
     },
     "execution_count": 24,
     "metadata": {},
     "output_type": "execute_result"
    }
   ],
   "source": [
    "train[train['Gender']=='Female'].count()"
   ]
  },
  {
   "cell_type": "code",
   "execution_count": 25,
   "metadata": {
    "colab": {},
    "colab_type": "code",
    "id": "Lu5UI1NJCWH3"
   },
   "outputs": [],
   "source": [
    "train['Gender']=train['Gender'].map({'Female': 1, 'Male': 0}).astype(int)\n",
    "\n",
    "test['Gender']=test['Gender'].map({'Female': 1, 'Male': 0}).astype(int)"
   ]
  },
  {
   "cell_type": "code",
   "execution_count": 26,
   "metadata": {
    "colab": {
     "base_uri": "https://localhost:8080/",
     "height": 52
    },
    "colab_type": "code",
    "id": "O9BSM_OuCWH6",
    "outputId": "869e26aa-66f7-4b65-ae99-9862bb171465"
   },
   "outputs": [
    {
     "name": "stdout",
     "output_type": "stream",
     "text": [
      "['Loyal Customer' 'disloyal Customer']\n",
      "['Loyal Customer' 'disloyal Customer']\n"
     ]
    }
   ],
   "source": [
    "print(train['Customer Type'].unique())\n",
    "train[train['Customer Type']=='Loyal Customer'].count()\n",
    "train['Customer Type']=train['Customer Type'].map({'Loyal Customer':1,'disloyal Customer':0})\n",
    "\n",
    "print(test['Customer Type'].unique())\n",
    "test[test['Customer Type']=='Loyal Customer'].count()\n",
    "test['Customer Type']=test['Customer Type'].map({'Loyal Customer':1,'disloyal Customer':0})"
   ]
  },
  {
   "cell_type": "code",
   "execution_count": 27,
   "metadata": {
    "colab": {
     "base_uri": "https://localhost:8080/",
     "height": 35
    },
    "colab_type": "code",
    "id": "O2UgbFM6CWH9",
    "outputId": "c6c9b776-def8-43b4-97a3-6bb48dba6a4e"
   },
   "outputs": [
    {
     "name": "stdout",
     "output_type": "stream",
     "text": [
      "['Business travel' 'Personal Travel']\n"
     ]
    }
   ],
   "source": [
    "print(train['Type of Travel'].unique())\n",
    "train[train['Type of Travel']=='Personal Travel'].count()\n",
    "train['Type of Travel']=train['Type of Travel'].map({'Business travel':1,'Personal Travel':0})\n",
    "\n",
    "test['Type of Travel']=test['Type of Travel'].map({'Business travel':1,'Personal Travel':0})"
   ]
  },
  {
   "cell_type": "code",
   "execution_count": 28,
   "metadata": {
    "colab": {
     "base_uri": "https://localhost:8080/",
     "height": 343
    },
    "colab_type": "code",
    "id": "oDYNLfmrCWH_",
    "outputId": "533f8607-6950-4a4a-c925-4670b112334f"
   },
   "outputs": [
    {
     "data": {
      "text/html": [
       "<div>\n",
       "<style scoped>\n",
       "    .dataframe tbody tr th:only-of-type {\n",
       "        vertical-align: middle;\n",
       "    }\n",
       "\n",
       "    .dataframe tbody tr th {\n",
       "        vertical-align: top;\n",
       "    }\n",
       "\n",
       "    .dataframe thead th {\n",
       "        text-align: right;\n",
       "    }\n",
       "</style>\n",
       "<table border=\"1\" class=\"dataframe\">\n",
       "  <thead>\n",
       "    <tr style=\"text-align: right;\">\n",
       "      <th></th>\n",
       "      <th>id</th>\n",
       "      <th>Gender</th>\n",
       "      <th>Customer Type</th>\n",
       "      <th>Age</th>\n",
       "      <th>Type of Travel</th>\n",
       "      <th>Flight Distance</th>\n",
       "      <th>Inflight wifi service</th>\n",
       "      <th>Departure/Arrival time convenient</th>\n",
       "      <th>Ease of Online booking</th>\n",
       "      <th>Gate location</th>\n",
       "      <th>...</th>\n",
       "      <th>Baggage handling</th>\n",
       "      <th>Checkin service</th>\n",
       "      <th>Inflight service</th>\n",
       "      <th>Cleanliness</th>\n",
       "      <th>Departure Delay in Minutes</th>\n",
       "      <th>Arrival Delay in Minutes</th>\n",
       "      <th>satisfaction</th>\n",
       "      <th>Business</th>\n",
       "      <th>Eco</th>\n",
       "      <th>Eco Plus</th>\n",
       "    </tr>\n",
       "  </thead>\n",
       "  <tbody>\n",
       "    <tr>\n",
       "      <th>65830</th>\n",
       "      <td>23509</td>\n",
       "      <td>0</td>\n",
       "      <td>1</td>\n",
       "      <td>41</td>\n",
       "      <td>1</td>\n",
       "      <td>303</td>\n",
       "      <td>5</td>\n",
       "      <td>3.0</td>\n",
       "      <td>3</td>\n",
       "      <td>3</td>\n",
       "      <td>...</td>\n",
       "      <td>3</td>\n",
       "      <td>5</td>\n",
       "      <td>5</td>\n",
       "      <td>5</td>\n",
       "      <td>0</td>\n",
       "      <td>0.0</td>\n",
       "      <td>satisfied</td>\n",
       "      <td>0</td>\n",
       "      <td>1</td>\n",
       "      <td>0</td>\n",
       "    </tr>\n",
       "    <tr>\n",
       "      <th>41026</th>\n",
       "      <td>31011</td>\n",
       "      <td>1</td>\n",
       "      <td>1</td>\n",
       "      <td>18</td>\n",
       "      <td>1</td>\n",
       "      <td>391</td>\n",
       "      <td>1</td>\n",
       "      <td>5.0</td>\n",
       "      <td>5</td>\n",
       "      <td>5</td>\n",
       "      <td>...</td>\n",
       "      <td>3</td>\n",
       "      <td>1</td>\n",
       "      <td>4</td>\n",
       "      <td>1</td>\n",
       "      <td>17</td>\n",
       "      <td>17.0</td>\n",
       "      <td>neutral or dissatisfied</td>\n",
       "      <td>1</td>\n",
       "      <td>0</td>\n",
       "      <td>0</td>\n",
       "    </tr>\n",
       "    <tr>\n",
       "      <th>95867</th>\n",
       "      <td>29345</td>\n",
       "      <td>1</td>\n",
       "      <td>1</td>\n",
       "      <td>13</td>\n",
       "      <td>0</td>\n",
       "      <td>569</td>\n",
       "      <td>2</td>\n",
       "      <td>4.0</td>\n",
       "      <td>2</td>\n",
       "      <td>3</td>\n",
       "      <td>...</td>\n",
       "      <td>4</td>\n",
       "      <td>5</td>\n",
       "      <td>5</td>\n",
       "      <td>1</td>\n",
       "      <td>0</td>\n",
       "      <td>0.0</td>\n",
       "      <td>neutral or dissatisfied</td>\n",
       "      <td>0</td>\n",
       "      <td>0</td>\n",
       "      <td>1</td>\n",
       "    </tr>\n",
       "    <tr>\n",
       "      <th>75679</th>\n",
       "      <td>50242</td>\n",
       "      <td>0</td>\n",
       "      <td>0</td>\n",
       "      <td>23</td>\n",
       "      <td>1</td>\n",
       "      <td>109</td>\n",
       "      <td>1</td>\n",
       "      <td>0.0</td>\n",
       "      <td>1</td>\n",
       "      <td>1</td>\n",
       "      <td>...</td>\n",
       "      <td>5</td>\n",
       "      <td>3</td>\n",
       "      <td>1</td>\n",
       "      <td>3</td>\n",
       "      <td>0</td>\n",
       "      <td>0.0</td>\n",
       "      <td>neutral or dissatisfied</td>\n",
       "      <td>0</td>\n",
       "      <td>1</td>\n",
       "      <td>0</td>\n",
       "    </tr>\n",
       "    <tr>\n",
       "      <th>52958</th>\n",
       "      <td>22244</td>\n",
       "      <td>0</td>\n",
       "      <td>1</td>\n",
       "      <td>23</td>\n",
       "      <td>0</td>\n",
       "      <td>83</td>\n",
       "      <td>4</td>\n",
       "      <td>5.0</td>\n",
       "      <td>0</td>\n",
       "      <td>3</td>\n",
       "      <td>...</td>\n",
       "      <td>4</td>\n",
       "      <td>3</td>\n",
       "      <td>5</td>\n",
       "      <td>5</td>\n",
       "      <td>0</td>\n",
       "      <td>0.0</td>\n",
       "      <td>neutral or dissatisfied</td>\n",
       "      <td>1</td>\n",
       "      <td>0</td>\n",
       "      <td>0</td>\n",
       "    </tr>\n",
       "  </tbody>\n",
       "</table>\n",
       "<p>5 rows × 26 columns</p>\n",
       "</div>"
      ],
      "text/plain": [
       "          id  Gender  Customer Type  Age  Type of Travel  Flight Distance  \\\n",
       "65830  23509       0              1   41               1              303   \n",
       "41026  31011       1              1   18               1              391   \n",
       "95867  29345       1              1   13               0              569   \n",
       "75679  50242       0              0   23               1              109   \n",
       "52958  22244       0              1   23               0               83   \n",
       "\n",
       "       Inflight wifi service  Departure/Arrival time convenient  \\\n",
       "65830                      5                                3.0   \n",
       "41026                      1                                5.0   \n",
       "95867                      2                                4.0   \n",
       "75679                      1                                0.0   \n",
       "52958                      4                                5.0   \n",
       "\n",
       "       Ease of Online booking  Gate location  ...  Baggage handling  \\\n",
       "65830                       3              3  ...                 3   \n",
       "41026                       5              5  ...                 3   \n",
       "95867                       2              3  ...                 4   \n",
       "75679                       1              1  ...                 5   \n",
       "52958                       0              3  ...                 4   \n",
       "\n",
       "       Checkin service  Inflight service  Cleanliness  \\\n",
       "65830                5                 5            5   \n",
       "41026                1                 4            1   \n",
       "95867                5                 5            1   \n",
       "75679                3                 1            3   \n",
       "52958                3                 5            5   \n",
       "\n",
       "       Departure Delay in Minutes  Arrival Delay in Minutes  \\\n",
       "65830                           0                       0.0   \n",
       "41026                          17                      17.0   \n",
       "95867                           0                       0.0   \n",
       "75679                           0                       0.0   \n",
       "52958                           0                       0.0   \n",
       "\n",
       "                  satisfaction  Business  Eco  Eco Plus  \n",
       "65830                satisfied         0    1         0  \n",
       "41026  neutral or dissatisfied         1    0         0  \n",
       "95867  neutral or dissatisfied         0    0         1  \n",
       "75679  neutral or dissatisfied         0    1         0  \n",
       "52958  neutral or dissatisfied         1    0         0  \n",
       "\n",
       "[5 rows x 26 columns]"
      ]
     },
     "execution_count": 28,
     "metadata": {},
     "output_type": "execute_result"
    }
   ],
   "source": [
    "train['Class'].unique()\n",
    "F= pd.get_dummies(train['Class'])\n",
    "train= pd.concat([train,F], axis=1)\n",
    "train.drop('Class', axis=1, inplace=True)\n",
    "train.head()"
   ]
  },
  {
   "cell_type": "code",
   "execution_count": 29,
   "metadata": {
    "colab": {
     "base_uri": "https://localhost:8080/",
     "height": 121
    },
    "colab_type": "code",
    "id": "_Et1bVlaCWIE",
    "outputId": "e37161b2-a0fb-4a7e-a8d5-13888c31c9d0"
   },
   "outputs": [
    {
     "data": {
      "text/plain": [
       "21362         Eco\n",
       "11437    Business\n",
       "11025    Business\n",
       "14165    Business\n",
       "16249         Eco\n",
       "Name: Class, dtype: object"
      ]
     },
     "execution_count": 29,
     "metadata": {},
     "output_type": "execute_result"
    }
   ],
   "source": [
    "test['Class'].head()"
   ]
  },
  {
   "cell_type": "code",
   "execution_count": 30,
   "metadata": {
    "colab": {
     "base_uri": "https://localhost:8080/",
     "height": 343
    },
    "colab_type": "code",
    "id": "eBheoRwJCWIH",
    "outputId": "0bb2f834-8830-45bc-a9ec-bc9361826390"
   },
   "outputs": [
    {
     "data": {
      "text/html": [
       "<div>\n",
       "<style scoped>\n",
       "    .dataframe tbody tr th:only-of-type {\n",
       "        vertical-align: middle;\n",
       "    }\n",
       "\n",
       "    .dataframe tbody tr th {\n",
       "        vertical-align: top;\n",
       "    }\n",
       "\n",
       "    .dataframe thead th {\n",
       "        text-align: right;\n",
       "    }\n",
       "</style>\n",
       "<table border=\"1\" class=\"dataframe\">\n",
       "  <thead>\n",
       "    <tr style=\"text-align: right;\">\n",
       "      <th></th>\n",
       "      <th>id</th>\n",
       "      <th>Gender</th>\n",
       "      <th>Customer Type</th>\n",
       "      <th>Age</th>\n",
       "      <th>Type of Travel</th>\n",
       "      <th>Class</th>\n",
       "      <th>Flight Distance</th>\n",
       "      <th>Inflight wifi service</th>\n",
       "      <th>Departure/Arrival time convenient</th>\n",
       "      <th>Ease of Online booking</th>\n",
       "      <th>...</th>\n",
       "      <th>Baggage handling</th>\n",
       "      <th>Checkin service</th>\n",
       "      <th>Inflight service</th>\n",
       "      <th>Cleanliness</th>\n",
       "      <th>Departure Delay in Minutes</th>\n",
       "      <th>Arrival Delay in Minutes</th>\n",
       "      <th>satisfaction</th>\n",
       "      <th>Business</th>\n",
       "      <th>Eco</th>\n",
       "      <th>Eco Plus</th>\n",
       "    </tr>\n",
       "  </thead>\n",
       "  <tbody>\n",
       "    <tr>\n",
       "      <th>21362</th>\n",
       "      <td>55974</td>\n",
       "      <td>1</td>\n",
       "      <td>1</td>\n",
       "      <td>69</td>\n",
       "      <td>0</td>\n",
       "      <td>Eco</td>\n",
       "      <td>1620</td>\n",
       "      <td>3</td>\n",
       "      <td>5</td>\n",
       "      <td>3.0</td>\n",
       "      <td>...</td>\n",
       "      <td>4</td>\n",
       "      <td>5</td>\n",
       "      <td>4</td>\n",
       "      <td>4</td>\n",
       "      <td>0</td>\n",
       "      <td>0.0</td>\n",
       "      <td>neutral or dissatisfied</td>\n",
       "      <td>0</td>\n",
       "      <td>1</td>\n",
       "      <td>0</td>\n",
       "    </tr>\n",
       "    <tr>\n",
       "      <th>11437</th>\n",
       "      <td>77109</td>\n",
       "      <td>0</td>\n",
       "      <td>0</td>\n",
       "      <td>35</td>\n",
       "      <td>1</td>\n",
       "      <td>Business</td>\n",
       "      <td>1481</td>\n",
       "      <td>2</td>\n",
       "      <td>2</td>\n",
       "      <td>2.0</td>\n",
       "      <td>...</td>\n",
       "      <td>5</td>\n",
       "      <td>5</td>\n",
       "      <td>4</td>\n",
       "      <td>3</td>\n",
       "      <td>0</td>\n",
       "      <td>0.0</td>\n",
       "      <td>neutral or dissatisfied</td>\n",
       "      <td>1</td>\n",
       "      <td>0</td>\n",
       "      <td>0</td>\n",
       "    </tr>\n",
       "    <tr>\n",
       "      <th>11025</th>\n",
       "      <td>107163</td>\n",
       "      <td>0</td>\n",
       "      <td>1</td>\n",
       "      <td>39</td>\n",
       "      <td>1</td>\n",
       "      <td>Business</td>\n",
       "      <td>402</td>\n",
       "      <td>5</td>\n",
       "      <td>5</td>\n",
       "      <td>5.0</td>\n",
       "      <td>...</td>\n",
       "      <td>5</td>\n",
       "      <td>4</td>\n",
       "      <td>5</td>\n",
       "      <td>3</td>\n",
       "      <td>3</td>\n",
       "      <td>1.0</td>\n",
       "      <td>satisfied</td>\n",
       "      <td>1</td>\n",
       "      <td>0</td>\n",
       "      <td>0</td>\n",
       "    </tr>\n",
       "    <tr>\n",
       "      <th>14165</th>\n",
       "      <td>67017</td>\n",
       "      <td>1</td>\n",
       "      <td>0</td>\n",
       "      <td>29</td>\n",
       "      <td>1</td>\n",
       "      <td>Business</td>\n",
       "      <td>985</td>\n",
       "      <td>2</td>\n",
       "      <td>2</td>\n",
       "      <td>2.0</td>\n",
       "      <td>...</td>\n",
       "      <td>4</td>\n",
       "      <td>3</td>\n",
       "      <td>5</td>\n",
       "      <td>4</td>\n",
       "      <td>29</td>\n",
       "      <td>20.0</td>\n",
       "      <td>neutral or dissatisfied</td>\n",
       "      <td>1</td>\n",
       "      <td>0</td>\n",
       "      <td>0</td>\n",
       "    </tr>\n",
       "    <tr>\n",
       "      <th>16249</th>\n",
       "      <td>47670</td>\n",
       "      <td>1</td>\n",
       "      <td>0</td>\n",
       "      <td>27</td>\n",
       "      <td>1</td>\n",
       "      <td>Eco</td>\n",
       "      <td>1211</td>\n",
       "      <td>2</td>\n",
       "      <td>2</td>\n",
       "      <td>2.0</td>\n",
       "      <td>...</td>\n",
       "      <td>3</td>\n",
       "      <td>1</td>\n",
       "      <td>4</td>\n",
       "      <td>2</td>\n",
       "      <td>0</td>\n",
       "      <td>0.0</td>\n",
       "      <td>neutral or dissatisfied</td>\n",
       "      <td>0</td>\n",
       "      <td>1</td>\n",
       "      <td>0</td>\n",
       "    </tr>\n",
       "  </tbody>\n",
       "</table>\n",
       "<p>5 rows × 27 columns</p>\n",
       "</div>"
      ],
      "text/plain": [
       "           id  Gender  Customer Type  Age  Type of Travel     Class  \\\n",
       "21362   55974       1              1   69               0       Eco   \n",
       "11437   77109       0              0   35               1  Business   \n",
       "11025  107163       0              1   39               1  Business   \n",
       "14165   67017       1              0   29               1  Business   \n",
       "16249   47670       1              0   27               1       Eco   \n",
       "\n",
       "       Flight Distance  Inflight wifi service  \\\n",
       "21362             1620                      3   \n",
       "11437             1481                      2   \n",
       "11025              402                      5   \n",
       "14165              985                      2   \n",
       "16249             1211                      2   \n",
       "\n",
       "       Departure/Arrival time convenient  Ease of Online booking  ...  \\\n",
       "21362                                  5                     3.0  ...   \n",
       "11437                                  2                     2.0  ...   \n",
       "11025                                  5                     5.0  ...   \n",
       "14165                                  2                     2.0  ...   \n",
       "16249                                  2                     2.0  ...   \n",
       "\n",
       "       Baggage handling  Checkin service  Inflight service  Cleanliness  \\\n",
       "21362                 4                5                 4            4   \n",
       "11437                 5                5                 4            3   \n",
       "11025                 5                4                 5            3   \n",
       "14165                 4                3                 5            4   \n",
       "16249                 3                1                 4            2   \n",
       "\n",
       "       Departure Delay in Minutes  Arrival Delay in Minutes  \\\n",
       "21362                           0                       0.0   \n",
       "11437                           0                       0.0   \n",
       "11025                           3                       1.0   \n",
       "14165                          29                      20.0   \n",
       "16249                           0                       0.0   \n",
       "\n",
       "                  satisfaction  Business  Eco  Eco Plus  \n",
       "21362  neutral or dissatisfied         0    1         0  \n",
       "11437  neutral or dissatisfied         1    0         0  \n",
       "11025                satisfied         1    0         0  \n",
       "14165  neutral or dissatisfied         1    0         0  \n",
       "16249  neutral or dissatisfied         0    1         0  \n",
       "\n",
       "[5 rows x 27 columns]"
      ]
     },
     "execution_count": 30,
     "metadata": {},
     "output_type": "execute_result"
    }
   ],
   "source": [
    "test['Class'].unique()\n",
    "F= pd.get_dummies(test['Class'])\n",
    "test= pd.concat([test,F], axis=1)\n",
    "test.head()"
   ]
  },
  {
   "cell_type": "code",
   "execution_count": 31,
   "metadata": {
    "colab": {},
    "colab_type": "code",
    "id": "aUXWzEzvCWIK"
   },
   "outputs": [],
   "source": [
    "test.drop('Class', axis=1, inplace=True)"
   ]
  },
  {
   "cell_type": "code",
   "execution_count": 32,
   "metadata": {
    "colab": {},
    "colab_type": "code",
    "id": "iEzfknl4CWIM"
   },
   "outputs": [],
   "source": [
    "train[train['satisfaction']=='neutral or dissatisfied'].count()\n",
    "train['satisfaction']=train['satisfaction'].map({'neutral or dissatisfied':1, 'satisfied':0})\n",
    "test['satisfaction']=test['satisfaction'].map({'neutral or dissatisfied':1, 'satisfied':0})"
   ]
  },
  {
   "cell_type": "code",
   "execution_count": 33,
   "metadata": {
    "colab": {},
    "colab_type": "code",
    "id": "kTaJzwufCWIP"
   },
   "outputs": [],
   "source": [
    "train.drop('id', axis=1, inplace=True)\n",
    "test.drop('id', axis=1, inplace=True)"
   ]
  },
  {
   "cell_type": "code",
   "execution_count": 34,
   "metadata": {
    "colab": {
     "base_uri": "https://localhost:8080/",
     "height": 274
    },
    "colab_type": "code",
    "id": "5zacAzf7CWIR",
    "outputId": "ff67a394-a6a0-4b07-d4b6-677ad1cae6ff"
   },
   "outputs": [
    {
     "data": {
      "text/html": [
       "<div>\n",
       "<style scoped>\n",
       "    .dataframe tbody tr th:only-of-type {\n",
       "        vertical-align: middle;\n",
       "    }\n",
       "\n",
       "    .dataframe tbody tr th {\n",
       "        vertical-align: top;\n",
       "    }\n",
       "\n",
       "    .dataframe thead th {\n",
       "        text-align: right;\n",
       "    }\n",
       "</style>\n",
       "<table border=\"1\" class=\"dataframe\">\n",
       "  <thead>\n",
       "    <tr style=\"text-align: right;\">\n",
       "      <th></th>\n",
       "      <th>Gender</th>\n",
       "      <th>Customer Type</th>\n",
       "      <th>Age</th>\n",
       "      <th>Type of Travel</th>\n",
       "      <th>Flight Distance</th>\n",
       "      <th>Inflight wifi service</th>\n",
       "      <th>Departure/Arrival time convenient</th>\n",
       "      <th>Ease of Online booking</th>\n",
       "      <th>Gate location</th>\n",
       "      <th>Food and drink</th>\n",
       "      <th>...</th>\n",
       "      <th>Baggage handling</th>\n",
       "      <th>Checkin service</th>\n",
       "      <th>Inflight service</th>\n",
       "      <th>Cleanliness</th>\n",
       "      <th>Departure Delay in Minutes</th>\n",
       "      <th>Arrival Delay in Minutes</th>\n",
       "      <th>satisfaction</th>\n",
       "      <th>Business</th>\n",
       "      <th>Eco</th>\n",
       "      <th>Eco Plus</th>\n",
       "    </tr>\n",
       "  </thead>\n",
       "  <tbody>\n",
       "    <tr>\n",
       "      <th>21362</th>\n",
       "      <td>1</td>\n",
       "      <td>1</td>\n",
       "      <td>69</td>\n",
       "      <td>0</td>\n",
       "      <td>1620</td>\n",
       "      <td>3</td>\n",
       "      <td>5</td>\n",
       "      <td>3.0</td>\n",
       "      <td>1</td>\n",
       "      <td>2</td>\n",
       "      <td>...</td>\n",
       "      <td>4</td>\n",
       "      <td>5</td>\n",
       "      <td>4</td>\n",
       "      <td>4</td>\n",
       "      <td>0</td>\n",
       "      <td>0.0</td>\n",
       "      <td>1</td>\n",
       "      <td>0</td>\n",
       "      <td>1</td>\n",
       "      <td>0</td>\n",
       "    </tr>\n",
       "    <tr>\n",
       "      <th>11437</th>\n",
       "      <td>0</td>\n",
       "      <td>0</td>\n",
       "      <td>35</td>\n",
       "      <td>1</td>\n",
       "      <td>1481</td>\n",
       "      <td>2</td>\n",
       "      <td>2</td>\n",
       "      <td>2.0</td>\n",
       "      <td>3</td>\n",
       "      <td>3</td>\n",
       "      <td>...</td>\n",
       "      <td>5</td>\n",
       "      <td>5</td>\n",
       "      <td>4</td>\n",
       "      <td>3</td>\n",
       "      <td>0</td>\n",
       "      <td>0.0</td>\n",
       "      <td>1</td>\n",
       "      <td>1</td>\n",
       "      <td>0</td>\n",
       "      <td>0</td>\n",
       "    </tr>\n",
       "    <tr>\n",
       "      <th>11025</th>\n",
       "      <td>0</td>\n",
       "      <td>1</td>\n",
       "      <td>39</td>\n",
       "      <td>1</td>\n",
       "      <td>402</td>\n",
       "      <td>5</td>\n",
       "      <td>5</td>\n",
       "      <td>5.0</td>\n",
       "      <td>5</td>\n",
       "      <td>5</td>\n",
       "      <td>...</td>\n",
       "      <td>5</td>\n",
       "      <td>4</td>\n",
       "      <td>5</td>\n",
       "      <td>3</td>\n",
       "      <td>3</td>\n",
       "      <td>1.0</td>\n",
       "      <td>0</td>\n",
       "      <td>1</td>\n",
       "      <td>0</td>\n",
       "      <td>0</td>\n",
       "    </tr>\n",
       "    <tr>\n",
       "      <th>14165</th>\n",
       "      <td>1</td>\n",
       "      <td>0</td>\n",
       "      <td>29</td>\n",
       "      <td>1</td>\n",
       "      <td>985</td>\n",
       "      <td>2</td>\n",
       "      <td>2</td>\n",
       "      <td>2.0</td>\n",
       "      <td>2</td>\n",
       "      <td>4</td>\n",
       "      <td>...</td>\n",
       "      <td>4</td>\n",
       "      <td>3</td>\n",
       "      <td>5</td>\n",
       "      <td>4</td>\n",
       "      <td>29</td>\n",
       "      <td>20.0</td>\n",
       "      <td>1</td>\n",
       "      <td>1</td>\n",
       "      <td>0</td>\n",
       "      <td>0</td>\n",
       "    </tr>\n",
       "    <tr>\n",
       "      <th>16249</th>\n",
       "      <td>1</td>\n",
       "      <td>0</td>\n",
       "      <td>27</td>\n",
       "      <td>1</td>\n",
       "      <td>1211</td>\n",
       "      <td>2</td>\n",
       "      <td>2</td>\n",
       "      <td>2.0</td>\n",
       "      <td>3</td>\n",
       "      <td>2</td>\n",
       "      <td>...</td>\n",
       "      <td>3</td>\n",
       "      <td>1</td>\n",
       "      <td>4</td>\n",
       "      <td>2</td>\n",
       "      <td>0</td>\n",
       "      <td>0.0</td>\n",
       "      <td>1</td>\n",
       "      <td>0</td>\n",
       "      <td>1</td>\n",
       "      <td>0</td>\n",
       "    </tr>\n",
       "  </tbody>\n",
       "</table>\n",
       "<p>5 rows × 25 columns</p>\n",
       "</div>"
      ],
      "text/plain": [
       "       Gender  Customer Type  Age  Type of Travel  Flight Distance  \\\n",
       "21362       1              1   69               0             1620   \n",
       "11437       0              0   35               1             1481   \n",
       "11025       0              1   39               1              402   \n",
       "14165       1              0   29               1              985   \n",
       "16249       1              0   27               1             1211   \n",
       "\n",
       "       Inflight wifi service  Departure/Arrival time convenient  \\\n",
       "21362                      3                                  5   \n",
       "11437                      2                                  2   \n",
       "11025                      5                                  5   \n",
       "14165                      2                                  2   \n",
       "16249                      2                                  2   \n",
       "\n",
       "       Ease of Online booking  Gate location  Food and drink  ...  \\\n",
       "21362                     3.0              1               2  ...   \n",
       "11437                     2.0              3               3  ...   \n",
       "11025                     5.0              5               5  ...   \n",
       "14165                     2.0              2               4  ...   \n",
       "16249                     2.0              3               2  ...   \n",
       "\n",
       "       Baggage handling  Checkin service  Inflight service  Cleanliness  \\\n",
       "21362                 4                5                 4            4   \n",
       "11437                 5                5                 4            3   \n",
       "11025                 5                4                 5            3   \n",
       "14165                 4                3                 5            4   \n",
       "16249                 3                1                 4            2   \n",
       "\n",
       "       Departure Delay in Minutes  Arrival Delay in Minutes  satisfaction  \\\n",
       "21362                           0                       0.0             1   \n",
       "11437                           0                       0.0             1   \n",
       "11025                           3                       1.0             0   \n",
       "14165                          29                      20.0             1   \n",
       "16249                           0                       0.0             1   \n",
       "\n",
       "       Business  Eco  Eco Plus  \n",
       "21362         0    1         0  \n",
       "11437         1    0         0  \n",
       "11025         1    0         0  \n",
       "14165         1    0         0  \n",
       "16249         0    1         0  \n",
       "\n",
       "[5 rows x 25 columns]"
      ]
     },
     "execution_count": 34,
     "metadata": {},
     "output_type": "execute_result"
    }
   ],
   "source": [
    "test.head()\n",
    "#train.head()"
   ]
  },
  {
   "cell_type": "code",
   "execution_count": 35,
   "metadata": {
    "colab": {
     "base_uri": "https://localhost:8080/",
     "height": 572
    },
    "colab_type": "code",
    "id": "mkEk9p6hCWIT",
    "outputId": "70076c18-4cb9-4002-8ab1-9f144ed889bd"
   },
   "outputs": [
    {
     "name": "stdout",
     "output_type": "stream",
     "text": [
      "<class 'pandas.core.frame.DataFrame'>\n",
      "Int64Index: 2598 entries, 21362 to 15454\n",
      "Data columns (total 25 columns):\n",
      "Gender                               2598 non-null int32\n",
      "Customer Type                        2598 non-null int64\n",
      "Age                                  2598 non-null int64\n",
      "Type of Travel                       2598 non-null int64\n",
      "Flight Distance                      2598 non-null int64\n",
      "Inflight wifi service                2598 non-null int64\n",
      "Departure/Arrival time convenient    2598 non-null int64\n",
      "Ease of Online booking               2598 non-null float64\n",
      "Gate location                        2598 non-null int64\n",
      "Food and drink                       2598 non-null int64\n",
      "Online boarding                      2598 non-null int64\n",
      "Seat comfort                         2598 non-null int64\n",
      "Inflight entertainment               2598 non-null int64\n",
      "On-board service                     2598 non-null int64\n",
      "Leg room service                     2598 non-null int64\n",
      "Baggage handling                     2598 non-null int64\n",
      "Checkin service                      2598 non-null int64\n",
      "Inflight service                     2598 non-null int64\n",
      "Cleanliness                          2598 non-null int64\n",
      "Departure Delay in Minutes           2598 non-null int64\n",
      "Arrival Delay in Minutes             2598 non-null float64\n",
      "satisfaction                         2598 non-null int64\n",
      "Business                             2598 non-null uint8\n",
      "Eco                                  2598 non-null uint8\n",
      "Eco Plus                             2598 non-null uint8\n",
      "dtypes: float64(2), int32(1), int64(19), uint8(3)\n",
      "memory usage: 464.3 KB\n"
     ]
    }
   ],
   "source": [
    "test.info()"
   ]
  },
  {
   "cell_type": "code",
   "execution_count": 36,
   "metadata": {
    "colab": {
     "base_uri": "https://localhost:8080/",
     "height": 35
    },
    "colab_type": "code",
    "id": "4Cw5yKkZCWIW",
    "outputId": "739a28c3-f8d6-495a-9ece-5207a17028dc"
   },
   "outputs": [
    {
     "data": {
      "text/plain": [
       "Text(0.5, 1.0, 'Flight Distance Distribution')"
      ]
     },
     "execution_count": 36,
     "metadata": {},
     "output_type": "execute_result"
    },
    {
     "data": {
      "image/png": "[encoded data removed]",
      "text/plain": [
       "<Figure size 432x288 with 1 Axes>"
      ]
     },
     "metadata": {
      "needs_background": "light"
     },
     "output_type": "display_data"
    }
   ],
   "source": [
    "\n",
    "x = train['Flight Distance']\n",
    "sns.distplot(x, bins = 15)\n",
    "plt.title('Flight Distance Distribution')"
   ]
  },
  {
   "cell_type": "code",
   "execution_count": 37,
   "metadata": {
    "colab": {},
    "colab_type": "code",
    "id": "z1_pCFqNCWIY"
   },
   "outputs": [],
   "source": [
    "df=pd.concat([train, test])"
   ]
  },
  {
   "cell_type": "code",
   "execution_count": 38,
   "metadata": {
    "colab": {
     "base_uri": "https://localhost:8080/",
     "height": 572
    },
    "colab_type": "code",
    "id": "7i9ifRmtCWIb",
    "outputId": "29bcb559-1c41-432e-dc5a-e37c1aad0dd0"
   },
   "outputs": [
    {
     "name": "stdout",
     "output_type": "stream",
     "text": [
      "<class 'pandas.core.frame.DataFrame'>\n",
      "Int64Index: 12988 entries, 65830 to 15454\n",
      "Data columns (total 25 columns):\n",
      "Gender                               12988 non-null int32\n",
      "Customer Type                        12988 non-null int64\n",
      "Age                                  12988 non-null int64\n",
      "Type of Travel                       12988 non-null int64\n",
      "Flight Distance                      12988 non-null int64\n",
      "Inflight wifi service                12988 non-null int64\n",
      "Departure/Arrival time convenient    12988 non-null float64\n",
      "Ease of Online booking               12988 non-null float64\n",
      "Gate location                        12988 non-null int64\n",
      "Food and drink                       12988 non-null int64\n",
      "Online boarding                      12988 non-null int64\n",
      "Seat comfort                         12988 non-null int64\n",
      "Inflight entertainment               12988 non-null int64\n",
      "On-board service                     12988 non-null int64\n",
      "Leg room service                     12988 non-null int64\n",
      "Baggage handling                     12988 non-null int64\n",
      "Checkin service                      12988 non-null int64\n",
      "Inflight service                     12988 non-null int64\n",
      "Cleanliness                          12988 non-null int64\n",
      "Departure Delay in Minutes           12988 non-null int64\n",
      "Arrival Delay in Minutes             12988 non-null float64\n",
      "satisfaction                         12988 non-null int64\n",
      "Business                             12988 non-null uint8\n",
      "Eco                                  12988 non-null uint8\n",
      "Eco Plus                             12988 non-null uint8\n",
      "dtypes: float64(3), int32(1), int64(18), uint8(3)\n",
      "memory usage: 2.3 MB\n"
     ]
    }
   ],
   "source": [
    "df.info()"
   ]
  },
  {
   "cell_type": "code",
   "execution_count": 39,
   "metadata": {
    "colab": {
     "base_uri": "https://localhost:8080/",
     "height": 274
    },
    "colab_type": "code",
    "id": "R4V2-qqyCWId",
    "outputId": "f1ccacc6-a601-496c-b407-5fa80491b4c9"
   },
   "outputs": [
    {
     "data": {
      "text/html": [
       "<div>\n",
       "<style scoped>\n",
       "    .dataframe tbody tr th:only-of-type {\n",
       "        vertical-align: middle;\n",
       "    }\n",
       "\n",
       "    .dataframe tbody tr th {\n",
       "        vertical-align: top;\n",
       "    }\n",
       "\n",
       "    .dataframe thead th {\n",
       "        text-align: right;\n",
       "    }\n",
       "</style>\n",
       "<table border=\"1\" class=\"dataframe\">\n",
       "  <thead>\n",
       "    <tr style=\"text-align: right;\">\n",
       "      <th></th>\n",
       "      <th>Gender</th>\n",
       "      <th>Customer Type</th>\n",
       "      <th>Age</th>\n",
       "      <th>Type of Travel</th>\n",
       "      <th>Flight Distance</th>\n",
       "      <th>Inflight wifi service</th>\n",
       "      <th>Departure/Arrival time convenient</th>\n",
       "      <th>Ease of Online booking</th>\n",
       "      <th>Gate location</th>\n",
       "      <th>Food and drink</th>\n",
       "      <th>...</th>\n",
       "      <th>Baggage handling</th>\n",
       "      <th>Checkin service</th>\n",
       "      <th>Inflight service</th>\n",
       "      <th>Cleanliness</th>\n",
       "      <th>Departure Delay in Minutes</th>\n",
       "      <th>Arrival Delay in Minutes</th>\n",
       "      <th>satisfaction</th>\n",
       "      <th>Business</th>\n",
       "      <th>Eco</th>\n",
       "      <th>Eco Plus</th>\n",
       "    </tr>\n",
       "  </thead>\n",
       "  <tbody>\n",
       "    <tr>\n",
       "      <th>65830</th>\n",
       "      <td>0</td>\n",
       "      <td>1</td>\n",
       "      <td>41</td>\n",
       "      <td>1</td>\n",
       "      <td>303</td>\n",
       "      <td>5</td>\n",
       "      <td>3.0</td>\n",
       "      <td>3.0</td>\n",
       "      <td>3</td>\n",
       "      <td>5</td>\n",
       "      <td>...</td>\n",
       "      <td>3</td>\n",
       "      <td>5</td>\n",
       "      <td>5</td>\n",
       "      <td>5</td>\n",
       "      <td>0</td>\n",
       "      <td>0.0</td>\n",
       "      <td>0</td>\n",
       "      <td>0</td>\n",
       "      <td>1</td>\n",
       "      <td>0</td>\n",
       "    </tr>\n",
       "    <tr>\n",
       "      <th>41026</th>\n",
       "      <td>1</td>\n",
       "      <td>1</td>\n",
       "      <td>18</td>\n",
       "      <td>1</td>\n",
       "      <td>391</td>\n",
       "      <td>1</td>\n",
       "      <td>5.0</td>\n",
       "      <td>5.0</td>\n",
       "      <td>5</td>\n",
       "      <td>1</td>\n",
       "      <td>...</td>\n",
       "      <td>3</td>\n",
       "      <td>1</td>\n",
       "      <td>4</td>\n",
       "      <td>1</td>\n",
       "      <td>17</td>\n",
       "      <td>17.0</td>\n",
       "      <td>1</td>\n",
       "      <td>1</td>\n",
       "      <td>0</td>\n",
       "      <td>0</td>\n",
       "    </tr>\n",
       "    <tr>\n",
       "      <th>95867</th>\n",
       "      <td>1</td>\n",
       "      <td>1</td>\n",
       "      <td>13</td>\n",
       "      <td>0</td>\n",
       "      <td>569</td>\n",
       "      <td>2</td>\n",
       "      <td>4.0</td>\n",
       "      <td>2.0</td>\n",
       "      <td>3</td>\n",
       "      <td>1</td>\n",
       "      <td>...</td>\n",
       "      <td>4</td>\n",
       "      <td>5</td>\n",
       "      <td>5</td>\n",
       "      <td>1</td>\n",
       "      <td>0</td>\n",
       "      <td>0.0</td>\n",
       "      <td>1</td>\n",
       "      <td>0</td>\n",
       "      <td>0</td>\n",
       "      <td>1</td>\n",
       "    </tr>\n",
       "    <tr>\n",
       "      <th>75679</th>\n",
       "      <td>0</td>\n",
       "      <td>0</td>\n",
       "      <td>23</td>\n",
       "      <td>1</td>\n",
       "      <td>109</td>\n",
       "      <td>1</td>\n",
       "      <td>0.0</td>\n",
       "      <td>1.0</td>\n",
       "      <td>1</td>\n",
       "      <td>3</td>\n",
       "      <td>...</td>\n",
       "      <td>5</td>\n",
       "      <td>3</td>\n",
       "      <td>1</td>\n",
       "      <td>3</td>\n",
       "      <td>0</td>\n",
       "      <td>0.0</td>\n",
       "      <td>1</td>\n",
       "      <td>0</td>\n",
       "      <td>1</td>\n",
       "      <td>0</td>\n",
       "    </tr>\n",
       "    <tr>\n",
       "      <th>52958</th>\n",
       "      <td>0</td>\n",
       "      <td>1</td>\n",
       "      <td>23</td>\n",
       "      <td>0</td>\n",
       "      <td>83</td>\n",
       "      <td>4</td>\n",
       "      <td>5.0</td>\n",
       "      <td>0.0</td>\n",
       "      <td>3</td>\n",
       "      <td>5</td>\n",
       "      <td>...</td>\n",
       "      <td>4</td>\n",
       "      <td>3</td>\n",
       "      <td>5</td>\n",
       "      <td>5</td>\n",
       "      <td>0</td>\n",
       "      <td>0.0</td>\n",
       "      <td>1</td>\n",
       "      <td>1</td>\n",
       "      <td>0</td>\n",
       "      <td>0</td>\n",
       "    </tr>\n",
       "  </tbody>\n",
       "</table>\n",
       "<p>5 rows × 25 columns</p>\n",
       "</div>"
      ],
      "text/plain": [
       "       Gender  Customer Type  Age  Type of Travel  Flight Distance  \\\n",
       "65830       0              1   41               1              303   \n",
       "41026       1              1   18               1              391   \n",
       "95867       1              1   13               0              569   \n",
       "75679       0              0   23               1              109   \n",
       "52958       0              1   23               0               83   \n",
       "\n",
       "       Inflight wifi service  Departure/Arrival time convenient  \\\n",
       "65830                      5                                3.0   \n",
       "41026                      1                                5.0   \n",
       "95867                      2                                4.0   \n",
       "75679                      1                                0.0   \n",
       "52958                      4                                5.0   \n",
       "\n",
       "       Ease of Online booking  Gate location  Food and drink  ...  \\\n",
       "65830                     3.0              3               5  ...   \n",
       "41026                     5.0              5               1  ...   \n",
       "95867                     2.0              3               1  ...   \n",
       "75679                     1.0              1               3  ...   \n",
       "52958                     0.0              3               5  ...   \n",
       "\n",
       "       Baggage handling  Checkin service  Inflight service  Cleanliness  \\\n",
       "65830                 3                5                 5            5   \n",
       "41026                 3                1                 4            1   \n",
       "95867                 4                5                 5            1   \n",
       "75679                 5                3                 1            3   \n",
       "52958                 4                3                 5            5   \n",
       "\n",
       "       Departure Delay in Minutes  Arrival Delay in Minutes  satisfaction  \\\n",
       "65830                           0                       0.0             0   \n",
       "41026                          17                      17.0             1   \n",
       "95867                           0                       0.0             1   \n",
       "75679                           0                       0.0             1   \n",
       "52958                           0                       0.0             1   \n",
       "\n",
       "       Business  Eco  Eco Plus  \n",
       "65830         0    1         0  \n",
       "41026         1    0         0  \n",
       "95867         0    0         1  \n",
       "75679         0    1         0  \n",
       "52958         1    0         0  \n",
       "\n",
       "[5 rows x 25 columns]"
      ]
     },
     "execution_count": 39,
     "metadata": {},
     "output_type": "execute_result"
    }
   ],
   "source": [
    "df.head()"
   ]
  },
  {
   "cell_type": "code",
   "execution_count": 40,
   "metadata": {
    "colab": {
     "base_uri": "https://localhost:8080/",
     "height": 349
    },
    "colab_type": "code",
    "id": "d_Q2iWCcCWIg",
    "outputId": "a3990b8b-e156-4288-e47e-c02edb8003a1"
   },
   "outputs": [
    {
     "data": {
      "text/html": [
       "<div>\n",
       "<style scoped>\n",
       "    .dataframe tbody tr th:only-of-type {\n",
       "        vertical-align: middle;\n",
       "    }\n",
       "\n",
       "    .dataframe tbody tr th {\n",
       "        vertical-align: top;\n",
       "    }\n",
       "\n",
       "    .dataframe thead th {\n",
       "        text-align: right;\n",
       "    }\n",
       "</style>\n",
       "<table border=\"1\" class=\"dataframe\">\n",
       "  <thead>\n",
       "    <tr style=\"text-align: right;\">\n",
       "      <th></th>\n",
       "      <th>Gender</th>\n",
       "      <th>Customer Type</th>\n",
       "      <th>Age</th>\n",
       "      <th>Type of Travel</th>\n",
       "      <th>Flight Distance</th>\n",
       "      <th>Inflight wifi service</th>\n",
       "      <th>Departure/Arrival time convenient</th>\n",
       "      <th>Ease of Online booking</th>\n",
       "      <th>Gate location</th>\n",
       "      <th>Food and drink</th>\n",
       "      <th>...</th>\n",
       "      <th>Baggage handling</th>\n",
       "      <th>Checkin service</th>\n",
       "      <th>Inflight service</th>\n",
       "      <th>Cleanliness</th>\n",
       "      <th>Departure Delay in Minutes</th>\n",
       "      <th>Arrival Delay in Minutes</th>\n",
       "      <th>satisfaction</th>\n",
       "      <th>Business</th>\n",
       "      <th>Eco</th>\n",
       "      <th>Eco Plus</th>\n",
       "    </tr>\n",
       "  </thead>\n",
       "  <tbody>\n",
       "    <tr>\n",
       "      <th>count</th>\n",
       "      <td>12988.000000</td>\n",
       "      <td>12988.000000</td>\n",
       "      <td>12988.000000</td>\n",
       "      <td>12988.000000</td>\n",
       "      <td>12988.000000</td>\n",
       "      <td>12988.000000</td>\n",
       "      <td>12988.000000</td>\n",
       "      <td>12988.000000</td>\n",
       "      <td>12988.000000</td>\n",
       "      <td>12988.000000</td>\n",
       "      <td>...</td>\n",
       "      <td>12988.000000</td>\n",
       "      <td>12988.000000</td>\n",
       "      <td>12988.000000</td>\n",
       "      <td>12988.000000</td>\n",
       "      <td>12988.000000</td>\n",
       "      <td>12988.000000</td>\n",
       "      <td>12988.000000</td>\n",
       "      <td>12988.000000</td>\n",
       "      <td>12988.000000</td>\n",
       "      <td>12988.000000</td>\n",
       "    </tr>\n",
       "    <tr>\n",
       "      <th>mean</th>\n",
       "      <td>0.510548</td>\n",
       "      <td>0.820681</td>\n",
       "      <td>39.523791</td>\n",
       "      <td>0.688790</td>\n",
       "      <td>1179.206883</td>\n",
       "      <td>2.721897</td>\n",
       "      <td>3.057519</td>\n",
       "      <td>2.760625</td>\n",
       "      <td>2.973206</td>\n",
       "      <td>3.187789</td>\n",
       "      <td>...</td>\n",
       "      <td>3.607946</td>\n",
       "      <td>3.291038</td>\n",
       "      <td>3.622267</td>\n",
       "      <td>3.276178</td>\n",
       "      <td>15.079535</td>\n",
       "      <td>15.586805</td>\n",
       "      <td>0.573837</td>\n",
       "      <td>0.483985</td>\n",
       "      <td>0.443948</td>\n",
       "      <td>0.072067</td>\n",
       "    </tr>\n",
       "    <tr>\n",
       "      <th>std</th>\n",
       "      <td>0.499908</td>\n",
       "      <td>0.383634</td>\n",
       "      <td>15.275937</td>\n",
       "      <td>0.463006</td>\n",
       "      <td>991.970497</td>\n",
       "      <td>1.310309</td>\n",
       "      <td>1.518299</td>\n",
       "      <td>1.391678</td>\n",
       "      <td>1.278699</td>\n",
       "      <td>1.320538</td>\n",
       "      <td>...</td>\n",
       "      <td>1.192868</td>\n",
       "      <td>1.272215</td>\n",
       "      <td>1.178686</td>\n",
       "      <td>1.307981</td>\n",
       "      <td>38.671016</td>\n",
       "      <td>39.206658</td>\n",
       "      <td>0.494537</td>\n",
       "      <td>0.499763</td>\n",
       "      <td>0.496867</td>\n",
       "      <td>0.258608</td>\n",
       "    </tr>\n",
       "    <tr>\n",
       "      <th>min</th>\n",
       "      <td>0.000000</td>\n",
       "      <td>0.000000</td>\n",
       "      <td>7.000000</td>\n",
       "      <td>0.000000</td>\n",
       "      <td>56.000000</td>\n",
       "      <td>0.000000</td>\n",
       "      <td>0.000000</td>\n",
       "      <td>0.000000</td>\n",
       "      <td>1.000000</td>\n",
       "      <td>0.000000</td>\n",
       "      <td>...</td>\n",
       "      <td>1.000000</td>\n",
       "      <td>1.000000</td>\n",
       "      <td>0.000000</td>\n",
       "      <td>0.000000</td>\n",
       "      <td>0.000000</td>\n",
       "      <td>0.000000</td>\n",
       "      <td>0.000000</td>\n",
       "      <td>0.000000</td>\n",
       "      <td>0.000000</td>\n",
       "      <td>0.000000</td>\n",
       "    </tr>\n",
       "    <tr>\n",
       "      <th>25%</th>\n",
       "      <td>0.000000</td>\n",
       "      <td>1.000000</td>\n",
       "      <td>27.000000</td>\n",
       "      <td>0.000000</td>\n",
       "      <td>410.750000</td>\n",
       "      <td>2.000000</td>\n",
       "      <td>2.000000</td>\n",
       "      <td>2.000000</td>\n",
       "      <td>2.000000</td>\n",
       "      <td>2.000000</td>\n",
       "      <td>...</td>\n",
       "      <td>3.000000</td>\n",
       "      <td>2.000000</td>\n",
       "      <td>3.000000</td>\n",
       "      <td>2.000000</td>\n",
       "      <td>0.000000</td>\n",
       "      <td>0.000000</td>\n",
       "      <td>0.000000</td>\n",
       "      <td>0.000000</td>\n",
       "      <td>0.000000</td>\n",
       "      <td>0.000000</td>\n",
       "    </tr>\n",
       "    <tr>\n",
       "      <th>50%</th>\n",
       "      <td>1.000000</td>\n",
       "      <td>1.000000</td>\n",
       "      <td>40.000000</td>\n",
       "      <td>1.000000</td>\n",
       "      <td>834.000000</td>\n",
       "      <td>3.000000</td>\n",
       "      <td>3.000000</td>\n",
       "      <td>3.000000</td>\n",
       "      <td>3.000000</td>\n",
       "      <td>3.000000</td>\n",
       "      <td>...</td>\n",
       "      <td>4.000000</td>\n",
       "      <td>3.000000</td>\n",
       "      <td>4.000000</td>\n",
       "      <td>3.000000</td>\n",
       "      <td>0.000000</td>\n",
       "      <td>0.000000</td>\n",
       "      <td>1.000000</td>\n",
       "      <td>0.000000</td>\n",
       "      <td>0.000000</td>\n",
       "      <td>0.000000</td>\n",
       "    </tr>\n",
       "    <tr>\n",
       "      <th>75%</th>\n",
       "      <td>1.000000</td>\n",
       "      <td>1.000000</td>\n",
       "      <td>51.000000</td>\n",
       "      <td>1.000000</td>\n",
       "      <td>1726.000000</td>\n",
       "      <td>4.000000</td>\n",
       "      <td>4.000000</td>\n",
       "      <td>4.000000</td>\n",
       "      <td>4.000000</td>\n",
       "      <td>4.000000</td>\n",
       "      <td>...</td>\n",
       "      <td>5.000000</td>\n",
       "      <td>4.000000</td>\n",
       "      <td>5.000000</td>\n",
       "      <td>4.000000</td>\n",
       "      <td>12.000000</td>\n",
       "      <td>13.000000</td>\n",
       "      <td>1.000000</td>\n",
       "      <td>1.000000</td>\n",
       "      <td>1.000000</td>\n",
       "      <td>0.000000</td>\n",
       "    </tr>\n",
       "    <tr>\n",
       "      <th>max</th>\n",
       "      <td>1.000000</td>\n",
       "      <td>1.000000</td>\n",
       "      <td>85.000000</td>\n",
       "      <td>1.000000</td>\n",
       "      <td>4983.000000</td>\n",
       "      <td>5.000000</td>\n",
       "      <td>5.000000</td>\n",
       "      <td>5.000000</td>\n",
       "      <td>5.000000</td>\n",
       "      <td>5.000000</td>\n",
       "      <td>...</td>\n",
       "      <td>5.000000</td>\n",
       "      <td>5.000000</td>\n",
       "      <td>5.000000</td>\n",
       "      <td>5.000000</td>\n",
       "      <td>729.000000</td>\n",
       "      <td>717.000000</td>\n",
       "      <td>1.000000</td>\n",
       "      <td>1.000000</td>\n",
       "      <td>1.000000</td>\n",
       "      <td>1.000000</td>\n",
       "    </tr>\n",
       "  </tbody>\n",
       "</table>\n",
       "<p>8 rows × 25 columns</p>\n",
       "</div>"
      ],
      "text/plain": [
       "             Gender  Customer Type           Age  Type of Travel  \\\n",
       "count  12988.000000   12988.000000  12988.000000    12988.000000   \n",
       "mean       0.510548       0.820681     39.523791        0.688790   \n",
       "std        0.499908       0.383634     15.275937        0.463006   \n",
       "min        0.000000       0.000000      7.000000        0.000000   \n",
       "25%        0.000000       1.000000     27.000000        0.000000   \n",
       "50%        1.000000       1.000000     40.000000        1.000000   \n",
       "75%        1.000000       1.000000     51.000000        1.000000   \n",
       "max        1.000000       1.000000     85.000000        1.000000   \n",
       "\n",
       "       Flight Distance  Inflight wifi service  \\\n",
       "count     12988.000000           12988.000000   \n",
       "mean       1179.206883               2.721897   \n",
       "std         991.970497               1.310309   \n",
       "min          56.000000               0.000000   \n",
       "25%         410.750000               2.000000   \n",
       "50%         834.000000               3.000000   \n",
       "75%        1726.000000               4.000000   \n",
       "max        4983.000000               5.000000   \n",
       "\n",
       "       Departure/Arrival time convenient  Ease of Online booking  \\\n",
       "count                       12988.000000            12988.000000   \n",
       "mean                            3.057519                2.760625   \n",
       "std                             1.518299                1.391678   \n",
       "min                             0.000000                0.000000   \n",
       "25%                             2.000000                2.000000   \n",
       "50%                             3.000000                3.000000   \n",
       "75%                             4.000000                4.000000   \n",
       "max                             5.000000                5.000000   \n",
       "\n",
       "       Gate location  Food and drink  ...  Baggage handling  Checkin service  \\\n",
       "count   12988.000000    12988.000000  ...      12988.000000     12988.000000   \n",
       "mean        2.973206        3.187789  ...          3.607946         3.291038   \n",
       "std         1.278699        1.320538  ...          1.192868         1.272215   \n",
       "min         1.000000        0.000000  ...          1.000000         1.000000   \n",
       "25%         2.000000        2.000000  ...          3.000000         2.000000   \n",
       "50%         3.000000        3.000000  ...          4.000000         3.000000   \n",
       "75%         4.000000        4.000000  ...          5.000000         4.000000   \n",
       "max         5.000000        5.000000  ...          5.000000         5.000000   \n",
       "\n",
       "       Inflight service   Cleanliness  Departure Delay in Minutes  \\\n",
       "count      12988.000000  12988.000000                12988.000000   \n",
       "mean           3.622267      3.276178                   15.079535   \n",
       "std            1.178686      1.307981                   38.671016   \n",
       "min            0.000000      0.000000                    0.000000   \n",
       "25%            3.000000      2.000000                    0.000000   \n",
       "50%            4.000000      3.000000                    0.000000   \n",
       "75%            5.000000      4.000000                   12.000000   \n",
       "max            5.000000      5.000000                  729.000000   \n",
       "\n",
       "       Arrival Delay in Minutes  satisfaction      Business           Eco  \\\n",
       "count              12988.000000  12988.000000  12988.000000  12988.000000   \n",
       "mean                  15.586805      0.573837      0.483985      0.443948   \n",
       "std                   39.206658      0.494537      0.499763      0.496867   \n",
       "min                    0.000000      0.000000      0.000000      0.000000   \n",
       "25%                    0.000000      0.000000      0.000000      0.000000   \n",
       "50%                    0.000000      1.000000      0.000000      0.000000   \n",
       "75%                   13.000000      1.000000      1.000000      1.000000   \n",
       "max                  717.000000      1.000000      1.000000      1.000000   \n",
       "\n",
       "           Eco Plus  \n",
       "count  12988.000000  \n",
       "mean       0.072067  \n",
       "std        0.258608  \n",
       "min        0.000000  \n",
       "25%        0.000000  \n",
       "50%        0.000000  \n",
       "75%        0.000000  \n",
       "max        1.000000  \n",
       "\n",
       "[8 rows x 25 columns]"
      ]
     },
     "execution_count": 40,
     "metadata": {},
     "output_type": "execute_result"
    }
   ],
   "source": [
    "df.describe()"
   ]
  },
  {
   "cell_type": "code",
   "execution_count": 41,
   "metadata": {
    "colab": {},
    "colab_type": "code",
    "id": "39vhMetgCWIl"
   },
   "outputs": [],
   "source": [
    "y= pd.DataFrame(df['satisfaction'])\n",
    "df.drop('satisfaction', axis=1, inplace=True)"
   ]
  },
  {
   "cell_type": "code",
   "execution_count": 42,
   "metadata": {
    "colab": {},
    "colab_type": "code",
    "id": "HV6KlvcTCWIo"
   },
   "outputs": [],
   "source": [
    "X=pd.DataFrame(df)"
   ]
  },
  {
   "cell_type": "markdown",
   "metadata": {
    "colab_type": "text",
    "id": "NRCcQ2vgCWIs"
   },
   "source": [
    "##### We will be using MinMaxScaler as the values in the dataset are mostly binary values, i.e. in the form of 0 & 1. We need higher values to be scaled with these binary values in between 0 & 1 and so we are using MinMaxScaler."
   ]
  },
  {
   "cell_type": "code",
   "execution_count": 43,
   "metadata": {
    "colab": {},
    "colab_type": "code",
    "id": "U-6FQPiTCWIt"
   },
   "outputs": [],
   "source": [
    "#preprocessing steps: spliting the dataset\n",
    "#scaling train and test datasets\n",
    "from sklearn.model_selection import train_test_split\n",
    "from sklearn.model_selection import GridSearchCV\n",
    "from sklearn.preprocessing import MinMaxScaler\n",
    "\n",
    "X_train_org, X_test_org, y_train, y_test = train_test_split(X, y, random_state =0)\n",
    "\n",
    "scaler = MinMaxScaler() \n",
    "X_train = scaler.fit_transform(X_train_org)\n",
    "X_test = scaler.transform(X_test_org)"
   ]
  },
  {
   "cell_type": "markdown",
   "metadata": {
    "colab_type": "text",
    "id": "6g150zGlCWIu"
   },
   "source": [
    "###### For this dataset we are going to predict customer satisfaction for airlines. A good evaluation strategy would be to eliminate all the unnesccasary columns and apply classification model on the cleaned data set. We have dropped id, Unnamed columns and have preprocessed other coulumns as needed."
   ]
  },
  {
   "cell_type": "markdown",
   "metadata": {
    "colab_type": "text",
    "id": "S29KC_GICWIv"
   },
   "source": [
    "##### Voting Clssifier: Hard Voting with KNN and Logistics Regression"
   ]
  },
  {
   "cell_type": "code",
   "execution_count": 44,
   "metadata": {
    "colab": {
     "base_uri": "https://localhost:8080/",
     "height": 921
    },
    "colab_type": "code",
    "id": "SIq2iSmaCWIv",
    "outputId": "048ddd6f-45c4-4e75-9b19-825574ed2440"
   },
   "outputs": [
    {
     "name": "stderr",
     "output_type": "stream",
     "text": [
      "c:\\users\\lenovo\\appdata\\local\\programs\\python\\python37\\lib\\site-packages\\sklearn\\utils\\validation.py:760: DataConversionWarning: A column-vector y was passed when a 1d array was expected. Please change the shape of y to (n_samples, ), for example using ravel().\n",
      "  y = column_or_1d(y, warn=True)\n",
      "c:\\users\\lenovo\\appdata\\local\\programs\\python\\python37\\lib\\site-packages\\sklearn\\linear_model\\_logistic.py:940: ConvergenceWarning: lbfgs failed to converge (status=1):\n",
      "STOP: TOTAL NO. of ITERATIONS REACHED LIMIT.\n",
      "\n",
      "Increase the number of iterations (max_iter) or scale the data as shown in:\n",
      "    https://scikit-learn.org/stable/modules/preprocessing.html\n",
      "Please also refer to the documentation for alternative solver options:\n",
      "    https://scikit-learn.org/stable/modules/linear_model.html#logistic-regression\n",
      "  extra_warning_msg=_LOGISTIC_SOLVER_CONVERGENCE_MSG)\n",
      "c:\\users\\lenovo\\appdata\\local\\programs\\python\\python37\\lib\\site-packages\\ipykernel_launcher.py:8: DataConversionWarning: A column-vector y was passed when a 1d array was expected. Please change the shape of y to (n_samples, ), for example using ravel().\n",
      "  \n",
      "c:\\users\\lenovo\\appdata\\local\\programs\\python\\python37\\lib\\site-packages\\sklearn\\preprocessing\\_label.py:235: DataConversionWarning: A column-vector y was passed when a 1d array was expected. Please change the shape of y to (n_samples, ), for example using ravel().\n",
      "  y = column_or_1d(y, warn=True)\n",
      "c:\\users\\lenovo\\appdata\\local\\programs\\python\\python37\\lib\\site-packages\\sklearn\\preprocessing\\_label.py:268: DataConversionWarning: A column-vector y was passed when a 1d array was expected. Please change the shape of y to (n_samples, ), for example using ravel().\n",
      "  y = column_or_1d(y, warn=True)\n",
      "c:\\users\\lenovo\\appdata\\local\\programs\\python\\python37\\lib\\site-packages\\sklearn\\linear_model\\_logistic.py:940: ConvergenceWarning: lbfgs failed to converge (status=1):\n",
      "STOP: TOTAL NO. of ITERATIONS REACHED LIMIT.\n",
      "\n",
      "Increase the number of iterations (max_iter) or scale the data as shown in:\n",
      "    https://scikit-learn.org/stable/modules/preprocessing.html\n",
      "Please also refer to the documentation for alternative solver options:\n",
      "    https://scikit-learn.org/stable/modules/linear_model.html#logistic-regression\n",
      "  extra_warning_msg=_LOGISTIC_SOLVER_CONVERGENCE_MSG)\n",
      "c:\\users\\lenovo\\appdata\\local\\programs\\python\\python37\\lib\\site-packages\\sklearn\\utils\\validation.py:760: DataConversionWarning: A column-vector y was passed when a 1d array was expected. Please change the shape of y to (n_samples, ), for example using ravel().\n",
      "  y = column_or_1d(y, warn=True)\n",
      "c:\\users\\lenovo\\appdata\\local\\programs\\python\\python37\\lib\\site-packages\\sklearn\\linear_model\\_logistic.py:940: ConvergenceWarning: lbfgs failed to converge (status=1):\n",
      "STOP: TOTAL NO. of ITERATIONS REACHED LIMIT.\n",
      "\n",
      "Increase the number of iterations (max_iter) or scale the data as shown in:\n",
      "    https://scikit-learn.org/stable/modules/preprocessing.html\n",
      "Please also refer to the documentation for alternative solver options:\n",
      "    https://scikit-learn.org/stable/modules/linear_model.html#logistic-regression\n",
      "  extra_warning_msg=_LOGISTIC_SOLVER_CONVERGENCE_MSG)\n",
      "c:\\users\\lenovo\\appdata\\local\\programs\\python\\python37\\lib\\site-packages\\ipykernel_launcher.py:16: DataConversionWarning: A column-vector y was passed when a 1d array was expected. Please change the shape of y to (n_samples, ), for example using ravel().\n",
      "  app.launch_new_instance()\n"
     ]
    },
    {
     "name": "stdout",
     "output_type": "stream",
     "text": [
      "LogisticRegression 0.8820449645826918\n",
      "KNeighborsClassifier 0.9140745303356945\n"
     ]
    },
    {
     "name": "stderr",
     "output_type": "stream",
     "text": [
      "c:\\users\\lenovo\\appdata\\local\\programs\\python\\python37\\lib\\site-packages\\sklearn\\preprocessing\\_label.py:235: DataConversionWarning: A column-vector y was passed when a 1d array was expected. Please change the shape of y to (n_samples, ), for example using ravel().\n",
      "  y = column_or_1d(y, warn=True)\n",
      "c:\\users\\lenovo\\appdata\\local\\programs\\python\\python37\\lib\\site-packages\\sklearn\\preprocessing\\_label.py:268: DataConversionWarning: A column-vector y was passed when a 1d array was expected. Please change the shape of y to (n_samples, ), for example using ravel().\n",
      "  y = column_or_1d(y, warn=True)\n",
      "c:\\users\\lenovo\\appdata\\local\\programs\\python\\python37\\lib\\site-packages\\sklearn\\linear_model\\_logistic.py:940: ConvergenceWarning: lbfgs failed to converge (status=1):\n",
      "STOP: TOTAL NO. of ITERATIONS REACHED LIMIT.\n",
      "\n",
      "Increase the number of iterations (max_iter) or scale the data as shown in:\n",
      "    https://scikit-learn.org/stable/modules/preprocessing.html\n",
      "Please also refer to the documentation for alternative solver options:\n",
      "    https://scikit-learn.org/stable/modules/linear_model.html#logistic-regression\n",
      "  extra_warning_msg=_LOGISTIC_SOLVER_CONVERGENCE_MSG)\n"
     ]
    },
    {
     "name": "stdout",
     "output_type": "stream",
     "text": [
      "VotingClassifier 0.8943640283338467\n"
     ]
    }
   ],
   "source": [
    "from sklearn.neighbors import KNeighborsClassifier\n",
    "from sklearn.ensemble import VotingClassifier\n",
    "from sklearn.linear_model import LogisticRegression\n",
    "\n",
    "log_clf = LogisticRegression()\n",
    "log_clf.fit(X_train, y_train)\n",
    "knn_clf = KNeighborsClassifier(7)\n",
    "knn_clf.fit(X_train, y_train)\n",
    "\n",
    "voting_clf = VotingClassifier(estimators=[('lr', log_clf), ('knn', knn_clf)], voting='hard')\n",
    "\n",
    "voting_clf.fit(X_train, y_train)\n",
    "\n",
    "from sklearn.metrics import accuracy_score\n",
    "for clf in (log_clf, knn_clf, voting_clf):\n",
    "    clf.fit(X_train, y_train)\n",
    "    y_pred = clf.predict(X_test)\n",
    "    print(clf.__class__.__name__, accuracy_score(y_test, y_pred))\n"
   ]
  },
  {
   "cell_type": "markdown",
   "metadata": {
    "colab_type": "text",
    "id": "MTos-1iRCWIy"
   },
   "source": [
    "### We can see that the Hard Voting classifier has similar accuracy score as Logistic Regression as 0.89, but K Neighbors classifier has a better accuracy score of 0.91."
   ]
  },
  {
   "cell_type": "code",
   "execution_count": 45,
   "metadata": {
    "colab": {
     "base_uri": "https://localhost:8080/",
     "height": 713
    },
    "colab_type": "code",
    "id": "e2pxh51oCWIy",
    "outputId": "07a861ca-7200-48ef-c455-ca0bdcea5d0c"
   },
   "outputs": [
    {
     "name": "stderr",
     "output_type": "stream",
     "text": [
      "c:\\users\\lenovo\\appdata\\local\\programs\\python\\python37\\lib\\site-packages\\sklearn\\preprocessing\\_label.py:235: DataConversionWarning: A column-vector y was passed when a 1d array was expected. Please change the shape of y to (n_samples, ), for example using ravel().\n",
      "  y = column_or_1d(y, warn=True)\n",
      "c:\\users\\lenovo\\appdata\\local\\programs\\python\\python37\\lib\\site-packages\\sklearn\\preprocessing\\_label.py:268: DataConversionWarning: A column-vector y was passed when a 1d array was expected. Please change the shape of y to (n_samples, ), for example using ravel().\n",
      "  y = column_or_1d(y, warn=True)\n",
      "c:\\users\\lenovo\\appdata\\local\\programs\\python\\python37\\lib\\site-packages\\sklearn\\linear_model\\_logistic.py:940: ConvergenceWarning: lbfgs failed to converge (status=1):\n",
      "STOP: TOTAL NO. of ITERATIONS REACHED LIMIT.\n",
      "\n",
      "Increase the number of iterations (max_iter) or scale the data as shown in:\n",
      "    https://scikit-learn.org/stable/modules/preprocessing.html\n",
      "Please also refer to the documentation for alternative solver options:\n",
      "    https://scikit-learn.org/stable/modules/linear_model.html#logistic-regression\n",
      "  extra_warning_msg=_LOGISTIC_SOLVER_CONVERGENCE_MSG)\n",
      "c:\\users\\lenovo\\appdata\\local\\programs\\python\\python37\\lib\\site-packages\\sklearn\\utils\\validation.py:760: DataConversionWarning: A column-vector y was passed when a 1d array was expected. Please change the shape of y to (n_samples, ), for example using ravel().\n",
      "  y = column_or_1d(y, warn=True)\n",
      "c:\\users\\lenovo\\appdata\\local\\programs\\python\\python37\\lib\\site-packages\\sklearn\\linear_model\\_logistic.py:940: ConvergenceWarning: lbfgs failed to converge (status=1):\n",
      "STOP: TOTAL NO. of ITERATIONS REACHED LIMIT.\n",
      "\n",
      "Increase the number of iterations (max_iter) or scale the data as shown in:\n",
      "    https://scikit-learn.org/stable/modules/preprocessing.html\n",
      "Please also refer to the documentation for alternative solver options:\n",
      "    https://scikit-learn.org/stable/modules/linear_model.html#logistic-regression\n",
      "  extra_warning_msg=_LOGISTIC_SOLVER_CONVERGENCE_MSG)\n",
      "c:\\users\\lenovo\\appdata\\local\\programs\\python\\python37\\lib\\site-packages\\ipykernel_launcher.py:7: DataConversionWarning: A column-vector y was passed when a 1d array was expected. Please change the shape of y to (n_samples, ), for example using ravel().\n",
      "  import sys\n"
     ]
    },
    {
     "name": "stdout",
     "output_type": "stream",
     "text": [
      "LogisticRegression 0.8820449645826918\n",
      "KNeighborsClassifier 0.9140745303356945\n"
     ]
    },
    {
     "name": "stderr",
     "output_type": "stream",
     "text": [
      "c:\\users\\lenovo\\appdata\\local\\programs\\python\\python37\\lib\\site-packages\\sklearn\\preprocessing\\_label.py:235: DataConversionWarning: A column-vector y was passed when a 1d array was expected. Please change the shape of y to (n_samples, ), for example using ravel().\n",
      "  y = column_or_1d(y, warn=True)\n",
      "c:\\users\\lenovo\\appdata\\local\\programs\\python\\python37\\lib\\site-packages\\sklearn\\preprocessing\\_label.py:268: DataConversionWarning: A column-vector y was passed when a 1d array was expected. Please change the shape of y to (n_samples, ), for example using ravel().\n",
      "  y = column_or_1d(y, warn=True)\n",
      "c:\\users\\lenovo\\appdata\\local\\programs\\python\\python37\\lib\\site-packages\\sklearn\\linear_model\\_logistic.py:940: ConvergenceWarning: lbfgs failed to converge (status=1):\n",
      "STOP: TOTAL NO. of ITERATIONS REACHED LIMIT.\n",
      "\n",
      "Increase the number of iterations (max_iter) or scale the data as shown in:\n",
      "    https://scikit-learn.org/stable/modules/preprocessing.html\n",
      "Please also refer to the documentation for alternative solver options:\n",
      "    https://scikit-learn.org/stable/modules/linear_model.html#logistic-regression\n",
      "  extra_warning_msg=_LOGISTIC_SOLVER_CONVERGENCE_MSG)\n"
     ]
    },
    {
     "name": "stdout",
     "output_type": "stream",
     "text": [
      "VotingClassifier 0.9094548814290114\n"
     ]
    }
   ],
   "source": [
    "voting_clf = VotingClassifier(estimators=[('lr', log_clf), ('knn', knn_clf)], voting='soft')\n",
    "\n",
    "voting_clf.fit(X_train, y_train)\n",
    "\n",
    "from sklearn.metrics import accuracy_score\n",
    "for clf in (log_clf, knn_clf, voting_clf):\n",
    "    clf.fit(X_train, y_train)\n",
    "    y_pred = clf.predict(X_test)\n",
    "    print(clf.__class__.__name__, accuracy_score(y_test, y_pred))"
   ]
  },
  {
   "cell_type": "markdown",
   "metadata": {
    "colab_type": "text",
    "id": "aNyBZ8XeCWI1"
   },
   "source": [
    "Soft Voting is as good as KNeighbours classifier."
   ]
  },
  {
   "cell_type": "markdown",
   "metadata": {
    "colab_type": "text",
    "id": "g5fo2KktCWI2"
   },
   "source": [
    "### Bagging"
   ]
  },
  {
   "cell_type": "markdown",
   "metadata": {
    "colab_type": "text",
    "id": "2jjcb71lCWI3"
   },
   "source": [
    "##### Bagging with Decission Tree classifier"
   ]
  },
  {
   "cell_type": "code",
   "execution_count": null,
   "metadata": {
    "colab": {},
    "colab_type": "code",
    "id": "0ItDevzzCWI3"
   },
   "outputs": [],
   "source": []
  },
  {
   "cell_type": "code",
   "execution_count": 46,
   "metadata": {
    "colab": {
     "base_uri": "https://localhost:8080/",
     "height": 72
    },
    "colab_type": "code",
    "id": "8ZD4CroMCWI5",
    "outputId": "0e6b6ca1-349b-453f-fb45-7d910eefe5ce"
   },
   "outputs": [
    {
     "name": "stderr",
     "output_type": "stream",
     "text": [
      "c:\\users\\lenovo\\appdata\\local\\programs\\python\\python37\\lib\\site-packages\\sklearn\\ensemble\\_bagging.py:645: DataConversionWarning: A column-vector y was passed when a 1d array was expected. Please change the shape of y to (n_samples, ), for example using ravel().\n",
      "  y = column_or_1d(y, warn=True)\n"
     ]
    }
   ],
   "source": [
    "from sklearn.ensemble import BaggingClassifier\n",
    "from sklearn.tree import DecisionTreeClassifier\n",
    "\n",
    "dt_clf = DecisionTreeClassifier(random_state=0) # base classifier\n",
    "bag_clf = BaggingClassifier(dt_clf, n_estimators=500, max_samples=100, bootstrap=True, random_state=0, oob_score=True)\n",
    "\n",
    "bag_clf.fit(X_train, y_train)\n",
    "y_pred = bag_clf.predict(X_test)"
   ]
  },
  {
   "cell_type": "code",
   "execution_count": 47,
   "metadata": {
    "colab": {
     "base_uri": "https://localhost:8080/",
     "height": 107
    },
    "colab_type": "code",
    "id": "afiFnfJTCWI7",
    "outputId": "cae49cf6-5396-46e9-b14f-8a7cfe8ca1a8",
    "scrolled": true
   },
   "outputs": [
    {
     "name": "stderr",
     "output_type": "stream",
     "text": [
      "c:\\users\\lenovo\\appdata\\local\\programs\\python\\python37\\lib\\site-packages\\sklearn\\ensemble\\_bagging.py:645: DataConversionWarning: A column-vector y was passed when a 1d array was expected. Please change the shape of y to (n_samples, ), for example using ravel().\n",
      "  y = column_or_1d(y, warn=True)\n"
     ]
    },
    {
     "name": "stdout",
     "output_type": "stream",
     "text": [
      "Train score: 0.92\n",
      "Test score: 0.92\n"
     ]
    }
   ],
   "source": [
    "bag_clf.fit(X_train, y_train)\n",
    "print('Train score: {:.2f}'.format(bag_clf.score(X_train, y_train)))\n",
    "print('Test score: {:.2f}'.format(bag_clf.score(X_test, y_test)))"
   ]
  },
  {
   "cell_type": "markdown",
   "metadata": {
    "colab_type": "text",
    "id": "6llVE71sCWI9"
   },
   "source": [
    "#### Bagging with SVC"
   ]
  },
  {
   "cell_type": "code",
   "execution_count": 48,
   "metadata": {
    "colab": {
     "base_uri": "https://localhost:8080/",
     "height": 72
    },
    "colab_type": "code",
    "id": "gakLVzRACWI9",
    "outputId": "0d3d131e-1232-45d2-f804-4e32bb8c6875"
   },
   "outputs": [
    {
     "name": "stderr",
     "output_type": "stream",
     "text": [
      "c:\\users\\lenovo\\appdata\\local\\programs\\python\\python37\\lib\\site-packages\\sklearn\\ensemble\\_bagging.py:645: DataConversionWarning: A column-vector y was passed when a 1d array was expected. Please change the shape of y to (n_samples, ), for example using ravel().\n",
      "  y = column_or_1d(y, warn=True)\n"
     ]
    }
   ],
   "source": [
    "from sklearn.svm import SVC\n",
    "\n",
    "param_grid = {'C': [0.1, 1, 10, 100],\n",
    "              'gamma': [0.1, 1, 10, 100],'kernel':('rbf')}\n",
    "\n",
    "from sklearn.model_selection import GridSearchCV\n",
    "from sklearn.svm import SVC\n",
    "\n",
    "SVC_clf= SVC(C=10, gamma = 0.1, kernel ='rbf', random_state=0)\n",
    "bag_clf =  BaggingClassifier(SVC_clf, n_estimators=500, max_samples=100, bootstrap=True, random_state=0, oob_score=True)\n",
    "\n",
    "\n",
    "bag_clf.fit(X_train, y_train)\n",
    "y_pred = bag_clf.predict(X_test)"
   ]
  },
  {
   "cell_type": "code",
   "execution_count": 49,
   "metadata": {
    "colab": {
     "base_uri": "https://localhost:8080/",
     "height": 107
    },
    "colab_type": "code",
    "id": "NAQREGeSCWI_",
    "outputId": "1d97b1af-c16d-4183-bc0d-36b476cc7be9"
   },
   "outputs": [
    {
     "name": "stderr",
     "output_type": "stream",
     "text": [
      "c:\\users\\lenovo\\appdata\\local\\programs\\python\\python37\\lib\\site-packages\\sklearn\\ensemble\\_bagging.py:645: DataConversionWarning: A column-vector y was passed when a 1d array was expected. Please change the shape of y to (n_samples, ), for example using ravel().\n",
      "  y = column_or_1d(y, warn=True)\n"
     ]
    },
    {
     "name": "stdout",
     "output_type": "stream",
     "text": [
      "Train score: 0.89\n",
      "Test score: 0.89\n"
     ]
    }
   ],
   "source": [
    "bag_clf.fit(X_train, y_train)\n",
    "print('Train score: {:.2f}'.format(bag_clf.score(X_train, y_train)))\n",
    "print('Test score: {:.2f}'.format(bag_clf.score(X_test, y_test)))"
   ]
  },
  {
   "cell_type": "markdown",
   "metadata": {
    "colab_type": "text",
    "id": "3PPzOsNRCWJD"
   },
   "source": [
    "### Pasting"
   ]
  },
  {
   "cell_type": "markdown",
   "metadata": {
    "colab_type": "text",
    "id": "fhCcOcErCWJD"
   },
   "source": [
    "##### Pasting with Decission Tree classifier"
   ]
  },
  {
   "cell_type": "code",
   "execution_count": 50,
   "metadata": {
    "colab": {
     "base_uri": "https://localhost:8080/",
     "height": 72
    },
    "colab_type": "code",
    "id": "h_Twi2u8CWJE",
    "outputId": "9367e66a-3ae8-4883-ebe4-4dc76d7b32af"
   },
   "outputs": [
    {
     "name": "stderr",
     "output_type": "stream",
     "text": [
      "c:\\users\\lenovo\\appdata\\local\\programs\\python\\python37\\lib\\site-packages\\sklearn\\ensemble\\_bagging.py:645: DataConversionWarning: A column-vector y was passed when a 1d array was expected. Please change the shape of y to (n_samples, ), for example using ravel().\n",
      "  y = column_or_1d(y, warn=True)\n"
     ]
    }
   ],
   "source": [
    "from sklearn.ensemble import BaggingClassifier\n",
    "from sklearn.tree import DecisionTreeClassifier\n",
    "\n",
    "dt_clf = DecisionTreeClassifier(max_depth=5, random_state=0) # base classifier\n",
    "past_clf = BaggingClassifier(dt_clf, n_estimators=500, max_samples=100, bootstrap=False, random_state=0)\n",
    "\n",
    "past_clf.fit(X_train, y_train)\n",
    "y_pred = past_clf.predict(X_test)"
   ]
  },
  {
   "cell_type": "code",
   "execution_count": 51,
   "metadata": {
    "colab": {
     "base_uri": "https://localhost:8080/",
     "height": 107
    },
    "colab_type": "code",
    "id": "WP_XN1HYCWJH",
    "outputId": "109aaebf-1af5-4f7d-b494-fbea06cc50ad"
   },
   "outputs": [
    {
     "name": "stderr",
     "output_type": "stream",
     "text": [
      "c:\\users\\lenovo\\appdata\\local\\programs\\python\\python37\\lib\\site-packages\\sklearn\\ensemble\\_bagging.py:645: DataConversionWarning: A column-vector y was passed when a 1d array was expected. Please change the shape of y to (n_samples, ), for example using ravel().\n",
      "  y = column_or_1d(y, warn=True)\n"
     ]
    },
    {
     "name": "stdout",
     "output_type": "stream",
     "text": [
      "Train score: 0.92\n",
      "Test score: 0.91\n"
     ]
    }
   ],
   "source": [
    "past_clf.fit(X_train, y_train)\n",
    "print('Train score: {:.2f}'.format(past_clf.score(X_train, y_train)))\n",
    "print('Test score: {:.2f}'.format(past_clf.score(X_test, y_test)))"
   ]
  },
  {
   "cell_type": "markdown",
   "metadata": {
    "colab_type": "text",
    "id": "DWD4uWoGCWJK"
   },
   "source": [
    "#### Pasting with SVC"
   ]
  },
  {
   "cell_type": "code",
   "execution_count": 52,
   "metadata": {
    "colab": {
     "base_uri": "https://localhost:8080/",
     "height": 72
    },
    "colab_type": "code",
    "id": "o8tZC0puCWJL",
    "outputId": "bf692386-606c-4263-befb-7384ca5d93f5"
   },
   "outputs": [
    {
     "name": "stderr",
     "output_type": "stream",
     "text": [
      "c:\\users\\lenovo\\appdata\\local\\programs\\python\\python37\\lib\\site-packages\\sklearn\\ensemble\\_bagging.py:645: DataConversionWarning: A column-vector y was passed when a 1d array was expected. Please change the shape of y to (n_samples, ), for example using ravel().\n",
      "  y = column_or_1d(y, warn=True)\n"
     ]
    }
   ],
   "source": [
    "from sklearn.svm import SVC\n",
    "from sklearn.model_selection import GridSearchCV\n",
    "from sklearn.svm import SVC\n",
    "\n",
    "SVC_clf= SVC(C=10, gamma = 0.1, kernel ='rbf', random_state=0)\n",
    "pasting_clf =  BaggingClassifier(SVC_clf, n_estimators=500, max_samples=100, bootstrap=False, random_state=0)\n",
    "\n",
    "\n",
    "pasting_clf.fit(X_train, y_train)\n",
    "y_pred = pasting_clf.predict(X_test)"
   ]
  },
  {
   "cell_type": "code",
   "execution_count": 53,
   "metadata": {
    "colab": {
     "base_uri": "https://localhost:8080/",
     "height": 107
    },
    "colab_type": "code",
    "id": "TPUVedknCWJO",
    "outputId": "815991dc-160f-406c-8de6-ceeaafc6d521"
   },
   "outputs": [
    {
     "name": "stderr",
     "output_type": "stream",
     "text": [
      "c:\\users\\lenovo\\appdata\\local\\programs\\python\\python37\\lib\\site-packages\\sklearn\\ensemble\\_bagging.py:645: DataConversionWarning: A column-vector y was passed when a 1d array was expected. Please change the shape of y to (n_samples, ), for example using ravel().\n",
      "  y = column_or_1d(y, warn=True)\n"
     ]
    },
    {
     "name": "stdout",
     "output_type": "stream",
     "text": [
      "Train score: 0.89\n",
      "Test score: 0.89\n"
     ]
    }
   ],
   "source": [
    "pasting_clf.fit(X_train, y_train)\n",
    "print('Train score: {:.2f}'.format(pasting_clf.score(X_train, y_train)))\n",
    "print('Test score: {:.2f}'.format(pasting_clf.score(X_test, y_test)))"
   ]
  },
  {
   "cell_type": "markdown",
   "metadata": {
    "colab_type": "text",
    "id": "muxbIMWTCWJQ"
   },
   "source": [
    "#### Adaboost"
   ]
  },
  {
   "cell_type": "markdown",
   "metadata": {
    "colab_type": "text",
    "id": "c77oS2BvCWJQ"
   },
   "source": [
    "##### With Decision Tree"
   ]
  },
  {
   "cell_type": "code",
   "execution_count": 54,
   "metadata": {
    "colab": {
     "base_uri": "https://localhost:8080/",
     "height": 72
    },
    "colab_type": "code",
    "id": "zuYbHJVvCWJQ",
    "outputId": "07128e3c-f92b-4426-baa7-7af6a9575cf5"
   },
   "outputs": [
    {
     "name": "stderr",
     "output_type": "stream",
     "text": [
      "c:\\users\\lenovo\\appdata\\local\\programs\\python\\python37\\lib\\site-packages\\sklearn\\utils\\validation.py:760: DataConversionWarning: A column-vector y was passed when a 1d array was expected. Please change the shape of y to (n_samples, ), for example using ravel().\n",
      "  y = column_or_1d(y, warn=True)\n"
     ]
    }
   ],
   "source": [
    "from sklearn.ensemble import AdaBoostClassifier\n",
    "\n",
    "ada_clf = AdaBoostClassifier(DecisionTreeClassifier(max_depth=5), n_estimators=200, algorithm=\"SAMME.R\", learning_rate=0.5, random_state=0)\n",
    "ada_dt=ada_clf.fit(X_train, y_train)"
   ]
  },
  {
   "cell_type": "code",
   "execution_count": 55,
   "metadata": {
    "colab": {
     "base_uri": "https://localhost:8080/",
     "height": 52
    },
    "colab_type": "code",
    "id": "Ji3JzNpoCWJT",
    "outputId": "5e0fb88b-f0e7-4418-ba6c-e58ed5ec2fcc"
   },
   "outputs": [
    {
     "name": "stdout",
     "output_type": "stream",
     "text": [
      "Train score: 1.00\n",
      "Test score: 0.95\n"
     ]
    }
   ],
   "source": [
    "print('Train score: {:.2f}'.format(ada_dt.score(X_train, y_train)))\n",
    "print('Test score: {:.2f}'.format(ada_dt.score(X_test, y_test)))"
   ]
  },
  {
   "cell_type": "markdown",
   "metadata": {
    "colab_type": "text",
    "id": "ScUBxAovCWJX"
   },
   "source": [
    "##### With SVC"
   ]
  },
  {
   "cell_type": "code",
   "execution_count": 56,
   "metadata": {
    "colab": {
     "base_uri": "https://localhost:8080/",
     "height": 72
    },
    "colab_type": "code",
    "id": "CzFYN9VmCWJY",
    "outputId": "fd8f98c3-db4e-4fa7-922c-60bcbdd17a9c"
   },
   "outputs": [
    {
     "name": "stderr",
     "output_type": "stream",
     "text": [
      "c:\\users\\lenovo\\appdata\\local\\programs\\python\\python37\\lib\\site-packages\\sklearn\\utils\\validation.py:760: DataConversionWarning: A column-vector y was passed when a 1d array was expected. Please change the shape of y to (n_samples, ), for example using ravel().\n",
      "  y = column_or_1d(y, warn=True)\n"
     ]
    }
   ],
   "source": [
    "from sklearn.ensemble import AdaBoostClassifier\n",
    "\n",
    "ada_clf = AdaBoostClassifier(SVC(C=10, gamma= 0.1, kernel='linear'), n_estimators=200, algorithm=\"SAMME\", learning_rate=0.5, random_state=0)\n",
    "ada_svc=ada_clf.fit(X_train, y_train)"
   ]
  },
  {
   "cell_type": "code",
   "execution_count": 57,
   "metadata": {
    "colab": {
     "base_uri": "https://localhost:8080/",
     "height": 52
    },
    "colab_type": "code",
    "id": "apC0FtMKCWJc",
    "outputId": "431c2ad5-83f1-49cd-b609-0f23123c2370"
   },
   "outputs": [
    {
     "name": "stdout",
     "output_type": "stream",
     "text": [
      "Train score: 0.87\n",
      "Test score: 0.87\n"
     ]
    }
   ],
   "source": [
    "print('Train score: {:.2f}'.format(ada_svc.score(X_train, y_train)))\n",
    "print('Test score: {:.2f}'.format(ada_svc.score(X_test, y_test)))"
   ]
  },
  {
   "cell_type": "code",
   "execution_count": 58,
   "metadata": {
    "colab": {},
    "colab_type": "code",
    "id": "vxjjij5SCWJf"
   },
   "outputs": [],
   "source": [
    "# We can see that Adaboost boosting with SVC doesnt work well for this model."
   ]
  },
  {
   "cell_type": "markdown",
   "metadata": {
    "colab_type": "text",
    "id": "KnuAVWKACWJj"
   },
   "source": [
    "#### Gradient Boosting"
   ]
  },
  {
   "cell_type": "code",
   "execution_count": 59,
   "metadata": {
    "colab": {
     "base_uri": "https://localhost:8080/",
     "height": 72
    },
    "colab_type": "code",
    "id": "qxD_gsnrCWJj",
    "outputId": "f62b7299-90a5-4195-93ad-12c19ca5a572"
   },
   "outputs": [
    {
     "name": "stderr",
     "output_type": "stream",
     "text": [
      "c:\\users\\lenovo\\appdata\\local\\programs\\python\\python37\\lib\\site-packages\\sklearn\\ensemble\\_gb.py:1454: DataConversionWarning: A column-vector y was passed when a 1d array was expected. Please change the shape of y to (n_samples, ), for example using ravel().\n",
      "  y = column_or_1d(y, warn=True)\n"
     ]
    }
   ],
   "source": [
    "from sklearn.ensemble import GradientBoostingClassifier\n",
    "\n",
    "gbrt = GradientBoostingClassifier(random_state=0, learning_rate=0.01)\n",
    "gb=gbrt.fit(X_train, y_train)"
   ]
  },
  {
   "cell_type": "code",
   "execution_count": 60,
   "metadata": {
    "colab": {
     "base_uri": "https://localhost:8080/",
     "height": 52
    },
    "colab_type": "code",
    "id": "GKUGbKr5CWJl",
    "outputId": "dbe353a4-51ca-4965-aaa8-198af748dd47"
   },
   "outputs": [
    {
     "name": "stdout",
     "output_type": "stream",
     "text": [
      "Train score: 0.90\n",
      "Test score: 0.90\n"
     ]
    }
   ],
   "source": [
    "print('Train score: {:.2f}'.format(gb.score(X_train, y_train)))\n",
    "print('Test score: {:.2f}'.format(gb.score(X_test, y_test)))"
   ]
  },
  {
   "cell_type": "code",
   "execution_count": 89,
   "metadata": {
    "colab": {
     "base_uri": "https://localhost:8080/",
     "height": 35
    },
    "colab_type": "code",
    "id": "AJgqE1zrCWJn",
    "outputId": "39beff2f-2e4c-4e23-dff4-7983ce1c926c"
   },
   "outputs": [
    {
     "data": {
      "application/javascript": [
       "/* Put everything inside the global mpl namespace */\n",
       "window.mpl = {};\n",
       "\n",
       "\n",
       "mpl.get_websocket_type = function() {\n",
       "    if (typeof(WebSocket) !== 'undefined') {\n",
       "        return WebSocket;\n",
       "    } else if (typeof(MozWebSocket) !== 'undefined') {\n",
       "        return MozWebSocket;\n",
       "    } else {\n",
       "        alert('Your browser does not have WebSocket support. ' +\n",
       "              'Please try Chrome, Safari or Firefox ≥ 6. ' +\n",
       "              'Firefox 4 and 5 are also supported but you ' +\n",
       "              'have to enable WebSockets in about:config.');\n",
       "    };\n",
       "}\n",
       "\n",
       "mpl.figure = function(figure_id, websocket, ondownload, parent_element) {\n",
       "    this.id = figure_id;\n",
       "\n",
       "    this.ws = websocket;\n",
       "\n",
       "    this.supports_binary = (this.ws.binaryType != undefined);\n",
       "\n",
       "    if (!this.supports_binary) {\n",
       "        var warnings = document.getElementById(\"mpl-warnings\");\n",
       "        if (warnings) {\n",
       "            warnings.style.display = 'block';\n",
       "            warnings.textContent = (\n",
       "                \"This browser does not support binary websocket messages. \" +\n",
       "                    \"Performance may be slow.\");\n",
       "        }\n",
       "    }\n",
       "\n",
       "    this.imageObj = new Image();\n",
       "\n",
       "    this.context = undefined;\n",
       "    this.message = undefined;\n",
       "    this.canvas = undefined;\n",
       "    this.rubberband_canvas = undefined;\n",
       "    this.rubberband_context = undefined;\n",
       "    this.format_dropdown = undefined;\n",
       "\n",
       "    this.image_mode = 'full';\n",
       "\n",
       "    this.root = $('<div/>');\n",
       "    this._root_extra_style(this.root)\n",
       "    this.root.attr('style', 'display: inline-block');\n",
       "\n",
       "    $(parent_element).append(this.root);\n",
       "\n",
       "    this._init_header(this);\n",
       "    this._init_canvas(this);\n",
       "    this._init_toolbar(this);\n",
       "\n",
       "    var fig = this;\n",
       "\n",
       "    this.waiting = false;\n",
       "\n",
       "    this.ws.onopen =  function () {\n",
       "            fig.send_message(\"supports_binary\", {value: fig.supports_binary});\n",
       "            fig.send_message(\"send_image_mode\", {});\n",
       "            if (mpl.ratio != 1) {\n",
       "                fig.send_message(\"set_dpi_ratio\", {'dpi_ratio': mpl.ratio});\n",
       "            }\n",
       "            fig.send_message(\"refresh\", {});\n",
       "        }\n",
       "\n",
       "    this.imageObj.onload = function() {\n",
       "            if (fig.image_mode == 'full') {\n",
       "                // Full images could contain transparency (where diff images\n",
       "                // almost always do), so we need to clear the canvas so that\n",
       "                // there is no ghosting.\n",
       "                fig.context.clearRect(0, 0, fig.canvas.width, fig.canvas.height);\n",
       "            }\n",
       "            fig.context.drawImage(fig.imageObj, 0, 0);\n",
       "        };\n",
       "\n",
       "    this.imageObj.onunload = function() {\n",
       "        fig.ws.close();\n",
       "    }\n",
       "\n",
       "    this.ws.onmessage = this._make_on_message_function(this);\n",
       "\n",
       "    this.ondownload = ondownload;\n",
       "}\n",
       "\n",
       "mpl.figure.prototype._init_header = function() {\n",
       "    var titlebar = $(\n",
       "        '<div class=\"ui-dialog-titlebar ui-widget-header ui-corner-all ' +\n",
       "        'ui-helper-clearfix\"/>');\n",
       "    var titletext = $(\n",
       "        '<div class=\"ui-dialog-title\" style=\"width: 100%; ' +\n",
       "        'text-align: center; padding: 3px;\"/>');\n",
       "    titlebar.append(titletext)\n",
       "    this.root.append(titlebar);\n",
       "    this.header = titletext[0];\n",
       "}\n",
       "\n",
       "\n",
       "\n",
       "mpl.figure.prototype._canvas_extra_style = function(canvas_div) {\n",
       "\n",
       "}\n",
       "\n",
       "\n",
       "mpl.figure.prototype._root_extra_style = function(canvas_div) {\n",
       "\n",
       "}\n",
       "\n",
       "mpl.figure.prototype._init_canvas = function() {\n",
       "    var fig = this;\n",
       "\n",
       "    var canvas_div = $('<div/>');\n",
       "\n",
       "    canvas_div.attr('style', 'position: relative; clear: both; outline: 0');\n",
       "\n",
       "    function canvas_keyboard_event(event) {\n",
       "        return fig.key_event(event, event['data']);\n",
       "    }\n",
       "\n",
       "    canvas_div.keydown('key_press', canvas_keyboard_event);\n",
       "    canvas_div.keyup('key_release', canvas_keyboard_event);\n",
       "    this.canvas_div = canvas_div\n",
       "    this._canvas_extra_style(canvas_div)\n",
       "    this.root.append(canvas_div);\n",
       "\n",
       "    var canvas = $('<canvas/>');\n",
       "    canvas.addClass('mpl-canvas');\n",
       "    canvas.attr('style', \"left: 0; top: 0; z-index: 0; outline: 0\")\n",
       "\n",
       "    this.canvas = canvas[0];\n",
       "    this.context = canvas[0].getContext(\"2d\");\n",
       "\n",
       "    var backingStore = this.context.backingStorePixelRatio ||\n",
       "\tthis.context.webkitBackingStorePixelRatio ||\n",
       "\tthis.context.mozBackingStorePixelRatio ||\n",
       "\tthis.context.msBackingStorePixelRatio ||\n",
       "\tthis.context.oBackingStorePixelRatio ||\n",
       "\tthis.context.backingStorePixelRatio || 1;\n",
       "\n",
       "    mpl.ratio = (window.devicePixelRatio || 1) / backingStore;\n",
       "\n",
       "    var rubberband = $('<canvas/>');\n",
       "    rubberband.attr('style', \"position: absolute; left: 0; top: 0; z-index: 1;\")\n",
       "\n",
       "    var pass_mouse_events = true;\n",
       "\n",
       "    canvas_div.resizable({\n",
       "        start: function(event, ui) {\n",
       "            pass_mouse_events = false;\n",
       "        },\n",
       "        resize: function(event, ui) {\n",
       "            fig.request_resize(ui.size.width, ui.size.height);\n",
       "        },\n",
       "        stop: function(event, ui) {\n",
       "            pass_mouse_events = true;\n",
       "            fig.request_resize(ui.size.width, ui.size.height);\n",
       "        },\n",
       "    });\n",
       "\n",
       "    function mouse_event_fn(event) {\n",
       "        if (pass_mouse_events)\n",
       "            return fig.mouse_event(event, event['data']);\n",
       "    }\n",
       "\n",
       "    rubberband.mousedown('button_press', mouse_event_fn);\n",
       "    rubberband.mouseup('button_release', mouse_event_fn);\n",
       "    // Throttle sequential mouse events to 1 every 20ms.\n",
       "    rubberband.mousemove('motion_notify', mouse_event_fn);\n",
       "\n",
       "    rubberband.mouseenter('figure_enter', mouse_event_fn);\n",
       "    rubberband.mouseleave('figure_leave', mouse_event_fn);\n",
       "\n",
       "    canvas_div.on(\"wheel\", function (event) {\n",
       "        event = event.originalEvent;\n",
       "        event['data'] = 'scroll'\n",
       "        if (event.deltaY < 0) {\n",
       "            event.step = 1;\n",
       "        } else {\n",
       "            event.step = -1;\n",
       "        }\n",
       "        mouse_event_fn(event);\n",
       "    });\n",
       "\n",
       "    canvas_div.append(canvas);\n",
       "    canvas_div.append(rubberband);\n",
       "\n",
       "    this.rubberband = rubberband;\n",
       "    this.rubberband_canvas = rubberband[0];\n",
       "    this.rubberband_context = rubberband[0].getContext(\"2d\");\n",
       "    this.rubberband_context.strokeStyle = \"#000000\";\n",
       "\n",
       "    this._resize_canvas = function(width, height) {\n",
       "        // Keep the size of the canvas, canvas container, and rubber band\n",
       "        // canvas in synch.\n",
       "        canvas_div.css('width', width)\n",
       "        canvas_div.css('height', height)\n",
       "\n",
       "        canvas.attr('width', width * mpl.ratio);\n",
       "        canvas.attr('height', height * mpl.ratio);\n",
       "        canvas.attr('style', 'width: ' + width + 'px; height: ' + height + 'px;');\n",
       "\n",
       "        rubberband.attr('width', width);\n",
       "        rubberband.attr('height', height);\n",
       "    }\n",
       "\n",
       "    // Set the figure to an initial 600x600px, this will subsequently be updated\n",
       "    // upon first draw.\n",
       "    this._resize_canvas(600, 600);\n",
       "\n",
       "    // Disable right mouse context menu.\n",
       "    $(this.rubberband_canvas).bind(\"contextmenu\",function(e){\n",
       "        return false;\n",
       "    });\n",
       "\n",
       "    function set_focus () {\n",
       "        canvas.focus();\n",
       "        canvas_div.focus();\n",
       "    }\n",
       "\n",
       "    window.setTimeout(set_focus, 100);\n",
       "}\n",
       "\n",
       "mpl.figure.prototype._init_toolbar = function() {\n",
       "    var fig = this;\n",
       "\n",
       "    var nav_element = $('<div/>');\n",
       "    nav_element.attr('style', 'width: 100%');\n",
       "    this.root.append(nav_element);\n",
       "\n",
       "    // Define a callback function for later on.\n",
       "    function toolbar_event(event) {\n",
       "        return fig.toolbar_button_onclick(event['data']);\n",
       "    }\n",
       "    function toolbar_mouse_event(event) {\n",
       "        return fig.toolbar_button_onmouseover(event['data']);\n",
       "    }\n",
       "\n",
       "    for(var toolbar_ind in mpl.toolbar_items) {\n",
       "        var name = mpl.toolbar_items[toolbar_ind][0];\n",
       "        var tooltip = mpl.toolbar_items[toolbar_ind][1];\n",
       "        var image = mpl.toolbar_items[toolbar_ind][2];\n",
       "        var method_name = mpl.toolbar_items[toolbar_ind][3];\n",
       "\n",
       "        if (!name) {\n",
       "            // put a spacer in here.\n",
       "            continue;\n",
       "        }\n",
       "        var button = $('<button/>');\n",
       "        button.addClass('ui-button ui-widget ui-state-default ui-corner-all ' +\n",
       "                        'ui-button-icon-only');\n",
       "        button.attr('role', 'button');\n",
       "        button.attr('aria-disabled', 'false');\n",
       "        button.click(method_name, toolbar_event);\n",
       "        button.mouseover(tooltip, toolbar_mouse_event);\n",
       "\n",
       "        var icon_img = $('<span/>');\n",
       "        icon_img.addClass('ui-button-icon-primary ui-icon');\n",
       "        icon_img.addClass(image);\n",
       "        icon_img.addClass('ui-corner-all');\n",
       "\n",
       "        var tooltip_span = $('<span/>');\n",
       "        tooltip_span.addClass('ui-button-text');\n",
       "        tooltip_span.html(tooltip);\n",
       "\n",
       "        button.append(icon_img);\n",
       "        button.append(tooltip_span);\n",
       "\n",
       "        nav_element.append(button);\n",
       "    }\n",
       "\n",
       "    var fmt_picker_span = $('<span/>');\n",
       "\n",
       "    var fmt_picker = $('<select/>');\n",
       "    fmt_picker.addClass('mpl-toolbar-option ui-widget ui-widget-content');\n",
       "    fmt_picker_span.append(fmt_picker);\n",
       "    nav_element.append(fmt_picker_span);\n",
       "    this.format_dropdown = fmt_picker[0];\n",
       "\n",
       "    for (var ind in mpl.extensions) {\n",
       "        var fmt = mpl.extensions[ind];\n",
       "        var option = $(\n",
       "            '<option/>', {selected: fmt === mpl.default_extension}).html(fmt);\n",
       "        fmt_picker.append(option);\n",
       "    }\n",
       "\n",
       "    // Add hover states to the ui-buttons\n",
       "    $( \".ui-button\" ).hover(\n",
       "        function() { $(this).addClass(\"ui-state-hover\");},\n",
       "        function() { $(this).removeClass(\"ui-state-hover\");}\n",
       "    );\n",
       "\n",
       "    var status_bar = $('<span class=\"mpl-message\"/>');\n",
       "    nav_element.append(status_bar);\n",
       "    this.message = status_bar[0];\n",
       "}\n",
       "\n",
       "mpl.figure.prototype.request_resize = function(x_pixels, y_pixels) {\n",
       "    // Request matplotlib to resize the figure. Matplotlib will then trigger a resize in the client,\n",
       "    // which will in turn request a refresh of the image.\n",
       "    this.send_message('resize', {'width': x_pixels, 'height': y_pixels});\n",
       "}\n",
       "\n",
       "mpl.figure.prototype.send_message = function(type, properties) {\n",
       "    properties['type'] = type;\n",
       "    properties['figure_id'] = this.id;\n",
       "    this.ws.send(JSON.stringify(properties));\n",
       "}\n",
       "\n",
       "mpl.figure.prototype.send_draw_message = function() {\n",
       "    if (!this.waiting) {\n",
       "        this.waiting = true;\n",
       "        this.ws.send(JSON.stringify({type: \"draw\", figure_id: this.id}));\n",
       "    }\n",
       "}\n",
       "\n",
       "\n",
       "mpl.figure.prototype.handle_save = function(fig, msg) {\n",
       "    var format_dropdown = fig.format_dropdown;\n",
       "    var format = format_dropdown.options[format_dropdown.selectedIndex].value;\n",
       "    fig.ondownload(fig, format);\n",
       "}\n",
       "\n",
       "\n",
       "mpl.figure.prototype.handle_resize = function(fig, msg) {\n",
       "    var size = msg['size'];\n",
       "    if (size[0] != fig.canvas.width || size[1] != fig.canvas.height) {\n",
       "        fig._resize_canvas(size[0], size[1]);\n",
       "        fig.send_message(\"refresh\", {});\n",
       "    };\n",
       "}\n",
       "\n",
       "mpl.figure.prototype.handle_rubberband = function(fig, msg) {\n",
       "    var x0 = msg['x0'] / mpl.ratio;\n",
       "    var y0 = (fig.canvas.height - msg['y0']) / mpl.ratio;\n",
       "    var x1 = msg['x1'] / mpl.ratio;\n",
       "    var y1 = (fig.canvas.height - msg['y1']) / mpl.ratio;\n",
       "    x0 = Math.floor(x0) + 0.5;\n",
       "    y0 = Math.floor(y0) + 0.5;\n",
       "    x1 = Math.floor(x1) + 0.5;\n",
       "    y1 = Math.floor(y1) + 0.5;\n",
       "    var min_x = Math.min(x0, x1);\n",
       "    var min_y = Math.min(y0, y1);\n",
       "    var width = Math.abs(x1 - x0);\n",
       "    var height = Math.abs(y1 - y0);\n",
       "\n",
       "    fig.rubberband_context.clearRect(\n",
       "        0, 0, fig.canvas.width / mpl.ratio, fig.canvas.height / mpl.ratio);\n",
       "\n",
       "    fig.rubberband_context.strokeRect(min_x, min_y, width, height);\n",
       "}\n",
       "\n",
       "mpl.figure.prototype.handle_figure_label = function(fig, msg) {\n",
       "    // Updates the figure title.\n",
       "    fig.header.textContent = msg['label'];\n",
       "}\n",
       "\n",
       "mpl.figure.prototype.handle_cursor = function(fig, msg) {\n",
       "    var cursor = msg['cursor'];\n",
       "    switch(cursor)\n",
       "    {\n",
       "    case 0:\n",
       "        cursor = 'pointer';\n",
       "        break;\n",
       "    case 1:\n",
       "        cursor = 'default';\n",
       "        break;\n",
       "    case 2:\n",
       "        cursor = 'crosshair';\n",
       "        break;\n",
       "    case 3:\n",
       "        cursor = 'move';\n",
       "        break;\n",
       "    }\n",
       "    fig.rubberband_canvas.style.cursor = cursor;\n",
       "}\n",
       "\n",
       "mpl.figure.prototype.handle_message = function(fig, msg) {\n",
       "    fig.message.textContent = msg['message'];\n",
       "}\n",
       "\n",
       "mpl.figure.prototype.handle_draw = function(fig, msg) {\n",
       "    // Request the server to send over a new figure.\n",
       "    fig.send_draw_message();\n",
       "}\n",
       "\n",
       "mpl.figure.prototype.handle_image_mode = function(fig, msg) {\n",
       "    fig.image_mode = msg['mode'];\n",
       "}\n",
       "\n",
       "mpl.figure.prototype.updated_canvas_event = function() {\n",
       "    // Called whenever the canvas gets updated.\n",
       "    this.send_message(\"ack\", {});\n",
       "}\n",
       "\n",
       "// A function to construct a web socket function for onmessage handling.\n",
       "// Called in the figure constructor.\n",
       "mpl.figure.prototype._make_on_message_function = function(fig) {\n",
       "    return function socket_on_message(evt) {\n",
       "        if (evt.data instanceof Blob) {\n",
       "            /* FIXME: We get \"Resource interpreted as Image but\n",
       "             * transferred with MIME type text/plain:\" errors on\n",
       "             * Chrome.  But how to set the MIME type?  It doesn't seem\n",
       "             * to be part of the websocket stream */\n",
       "            evt.data.type = \"image/png\";\n",
       "\n",
       "            /* Free the memory for the previous frames */\n",
       "            if (fig.imageObj.src) {\n",
       "                (window.URL || window.webkitURL).revokeObjectURL(\n",
       "                    fig.imageObj.src);\n",
       "            }\n",
       "\n",
       "            fig.imageObj.src = (window.URL || window.webkitURL).createObjectURL(\n",
       "                evt.data);\n",
       "            fig.updated_canvas_event();\n",
       "            fig.waiting = false;\n",
       "            return;\n",
       "        }\n",
       "        else if (typeof evt.data === 'string' && evt.data.slice(0, 21) == \"data:image/png;base64\") {\n",
       "            fig.imageObj.src = evt.data;\n",
       "            fig.updated_canvas_event();\n",
       "            fig.waiting = false;\n",
       "            return;\n",
       "        }\n",
       "\n",
       "        var msg = JSON.parse(evt.data);\n",
       "        var msg_type = msg['type'];\n",
       "\n",
       "        // Call the  \"handle_{type}\" callback, which takes\n",
       "        // the figure and JSON message as its only arguments.\n",
       "        try {\n",
       "            var callback = fig[\"handle_\" + msg_type];\n",
       "        } catch (e) {\n",
       "            console.log(\"No handler for the '\" + msg_type + \"' message type: \", msg);\n",
       "            return;\n",
       "        }\n",
       "\n",
       "        if (callback) {\n",
       "            try {\n",
       "                // console.log(\"Handling '\" + msg_type + \"' message: \", msg);\n",
       "                callback(fig, msg);\n",
       "            } catch (e) {\n",
       "                console.log(\"Exception inside the 'handler_\" + msg_type + \"' callback:\", e, e.stack, msg);\n",
       "            }\n",
       "        }\n",
       "    };\n",
       "}\n",
       "\n",
       "// from http://stackoverflow.com/questions/1114465/getting-mouse-location-in-canvas\n",
       "mpl.findpos = function(e) {\n",
       "    //this section is from http://www.quirksmode.org/js/events_properties.html\n",
       "    var targ;\n",
       "    if (!e)\n",
       "        e = window.event;\n",
       "    if (e.target)\n",
       "        targ = e.target;\n",
       "    else if (e.srcElement)\n",
       "        targ = e.srcElement;\n",
       "    if (targ.nodeType == 3) // defeat Safari bug\n",
       "        targ = targ.parentNode;\n",
       "\n",
       "    // jQuery normalizes the pageX and pageY\n",
       "    // pageX,Y are the mouse positions relative to the document\n",
       "    // offset() returns the position of the element relative to the document\n",
       "    var x = e.pageX - $(targ).offset().left;\n",
       "    var y = e.pageY - $(targ).offset().top;\n",
       "\n",
       "    return {\"x\": x, \"y\": y};\n",
       "};\n",
       "\n",
       "/*\n",
       " * return a copy of an object with only non-object keys\n",
       " * we need this to avoid circular references\n",
       " * http://stackoverflow.com/a/24161582/3208463\n",
       " */\n",
       "function simpleKeys (original) {\n",
       "  return Object.keys(original).reduce(function (obj, key) {\n",
       "    if (typeof original[key] !== 'object')\n",
       "        obj[key] = original[key]\n",
       "    return obj;\n",
       "  }, {});\n",
       "}\n",
       "\n",
       "mpl.figure.prototype.mouse_event = function(event, name) {\n",
       "    var canvas_pos = mpl.findpos(event)\n",
       "\n",
       "    if (name === 'button_press')\n",
       "    {\n",
       "        this.canvas.focus();\n",
       "        this.canvas_div.focus();\n",
       "    }\n",
       "\n",
       "    var x = canvas_pos.x * mpl.ratio;\n",
       "    var y = canvas_pos.y * mpl.ratio;\n",
       "\n",
       "    this.send_message(name, {x: x, y: y, button: event.button,\n",
       "                             step: event.step,\n",
       "                             guiEvent: simpleKeys(event)});\n",
       "\n",
       "    /* This prevents the web browser from automatically changing to\n",
       "     * the text insertion cursor when the button is pressed.  We want\n",
       "     * to control all of the cursor setting manually through the\n",
       "     * 'cursor' event from matplotlib */\n",
       "    event.preventDefault();\n",
       "    return false;\n",
       "}\n",
       "\n",
       "mpl.figure.prototype._key_event_extra = function(event, name) {\n",
       "    // Handle any extra behaviour associated with a key event\n",
       "}\n",
       "\n",
       "mpl.figure.prototype.key_event = function(event, name) {\n",
       "\n",
       "    // Prevent repeat events\n",
       "    if (name == 'key_press')\n",
       "    {\n",
       "        if (event.which === this._key)\n",
       "            return;\n",
       "        else\n",
       "            this._key = event.which;\n",
       "    }\n",
       "    if (name == 'key_release')\n",
       "        this._key = null;\n",
       "\n",
       "    var value = '';\n",
       "    if (event.ctrlKey && event.which != 17)\n",
       "        value += \"ctrl+\";\n",
       "    if (event.altKey && event.which != 18)\n",
       "        value += \"alt+\";\n",
       "    if (event.shiftKey && event.which != 16)\n",
       "        value += \"shift+\";\n",
       "\n",
       "    value += 'k';\n",
       "    value += event.which.toString();\n",
       "\n",
       "    this._key_event_extra(event, name);\n",
       "\n",
       "    this.send_message(name, {key: value,\n",
       "                             guiEvent: simpleKeys(event)});\n",
       "    return false;\n",
       "}\n",
       "\n",
       "mpl.figure.prototype.toolbar_button_onclick = function(name) {\n",
       "    if (name == 'download') {\n",
       "        this.handle_save(this, null);\n",
       "    } else {\n",
       "        this.send_message(\"toolbar_button\", {name: name});\n",
       "    }\n",
       "};\n",
       "\n",
       "mpl.figure.prototype.toolbar_button_onmouseover = function(tooltip) {\n",
       "    this.message.textContent = tooltip;\n",
       "};\n",
       "mpl.toolbar_items = [[\"Home\", \"Reset original view\", \"fa fa-home icon-home\", \"home\"], [\"Back\", \"Back to previous view\", \"fa fa-arrow-left icon-arrow-left\", \"back\"], [\"Forward\", \"Forward to next view\", \"fa fa-arrow-right icon-arrow-right\", \"forward\"], [\"\", \"\", \"\", \"\"], [\"Pan\", \"Pan axes with left mouse, zoom with right\", \"fa fa-arrows icon-move\", \"pan\"], [\"Zoom\", \"Zoom to rectangle\", \"fa fa-square-o icon-check-empty\", \"zoom\"], [\"\", \"\", \"\", \"\"], [\"Download\", \"Download plot\", \"fa fa-floppy-o icon-save\", \"download\"]];\n",
       "\n",
       "mpl.extensions = [\"eps\", \"pdf\", \"png\", \"ps\", \"raw\", \"svg\"];\n",
       "\n",
       "mpl.default_extension = \"png\";var comm_websocket_adapter = function(comm) {\n",
       "    // Create a \"websocket\"-like object which calls the given IPython comm\n",
       "    // object with the appropriate methods. Currently this is a non binary\n",
       "    // socket, so there is still some room for performance tuning.\n",
       "    var ws = {};\n",
       "\n",
       "    ws.close = function() {\n",
       "        comm.close()\n",
       "    };\n",
       "    ws.send = function(m) {\n",
       "        //console.log('sending', m);\n",
       "        comm.send(m);\n",
       "    };\n",
       "    // Register the callback with on_msg.\n",
       "    comm.on_msg(function(msg) {\n",
       "        //console.log('receiving', msg['content']['data'], msg);\n",
       "        // Pass the mpl event to the overridden (by mpl) onmessage function.\n",
       "        ws.onmessage(msg['content']['data'])\n",
       "    });\n",
       "    return ws;\n",
       "}\n",
       "\n",
       "mpl.mpl_figure_comm = function(comm, msg) {\n",
       "    // This is the function which gets called when the mpl process\n",
       "    // starts-up an IPython Comm through the \"matplotlib\" channel.\n",
       "\n",
       "    var id = msg.content.data.id;\n",
       "    // Get hold of the div created by the display call when the Comm\n",
       "    // socket was opened in Python.\n",
       "    var element = $(\"#\" + id);\n",
       "    var ws_proxy = comm_websocket_adapter(comm)\n",
       "\n",
       "    function ondownload(figure, format) {\n",
       "        window.open(figure.imageObj.src);\n",
       "    }\n",
       "\n",
       "    var fig = new mpl.figure(id, ws_proxy,\n",
       "                           ondownload,\n",
       "                           element.get(0));\n",
       "\n",
       "    // Call onopen now - mpl needs it, as it is assuming we've passed it a real\n",
       "    // web socket which is closed, not our websocket->open comm proxy.\n",
       "    ws_proxy.onopen();\n",
       "\n",
       "    fig.parent_element = element.get(0);\n",
       "    fig.cell_info = mpl.find_output_cell(\"<div id='\" + id + \"'></div>\");\n",
       "    if (!fig.cell_info) {\n",
       "        console.error(\"Failed to find cell for figure\", id, fig);\n",
       "        return;\n",
       "    }\n",
       "\n",
       "    var output_index = fig.cell_info[2]\n",
       "    var cell = fig.cell_info[0];\n",
       "\n",
       "};\n",
       "\n",
       "mpl.figure.prototype.handle_close = function(fig, msg) {\n",
       "    var width = fig.canvas.width/mpl.ratio\n",
       "    fig.root.unbind('remove')\n",
       "\n",
       "    // Update the output cell to use the data from the current canvas.\n",
       "    fig.push_to_output();\n",
       "    var dataURL = fig.canvas.toDataURL();\n",
       "    // Re-enable the keyboard manager in IPython - without this line, in FF,\n",
       "    // the notebook keyboard shortcuts fail.\n",
       "    IPython.keyboard_manager.enable()\n",
       "    $(fig.parent_element).html('<img src=\"' + dataURL + '\" width=\"' + width + '\">');\n",
       "    fig.close_ws(fig, msg);\n",
       "}\n",
       "\n",
       "mpl.figure.prototype.close_ws = function(fig, msg){\n",
       "    fig.send_message('closing', msg);\n",
       "    // fig.ws.close()\n",
       "}\n",
       "\n",
       "mpl.figure.prototype.push_to_output = function(remove_interactive) {\n",
       "    // Turn the data on the canvas into data in the output cell.\n",
       "    var width = this.canvas.width/mpl.ratio\n",
       "    var dataURL = this.canvas.toDataURL();\n",
       "    this.cell_info[1]['text/html'] = '<img src=\"' + dataURL + '\" width=\"' + width + '\">';\n",
       "}\n",
       "\n",
       "mpl.figure.prototype.updated_canvas_event = function() {\n",
       "    // Tell IPython that the notebook contents must change.\n",
       "    IPython.notebook.set_dirty(true);\n",
       "    this.send_message(\"ack\", {});\n",
       "    var fig = this;\n",
       "    // Wait a second, then push the new image to the DOM so\n",
       "    // that it is saved nicely (might be nice to debounce this).\n",
       "    setTimeout(function () { fig.push_to_output() }, 1000);\n",
       "}\n",
       "\n",
       "mpl.figure.prototype._init_toolbar = function() {\n",
       "    var fig = this;\n",
       "\n",
       "    var nav_element = $('<div/>');\n",
       "    nav_element.attr('style', 'width: 100%');\n",
       "    this.root.append(nav_element);\n",
       "\n",
       "    // Define a callback function for later on.\n",
       "    function toolbar_event(event) {\n",
       "        return fig.toolbar_button_onclick(event['data']);\n",
       "    }\n",
       "    function toolbar_mouse_event(event) {\n",
       "        return fig.toolbar_button_onmouseover(event['data']);\n",
       "    }\n",
       "\n",
       "    for(var toolbar_ind in mpl.toolbar_items){\n",
       "        var name = mpl.toolbar_items[toolbar_ind][0];\n",
       "        var tooltip = mpl.toolbar_items[toolbar_ind][1];\n",
       "        var image = mpl.toolbar_items[toolbar_ind][2];\n",
       "        var method_name = mpl.toolbar_items[toolbar_ind][3];\n",
       "\n",
       "        if (!name) { continue; };\n",
       "\n",
       "        var button = $('<button class=\"btn btn-default\" href=\"#\" title=\"' + name + '\"><i class=\"fa ' + image + ' fa-lg\"></i></button>');\n",
       "        button.click(method_name, toolbar_event);\n",
       "        button.mouseover(tooltip, toolbar_mouse_event);\n",
       "        nav_element.append(button);\n",
       "    }\n",
       "\n",
       "    // Add the status bar.\n",
       "    var status_bar = $('<span class=\"mpl-message\" style=\"text-align:right; float: right;\"/>');\n",
       "    nav_element.append(status_bar);\n",
       "    this.message = status_bar[0];\n",
       "\n",
       "    // Add the close button to the window.\n",
       "    var buttongrp = $('<div class=\"btn-group inline pull-right\"></div>');\n",
       "    var button = $('<button class=\"btn btn-mini btn-primary\" href=\"#\" title=\"Stop Interaction\"><i class=\"fa fa-power-off icon-remove icon-large\"></i></button>');\n",
       "    button.click(function (evt) { fig.handle_close(fig, {}); } );\n",
       "    button.mouseover('Stop Interaction', toolbar_mouse_event);\n",
       "    buttongrp.append(button);\n",
       "    var titlebar = this.root.find($('.ui-dialog-titlebar'));\n",
       "    titlebar.prepend(buttongrp);\n",
       "}\n",
       "\n",
       "mpl.figure.prototype._root_extra_style = function(el){\n",
       "    var fig = this\n",
       "    el.on(\"remove\", function(){\n",
       "\tfig.close_ws(fig, {});\n",
       "    });\n",
       "}\n",
       "\n",
       "mpl.figure.prototype._canvas_extra_style = function(el){\n",
       "    // this is important to make the div 'focusable\n",
       "    el.attr('tabindex', 0)\n",
       "    // reach out to IPython and tell the keyboard manager to turn it's self\n",
       "    // off when our div gets focus\n",
       "\n",
       "    // location in version 3\n",
       "    if (IPython.notebook.keyboard_manager) {\n",
       "        IPython.notebook.keyboard_manager.register_events(el);\n",
       "    }\n",
       "    else {\n",
       "        // location in version 2\n",
       "        IPython.keyboard_manager.register_events(el);\n",
       "    }\n",
       "\n",
       "}\n",
       "\n",
       "mpl.figure.prototype._key_event_extra = function(event, name) {\n",
       "    var manager = IPython.notebook.keyboard_manager;\n",
       "    if (!manager)\n",
       "        manager = IPython.keyboard_manager;\n",
       "\n",
       "    // Check for shift+enter\n",
       "    if (event.shiftKey && event.which == 13) {\n",
       "        this.canvas_div.blur();\n",
       "        // select the cell after this one\n",
       "        var index = IPython.notebook.find_cell_index(this.cell_info[0]);\n",
       "        IPython.notebook.select(index + 1);\n",
       "    }\n",
       "}\n",
       "\n",
       "mpl.figure.prototype.handle_save = function(fig, msg) {\n",
       "    fig.ondownload(fig, null);\n",
       "}\n",
       "\n",
       "\n",
       "mpl.find_output_cell = function(html_output) {\n",
       "    // Return the cell and output element which can be found *uniquely* in the notebook.\n",
       "    // Note - this is a bit hacky, but it is done because the \"notebook_saving.Notebook\"\n",
       "    // IPython event is triggered only after the cells have been serialised, which for\n",
       "    // our purposes (turning an active figure into a static one), is too late.\n",
       "    var cells = IPython.notebook.get_cells();\n",
       "    var ncells = cells.length;\n",
       "    for (var i=0; i<ncells; i++) {\n",
       "        var cell = cells[i];\n",
       "        if (cell.cell_type === 'code'){\n",
       "            for (var j=0; j<cell.output_area.outputs.length; j++) {\n",
       "                var data = cell.output_area.outputs[j];\n",
       "                if (data.data) {\n",
       "                    // IPython >= 3 moved mimebundle to data attribute of output\n",
       "                    data = data.data;\n",
       "                }\n",
       "                if (data['text/html'] == html_output) {\n",
       "                    return [cell, data, j];\n",
       "                }\n",
       "            }\n",
       "        }\n",
       "    }\n",
       "}\n",
       "\n",
       "// Register the function which deals with the matplotlib target/channel.\n",
       "// The kernel may be null if the page has been refreshed.\n",
       "if (IPython.notebook.kernel != null) {\n",
       "    IPython.notebook.kernel.comm_manager.register_target('matplotlib', mpl.mpl_figure_comm);\n",
       "}\n"
      ],
      "text/plain": [
       "<IPython.core.display.Javascript object>"
      ]
     },
     "metadata": {},
     "output_type": "display_data"
    },
    {
     "data": {
      "text/html": [
       "<img src=\"data:image/png;base64,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\" width=\"500\">"
      ],
      "text/plain": [
       "<IPython.core.display.HTML object>"
      ]
     },
     "metadata": {},
     "output_type": "display_data"
    },
    {
     "data": {
      "text/plain": [
       "<BarContainer object of 24 artists>"
      ]
     },
     "execution_count": 89,
     "metadata": {},
     "output_type": "execute_result"
    }
   ],
   "source": [
    "%matplotlib notebook\n",
    "\n",
    "from matplotlib import rcParams\n",
    "rcParams.update({'figure.autolayout': True})\n",
    "y_list = gbrt.feature_importances_\n",
    "y_pos = np.arange(len(y_list))\n",
    "features = df.columns\n",
    "plt.figure(figsize=(5,5))\n",
    "plt.tight_layout()\n",
    "plt.barh(features, y_list, align='center', alpha=0.8)"
   ]
  },
  {
   "cell_type": "markdown",
   "metadata": {
    "colab_type": "text",
    "id": "_AZMk1HjCWJo"
   },
   "source": [
    "### Principal Component Analysis"
   ]
  },
  {
   "cell_type": "markdown",
   "metadata": {
    "colab_type": "text",
    "id": "qBvbLkvCCWJp"
   },
   "source": [
    "##### With 95% variance explained, Train and Test datasets were transformed."
   ]
  },
  {
   "cell_type": "code",
   "execution_count": 62,
   "metadata": {
    "colab": {},
    "colab_type": "code",
    "id": "IpIKulVuCWJp"
   },
   "outputs": [],
   "source": [
    "from sklearn.decomposition import PCA\n",
    "pca = PCA(.95)\n",
    "pca.fit(X_train)\n",
    "X_train_pca = pca.transform(X_train)\n",
    "X_test_pca = pca.transform(X_test)"
   ]
  },
  {
   "cell_type": "code",
   "execution_count": null,
   "metadata": {
    "colab": {},
    "colab_type": "code",
    "id": "MFJCaw5_CWJq"
   },
   "outputs": [],
   "source": []
  },
  {
   "cell_type": "code",
   "execution_count": 63,
   "metadata": {
    "colab": {
     "base_uri": "https://localhost:8080/",
     "height": 69
    },
    "colab_type": "code",
    "id": "VmfWzhNmCWJs",
    "outputId": "76f04f5c-bb3a-4187-f0fb-ceeb12cffa3d"
   },
   "outputs": [
    {
     "name": "stdout",
     "output_type": "stream",
     "text": [
      "\n",
      "Post PCA Transformation :\n",
      "New dimension for the datasets is : 16\n"
     ]
    }
   ],
   "source": [
    "print(\"\\nPost PCA Transformation :\")\n",
    "print(\"New dimension for the datasets is :\",X_train_pca.shape[1])"
   ]
  },
  {
   "cell_type": "markdown",
   "metadata": {
    "colab_type": "text",
    "id": "wIYr3P9SCWJv"
   },
   "source": [
    "### <font color='red'> Models from Project 1 with PCA transformed 16 dimensions:\n",
    "-Taking only grid searched optimum parameters and re executing all the models below."
   ]
  },
  {
   "cell_type": "markdown",
   "metadata": {
    "colab_type": "text",
    "id": "QF1pT1ItCWJv"
   },
   "source": [
    "#### Linear SVC"
   ]
  },
  {
   "cell_type": "code",
   "execution_count": 64,
   "metadata": {
    "colab": {
     "base_uri": "https://localhost:8080/",
     "height": 245
    },
    "colab_type": "code",
    "id": "9ITjQvXPCWJw",
    "outputId": "db606cd8-4783-47c6-9ee5-adce7472d665"
   },
   "outputs": [
    {
     "name": "stderr",
     "output_type": "stream",
     "text": [
      "c:\\users\\lenovo\\appdata\\local\\programs\\python\\python37\\lib\\site-packages\\sklearn\\utils\\validation.py:760: DataConversionWarning: A column-vector y was passed when a 1d array was expected. Please change the shape of y to (n_samples, ), for example using ravel().\n",
      "  y = column_or_1d(y, warn=True)\n",
      "c:\\users\\lenovo\\appdata\\local\\programs\\python\\python37\\lib\\site-packages\\sklearn\\utils\\validation.py:760: DataConversionWarning: A column-vector y was passed when a 1d array was expected. Please change the shape of y to (n_samples, ), for example using ravel().\n",
      "  y = column_or_1d(y, warn=True)\n",
      "c:\\users\\lenovo\\appdata\\local\\programs\\python\\python37\\lib\\site-packages\\sklearn\\utils\\validation.py:760: DataConversionWarning: A column-vector y was passed when a 1d array was expected. Please change the shape of y to (n_samples, ), for example using ravel().\n",
      "  y = column_or_1d(y, warn=True)\n",
      "c:\\users\\lenovo\\appdata\\local\\programs\\python\\python37\\lib\\site-packages\\sklearn\\utils\\validation.py:760: DataConversionWarning: A column-vector y was passed when a 1d array was expected. Please change the shape of y to (n_samples, ), for example using ravel().\n",
      "  y = column_or_1d(y, warn=True)\n",
      "c:\\users\\lenovo\\appdata\\local\\programs\\python\\python37\\lib\\site-packages\\sklearn\\utils\\validation.py:760: DataConversionWarning: A column-vector y was passed when a 1d array was expected. Please change the shape of y to (n_samples, ), for example using ravel().\n",
      "  y = column_or_1d(y, warn=True)\n",
      "c:\\users\\lenovo\\appdata\\local\\programs\\python\\python37\\lib\\site-packages\\sklearn\\utils\\validation.py:760: DataConversionWarning: A column-vector y was passed when a 1d array was expected. Please change the shape of y to (n_samples, ), for example using ravel().\n",
      "  y = column_or_1d(y, warn=True)\n"
     ]
    }
   ],
   "source": [
    "param_grid = {}\n",
    "\n",
    "from sklearn.model_selection import GridSearchCV\n",
    "from sklearn.svm import LinearSVC\n",
    "grid_search = GridSearchCV(LinearSVC(), param_grid, cv=5, return_train_score=True)\n",
    "\n",
    "grid_search.fit(X_train_pca, y_train)\n",
    "\n",
    "lSVC_train_score_pca=grid_search.score(X_train_pca,y_train)\n",
    "lSVC_test_score_pca=grid_search.score(X_test_pca,y_test)"
   ]
  },
  {
   "cell_type": "code",
   "execution_count": 65,
   "metadata": {
    "colab": {
     "base_uri": "https://localhost:8080/",
     "height": 52
    },
    "colab_type": "code",
    "id": "3i8S7aYECWJz",
    "outputId": "0bbe57b7-4dbf-4f22-8505-91966566edcd"
   },
   "outputs": [
    {
     "name": "stdout",
     "output_type": "stream",
     "text": [
      "Train score:  0.871779078123396\n",
      "Test score:  0.8768093624884509\n"
     ]
    }
   ],
   "source": [
    "print (\"Train score: \", lSVC_train_score_pca)\n",
    "print (\"Test score: \", lSVC_test_score_pca)"
   ]
  },
  {
   "cell_type": "markdown",
   "metadata": {
    "colab_type": "text",
    "id": "tmy4bz7aCWJ1"
   },
   "source": [
    "#### SVC rbf Kernel"
   ]
  },
  {
   "cell_type": "code",
   "execution_count": 66,
   "metadata": {
    "colab": {},
    "colab_type": "code",
    "id": "r4VurbidCWJ1"
   },
   "outputs": [],
   "source": [
    "param_grid = {'C': [100],\n",
    "              'gamma': [0.1],'kernel':['rbf']}"
   ]
  },
  {
   "cell_type": "code",
   "execution_count": 67,
   "metadata": {
    "colab": {
     "base_uri": "https://localhost:8080/",
     "height": 176
    },
    "colab_type": "code",
    "id": "68rjzr0CCWJ2",
    "outputId": "6532ebed-78cb-49ae-e8be-d6780621e3c7"
   },
   "outputs": [
    {
     "name": "stdout",
     "output_type": "stream",
     "text": [
      "Fitting 5 folds for each of 1 candidates, totalling 5 fits\n"
     ]
    },
    {
     "name": "stderr",
     "output_type": "stream",
     "text": [
      "[Parallel(n_jobs=5)]: Using backend LokyBackend with 5 concurrent workers.\n",
      "[Parallel(n_jobs=5)]: Done   2 out of   5 | elapsed:    8.3s remaining:   12.4s\n",
      "[Parallel(n_jobs=5)]: Done   3 out of   5 | elapsed:    8.3s remaining:    5.5s\n",
      "[Parallel(n_jobs=5)]: Done   5 out of   5 | elapsed:    8.5s remaining:    0.0s\n",
      "[Parallel(n_jobs=5)]: Done   5 out of   5 | elapsed:    8.5s finished\n",
      "c:\\users\\lenovo\\appdata\\local\\programs\\python\\python37\\lib\\site-packages\\sklearn\\utils\\validation.py:760: DataConversionWarning: A column-vector y was passed when a 1d array was expected. Please change the shape of y to (n_samples, ), for example using ravel().\n",
      "  y = column_or_1d(y, warn=True)\n"
     ]
    }
   ],
   "source": [
    "from sklearn.model_selection import GridSearchCV\n",
    "from sklearn.svm import SVC\n",
    "grid_search = GridSearchCV(SVC(), param_grid, cv=5, return_train_score=True,verbose=10,n_jobs=5)\n",
    "\n",
    "grid_search.fit(X_train_pca, y_train)\n",
    "\n",
    "SVC_train_score=grid_search.score(X_train_pca, y_train)\n",
    "SVC_test_score=grid_search.score(X_test_pca, y_test)\n",
    "\n"
   ]
  },
  {
   "cell_type": "code",
   "execution_count": 68,
   "metadata": {
    "colab": {
     "base_uri": "https://localhost:8080/",
     "height": 35
    },
    "colab_type": "code",
    "id": "Q_BRrR9eCWJ4",
    "outputId": "7c3437f4-f2a7-4715-9ada-e62bb8e77d07"
   },
   "outputs": [
    {
     "name": "stdout",
     "output_type": "stream",
     "text": [
      "0.9484652499743352 0.927317523868186\n"
     ]
    }
   ],
   "source": [
    "print(SVC_train_score, SVC_test_score)"
   ]
  },
  {
   "cell_type": "markdown",
   "metadata": {
    "colab_type": "text",
    "id": "uYgGQiEQCWKB"
   },
   "source": [
    "#### Logistic Regression with Grid Search"
   ]
  },
  {
   "cell_type": "code",
   "execution_count": 69,
   "metadata": {
    "colab": {
     "base_uri": "https://localhost:8080/",
     "height": 401
    },
    "colab_type": "code",
    "id": "86uqNCRRCWKG",
    "outputId": "9237c25d-84ab-420d-a701-4d59cad2bcc5"
   },
   "outputs": [
    {
     "name": "stderr",
     "output_type": "stream",
     "text": [
      "c:\\users\\lenovo\\appdata\\local\\programs\\python\\python37\\lib\\site-packages\\sklearn\\utils\\validation.py:760: DataConversionWarning: A column-vector y was passed when a 1d array was expected. Please change the shape of y to (n_samples, ), for example using ravel().\n",
      "  y = column_or_1d(y, warn=True)\n",
      "c:\\users\\lenovo\\appdata\\local\\programs\\python\\python37\\lib\\site-packages\\sklearn\\utils\\validation.py:760: DataConversionWarning: A column-vector y was passed when a 1d array was expected. Please change the shape of y to (n_samples, ), for example using ravel().\n",
      "  y = column_or_1d(y, warn=True)\n",
      "c:\\users\\lenovo\\appdata\\local\\programs\\python\\python37\\lib\\site-packages\\sklearn\\utils\\validation.py:760: DataConversionWarning: A column-vector y was passed when a 1d array was expected. Please change the shape of y to (n_samples, ), for example using ravel().\n",
      "  y = column_or_1d(y, warn=True)\n",
      "c:\\users\\lenovo\\appdata\\local\\programs\\python\\python37\\lib\\site-packages\\sklearn\\utils\\validation.py:760: DataConversionWarning: A column-vector y was passed when a 1d array was expected. Please change the shape of y to (n_samples, ), for example using ravel().\n",
      "  y = column_or_1d(y, warn=True)\n",
      "c:\\users\\lenovo\\appdata\\local\\programs\\python\\python37\\lib\\site-packages\\sklearn\\utils\\validation.py:760: DataConversionWarning: A column-vector y was passed when a 1d array was expected. Please change the shape of y to (n_samples, ), for example using ravel().\n",
      "  y = column_or_1d(y, warn=True)\n",
      "c:\\users\\lenovo\\appdata\\local\\programs\\python\\python37\\lib\\site-packages\\sklearn\\utils\\validation.py:760: DataConversionWarning: A column-vector y was passed when a 1d array was expected. Please change the shape of y to (n_samples, ), for example using ravel().\n",
      "  y = column_or_1d(y, warn=True)\n",
      "c:\\users\\lenovo\\appdata\\local\\programs\\python\\python37\\lib\\site-packages\\sklearn\\utils\\validation.py:760: DataConversionWarning: A column-vector y was passed when a 1d array was expected. Please change the shape of y to (n_samples, ), for example using ravel().\n",
      "  y = column_or_1d(y, warn=True)\n"
     ]
    },
    {
     "name": "stdout",
     "output_type": "stream",
     "text": [
      "{'C': 1}\n",
      "0.8716749063590828\n",
      "<function _passthrough_scorer at 0x0000028A2B45FC18>\n"
     ]
    },
    {
     "name": "stderr",
     "output_type": "stream",
     "text": [
      "c:\\users\\lenovo\\appdata\\local\\programs\\python\\python37\\lib\\site-packages\\sklearn\\model_selection\\_search.py:823: FutureWarning: The parameter 'iid' is deprecated in 0.22 and will be removed in 0.24.\n",
      "  \"removed in 0.24.\", FutureWarning\n",
      "c:\\users\\lenovo\\appdata\\local\\programs\\python\\python37\\lib\\site-packages\\sklearn\\utils\\validation.py:760: DataConversionWarning: A column-vector y was passed when a 1d array was expected. Please change the shape of y to (n_samples, ), for example using ravel().\n",
      "  y = column_or_1d(y, warn=True)\n"
     ]
    }
   ],
   "source": [
    "from sklearn.linear_model import LogisticRegression\n",
    "param_grid = {'C':[1]}\n",
    "\n",
    "grid1 = GridSearchCV(LogisticRegression(multi_class = 'auto', solver = 'lbfgs', max_iter = 5000), \n",
    "                     param_grid, cv =7 , return_train_score= True, iid = False)\n",
    "grid1.fit(X_train_pca, y_train)\n",
    "print(grid1.best_params_)\n",
    "print(grid1.best_score_)\n",
    "print(grid1.scorer_)\n",
    "\n",
    "#Best parameter is 'C'=1  from project 1."
   ]
  },
  {
   "cell_type": "code",
   "execution_count": 70,
   "metadata": {
    "colab": {
     "base_uri": "https://localhost:8080/",
     "height": 52
    },
    "colab_type": "code",
    "id": "NTDBExLSCWKN",
    "outputId": "6e5f8f15-a21b-44e3-a247-04506b336942"
   },
   "outputs": [
    {
     "name": "stdout",
     "output_type": "stream",
     "text": [
      "logistic reg train score after PCA: 0.8727030079047325\n",
      "logistic reg test score after PCA: 0.8758854327071143\n"
     ]
    }
   ],
   "source": [
    "lreg_train_score=grid1.score(X_train_pca, y_train)\n",
    "lreg_test_score=grid1.score(X_test_pca, y_test)\n",
    "\n",
    "\n",
    "print(\"logistic reg train score after PCA:\", lreg_train_score)\n",
    "print(\"logistic reg test score after PCA:\", lreg_test_score)"
   ]
  },
  {
   "cell_type": "markdown",
   "metadata": {
    "colab_type": "text",
    "id": "ulKbHQwgCWKQ"
   },
   "source": [
    "#### Decision tree Classifier with Grid search"
   ]
  },
  {
   "cell_type": "code",
   "execution_count": 71,
   "metadata": {
    "colab": {
     "base_uri": "https://localhost:8080/",
     "height": 107
    },
    "colab_type": "code",
    "id": "Hl17KWOqCWKR",
    "outputId": "ee73594c-52a3-4ef9-9054-df181ddf557e"
   },
   "outputs": [
    {
     "name": "stdout",
     "output_type": "stream",
     "text": [
      "0.9484652499743352\n",
      "0.8897443794271636\n"
     ]
    },
    {
     "name": "stderr",
     "output_type": "stream",
     "text": [
      "c:\\users\\lenovo\\appdata\\local\\programs\\python\\python37\\lib\\site-packages\\sklearn\\model_selection\\_search.py:823: FutureWarning: The parameter 'iid' is deprecated in 0.22 and will be removed in 0.24.\n",
      "  \"removed in 0.24.\", FutureWarning\n"
     ]
    }
   ],
   "source": [
    "from sklearn.tree import DecisionTreeClassifier\n",
    "\n",
    "param_grid = {'max_depth':[10]}\n",
    "\n",
    "grid3 = GridSearchCV(DecisionTreeClassifier(random_state = 0), param_grid, cv = 5, \n",
    "                    return_train_score= True, iid = False)\n",
    "grid3.fit(X_train_pca, y_train)\n",
    "\n",
    "\n",
    "dtree_train_score= grid3.score(X_train_pca, y_train)\n",
    "dtree_test_score= grid3.score(X_test_pca, y_test)\n",
    "\n",
    "print(dtree_train_score)\n",
    "print(dtree_test_score)\n",
    "\n",
    "#Best Score is  with max depth as10 ."
   ]
  },
  {
   "cell_type": "markdown",
   "metadata": {
    "colab_type": "text",
    "id": "4lBhcKBHCWKU"
   },
   "source": [
    "#### KNN"
   ]
  },
  {
   "cell_type": "code",
   "execution_count": 72,
   "metadata": {
    "colab": {
     "base_uri": "https://localhost:8080/",
     "height": 280
    },
    "colab_type": "code",
    "id": "ncFRxwRrCWKV",
    "outputId": "fa52b7ff-0772-46a3-b263-94fbeb55cdc3"
   },
   "outputs": [
    {
     "name": "stderr",
     "output_type": "stream",
     "text": [
      "c:\\users\\lenovo\\appdata\\local\\programs\\python\\python37\\lib\\site-packages\\sklearn\\model_selection\\_validation.py:515: DataConversionWarning: A column-vector y was passed when a 1d array was expected. Please change the shape of y to (n_samples, ), for example using ravel().\n",
      "  estimator.fit(X_train, y_train, **fit_params)\n",
      "c:\\users\\lenovo\\appdata\\local\\programs\\python\\python37\\lib\\site-packages\\sklearn\\model_selection\\_validation.py:515: DataConversionWarning: A column-vector y was passed when a 1d array was expected. Please change the shape of y to (n_samples, ), for example using ravel().\n",
      "  estimator.fit(X_train, y_train, **fit_params)\n",
      "c:\\users\\lenovo\\appdata\\local\\programs\\python\\python37\\lib\\site-packages\\sklearn\\model_selection\\_validation.py:515: DataConversionWarning: A column-vector y was passed when a 1d array was expected. Please change the shape of y to (n_samples, ), for example using ravel().\n",
      "  estimator.fit(X_train, y_train, **fit_params)\n",
      "c:\\users\\lenovo\\appdata\\local\\programs\\python\\python37\\lib\\site-packages\\sklearn\\model_selection\\_validation.py:515: DataConversionWarning: A column-vector y was passed when a 1d array was expected. Please change the shape of y to (n_samples, ), for example using ravel().\n",
      "  estimator.fit(X_train, y_train, **fit_params)\n",
      "c:\\users\\lenovo\\appdata\\local\\programs\\python\\python37\\lib\\site-packages\\sklearn\\model_selection\\_validation.py:515: DataConversionWarning: A column-vector y was passed when a 1d array was expected. Please change the shape of y to (n_samples, ), for example using ravel().\n",
      "  estimator.fit(X_train, y_train, **fit_params)\n"
     ]
    },
    {
     "name": "stdout",
     "output_type": "stream",
     "text": [
      "Best parameters: {'n_neighbors': 3}\n",
      "Best cross-validation score: 0.90\n"
     ]
    },
    {
     "name": "stderr",
     "output_type": "stream",
     "text": [
      "c:\\users\\lenovo\\appdata\\local\\programs\\python\\python37\\lib\\site-packages\\sklearn\\model_selection\\_search.py:739: DataConversionWarning: A column-vector y was passed when a 1d array was expected. Please change the shape of y to (n_samples, ), for example using ravel().\n",
      "  self.best_estimator_.fit(X, y, **fit_params)\n"
     ]
    }
   ],
   "source": [
    "from sklearn.model_selection import GridSearchCV\n",
    "from sklearn.neighbors import KNeighborsClassifier\n",
    "\n",
    "param_grid = {'n_neighbors':[3]}\n",
    "\n",
    "grid_search = GridSearchCV(KNeighborsClassifier(), param_grid, cv=5, return_train_score=True)\n",
    "\n",
    "grid_search.fit(X_train_pca, y_train)\n",
    "\n",
    "print(\"Best parameters: {}\".format(grid_search.best_params_))\n",
    "print(\"Best cross-validation score: {:.2f}\".format(grid_search.best_score_))\n",
    "\n",
    "#Best parameters: {'n_neighbors':3 }"
   ]
  },
  {
   "cell_type": "code",
   "execution_count": 73,
   "metadata": {
    "colab": {
     "base_uri": "https://localhost:8080/",
     "height": 52
    },
    "colab_type": "code",
    "id": "35yT6x3aCWKY",
    "outputId": "fca8f078-ebab-4d09-fa5e-1754c536111d"
   },
   "outputs": [
    {
     "name": "stdout",
     "output_type": "stream",
     "text": [
      "knn train score after PCA: 0.9417924237757931\n",
      "knn test score after PCA: 0.8968278410840776\n"
     ]
    }
   ],
   "source": [
    "knn_train_score=grid_search.score(X_train_pca, y_train)\n",
    "knn_test_score=grid_search.score(X_test_pca, y_test)\n",
    "\n",
    "\n",
    "print(\"knn train score after PCA:\", knn_train_score)\n",
    "print(\"knn test score after PCA:\", knn_test_score)"
   ]
  },
  {
   "cell_type": "code",
   "execution_count": 74,
   "metadata": {
    "colab": {},
    "colab_type": "code",
    "id": "gf0-mKxiCWKd"
   },
   "outputs": [],
   "source": [
    "PCA_score_model =  [('Linear SVC ', lSVC_train_score_pca, lSVC_test_score_pca),\n",
    "          ('SVC with rbf ', SVC_train_score, SVC_test_score),\n",
    "          ('Logistic ', lreg_train_score, lreg_test_score),\n",
    "          ('Decision Tree  ', dtree_train_score, dtree_test_score),\n",
    "          ('kNN ', knn_train_score, knn_test_score)]"
   ]
  },
  {
   "cell_type": "code",
   "execution_count": 75,
   "metadata": {
    "colab": {
     "base_uri": "https://localhost:8080/",
     "height": 156
    },
    "colab_type": "code",
    "id": "PTBx_1HJCWKg",
    "outputId": "8c964ff5-6606-47d7-982f-4782ebb34398"
   },
   "outputs": [
    {
     "name": "stdout",
     "output_type": "stream",
     "text": [
      "\u001b[1m \u001b[91m With PCA\u001b[00m\n",
      "\n",
      "             Models  PCA Train_Score  PCA Test_Score\n",
      "0      Linear SVC          0.871779        0.876809\n",
      "1    SVC with rbf          0.948465        0.927318\n",
      "2        Logistic          0.872703        0.875885\n",
      "3  Decision Tree           0.948465        0.889744\n",
      "4             kNN          0.941792        0.896828\n"
     ]
    }
   ],
   "source": [
    "stat = pd.DataFrame(data = PCA_score_model, columns = ['Models', 'PCA Train_Score', 'PCA Test_Score'])\n",
    "prRed(\"With PCA\")\n",
    "print(\"\\n\",stat)"
   ]
  },
  {
   "cell_type": "markdown",
   "metadata": {
    "colab_type": "text",
    "id": "C8zWy8ZuCWKk"
   },
   "source": [
    "### <font color='red'> Without PCA Transformation\n",
    "             Models      Score_Train  Score_Test \n",
    "             Linear SVC        0.875680    0.880505  \n",
    "             SVC with rbf      0.967149    0.943024  \n",
    "             Logistic          0.876604    0.882044  \n",
    "             Decission tree    0.876604    0.882044  \n",
    "             kNN               0.946412    0.911302  \n",
    "                \n",
    "                 \n",
    "### <font color='red'> After PCA Transformation\n",
    "              Models  PCA   Train_Score  PCA Test_Score\n",
    "              Linear SVC       0.871779        0.876809  \n",
    "              SVC with rbf     0.948465        0.927318  \n",
    "              Logistic         0.872703        0.875885  \n",
    "              Decision Tree    0.948465        0.889744  \n",
    "              kNN              0.946412        0.896828\n",
    "\n",
    "\n",
    " - It's evident post PCA transformation, test scores are a little lower than scores wihtout PCA.\n",
    " - Decision tree and KNN does not provide better results as the difference between the test and train score remains high."
   ]
  },
  {
   "cell_type": "markdown",
   "metadata": {
    "colab_type": "text",
    "id": "L1T3SL5zCWKl"
   },
   "source": [
    "### NUERAL NETWORKS"
   ]
  },
  {
   "cell_type": "code",
   "execution_count": 76,
   "metadata": {
    "colab": {},
    "colab_type": "code",
    "id": "ovigOpi1CWKo"
   },
   "outputs": [
    {
     "name": "stderr",
     "output_type": "stream",
     "text": [
      "Using TensorFlow backend.\n"
     ]
    }
   ],
   "source": [
    "from keras.models import Sequential\n",
    "from keras.layers import Dense\n",
    "import numpy\n",
    "\n",
    "numpy.random.seed(10)"
   ]
  },
  {
   "cell_type": "code",
   "execution_count": null,
   "metadata": {
    "colab": {},
    "colab_type": "code",
    "id": "MrJEumXMK1lp"
   },
   "outputs": [],
   "source": []
  },
  {
   "cell_type": "code",
   "execution_count": 77,
   "metadata": {
    "colab": {},
    "colab_type": "code",
    "id": "rCnAzFDACWKr"
   },
   "outputs": [],
   "source": [
    "model = Sequential()\n",
    "\n",
    "#Input Layer\n",
    "model.add(Dense(12, input_dim=24, activation='relu'))\n",
    "\n",
    "#Hidden Layer\n",
    "model.add(Dense(8, activation='relu'))\n",
    "\n",
    "#Output Layer\n",
    "model.add(Dense(1, activation='sigmoid'))"
   ]
  },
  {
   "cell_type": "markdown",
   "metadata": {
    "colab_type": "text",
    "id": "vrWoLbvNFiLj"
   },
   "source": [
    "##### *compile*"
   ]
  },
  {
   "cell_type": "code",
   "execution_count": 78,
   "metadata": {
    "colab": {},
    "colab_type": "code",
    "id": "g6Q7UvkTEhPD"
   },
   "outputs": [],
   "source": [
    "model.compile(loss='binary_crossentropy', optimizer='adam', metrics=['accuracy'])"
   ]
  },
  {
   "cell_type": "code",
   "execution_count": 79,
   "metadata": {
    "colab": {
     "base_uri": "https://localhost:8080/",
     "height": 35
    },
    "colab_type": "code",
    "id": "4yO340KSIESO",
    "outputId": "43d8c625-69e1-42e5-85f4-4de5d76eccf1"
   },
   "outputs": [
    {
     "data": {
      "text/plain": [
       "(9741, 24)"
      ]
     },
     "execution_count": 79,
     "metadata": {},
     "output_type": "execute_result"
    }
   ],
   "source": [
    "X_train.shape"
   ]
  },
  {
   "cell_type": "markdown",
   "metadata": {
    "colab_type": "text",
    "id": "QxmrgnmvHG2z"
   },
   "source": [
    "#### Fit Model\n"
   ]
  },
  {
   "cell_type": "code",
   "execution_count": 80,
   "metadata": {
    "colab": {
     "base_uri": "https://localhost:8080/",
     "height": 1000
    },
    "colab_type": "code",
    "id": "S06qJtEAG8by",
    "outputId": "2eaafdcd-4719-4db4-85f7-60a3a936e435"
   },
   "outputs": [
    {
     "name": "stdout",
     "output_type": "stream",
     "text": [
      "Epoch 1/150\n",
      "9741/9741 [==============================] - 2s 164us/step - loss: 0.4228 - accuracy: 0.8218\n",
      "Epoch 2/150\n",
      "9741/9741 [==============================] - 1s 152us/step - loss: 0.3219 - accuracy: 0.8718\n",
      "Epoch 3/150\n",
      "9741/9741 [==============================] - 1s 145us/step - loss: 0.3004 - accuracy: 0.8814\n",
      "Epoch 4/150\n",
      "9741/9741 [==============================] - 1s 115us/step - loss: 0.2885 - accuracy: 0.8835\n",
      "Epoch 5/150\n",
      "9741/9741 [==============================] - 1s 130us/step - loss: 0.2772 - accuracy: 0.8887\n",
      "Epoch 6/150\n",
      "9741/9741 [==============================] - 1s 126us/step - loss: 0.2672 - accuracy: 0.8953\n",
      "Epoch 7/150\n",
      "9741/9741 [==============================] - 1s 113us/step - loss: 0.2555 - accuracy: 0.8972\n",
      "Epoch 8/150\n",
      "9741/9741 [==============================] - 1s 112us/step - loss: 0.2465 - accuracy: 0.8984\n",
      "Epoch 9/150\n",
      "9741/9741 [==============================] - 1s 128us/step - loss: 0.2372 - accuracy: 0.9021\n",
      "Epoch 10/150\n",
      "9741/9741 [==============================] - 1s 124us/step - loss: 0.2272 - accuracy: 0.9048\n",
      "Epoch 11/150\n",
      "9741/9741 [==============================] - 1s 134us/step - loss: 0.2194 - accuracy: 0.9063\n",
      "Epoch 12/150\n",
      "9741/9741 [==============================] - 1s 132us/step - loss: 0.2119 - accuracy: 0.9094\n",
      "Epoch 13/150\n",
      "9741/9741 [==============================] - 1s 116us/step - loss: 0.2052 - accuracy: 0.9113\n",
      "Epoch 14/150\n",
      "9741/9741 [==============================] - 1s 116us/step - loss: 0.1976 - accuracy: 0.9158\n",
      "Epoch 15/150\n",
      "9741/9741 [==============================] - 1s 117us/step - loss: 0.1908 - accuracy: 0.9205\n",
      "Epoch 16/150\n",
      "9741/9741 [==============================] - 1s 116us/step - loss: 0.1868 - accuracy: 0.9259\n",
      "Epoch 17/150\n",
      "9741/9741 [==============================] - 1s 120us/step - loss: 0.1819 - accuracy: 0.9261\n",
      "Epoch 18/150\n",
      "9741/9741 [==============================] - 1s 118us/step - loss: 0.1791 - accuracy: 0.9263\n",
      "Epoch 19/150\n",
      "9741/9741 [==============================] - 1s 127us/step - loss: 0.1749 - accuracy: 0.9314\n",
      "Epoch 20/150\n",
      "9741/9741 [==============================] - 1s 118us/step - loss: 0.1728 - accuracy: 0.9305\n",
      "Epoch 21/150\n",
      "9741/9741 [==============================] - 1s 115us/step - loss: 0.1695 - accuracy: 0.9335\n",
      "Epoch 22/150\n",
      "9741/9741 [==============================] - 1s 118us/step - loss: 0.1679 - accuracy: 0.9333\n",
      "Epoch 23/150\n",
      "9741/9741 [==============================] - 1s 113us/step - loss: 0.1654 - accuracy: 0.9355\n",
      "Epoch 24/150\n",
      "9741/9741 [==============================] - 1s 121us/step - loss: 0.1656 - accuracy: 0.9337\n",
      "Epoch 25/150\n",
      "9741/9741 [==============================] - 1s 114us/step - loss: 0.1624 - accuracy: 0.9352\n",
      "Epoch 26/150\n",
      "9741/9741 [==============================] - 1s 118us/step - loss: 0.1608 - accuracy: 0.9357\n",
      "Epoch 27/150\n",
      "9741/9741 [==============================] - 1s 113us/step - loss: 0.1577 - accuracy: 0.9368\n",
      "Epoch 28/150\n",
      "9741/9741 [==============================] - 1s 117us/step - loss: 0.1573 - accuracy: 0.9367\n",
      "Epoch 29/150\n",
      "9741/9741 [==============================] - 1s 115us/step - loss: 0.1545 - accuracy: 0.9385\n",
      "Epoch 30/150\n",
      "9741/9741 [==============================] - 1s 114us/step - loss: 0.1532 - accuracy: 0.9404\n",
      "Epoch 31/150\n",
      "9741/9741 [==============================] - 1s 118us/step - loss: 0.1515 - accuracy: 0.9405\n",
      "Epoch 32/150\n",
      "9741/9741 [==============================] - 1s 127us/step - loss: 0.1482 - accuracy: 0.9420\n",
      "Epoch 33/150\n",
      "9741/9741 [==============================] - 1s 126us/step - loss: 0.1488 - accuracy: 0.9385\n",
      "Epoch 34/150\n",
      "9741/9741 [==============================] - 1s 124us/step - loss: 0.1473 - accuracy: 0.9419\n",
      "Epoch 35/150\n",
      "9741/9741 [==============================] - 1s 121us/step - loss: 0.1458 - accuracy: 0.9412\n",
      "Epoch 36/150\n",
      "9741/9741 [==============================] - 1s 121us/step - loss: 0.1459 - accuracy: 0.9429\n",
      "Epoch 37/150\n",
      "9741/9741 [==============================] - 1s 117us/step - loss: 0.1440 - accuracy: 0.9433\n",
      "Epoch 38/150\n",
      "9741/9741 [==============================] - 1s 117us/step - loss: 0.1424 - accuracy: 0.9433\n",
      "Epoch 39/150\n",
      "9741/9741 [==============================] - 1s 119us/step - loss: 0.1409 - accuracy: 0.9446\n",
      "Epoch 40/150\n",
      "9741/9741 [==============================] - 1s 114us/step - loss: 0.1422 - accuracy: 0.9422\n",
      "Epoch 41/150\n",
      "9741/9741 [==============================] - 1s 115us/step - loss: 0.1410 - accuracy: 0.9443\n",
      "Epoch 42/150\n",
      "9741/9741 [==============================] - 1s 118us/step - loss: 0.1381 - accuracy: 0.9443\n",
      "Epoch 43/150\n",
      "9741/9741 [==============================] - 1s 119us/step - loss: 0.1392 - accuracy: 0.9424\n",
      "Epoch 44/150\n",
      "9741/9741 [==============================] - 1s 115us/step - loss: 0.1378 - accuracy: 0.9438\n",
      "Epoch 45/150\n",
      "9741/9741 [==============================] - 1s 116us/step - loss: 0.1372 - accuracy: 0.9446\n",
      "Epoch 46/150\n",
      "9741/9741 [==============================] - 1s 117us/step - loss: 0.1365 - accuracy: 0.9422\n",
      "Epoch 47/150\n",
      "9741/9741 [==============================] - 1s 120us/step - loss: 0.1349 - accuracy: 0.9438\n",
      "Epoch 48/150\n",
      "9741/9741 [==============================] - 1s 117us/step - loss: 0.1317 - accuracy: 0.9445\n",
      "Epoch 49/150\n",
      "9741/9741 [==============================] - 1s 117us/step - loss: 0.1329 - accuracy: 0.9444\n",
      "Epoch 50/150\n",
      "9741/9741 [==============================] - 1s 119us/step - loss: 0.1317 - accuracy: 0.9444\n",
      "Epoch 51/150\n",
      "9741/9741 [==============================] - 1s 118us/step - loss: 0.1316 - accuracy: 0.9437\n",
      "Epoch 52/150\n",
      "9741/9741 [==============================] - 1s 126us/step - loss: 0.1325 - accuracy: 0.9437\n",
      "Epoch 53/150\n",
      "9741/9741 [==============================] - 1s 152us/step - loss: 0.1296 - accuracy: 0.9442\n",
      "Epoch 54/150\n",
      "9741/9741 [==============================] - 1s 133us/step - loss: 0.1280 - accuracy: 0.9456\n",
      "Epoch 55/150\n",
      "9741/9741 [==============================] - 1s 119us/step - loss: 0.1301 - accuracy: 0.9460\n",
      "Epoch 56/150\n",
      "9741/9741 [==============================] - 1s 116us/step - loss: 0.1269 - accuracy: 0.9464\n",
      "Epoch 57/150\n",
      "9741/9741 [==============================] - 1s 119us/step - loss: 0.1268 - accuracy: 0.9475\n",
      "Epoch 58/150\n",
      "9741/9741 [==============================] - 1s 120us/step - loss: 0.1265 - accuracy: 0.9459\n",
      "Epoch 59/150\n",
      "9741/9741 [==============================] - 1s 120us/step - loss: 0.1287 - accuracy: 0.9470\n",
      "Epoch 60/150\n",
      "9741/9741 [==============================] - 1s 121us/step - loss: 0.1261 - accuracy: 0.9441\n",
      "Epoch 61/150\n",
      "9741/9741 [==============================] - 1s 117us/step - loss: 0.1265 - accuracy: 0.9466\n",
      "Epoch 62/150\n",
      "9741/9741 [==============================] - 1s 125us/step - loss: 0.1253 - accuracy: 0.9445\n",
      "Epoch 63/150\n",
      "9741/9741 [==============================] - 1s 117us/step - loss: 0.1263 - accuracy: 0.9459\n",
      "Epoch 64/150\n",
      "9741/9741 [==============================] - 1s 118us/step - loss: 0.1250 - accuracy: 0.9459\n",
      "Epoch 65/150\n",
      "9741/9741 [==============================] - 1s 129us/step - loss: 0.1229 - accuracy: 0.9466\n",
      "Epoch 66/150\n",
      "9741/9741 [==============================] - 1s 122us/step - loss: 0.1235 - accuracy: 0.9454\n",
      "Epoch 67/150\n",
      "9741/9741 [==============================] - 1s 127us/step - loss: 0.1221 - accuracy: 0.9482\n",
      "Epoch 68/150\n",
      "9741/9741 [==============================] - 1s 123us/step - loss: 0.1242 - accuracy: 0.9463\n",
      "Epoch 69/150\n",
      "9741/9741 [==============================] - 1s 133us/step - loss: 0.1230 - accuracy: 0.9457\n",
      "Epoch 70/150\n",
      "9741/9741 [==============================] - 1s 117us/step - loss: 0.1221 - accuracy: 0.9476\n",
      "Epoch 71/150\n",
      "9741/9741 [==============================] - 1s 116us/step - loss: 0.1223 - accuracy: 0.9474\n",
      "Epoch 72/150\n",
      "9741/9741 [==============================] - 1s 125us/step - loss: 0.1219 - accuracy: 0.9474\n",
      "Epoch 73/150\n",
      "9741/9741 [==============================] - ETA: 0s - loss: 0.1217 - accuracy: 0.94 - 1s 118us/step - loss: 0.1224 - accuracy: 0.9480\n",
      "Epoch 74/150\n",
      "9741/9741 [==============================] - 1s 117us/step - loss: 0.1215 - accuracy: 0.9455\n",
      "Epoch 75/150\n",
      "9741/9741 [==============================] - 1s 118us/step - loss: 0.1212 - accuracy: 0.9465\n",
      "Epoch 76/150\n",
      "9741/9741 [==============================] - 1s 118us/step - loss: 0.1202 - accuracy: 0.9485\n",
      "Epoch 77/150\n",
      "9741/9741 [==============================] - 1s 120us/step - loss: 0.1210 - accuracy: 0.9476\n"
     ]
    },
    {
     "name": "stdout",
     "output_type": "stream",
     "text": [
      "Epoch 78/150\n",
      "9741/9741 [==============================] - 1s 112us/step - loss: 0.1223 - accuracy: 0.9453\n",
      "Epoch 79/150\n",
      "9741/9741 [==============================] - 1s 111us/step - loss: 0.1207 - accuracy: 0.9483\n",
      "Epoch 80/150\n",
      "9741/9741 [==============================] - 1s 125us/step - loss: 0.1203 - accuracy: 0.9483\n",
      "Epoch 81/150\n",
      "9741/9741 [==============================] - 1s 115us/step - loss: 0.1204 - accuracy: 0.9495\n",
      "Epoch 82/150\n",
      "9741/9741 [==============================] - 1s 116us/step - loss: 0.1178 - accuracy: 0.9485\n",
      "Epoch 83/150\n",
      "9741/9741 [==============================] - 1s 112us/step - loss: 0.1192 - accuracy: 0.9474\n",
      "Epoch 84/150\n",
      "9741/9741 [==============================] - 1s 112us/step - loss: 0.1185 - accuracy: 0.9493\n",
      "Epoch 85/150\n",
      "9741/9741 [==============================] - 1s 111us/step - loss: 0.1187 - accuracy: 0.9496\n",
      "Epoch 86/150\n",
      "9741/9741 [==============================] - 1s 115us/step - loss: 0.1191 - accuracy: 0.9474\n",
      "Epoch 87/150\n",
      "9741/9741 [==============================] - 1s 113us/step - loss: 0.1183 - accuracy: 0.9477\n",
      "Epoch 88/150\n",
      "9741/9741 [==============================] - 1s 127us/step - loss: 0.1214 - accuracy: 0.9465\n",
      "Epoch 89/150\n",
      "9741/9741 [==============================] - 1s 123us/step - loss: 0.1169 - accuracy: 0.9501\n",
      "Epoch 90/150\n",
      "9741/9741 [==============================] - 1s 124us/step - loss: 0.1170 - accuracy: 0.9490\n",
      "Epoch 91/150\n",
      "9741/9741 [==============================] - 1s 123us/step - loss: 0.1178 - accuracy: 0.9503\n",
      "Epoch 92/150\n",
      "9741/9741 [==============================] - 1s 110us/step - loss: 0.1185 - accuracy: 0.9481\n",
      "Epoch 93/150\n",
      "9741/9741 [==============================] - 1s 111us/step - loss: 0.1157 - accuracy: 0.9501\n",
      "Epoch 94/150\n",
      "9741/9741 [==============================] - 1s 110us/step - loss: 0.1174 - accuracy: 0.9484\n",
      "Epoch 95/150\n",
      "9741/9741 [==============================] - 1s 111us/step - loss: 0.1180 - accuracy: 0.9495\n",
      "Epoch 96/150\n",
      "9741/9741 [==============================] - 1s 116us/step - loss: 0.1163 - accuracy: 0.9518\n",
      "Epoch 97/150\n",
      "9741/9741 [==============================] - 1s 114us/step - loss: 0.1179 - accuracy: 0.9502\n",
      "Epoch 98/150\n",
      "9741/9741 [==============================] - 1s 114us/step - loss: 0.1181 - accuracy: 0.9482\n",
      "Epoch 99/150\n",
      "9741/9741 [==============================] - 1s 112us/step - loss: 0.1166 - accuracy: 0.9474\n",
      "Epoch 100/150\n",
      "9741/9741 [==============================] - 1s 116us/step - loss: 0.1153 - accuracy: 0.9514\n",
      "Epoch 101/150\n",
      "9741/9741 [==============================] - 1s 110us/step - loss: 0.1161 - accuracy: 0.9491\n",
      "Epoch 102/150\n",
      "9741/9741 [==============================] - 1s 116us/step - loss: 0.1166 - accuracy: 0.9490\n",
      "Epoch 103/150\n",
      "9741/9741 [==============================] - 1s 110us/step - loss: 0.1158 - accuracy: 0.9503\n",
      "Epoch 104/150\n",
      "9741/9741 [==============================] - 1s 113us/step - loss: 0.1159 - accuracy: 0.9503\n",
      "Epoch 105/150\n",
      "9741/9741 [==============================] - 1s 117us/step - loss: 0.1162 - accuracy: 0.9493\n",
      "Epoch 106/150\n",
      "9741/9741 [==============================] - 1s 116us/step - loss: 0.1150 - accuracy: 0.9492\n",
      "Epoch 107/150\n",
      "9741/9741 [==============================] - 1s 128us/step - loss: 0.1160 - accuracy: 0.9509\n",
      "Epoch 108/150\n",
      "9741/9741 [==============================] - 1s 117us/step - loss: 0.1156 - accuracy: 0.9522\n",
      "Epoch 109/150\n",
      "9741/9741 [==============================] - 1s 139us/step - loss: 0.1176 - accuracy: 0.9472\n",
      "Epoch 110/150\n",
      "9741/9741 [==============================] - 1s 114us/step - loss: 0.1150 - accuracy: 0.9522\n",
      "Epoch 111/150\n",
      "9741/9741 [==============================] - 1s 112us/step - loss: 0.1189 - accuracy: 0.9476\n",
      "Epoch 112/150\n",
      "9741/9741 [==============================] - 2s 166us/step - loss: 0.1142 - accuracy: 0.9503\n",
      "Epoch 113/150\n",
      "9741/9741 [==============================] - 1s 119us/step - loss: 0.1159 - accuracy: 0.9490\n",
      "Epoch 114/150\n",
      "9741/9741 [==============================] - 1s 112us/step - loss: 0.1145 - accuracy: 0.9506\n",
      "Epoch 115/150\n",
      "9741/9741 [==============================] - 1s 118us/step - loss: 0.1147 - accuracy: 0.9489\n",
      "Epoch 116/150\n",
      "9741/9741 [==============================] - 1s 114us/step - loss: 0.1151 - accuracy: 0.9511\n",
      "Epoch 117/150\n",
      "9741/9741 [==============================] - 1s 119us/step - loss: 0.1135 - accuracy: 0.9504\n",
      "Epoch 118/150\n",
      "9741/9741 [==============================] - 1s 112us/step - loss: 0.1178 - accuracy: 0.9487\n",
      "Epoch 119/150\n",
      "9741/9741 [==============================] - 1s 118us/step - loss: 0.1146 - accuracy: 0.9515\n",
      "Epoch 120/150\n",
      "9741/9741 [==============================] - 1s 112us/step - loss: 0.1143 - accuracy: 0.9523\n",
      "Epoch 121/150\n",
      "9741/9741 [==============================] - 1s 119us/step - loss: 0.1156 - accuracy: 0.9505\n",
      "Epoch 122/150\n",
      "9741/9741 [==============================] - 1s 130us/step - loss: 0.1138 - accuracy: 0.9500\n",
      "Epoch 123/150\n",
      "9741/9741 [==============================] - 1s 125us/step - loss: 0.1138 - accuracy: 0.9501\n",
      "Epoch 124/150\n",
      "9741/9741 [==============================] - 1s 132us/step - loss: 0.1147 - accuracy: 0.9509\n",
      "Epoch 125/150\n",
      "9741/9741 [==============================] - 1s 127us/step - loss: 0.1139 - accuracy: 0.9498\n",
      "Epoch 126/150\n",
      "9741/9741 [==============================] - 1s 122us/step - loss: 0.1146 - accuracy: 0.9509\n",
      "Epoch 127/150\n",
      "9741/9741 [==============================] - 1s 117us/step - loss: 0.1136 - accuracy: 0.9525\n",
      "Epoch 128/150\n",
      "9741/9741 [==============================] - 1s 118us/step - loss: 0.1160 - accuracy: 0.9490\n",
      "Epoch 129/150\n",
      "9741/9741 [==============================] - 1s 130us/step - loss: 0.1141 - accuracy: 0.9515\n",
      "Epoch 130/150\n",
      "9741/9741 [==============================] - 1s 117us/step - loss: 0.1141 - accuracy: 0.9490\n",
      "Epoch 131/150\n",
      "9741/9741 [==============================] - 1s 115us/step - loss: 0.1142 - accuracy: 0.9507\n",
      "Epoch 132/150\n",
      "9741/9741 [==============================] - 1s 120us/step - loss: 0.1149 - accuracy: 0.9496\n",
      "Epoch 133/150\n",
      "9741/9741 [==============================] - 1s 120us/step - loss: 0.1126 - accuracy: 0.9505\n",
      "Epoch 134/150\n",
      "9741/9741 [==============================] - 1s 123us/step - loss: 0.1147 - accuracy: 0.9500\n",
      "Epoch 135/150\n",
      "9741/9741 [==============================] - 1s 117us/step - loss: 0.1142 - accuracy: 0.9525\n",
      "Epoch 136/150\n",
      "9741/9741 [==============================] - 1s 116us/step - loss: 0.1125 - accuracy: 0.9523\n",
      "Epoch 137/150\n",
      "9741/9741 [==============================] - 1s 117us/step - loss: 0.1138 - accuracy: 0.9515\n",
      "Epoch 138/150\n",
      "9741/9741 [==============================] - 1s 123us/step - loss: 0.1138 - accuracy: 0.9505\n",
      "Epoch 139/150\n",
      "9741/9741 [==============================] - 1s 117us/step - loss: 0.1148 - accuracy: 0.9512\n",
      "Epoch 140/150\n",
      "9741/9741 [==============================] - 1s 114us/step - loss: 0.1141 - accuracy: 0.9513\n",
      "Epoch 141/150\n",
      "9741/9741 [==============================] - 1s 118us/step - loss: 0.1113 - accuracy: 0.9522\n",
      "Epoch 142/150\n",
      "9741/9741 [==============================] - 1s 114us/step - loss: 0.1137 - accuracy: 0.9506\n",
      "Epoch 143/150\n",
      "9741/9741 [==============================] - 1s 118us/step - loss: 0.1131 - accuracy: 0.9515\n",
      "Epoch 144/150\n",
      "9741/9741 [==============================] - 1s 119us/step - loss: 0.1137 - accuracy: 0.9510\n",
      "Epoch 145/150\n",
      "9741/9741 [==============================] - 1s 128us/step - loss: 0.1110 - accuracy: 0.9518\n",
      "Epoch 146/150\n",
      "9741/9741 [==============================] - 1s 127us/step - loss: 0.1131 - accuracy: 0.9502\n",
      "Epoch 147/150\n",
      "9741/9741 [==============================] - 1s 120us/step - loss: 0.1121 - accuracy: 0.9507\n",
      "Epoch 148/150\n",
      "9741/9741 [==============================] - 1s 127us/step - loss: 0.1127 - accuracy: 0.9494\n",
      "Epoch 149/150\n",
      "9741/9741 [==============================] - 1s 118us/step - loss: 0.1139 - accuracy: 0.9499\n",
      "Epoch 150/150\n",
      "9741/9741 [==============================] - 1s 116us/step - loss: 0.1124 - accuracy: 0.9502\n"
     ]
    },
    {
     "data": {
      "text/plain": [
       "<keras.callbacks.callbacks.History at 0x28a41f9b648>"
      ]
     },
     "execution_count": 80,
     "metadata": {},
     "output_type": "execute_result"
    }
   ],
   "source": [
    "model.fit(X_train, y_train, epochs=150, batch_size=10)"
   ]
  },
  {
   "cell_type": "markdown",
   "metadata": {
    "colab_type": "text",
    "id": "aIlQbiGeJxat"
   },
   "source": [
    "#### Evaluate the Model\n"
   ]
  },
  {
   "cell_type": "code",
   "execution_count": 81,
   "metadata": {
    "colab": {
     "base_uri": "https://localhost:8080/",
     "height": 69
    },
    "colab_type": "code",
    "id": "L-XlNZCCHJ_1",
    "outputId": "34d759ee-837e-4e01-a615-4b008231a064"
   },
   "outputs": [
    {
     "name": "stdout",
     "output_type": "stream",
     "text": [
      "3247/3247 [==============================] - 0s 26us/step\n",
      "\n",
      "accuracy: 94.36%\n"
     ]
    }
   ],
   "source": [
    "scores = model.evaluate(X_test, y_test)\n",
    "print(\"\\n%s: %.2f%%\" % (model.metrics_names[1], scores[1]*100))"
   ]
  },
  {
   "cell_type": "markdown",
   "metadata": {
    "colab_type": "text",
    "id": "IeqPZXRWN5-X"
   },
   "source": [
    "## Grid Search\n"
   ]
  },
  {
   "cell_type": "code",
   "execution_count": 82,
   "metadata": {
    "colab": {},
    "colab_type": "code",
    "id": "nJXVy_DwNUTP"
   },
   "outputs": [],
   "source": [
    "import numpy as np\n",
    "from sklearn.model_selection import GridSearchCV\n",
    "from keras.models import Sequential\n",
    "from keras.layers import Dense\n",
    "from keras.wrappers.scikit_learn import KerasClassifier"
   ]
  },
  {
   "cell_type": "code",
   "execution_count": 83,
   "metadata": {
    "colab": {},
    "colab_type": "code",
    "id": "Aid_3u5IOWIi"
   },
   "outputs": [],
   "source": [
    "def create_model():\n",
    "    #create model\n",
    "    model = Sequential()\n",
    "    model.add(Dense(12, input_dim=24, activation='relu'))\n",
    "    model.add(Dense(8, activation='relu'))\n",
    "    model.add(Dense(1, activation='sigmoid'))\n",
    "    #compile model\n",
    "    model.compile(loss='binary_crossentropy', optimizer='adam', metrics=['accuracy'])\n",
    "    return model"
   ]
  },
  {
   "cell_type": "code",
   "execution_count": 84,
   "metadata": {
    "colab": {},
    "colab_type": "code",
    "id": "aLlSjjR5Ogql"
   },
   "outputs": [],
   "source": [
    "seed = 10\n",
    "np.random.seed(10)"
   ]
  },
  {
   "cell_type": "code",
   "execution_count": 85,
   "metadata": {
    "colab": {},
    "colab_type": "code",
    "id": "eIFAi_n1Oh9F"
   },
   "outputs": [],
   "source": [
    "model = KerasClassifier(build_fn = create_model, verbose = 0)\n",
    "# verbose is a n. between 0 and 1, \n",
    "param_grid = {'batch_size':[10,20,30,40] , 'epochs':[10, 50, 100]}\n",
    "grid_search = GridSearchCV(estimator= model, param_grid = param_grid, cv = 5)"
   ]
  },
  {
   "cell_type": "code",
   "execution_count": 86,
   "metadata": {
    "colab": {},
    "colab_type": "code",
    "id": "CsiEDp2pOmdf"
   },
   "outputs": [],
   "source": [
    "grid_search_result = grid_search.fit(X_train, y_train)"
   ]
  },
  {
   "cell_type": "code",
   "execution_count": 87,
   "metadata": {
    "colab": {
     "base_uri": "https://localhost:8080/",
     "height": 52
    },
    "colab_type": "code",
    "id": "lLVjg7BqZnsW",
    "outputId": "8b3efe24-bba7-423e-ea8d-ad84478c5e7d"
   },
   "outputs": [
    {
     "name": "stdout",
     "output_type": "stream",
     "text": [
      "Grid search ANN train score:  0.9519556760787964\n",
      "Grid Search ANN test score:  0.9414844512939453\n"
     ]
    }
   ],
   "source": [
    "train_score=grid_search.score(X_train, y_train)\n",
    "test_score=grid_search.score(X_test, y_test)\n",
    "\n",
    "\n",
    "print(\"Grid search ANN train score: \", train_score)\n",
    "print(\"Grid Search ANN test score: \", test_score)"
   ]
  },
  {
   "cell_type": "code",
   "execution_count": 88,
   "metadata": {
    "colab": {
     "base_uri": "https://localhost:8080/",
     "height": 17
    },
    "colab_type": "code",
    "id": "dyaPSbZqRQdQ",
    "outputId": "fd6346fa-7f12-4f6d-a2a5-efef6de4d9da"
   },
   "outputs": [
    {
     "data": {
      "application/javascript": [
       "\n",
       "require(\n",
       "    [\"base/js/dialog\"], \n",
       "    function(dialog) {\n",
       "        dialog.modal({\n",
       "            title: 'Project_2_Classification Summary',\n",
       "            body: 'Looking at post PCA scores, SVC with rbf has the highest score.',\n",
       "            buttons: {\n",
       "                'Best Model is yet again SVC with rbf for Classification!!': {}\n",
       "            }\n",
       "        });\n",
       "    })\n"
      ],
      "text/plain": [
       "<IPython.core.display.Javascript object>"
      ]
     },
     "metadata": {},
     "output_type": "display_data"
    }
   ],
   "source": [
    "from IPython.display import display, Javascript\n",
    "display(Javascript(\"\"\"\n",
    "require(\n",
    "    [\"base/js/dialog\"], \n",
    "    function(dialog) {\n",
    "        dialog.modal({\n",
    "            title: 'Project_2_Classification Summary',\n",
    "            body: 'Looking at post PCA scores, SVC with rbf has the highest score.',\n",
    "            buttons: {\n",
    "                'Best Model is yet again SVC with rbf for Classification!!': {}\n",
    "            }\n",
    "        });\n",
    "    })\n",
    "\"\"\"))"
   ]
  },
  {
   "cell_type": "markdown",
   "metadata": {
    "colab_type": "text",
    "id": "kIe5vAO3NwzM"
   },
   "source": []
  }
 ],
 "metadata": {
  "colab": {
   "collapsed_sections": [
    "C8zWy8ZuCWKk"
   ],
   "name": "Project2 ML.ipynb",
   "provenance": []
  },
  "kernelspec": {
   "display_name": "Python 3",
   "language": "python",
   "name": "python3"
  },
  "language_info": {
   "codemirror_mode": {
    "name": "ipython",
    "version": 3
   },
   "file_extension": ".py",
   "mimetype": "text/x-python",
   "name": "python",
   "nbconvert_exporter": "python",
   "pygments_lexer": "ipython3",
   "version": "3.7.4"
  }
 },
 "nbformat": 4,
 "nbformat_minor": 1
}

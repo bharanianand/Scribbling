{
 "cells": [
  {
   "cell_type": "markdown",
   "metadata": {},
   "source": [
    "# Lecture 8--Ensemble Learning"
   ]
  },
  {
   "cell_type": "markdown",
   "metadata": {},
   "source": [
    "## 1. Programming: Bootstrap"
   ]
  },
  {
   "cell_type": "code",
   "execution_count": 25,
   "metadata": {},
   "outputs": [],
   "source": [
    "import numpy as np\n",
    "import pandas as pd\n",
    "from cleands import *\n",
    "\n",
    "def generate_mvt_normal(n,r,means=None):\n",
    "    if means is None: means = np.zeros(size=(r,))\n",
    "    if r == 1: return np.random.normal(loc=means,size=(n,1))\n",
    "    P = np.array([[1,1]])\n",
    "    for i in range(2,r):\n",
    "        ones = np.ones([i,1])\n",
    "        zeros = np.zeros([P.shape[0],1])\n",
    "        ident = np.eye(i)\n",
    "        upper = np.hstack([ones,ident])\n",
    "        lower = np.hstack([zeros,P])\n",
    "        P = np.vstack([upper,lower])\n",
    "    covariates = np.random.normal(size=(n,P.shape[0]))\n",
    "    idiosyncratics = np.random.normal(loc=means,size=(n,P.shape[1]))\n",
    "    covariate_loadings = np.random.uniform(size=P.shape[0])*3-1\n",
    "    return covariates@np.diagflat(covariate_loadings)@P+idiosyncratics\n",
    "\n",
    "n = 1000\n",
    "npx = generate_mvt_normal(n,4,means=np.random.uniform(size=(4,))*2-1)\n",
    "ones = np.ones((n,1))\n",
    "onpx = np.hstack((ones,npx))\n",
    "bvec = np.random.uniform(size=(5,))\n",
    "npy = np.random.normal(size=(n,))+onpx@bvec"
   ]
  },
  {
   "cell_type": "code",
   "execution_count": 27,
   "metadata": {},
   "outputs": [
    {
     "data": {
      "text/plain": [
       "array([0.57509495, 0.29095844, 0.14446854, 0.28912204, 0.40764241])"
      ]
     },
     "execution_count": 27,
     "metadata": {},
     "output_type": "execute_result"
    }
   ],
   "source": [
    "bvec"
   ]
  },
  {
   "cell_type": "code",
   "execution_count": null,
   "metadata": {},
   "outputs": [],
   "source": [
    "model = least_squares_regressor(onpx,npy)\n",
    "\n",
    "b = model.params\n",
    "e = model.residuals\n"
   ]
  },
  {
   "cell_type": "markdown",
   "metadata": {},
   "source": []
  },
  {
   "cell_type": "code",
   "execution_count": null,
   "metadata": {},
   "outputs": [],
   "source": []
  },
  {
   "cell_type": "code",
   "execution_count": null,
   "metadata": {},
   "outputs": [],
   "source": []
  },
  {
   "cell_type": "code",
   "execution_count": null,
   "metadata": {},
   "outputs": [],
   "source": []
  },
  {
   "cell_type": "code",
   "execution_count": 33,
   "metadata": {
    "collapsed": true
   },
   "outputs": [
    {
     "data": {
      "text/plain": [
       "array([ 31, 690, 172, 229, 721, 708, 274, 224,  70, 694, 803, 601, 678,\n",
       "        77, 382, 194, 207, 212, 795, 944, 542, 742, 183, 542, 760, 965,\n",
       "       335, 971, 441, 837, 163, 105, 255,  82,   2, 107, 811, 678, 516,\n",
       "       603, 624, 602, 592, 259, 295,  67, 379, 854, 304, 725, 696,  24,\n",
       "        96, 328, 240,   9, 417, 129,  98, 243, 409, 991, 837, 610, 440,\n",
       "       644,  72, 738, 711, 408, 416, 280, 785,  88, 791, 985, 866, 168,\n",
       "       357, 281,  92, 890, 579,  41, 812, 901, 313, 652, 593, 814,  72,\n",
       "       311, 838, 306, 629, 912, 934, 847,  69, 551, 829, 910, 831, 563,\n",
       "       971, 324, 958, 838,  64, 429, 604, 340, 333, 760,  46, 789,  31,\n",
       "       260,  33, 140, 318, 268, 548, 986,  29, 530, 601, 778, 669, 448,\n",
       "       609, 824, 854, 274,  76, 686, 743,  60, 693,  82, 541, 571,  42,\n",
       "        98, 174, 856, 986, 680, 333, 450, 329, 674, 850, 454, 209,  68,\n",
       "       835, 256, 537,  93, 220, 493, 465, 732, 890, 117, 119, 872, 893,\n",
       "       763, 743, 718, 106, 468,  12,  16,  48,  44, 762, 554, 382, 388,\n",
       "        27, 863, 646, 789, 624, 389, 721,  31, 689, 219, 561, 431, 654,\n",
       "       567, 435, 222, 237, 892, 572,  74, 434, 176, 194, 995, 430, 535,\n",
       "       595, 430, 257, 450, 614, 654, 784, 113, 158, 962, 598, 128, 759,\n",
       "       821, 642, 688,  96, 497,  36, 860, 405, 434, 144, 582, 391, 802,\n",
       "       501, 636, 197, 448, 237, 648, 353,  44, 948, 171, 561,  86, 929,\n",
       "       413, 595,  51, 497, 473, 674, 952, 943, 273, 880, 564, 493, 919,\n",
       "       473, 791, 801, 910, 572, 241, 410, 129, 239, 102, 899, 295,  39,\n",
       "       777, 677, 628, 544,  38, 865, 421, 262, 810, 174, 994, 368, 344,\n",
       "       446, 904, 285, 338, 704,  58,  99, 189, 965, 419, 748, 838, 547,\n",
       "       882, 196, 649, 163, 278, 208, 850, 628, 950, 903,  85, 201, 798,\n",
       "       179, 804, 936, 194, 436, 220, 768, 612, 977, 554, 833, 400, 338,\n",
       "        96, 351,  43, 507,   6, 210, 298,  88, 497, 317, 870, 628, 121,\n",
       "       902, 558, 860, 184, 989, 333,  94, 548, 741, 955, 784, 460, 170,\n",
       "       164,  98, 701, 283, 466,  23, 955, 414, 494, 389, 378, 287, 940,\n",
       "       528, 319, 476, 692, 820, 259,   7, 171, 754, 505, 352, 716, 337,\n",
       "       930, 196, 895, 713, 971, 203, 614, 169, 779, 118, 376, 479, 796,\n",
       "       686,  23, 280, 997, 854, 609, 960, 921, 523, 800, 232, 605,  85,\n",
       "       372, 676, 532, 541, 321, 475, 689, 783, 441, 868,   6, 184, 243,\n",
       "       505, 224, 310, 697, 516, 895,  18, 711,  77, 102, 607, 803, 154,\n",
       "       306, 429, 758, 782, 452, 337, 759, 887, 862, 544, 650, 814, 472,\n",
       "       427, 886, 640, 478, 428, 139, 412, 922, 655, 451, 249,  15, 301,\n",
       "       801, 327, 282,  10, 612, 667, 637, 601,  28, 949, 445, 331, 208,\n",
       "       785, 775, 308, 301, 641, 705, 401, 870, 160, 724, 605, 379, 568,\n",
       "       876,  99, 661, 333, 732, 177, 330, 593, 227, 325, 327, 786, 332,\n",
       "       944,  54, 318, 965, 170, 345, 235, 735, 620, 384, 969, 452, 493,\n",
       "       863, 215, 813, 724, 913, 656, 557, 776, 276, 305, 570, 754, 490,\n",
       "       847, 857, 306, 807, 785, 614, 493, 561, 291, 464, 350, 913, 839,\n",
       "       679, 315, 187, 756, 631, 581, 878, 473, 517, 614, 807, 779, 364,\n",
       "       714, 553, 606, 608, 448, 789, 222, 129, 584, 552, 233, 442, 731,\n",
       "       442, 482, 443, 235, 499, 676, 259, 716,  38, 275, 883, 556, 567,\n",
       "       614, 108, 467, 645,  14, 143, 699, 395, 202, 591, 437, 965, 809,\n",
       "       790, 493,  88, 373, 943, 368, 256, 472, 968, 952, 630, 658, 745,\n",
       "       546, 459, 868, 309, 500, 125, 512, 645, 178, 426, 738, 336, 804,\n",
       "       645, 628, 175, 818, 941, 504, 251,  43, 876, 971,  11,  95, 284,\n",
       "       199, 891, 432,   0, 435, 901, 924,  17, 400, 263, 672, 139,  24,\n",
       "       792, 776, 231, 792, 659, 483, 147, 316, 133, 196, 492, 687, 597,\n",
       "       385, 100, 532, 782, 329,  90, 417, 114, 973, 557, 484, 778, 879,\n",
       "       505, 239, 579, 561, 601, 834, 230, 657, 237, 679, 650, 670, 553,\n",
       "       464, 751, 726, 822, 678, 536, 166, 382, 731, 417, 961, 916, 199,\n",
       "       607, 237, 321, 467, 369, 107,  26,  79, 785, 884, 650, 488,  33,\n",
       "       521, 200, 514, 700, 952, 845, 651, 299, 996, 426, 400, 725, 373,\n",
       "       715, 920, 431,  58, 850,   9,  41, 841, 711, 881, 378, 102, 353,\n",
       "        35, 241, 453, 346, 727, 209, 714, 471, 612, 328,  49, 531, 146,\n",
       "       387, 699, 308, 669, 736, 235, 542, 168, 563, 633, 165, 300, 356,\n",
       "       250, 364, 497, 136, 625, 806, 258, 426, 183,  47, 666, 341, 707,\n",
       "       866, 956, 756, 673, 158, 121, 641, 494,  24, 311, 589, 836, 393,\n",
       "       408, 826, 770, 952, 116, 196, 842, 455,  84, 306, 897, 321, 135,\n",
       "       945, 888, 398, 392, 995, 765, 669,  58, 155, 915, 441, 900, 718,\n",
       "       629,  34, 389, 277, 283, 181, 289, 826, 356, 191,  40,   7, 874,\n",
       "       312, 908, 829, 508, 918, 513, 964, 387, 295, 339, 102, 469, 880,\n",
       "       980,  67,   7, 293, 237, 947, 332, 603, 711, 942, 429, 819, 624,\n",
       "       834, 253,  82, 362, 517, 220, 278, 864, 204, 435, 295, 835, 264,\n",
       "       993, 888, 139, 992, 199, 945, 190, 239, 247, 695, 351, 960, 163,\n",
       "       867, 678, 927,  14, 139, 715, 348, 289,  85, 163,  95, 939, 782,\n",
       "       320, 707,  34, 778, 613, 754, 721, 942, 300, 104, 951, 924, 875,\n",
       "       604, 289,   4,  94, 168, 338, 813, 153, 118, 432, 720, 754, 806,\n",
       "       425, 382, 764, 507, 557, 456,  27, 550, 900, 391, 963,  84, 145,\n",
       "       940, 608, 917, 378, 611, 622, 526, 380, 114, 720, 565, 777,   0,\n",
       "       744, 275, 402, 883, 909, 220, 257, 306, 250, 328, 392, 423, 695,\n",
       "       727, 700, 889, 576, 421, 354, 692, 483, 539, 779, 147, 567, 176,\n",
       "       811, 384, 268, 978, 790, 598, 658, 986,  96, 316, 830, 459,   0,\n",
       "       135, 458, 169, 612,  25, 831, 641,   6, 162, 363, 318, 684, 352,\n",
       "       104, 886, 344, 337, 539, 227, 649, 166, 143, 794, 843, 375])"
      ]
     },
     "execution_count": 33,
     "metadata": {},
     "output_type": "execute_result"
    }
   ],
   "source": [
    "sample = np.random.randint(n,size=(n,))\n",
    "sambple"
   ]
  },
  {
   "cell_type": "code",
   "execution_count": null,
   "metadata": {},
   "outputs": [],
   "source": [
    "newy = onpx[sample]@nb+e[sample]\n",
    "newx = onpx[sample]\n",
    "model = least_squares_regressor(newx,newy)\n",
    "model.params\n"
   ]
  },
  {
   "cell_type": "code",
   "execution_count": null,
   "metadata": {},
   "outputs": [],
   "source": []
  },
  {
   "cell_type": "code",
   "execution_count": null,
   "metadata": {},
   "outputs": [],
   "source": []
  },
  {
   "cell_type": "code",
   "execution_count": null,
   "metadata": {},
   "outputs": [],
   "source": []
  },
  {
   "cell_type": "code",
   "execution_count": null,
   "metadata": {},
   "outputs": [],
   "source": []
  },
  {
   "cell_type": "code",
   "execution_count": null,
   "metadata": {},
   "outputs": [],
   "source": []
  },
  {
   "cell_type": "code",
   "execution_count": 26,
   "metadata": {},
   "outputs": [
    {
     "data": {
      "text/plain": [
       "array([[1.        , 0.34619265, 0.02329264, 0.4627711 ],\n",
       "       [0.34619265, 1.        , 0.09181138, 0.07614651],\n",
       "       [0.02329264, 0.09181138, 1.        , 0.32559585],\n",
       "       [0.4627711 , 0.07614651, 0.32559585, 1.        ]])"
      ]
     },
     "execution_count": 26,
     "metadata": {},
     "output_type": "execute_result"
    }
   ],
   "source": [
    "np.corrcoef(npx.T)"
   ]
  },
  {
   "cell_type": "markdown",
   "metadata": {},
   "source": [
    "## 2. Data Science\n",
    "\n",
    "\n",
    "### 2.1 Bagging\n",
    "\n",
    "Average multiple models fit with bootstrap samples"
   ]
  },
  {
   "cell_type": "markdown",
   "metadata": {},
   "source": [
    "### 2.1 Random Forest\n",
    "\n",
    "Average multiple models fit with subsets of the x variables and bootstrap samples"
   ]
  },
  {
   "cell_type": "markdown",
   "metadata": {},
   "source": [
    "### 2.2 Boosting\n",
    "\n",
    "Repeatedly fit trees on the residuals"
   ]
  },
  {
   "cell_type": "markdown",
   "metadata": {},
   "source": [
    "## 3. Programming challenges"
   ]
  },
  {
   "cell_type": "markdown",
   "metadata": {},
   "source": [
    "## 3.1 Gradient boosting\n",
    "\n",
    "Create plots for gradient boosting."
   ]
  },
  {
   "cell_type": "markdown",
   "metadata": {},
   "source": [
    "## 3.2 Insertion sort\n",
    "\n",
    "Put together a code to implement the insertion sort algorithm."
   ]
  },
  {
   "cell_type": "markdown",
   "metadata": {},
   "source": [
    "## 3.3 Principal components analysis\n",
    "\n",
    "Write a PCA class. Add an estimator for the number of principal componenets to use."
   ]
  }
 ],
 "metadata": {
  "kernelspec": {
   "display_name": "Python 3",
   "language": "python",
   "name": "python3"
  },
  "language_info": {
   "codemirror_mode": {
    "name": "ipython",
    "version": 3
   },
   "file_extension": ".py",
   "mimetype": "text/x-python",
   "name": "python",
   "nbconvert_exporter": "python",
   "pygments_lexer": "ipython3",
   "version": "3.7.4"
  }
 },
 "nbformat": 4,
 "nbformat_minor": 2
}

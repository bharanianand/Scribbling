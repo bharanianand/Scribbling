{
 "cells": [
  {
   "cell_type": "markdown",
   "metadata": {},
   "source": [
    "# Lecture 7--Training"
   ]
  },
  {
   "cell_type": "markdown",
   "metadata": {},
   "source": [
    "## 1. Programming: Linear/Quadratic Programming\n",
    "\n",
    "When performing optimization, it is sometimes possible to reduce a given problem to a linear or quadratic programming problem. Such problems have extremely fast solutions, which we can use to speed up our code. The downside is that we have to do a little math to put them in this form.\n",
    "\n",
    "### 1.1 Linear Programming\n",
    "\n",
    "$$\n",
    "\\begin{align}\n",
    "\\min_{x,s}\\;&c'x \\\\\n",
    "\\text{subject to}\\;& Gx+s=h \\\\\n",
    "& Ax=b \\\\\n",
    "& s\\geq0\n",
    "\\end{align}\n",
    "$$\n",
    "\n",
    "### 1.2 Quadratic Programming\n",
    "\n",
    "$$\n",
    "\\begin{align}\n",
    "\\min_{x}\\;&(1/2)x'Px+q'x \\\\\n",
    "\\text{subject to}\\;& Gx\\leq h \\\\\n",
    "& Ax=b\n",
    "\\end{align}\n",
    "$$"
   ]
  },
  {
   "cell_type": "markdown",
   "metadata": {},
   "source": [
    "## 2. Data Science\n",
    "\n",
    "### 2.1 $L_1$ Regularization\n",
    "\n",
    "Given a model:\n",
    "$$y=\\mathbf X\\beta+e$$\n",
    "The $L_1$ regularization of the model is defined by:\n",
    "$$\n",
    "\\begin{align}\n",
    "\\min_\\beta \\;& e'e \\\\\n",
    "\\text{subject to}\\;&\\Vert\\beta\\Vert_1 \\leq T\n",
    "\\end{align}\n",
    "$$\n",
    "Which is equivalent to the summation notation version:\n",
    "$$\n",
    "\\begin{align}\n",
    "\\min_\\beta \\;& \\sum_{i=1}^n e_i^2\\\\\n",
    "\\text{subject to}\\;&\\sum_{j=1}^r\\vert\\beta_j\\vert \\leq T\n",
    "\\end{align}\n",
    "$$\n",
    "Solving for $\\beta$ we obtain:\n",
    "$$\n",
    "\\begin{align}\n",
    "\\min_\\beta \\;& (1/2)\\beta'\\mathbf X'\\mathbf X \\beta-y'\\mathbf X \\beta\\\\\n",
    "\\text{subject to}\\;&\\mathbf 1_n'\\vert\\beta\\vert \\leq T\n",
    "\\end{align}\n",
    "$$ \n",
    "To put this in terms where we can use the quadratic programming format we need to split the betas into their positive and negative components: $\\beta=\\beta_+-\\beta_-$ So we define $\\beta_\\pm = [\\beta_+',\\beta_-']'$\n",
    "$$\n",
    "\\begin{align}\n",
    "\\min_{\\beta_{\\pm}} \\;& (1/2)\\beta_\\pm'\\left(\n",
    "\\begin{bmatrix}\n",
    "1 & -1 \\\\\n",
    "-1 & 1 \n",
    "\\end{bmatrix}\n",
    "\\otimes\\mathbf X'\\mathbf X \\right)\\beta_\\pm-\\left(\n",
    "\\begin{bmatrix}\n",
    "1 \\\\\n",
    "-1  \n",
    "\\end{bmatrix}\n",
    "\\otimes y'\\mathbf X \\right) \\beta_{\\pm}\\\\\n",
    "\\text{subject to}\\;&\\mathbf 1_{2n}'\\beta_\\pm \\leq T\\\\\n",
    "& -\\mathbf I_{2n} \\beta_{\\pm}\\leq 0\n",
    "\\end{align}\n",
    "$$"
   ]
  },
  {
   "cell_type": "code",
   "execution_count": 3,
   "metadata": {},
   "outputs": [
    {
     "name": "stdout",
     "output_type": "stream",
     "text": [
      "Requirement already satisfied: cvxopt in c:\\users\\lenovo\\appdata\\roaming\\python\\python37\\site-packages (1.2.4)\n",
      "Requirement already satisfied: mkl in c:\\users\\lenovo\\appdata\\roaming\\python\\python37\\site-packages (from cvxopt) (2019.0)\n",
      "Requirement already satisfied: intel-openmp in c:\\users\\lenovo\\appdata\\roaming\\python\\python37\\site-packages (from mkl->cvxopt) (2019.0)\n"
     ]
    }
   ],
   "source": [
    "!pip install --user cvxopt"
   ]
  },
  {
   "cell_type": "code",
   "execution_count": 1,
   "metadata": {},
   "outputs": [
    {
     "ename": "ImportError",
     "evalue": "DLL load failed: The specified module could not be found.",
     "output_type": "error",
     "traceback": [
      "\u001b[1;31m---------------------------------------------------------------------------\u001b[0m",
      "\u001b[1;31mImportError\u001b[0m                               Traceback (most recent call last)",
      "\u001b[1;32m<ipython-input-1-59f26213eb0c>\u001b[0m in \u001b[0;36m<module>\u001b[1;34m\u001b[0m\n\u001b[1;32m----> 1\u001b[1;33m \u001b[1;32mimport\u001b[0m \u001b[0mcvxopt\u001b[0m \u001b[1;32mas\u001b[0m \u001b[0mcvx\u001b[0m\u001b[1;33m\u001b[0m\u001b[1;33m\u001b[0m\u001b[0m\n\u001b[0m",
      "\u001b[1;32m~\\AppData\\Roaming\\Python\\Python37\\site-packages\\cvxopt\\__init__.py\u001b[0m in \u001b[0;36m<module>\u001b[1;34m\u001b[0m\n\u001b[0;32m     48\u001b[0m along with this program.  If not, see <http://www.gnu.org/licenses/>.\"\"\"\n\u001b[0;32m     49\u001b[0m \u001b[1;33m\u001b[0m\u001b[0m\n\u001b[1;32m---> 50\u001b[1;33m \u001b[1;32mimport\u001b[0m \u001b[0mcvxopt\u001b[0m\u001b[1;33m.\u001b[0m\u001b[0mbase\u001b[0m\u001b[1;33m\u001b[0m\u001b[1;33m\u001b[0m\u001b[0m\n\u001b[0m\u001b[0;32m     51\u001b[0m \u001b[1;33m\u001b[0m\u001b[0m\n\u001b[0;32m     52\u001b[0m \u001b[1;32mdef\u001b[0m \u001b[0mcopyright\u001b[0m\u001b[1;33m(\u001b[0m\u001b[1;33m)\u001b[0m\u001b[1;33m:\u001b[0m\u001b[1;33m\u001b[0m\u001b[1;33m\u001b[0m\u001b[0m\n",
      "\u001b[1;31mImportError\u001b[0m: DLL load failed: The specified module could not be found."
     ]
    }
   ],
   "source": [
    "import cvxopt as cvx"
   ]
  },
  {
   "cell_type": "code",
   "execution_count": 12,
   "metadata": {},
   "outputs": [],
   "source": [
    "import numpy as np\n",
    "import pandas as pd\n",
    "from cleands import *\n",
    "from scipy.stats import zscore\n",
    "\n",
    "df = pd.read_csv('BWGHT.csv')\n",
    "npx = zscore(df[['cigs','faminc','male','white']].values)\n",
    "npy = zscore(df['bwght'].values)\n",
    "#ones = np.ones((npx.shape[0],1))\n",
    "#npx = np.hstack((ones,npx))"
   ]
  },
  {
   "cell_type": "code",
   "execution_count": null,
   "metadata": {},
   "outputs": [],
   "source": [
    "npx"
   ]
  },
  {
   "cell_type": "code",
   "execution_count": null,
   "metadata": {},
   "outputs": [],
   "source": [
    "import cvxopt  as cvx\n",
    "thresh = 2.3\n",
    "P = np.kron(np.array([[1,-1],[-1,1]]),npx.T@npx)\n",
    "q = np.kron(np.array([[1],[-1]]),npx.T@npx)\n",
    "\n",
    "G_1 = -np.eye(2*npx.shape[1])\n",
    "h_1 = np.zeros((2*npx.shape[1],1))\n",
    "G_2 = np.ones([1,2*npx.shape[1]])\n",
    "h_2 = np.array([thresh])\n",
    "G = np.vstack([G_1,G_2])\n",
    "h = np.vstack([h_1,h_2])\n",
    "cvx.solvers.qp(cvx.matrix(P), cvx.matrix(q), cvx.matrix(G), cvx.matrix(h))\n",
    "opt = opt['x']\n",
    "opt = np.array(opt)\n",
    "np.vstack([np.eye(npx.shpae[1]),-np.eye(npx.shape[1])]).T@opt\n"
   ]
  },
  {
   "cell_type": "code",
   "execution_count": null,
   "metadata": {},
   "outputs": [],
   "source": [
    "import numpy as np\n",
    "import pandas as pd\n",
    "from cleands import *\n",
    "\n",
    "bwght = pd.read_csv('BWGHT.csv')\n",
    "npx = bwght[['cigs','faminc','male','white']].values\n",
    "ones = np.ones([npx.shape[0],1])\n",
    "npx = np.hstack([ones,npx])\n",
    "npy = bwght['bwght'].values"
   ]
  },
  {
   "cell_type": "code",
   "execution_count": null,
   "metadata": {},
   "outputs": [],
   "source": [
    "import cvxopt as cvx\n",
    "import cvxopt.solvers as solv\n",
    "\n",
    "def solve_lasso(x,y,thresh:float):\n",
    "    (n,r) = x.shape\n",
    "    P = cvx.matrix(np.kron(np.matrix([[1,-1],[-1,1]]),x.T@x))\n",
    "    q = cvx.matrix(np.kron(np.matrix([[1],[-1]]),x.T@y.reshape(-1,1)))\n",
    "    G = cvx.matrix(np.vstack((-np.eye(2*r),np.ones((1,2*r)))))\n",
    "    h = cvx.matrix(np.vstack((np.zeros((2*r,1)),thresh)))\n",
    "    b = np.array(solv.qp(P,q,G,h)['x'])\n",
    "    b = b[r:,0]-b[:r,0]\n",
    "    if len(y.shape) == 1: return b.reshape(-1,)\n",
    "    else: return b"
   ]
  },
  {
   "cell_type": "code",
   "execution_count": null,
   "metadata": {},
   "outputs": [],
   "source": [
    "solve_lasso(npx,npy,thresh=115)"
   ]
  },
  {
   "cell_type": "code",
   "execution_count": 13,
   "metadata": {},
   "outputs": [
    {
     "ename": "TypeError",
     "evalue": "__init__() got an unexpected keyword argument 'thresh'",
     "output_type": "error",
     "traceback": [
      "\u001b[1;31m---------------------------------------------------------------------------\u001b[0m",
      "\u001b[1;31mTypeError\u001b[0m                                 Traceback (most recent call last)",
      "\u001b[1;32m<ipython-input-13-ceaf62d4f43d>\u001b[0m in \u001b[0;36m<module>\u001b[1;34m\u001b[0m\n\u001b[0;32m     14\u001b[0m             \u001b[1;32mreturn\u001b[0m \u001b[0msolve_lasso\u001b[0m\u001b[1;33m(\u001b[0m\u001b[0mx\u001b[0m\u001b[1;33m,\u001b[0m\u001b[0my\u001b[0m\u001b[1;33m,\u001b[0m\u001b[0mthresh\u001b[0m\u001b[1;33m)\u001b[0m\u001b[1;33m\u001b[0m\u001b[1;33m\u001b[0m\u001b[0m\n\u001b[0;32m     15\u001b[0m \u001b[1;33m\u001b[0m\u001b[0m\n\u001b[1;32m---> 16\u001b[1;33m \u001b[0ml1_regularization_regressor\u001b[0m\u001b[1;33m(\u001b[0m\u001b[0mnpx\u001b[0m\u001b[1;33m,\u001b[0m\u001b[0mnpy\u001b[0m\u001b[1;33m,\u001b[0m\u001b[0mthresh\u001b[0m\u001b[1;33m=\u001b[0m\u001b[1;36m1.0\u001b[0m\u001b[1;33m)\u001b[0m\u001b[1;33m.\u001b[0m\u001b[0mparams\u001b[0m\u001b[1;33m\u001b[0m\u001b[1;33m\u001b[0m\u001b[0m\n\u001b[0m",
      "\u001b[1;32m<ipython-input-13-ceaf62d4f43d>\u001b[0m in \u001b[0;36m__init__\u001b[1;34m(self, x, y, thresh, *args, **kwargs)\u001b[0m\n\u001b[0;32m      2\u001b[0m \u001b[1;32mclass\u001b[0m \u001b[0ml1_regularization_regressor\u001b[0m\u001b[1;33m(\u001b[0m\u001b[0mleast_squares_regressor\u001b[0m\u001b[1;33m)\u001b[0m\u001b[1;33m:\u001b[0m\u001b[1;33m\u001b[0m\u001b[1;33m\u001b[0m\u001b[0m\n\u001b[0;32m      3\u001b[0m     \u001b[1;32mdef\u001b[0m \u001b[0m__init__\u001b[0m\u001b[1;33m(\u001b[0m\u001b[0mself\u001b[0m\u001b[1;33m,\u001b[0m\u001b[0mx\u001b[0m\u001b[1;33m,\u001b[0m\u001b[0my\u001b[0m\u001b[1;33m,\u001b[0m\u001b[0mthresh\u001b[0m\u001b[1;33m:\u001b[0m\u001b[0mfloat\u001b[0m\u001b[1;33m,\u001b[0m\u001b[1;33m*\u001b[0m\u001b[0margs\u001b[0m\u001b[1;33m,\u001b[0m\u001b[1;33m**\u001b[0m\u001b[0mkwargs\u001b[0m\u001b[1;33m)\u001b[0m\u001b[1;33m:\u001b[0m\u001b[1;33m\u001b[0m\u001b[1;33m\u001b[0m\u001b[0m\n\u001b[1;32m----> 4\u001b[1;33m         \u001b[0msuper\u001b[0m\u001b[1;33m(\u001b[0m\u001b[0ml1_regularization_regressor\u001b[0m\u001b[1;33m,\u001b[0m\u001b[0mself\u001b[0m\u001b[1;33m)\u001b[0m\u001b[1;33m.\u001b[0m\u001b[0m__init__\u001b[0m\u001b[1;33m(\u001b[0m\u001b[0mx\u001b[0m\u001b[1;33m,\u001b[0m\u001b[0my\u001b[0m\u001b[1;33m,\u001b[0m\u001b[0mthresh\u001b[0m\u001b[1;33m=\u001b[0m\u001b[0mthresh\u001b[0m\u001b[1;33m,\u001b[0m\u001b[1;33m*\u001b[0m\u001b[0margs\u001b[0m\u001b[1;33m,\u001b[0m\u001b[1;33m**\u001b[0m\u001b[0mkwargs\u001b[0m\u001b[1;33m)\u001b[0m\u001b[1;33m\u001b[0m\u001b[1;33m\u001b[0m\u001b[0m\n\u001b[0m\u001b[0;32m      5\u001b[0m         \u001b[0mself\u001b[0m\u001b[1;33m.\u001b[0m\u001b[0mthreshold\u001b[0m\u001b[1;33m=\u001b[0m\u001b[0mthresh\u001b[0m\u001b[1;33m\u001b[0m\u001b[1;33m\u001b[0m\u001b[0m\n\u001b[0;32m      6\u001b[0m     \u001b[1;32mdef\u001b[0m \u001b[0m__fit__\u001b[0m\u001b[1;33m(\u001b[0m\u001b[0mself\u001b[0m\u001b[1;33m,\u001b[0m\u001b[0mx\u001b[0m\u001b[1;33m,\u001b[0m\u001b[0my\u001b[0m\u001b[1;33m,\u001b[0m\u001b[0mthresh\u001b[0m\u001b[1;33m:\u001b[0m\u001b[0mfloat\u001b[0m\u001b[1;33m,\u001b[0m\u001b[1;33m*\u001b[0m\u001b[0margs\u001b[0m\u001b[1;33m,\u001b[0m\u001b[1;33m**\u001b[0m\u001b[0mkwargs\u001b[0m\u001b[1;33m)\u001b[0m\u001b[1;33m:\u001b[0m\u001b[1;33m\u001b[0m\u001b[1;33m\u001b[0m\u001b[0m\n",
      "\u001b[1;32m~\\Downloads\\cleands.py\u001b[0m in \u001b[0;36m__init__\u001b[1;34m(self, x, y, white, hc, *args, **kwargs)\u001b[0m\n\u001b[0;32m     73\u001b[0m \u001b[1;32mclass\u001b[0m \u001b[0mleast_squares_regressor\u001b[0m\u001b[1;33m(\u001b[0m\u001b[0mlinear_model\u001b[0m\u001b[1;33m)\u001b[0m\u001b[1;33m:\u001b[0m\u001b[1;33m\u001b[0m\u001b[1;33m\u001b[0m\u001b[0m\n\u001b[0;32m     74\u001b[0m     \u001b[1;32mdef\u001b[0m \u001b[0m__init__\u001b[0m\u001b[1;33m(\u001b[0m\u001b[0mself\u001b[0m\u001b[1;33m,\u001b[0m\u001b[0mx\u001b[0m\u001b[1;33m,\u001b[0m\u001b[0my\u001b[0m\u001b[1;33m,\u001b[0m\u001b[0mwhite\u001b[0m\u001b[1;33m:\u001b[0m\u001b[0mbool\u001b[0m\u001b[1;33m=\u001b[0m\u001b[1;32mFalse\u001b[0m\u001b[1;33m,\u001b[0m\u001b[0mhc\u001b[0m\u001b[1;33m:\u001b[0m\u001b[0mint\u001b[0m\u001b[1;33m=\u001b[0m\u001b[1;36m3\u001b[0m\u001b[1;33m,\u001b[0m\u001b[1;33m*\u001b[0m\u001b[0margs\u001b[0m\u001b[1;33m,\u001b[0m\u001b[1;33m**\u001b[0m\u001b[0mkwargs\u001b[0m\u001b[1;33m)\u001b[0m\u001b[1;33m:\u001b[0m\u001b[1;33m\u001b[0m\u001b[1;33m\u001b[0m\u001b[0m\n\u001b[1;32m---> 75\u001b[1;33m         \u001b[0msuper\u001b[0m\u001b[1;33m(\u001b[0m\u001b[0mleast_squares_regressor\u001b[0m\u001b[1;33m,\u001b[0m\u001b[0mself\u001b[0m\u001b[1;33m)\u001b[0m\u001b[1;33m.\u001b[0m\u001b[0m__init__\u001b[0m\u001b[1;33m(\u001b[0m\u001b[0mx\u001b[0m\u001b[1;33m,\u001b[0m\u001b[0my\u001b[0m\u001b[1;33m,\u001b[0m\u001b[1;33m*\u001b[0m\u001b[0margs\u001b[0m\u001b[1;33m,\u001b[0m\u001b[1;33m**\u001b[0m\u001b[0mkwargs\u001b[0m\u001b[1;33m)\u001b[0m\u001b[1;33m\u001b[0m\u001b[1;33m\u001b[0m\u001b[0m\n\u001b[0m\u001b[0;32m     76\u001b[0m         \u001b[0mself\u001b[0m\u001b[1;33m.\u001b[0m\u001b[0mparams\u001b[0m \u001b[1;33m=\u001b[0m \u001b[0mnp\u001b[0m\u001b[1;33m.\u001b[0m\u001b[0mlinalg\u001b[0m\u001b[1;33m.\u001b[0m\u001b[0msolve\u001b[0m\u001b[1;33m(\u001b[0m\u001b[0mself\u001b[0m\u001b[1;33m.\u001b[0m\u001b[0mx\u001b[0m\u001b[1;33m.\u001b[0m\u001b[0mT\u001b[0m\u001b[1;33m@\u001b[0m\u001b[0mself\u001b[0m\u001b[1;33m.\u001b[0m\u001b[0mx\u001b[0m\u001b[1;33m,\u001b[0m\u001b[0mself\u001b[0m\u001b[1;33m.\u001b[0m\u001b[0mx\u001b[0m\u001b[1;33m.\u001b[0m\u001b[0mT\u001b[0m\u001b[1;33m@\u001b[0m\u001b[0mself\u001b[0m\u001b[1;33m.\u001b[0m\u001b[0my\u001b[0m\u001b[1;33m)\u001b[0m\u001b[1;33m\u001b[0m\u001b[1;33m\u001b[0m\u001b[0m\n\u001b[0;32m     77\u001b[0m         \u001b[0mself\u001b[0m\u001b[1;33m.\u001b[0m\u001b[0mwhite\u001b[0m \u001b[1;33m=\u001b[0m \u001b[0mwhite\u001b[0m\u001b[1;33m\u001b[0m\u001b[1;33m\u001b[0m\u001b[0m\n",
      "\u001b[1;31mTypeError\u001b[0m: __init__() got an unexpected keyword argument 'thresh'"
     ]
    }
   ],
   "source": [
    "from cleands import *\n",
    "class l1_regularization_regressor(least_squares_regressor):\n",
    "    def __init__(self,x,y,thresh:float,*args,**kwargs):\n",
    "        super(l1_regularization_regressor,self).__init__(x,y,thresh=thresh,*args,**kwargs)\n",
    "        self.threshold=thresh\n",
    "    def __fit__(self,x,y,thresh:float,*args,**kwargs):\n",
    "        if x[:,0].var()==0:\n",
    "            dx = x[:,1:]-x[:,1:].mean(0)\n",
    "            dy = y-y.mean(0)\n",
    "            outp = solve_lasso(dx,dy,thresh)\n",
    "            intc = y.mean(0)-x[:,1:].mean(0)@outp.reshape(-1,1)\n",
    "            return np.concatenate([intc,outp])\n",
    "        else:\n",
    "            return solve_lasso(x,y,thresh)\n",
    "        \n",
    "l1_regularization_regressor(npx,npy,thresh=1.0).params"
   ]
  },
  {
   "cell_type": "markdown",
   "metadata": {},
   "source": [
    "### 2.2 Cross-validation"
   ]
  },
  {
   "cell_type": "code",
   "execution_count": 3,
   "metadata": {},
   "outputs": [
    {
     "ename": "SyntaxError",
     "evalue": "invalid syntax (<ipython-input-3-0a29b8f3c56c>, line 12)",
     "output_type": "error",
     "traceback": [
      "\u001b[1;36m  File \u001b[1;32m\"<ipython-input-3-0a29b8f3c56c>\"\u001b[1;36m, line \u001b[1;32m12\u001b[0m\n\u001b[1;33m    model = l1_regularization_regressor)(npx[train],npy[train],thresh=1)\u001b[0m\n\u001b[1;37m                                       ^\u001b[0m\n\u001b[1;31mSyntaxError\u001b[0m\u001b[1;31m:\u001b[0m invalid syntax\n"
     ]
    }
   ],
   "source": [
    "def mean_squared_error(model,x,y):\n",
    "    ypred = model.predict(x)\n",
    "    return ((y-ypred)**2).mean()\n",
    "\n",
    "k=5\n",
    "np.random.seed(90210)\n",
    "n = npy.shape[0]\n",
    "deck = np.arrange(n)\n",
    "np.random.shuffle(deck)\n",
    "test = deck[0:int((n/k))]\n",
    "train = deck[int(n/k):n]\n",
    "model = l1_regularization_regressor)(npx[train],npy[train],thresh=1)\n",
    "mspe = mean_squared_error(model,npx[test], npy[test])\n",
    "\n",
    "test = deck[int(n/k):int(n/k*2)]\n",
    "train_l = deck[;int(n/k)]\n",
    "train_u = deck[int(n/k*2):]\n",
    "train = np.concatenate([train_l,train_u])\n",
    "model = l1_regularization_regressor)(npx[train],npy[train],thresh=1)\n",
    "mspe = mean_squared_error(model,npx[test], npy[test])\n"
   ]
  },
  {
   "cell_type": "code",
   "execution_count": 8,
   "metadata": {},
   "outputs": [],
   "source": [
    "def mean_squared_error(model,x,y):\n",
    "    res = y-model.predict(x)\n",
    "    return res.T@res/y.shape[0]\n",
    "\n",
    "def kfold_cross_validation(model,x,y,statistic=mean_squared_error,folds:int=5,seed=None):\n",
    "    if seed!=None: np.random.seed(seed)\n",
    "    n = y.shape[0]\n",
    "    deck = np.arange(n)\n",
    "    np.random.shuffle(deck)\n",
    "    mse = []\n",
    "    for k in range(folds):\n",
    "        test = deck[int(n/folds)*k:int(n/folds)*(k+1)]\n",
    "        train_lower = deck[:int(n/folds)*k]\n",
    "        train_upper = deck[int(n/folds)*(k+1):]\n",
    "        train = np.concatenate([train_lower,train_upper])\n",
    "        mse += [statistic(model(x[train],y[train]),x[test],y[test])]\n",
    "    return np.array(mse)"
   ]
  },
  {
   "cell_type": "code",
   "execution_count": null,
   "metadata": {},
   "outputs": [],
   "source": [
    "import matplotlib as mlp\n",
    "\n",
    "x = np.range(1,10)\n",
    "y - np."
   ]
  },
  {
   "cell_type": "code",
   "execution_count": 9,
   "metadata": {
    "scrolled": true
   },
   "outputs": [
    {
     "ename": "NameError",
     "evalue": "name 'l1_regularization_regressor' is not defined",
     "output_type": "error",
     "traceback": [
      "\u001b[1;31m---------------------------------------------------------------------------\u001b[0m",
      "\u001b[1;31mNameError\u001b[0m                                 Traceback (most recent call last)",
      "\u001b[1;32m<ipython-input-9-82184ee1bd74>\u001b[0m in \u001b[0;36m<module>\u001b[1;34m\u001b[0m\n\u001b[1;32m----> 1\u001b[1;33m \u001b[1;32mclass\u001b[0m \u001b[0ml1_cross_validation_regressor\u001b[0m\u001b[1;33m(\u001b[0m\u001b[0ml1_regularization_regressor\u001b[0m\u001b[1;33m)\u001b[0m\u001b[1;33m:\u001b[0m\u001b[1;33m\u001b[0m\u001b[1;33m\u001b[0m\u001b[0m\n\u001b[0m\u001b[0;32m      2\u001b[0m     \u001b[1;32mdef\u001b[0m \u001b[0m__init__\u001b[0m\u001b[1;33m(\u001b[0m\u001b[0mself\u001b[0m\u001b[1;33m,\u001b[0m\u001b[0mx\u001b[0m\u001b[1;33m,\u001b[0m\u001b[0my\u001b[0m\u001b[1;33m,\u001b[0m\u001b[0mmax_thresh\u001b[0m\u001b[1;33m=\u001b[0m\u001b[1;32mNone\u001b[0m\u001b[1;33m,\u001b[0m\u001b[0mfolds\u001b[0m\u001b[1;33m:\u001b[0m\u001b[0mint\u001b[0m\u001b[1;33m=\u001b[0m\u001b[1;36m5\u001b[0m\u001b[1;33m,\u001b[0m\u001b[0mstatistic\u001b[0m\u001b[1;33m=\u001b[0m\u001b[0mmean_squared_error\u001b[0m\u001b[1;33m,\u001b[0m\u001b[1;33m*\u001b[0m\u001b[0margs\u001b[0m\u001b[1;33m,\u001b[0m\u001b[1;33m**\u001b[0m\u001b[0mkwargs\u001b[0m\u001b[1;33m)\u001b[0m\u001b[1;33m:\u001b[0m\u001b[1;33m\u001b[0m\u001b[1;33m\u001b[0m\u001b[0m\n\u001b[0;32m      3\u001b[0m         \u001b[0mdefault_state\u001b[0m \u001b[1;33m=\u001b[0m \u001b[0msolv\u001b[0m\u001b[1;33m.\u001b[0m\u001b[0moptions\u001b[0m\u001b[1;33m[\u001b[0m\u001b[1;34m'show_progress'\u001b[0m\u001b[1;33m]\u001b[0m\u001b[1;33m\u001b[0m\u001b[1;33m\u001b[0m\u001b[0m\n\u001b[0;32m      4\u001b[0m         \u001b[0msolv\u001b[0m\u001b[1;33m.\u001b[0m\u001b[0moptions\u001b[0m\u001b[1;33m[\u001b[0m\u001b[1;34m'show_progress'\u001b[0m\u001b[1;33m]\u001b[0m \u001b[1;33m=\u001b[0m \u001b[1;32mFalse\u001b[0m\u001b[1;33m\u001b[0m\u001b[1;33m\u001b[0m\u001b[0m\n\u001b[0;32m      5\u001b[0m         \u001b[1;32mif\u001b[0m \u001b[0mmax_thresh\u001b[0m\u001b[1;33m==\u001b[0m\u001b[1;32mNone\u001b[0m\u001b[1;33m:\u001b[0m \u001b[0mmax_thresh\u001b[0m \u001b[1;33m=\u001b[0m \u001b[0mleast_squares_regressor\u001b[0m\u001b[1;33m(\u001b[0m\u001b[0mx\u001b[0m\u001b[1;33m,\u001b[0m\u001b[0my\u001b[0m\u001b[1;33m)\u001b[0m\u001b[1;33m.\u001b[0m\u001b[0mparams\u001b[0m\u001b[1;33m[\u001b[0m\u001b[1;36m1\u001b[0m\u001b[1;33m:\u001b[0m\u001b[1;33m]\u001b[0m\u001b[1;33m.\u001b[0m\u001b[0msum\u001b[0m\u001b[1;33m(\u001b[0m\u001b[1;33m)\u001b[0m\u001b[1;33m\u001b[0m\u001b[1;33m\u001b[0m\u001b[0m\n",
      "\u001b[1;31mNameError\u001b[0m: name 'l1_regularization_regressor' is not defined"
     ]
    }
   ],
   "source": [
    "class l1_cross_validation_regressor(l1_regularization_regressor):\n",
    "    def __init__(self,x,y,max_thresh=None,folds:int=5,statistic=mean_squared_error,*args,**kwargs):\n",
    "        default_state = solv.options['show_progress']\n",
    "        solv.options['show_progress'] = False\n",
    "        if max_thresh==None: max_thresh = least_squares_regressor(x,y).params[1:].sum()\n",
    "        outp = []\n",
    "        for lam in np.linspace(0,1,100):\n",
    "            model = lambda x,y: l1_regularization_regressor(x,y,thresh=lam*max_thresh)\n",
    "            mse = kfold_cross_validation(model,x,y,folds=folds,statistic=statistic,seed=5).mean()\n",
    "            outp += [(mse,lam)]\n",
    "        outp = np.array(outp)\n",
    "        thresh = outp[outp[:,0].argmin(),1]*max_thresh\n",
    "        solv.options['show_progress'] = default_state\n",
    "        super(l1_cross_validation_regressor,self).__init__(x,y,thresh=thresh,*args,**kwargs)\n",
    "model = l1_cross_validation_regressor(npx,npy)\n",
    "print(model.params)\n",
    "print(model.threshold)"
   ]
  },
  {
   "cell_type": "code",
   "execution_count": null,
   "metadata": {},
   "outputs": [],
   "source": []
  },
  {
   "cell_type": "markdown",
   "metadata": {},
   "source": [
    "## 3. Programming challenges"
   ]
  },
  {
   "cell_type": "markdown",
   "metadata": {},
   "source": [
    "### 3.1 Tree Simulation\n",
    "\n",
    "Write a monte carlo simulation comparing the accuracy of tree based models to that of regression for categorical data."
   ]
  },
  {
   "cell_type": "markdown",
   "metadata": {},
   "source": [
    "### 3.2 Recursive partitioning until non-rejection\n",
    "\n",
    "Modify our recursive partitioning code to test the null that the two groups are equal and stop splitting when the null cannot be rejected. Bonus points if you use the Bonferonni correction when making the decision to split."
   ]
  }
 ],
 "metadata": {
  "kernelspec": {
   "display_name": "Python 3",
   "language": "python",
   "name": "python3"
  },
  "language_info": {
   "codemirror_mode": {
    "name": "ipython",
    "version": 3
   },
   "file_extension": ".py",
   "mimetype": "text/x-python",
   "name": "python",
   "nbconvert_exporter": "python",
   "pygments_lexer": "ipython3",
   "version": "3.7.4"
  }
 },
 "nbformat": 4,
 "nbformat_minor": 2
}

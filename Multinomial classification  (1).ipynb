{
 "cells": [
  {
   "cell_type": "markdown",
   "metadata": {},
   "source": [
    "# Example 1:\n",
    "The following is an example of a grid search object with different scoring functions. Note that changing the scoring function may result in a different best score and/or best parameters. You can replace the default scoring function with any metrics we studied in class. The following example is a multinomial classification, so we also need to specify the \"average\" method as well. "
   ]
  },
  {
   "cell_type": "code",
   "execution_count": 1,
   "metadata": {},
   "outputs": [
    {
     "name": "stdout",
     "output_type": "stream",
     "text": [
      "label 0: 30\n",
      "label 1: 24\n",
      "label 2: 41\n",
      "label 3: 105\n",
      "all lables: 200\n"
     ]
    }
   ],
   "source": [
    "#First let's create a multinomial dataset. This dataset has four labels 0, 1, 2, and 3\n",
    "\n",
    "from sklearn.datasets import make_multilabel_classification\n",
    "X, t = make_multilabel_classification(n_samples=200, n_features=10, n_classes = 2, n_labels = 3,\n",
    "                                     random_state = 0)\n",
    "y = t[:,1]*2 + t[:, 0]\n",
    "\n",
    "print('label 0:', len(y[y == 0]))\n",
    "print('label 1:', len(y[y == 1]))\n",
    "print('label 2:', len(y[y == 2]))\n",
    "print('label 3:', len(y[y == 3]))\n",
    "print('all lables:', len(y))      "
   ]
  },
  {
   "cell_type": "code",
   "execution_count": 2,
   "metadata": {},
   "outputs": [],
   "source": [
    "#preprocessing steps: spliting the dataset\n",
    "#scaling train and test datasets\n",
    "from sklearn.model_selection import train_test_split\n",
    "from sklearn.model_selection import GridSearchCV\n",
    "from sklearn.preprocessing import MinMaxScaler\n",
    "\n",
    "X_train_org, X_test_org, y_train, y_test = train_test_split(X, y, random_state = 42)\n",
    "\n",
    "scaler = MinMaxScaler()\n",
    "X_train = scaler.fit_transform(X_train_org)\n",
    "X_test = scaler.transform(X_test_org)"
   ]
  },
  {
   "cell_type": "code",
   "execution_count": 3,
   "metadata": {},
   "outputs": [
    {
     "name": "stdout",
     "output_type": "stream",
     "text": [
      "{'C': 25}\n",
      "0.8529623748813026\n",
      "<function _passthrough_scorer at 0x000001D46C991DC8>\n"
     ]
    }
   ],
   "source": [
    "#instantiate a GridSearcCV object with default scoring function (accuracy)\n",
    "\n",
    "from sklearn.linear_model import LogisticRegression\n",
    "param_grid = {'C':[1, 10, 25, 50, 75, 100]}\n",
    "\n",
    "grid1 = GridSearchCV(LogisticRegression(multi_class = 'auto', solver = 'lbfgs', max_iter = 5000), \n",
    "                     param_grid, cv =7 , return_train_score= True, iid = False)\n",
    "grid1.fit(X_train, y_train)\n",
    "print(grid1.best_params_)\n",
    "print(grid1.best_score_)\n",
    "print(grid1.scorer_)"
   ]
  },
  {
   "cell_type": "code",
   "execution_count": 4,
   "metadata": {},
   "outputs": [
    {
     "data": {
      "text/html": [
       "<div>\n",
       "<style scoped>\n",
       "    .dataframe tbody tr th:only-of-type {\n",
       "        vertical-align: middle;\n",
       "    }\n",
       "\n",
       "    .dataframe tbody tr th {\n",
       "        vertical-align: top;\n",
       "    }\n",
       "\n",
       "    .dataframe thead th {\n",
       "        text-align: right;\n",
       "    }\n",
       "</style>\n",
       "<table border=\"1\" class=\"dataframe\">\n",
       "  <thead>\n",
       "    <tr style=\"text-align: right;\">\n",
       "      <th></th>\n",
       "      <th>mean_fit_time</th>\n",
       "      <th>std_fit_time</th>\n",
       "      <th>mean_score_time</th>\n",
       "      <th>std_score_time</th>\n",
       "      <th>param_C</th>\n",
       "      <th>params</th>\n",
       "      <th>split0_test_score</th>\n",
       "      <th>split1_test_score</th>\n",
       "      <th>split2_test_score</th>\n",
       "      <th>split3_test_score</th>\n",
       "      <th>...</th>\n",
       "      <th>rank_test_score</th>\n",
       "      <th>split0_train_score</th>\n",
       "      <th>split1_train_score</th>\n",
       "      <th>split2_train_score</th>\n",
       "      <th>split3_train_score</th>\n",
       "      <th>split4_train_score</th>\n",
       "      <th>split5_train_score</th>\n",
       "      <th>split6_train_score</th>\n",
       "      <th>mean_train_score</th>\n",
       "      <th>std_train_score</th>\n",
       "    </tr>\n",
       "  </thead>\n",
       "  <tbody>\n",
       "    <tr>\n",
       "      <td>0</td>\n",
       "      <td>0.007694</td>\n",
       "      <td>0.001021</td>\n",
       "      <td>0.000000</td>\n",
       "      <td>0.000000</td>\n",
       "      <td>1</td>\n",
       "      <td>{'C': 1}</td>\n",
       "      <td>0.739130</td>\n",
       "      <td>0.695652</td>\n",
       "      <td>0.782609</td>\n",
       "      <td>0.761905</td>\n",
       "      <td>...</td>\n",
       "      <td>6</td>\n",
       "      <td>0.779528</td>\n",
       "      <td>0.771654</td>\n",
       "      <td>0.755906</td>\n",
       "      <td>0.767442</td>\n",
       "      <td>0.775194</td>\n",
       "      <td>0.784615</td>\n",
       "      <td>0.770992</td>\n",
       "      <td>0.772190</td>\n",
       "      <td>0.008508</td>\n",
       "    </tr>\n",
       "    <tr>\n",
       "      <td>1</td>\n",
       "      <td>0.011681</td>\n",
       "      <td>0.001270</td>\n",
       "      <td>0.000143</td>\n",
       "      <td>0.000350</td>\n",
       "      <td>10</td>\n",
       "      <td>{'C': 10}</td>\n",
       "      <td>0.826087</td>\n",
       "      <td>0.826087</td>\n",
       "      <td>0.826087</td>\n",
       "      <td>0.904762</td>\n",
       "      <td>...</td>\n",
       "      <td>5</td>\n",
       "      <td>0.913386</td>\n",
       "      <td>0.889764</td>\n",
       "      <td>0.921260</td>\n",
       "      <td>0.875969</td>\n",
       "      <td>0.914729</td>\n",
       "      <td>0.892308</td>\n",
       "      <td>0.893130</td>\n",
       "      <td>0.900078</td>\n",
       "      <td>0.015291</td>\n",
       "    </tr>\n",
       "    <tr>\n",
       "      <td>2</td>\n",
       "      <td>0.013688</td>\n",
       "      <td>0.001262</td>\n",
       "      <td>0.000281</td>\n",
       "      <td>0.000444</td>\n",
       "      <td>25</td>\n",
       "      <td>{'C': 25}</td>\n",
       "      <td>0.826087</td>\n",
       "      <td>0.869565</td>\n",
       "      <td>0.826087</td>\n",
       "      <td>0.952381</td>\n",
       "      <td>...</td>\n",
       "      <td>1</td>\n",
       "      <td>0.929134</td>\n",
       "      <td>0.905512</td>\n",
       "      <td>0.913386</td>\n",
       "      <td>0.899225</td>\n",
       "      <td>0.906977</td>\n",
       "      <td>0.907692</td>\n",
       "      <td>0.893130</td>\n",
       "      <td>0.907865</td>\n",
       "      <td>0.010563</td>\n",
       "    </tr>\n",
       "    <tr>\n",
       "      <td>3</td>\n",
       "      <td>0.014818</td>\n",
       "      <td>0.001123</td>\n",
       "      <td>0.000143</td>\n",
       "      <td>0.000350</td>\n",
       "      <td>50</td>\n",
       "      <td>{'C': 50}</td>\n",
       "      <td>0.826087</td>\n",
       "      <td>0.869565</td>\n",
       "      <td>0.869565</td>\n",
       "      <td>0.904762</td>\n",
       "      <td>...</td>\n",
       "      <td>2</td>\n",
       "      <td>0.929134</td>\n",
       "      <td>0.897638</td>\n",
       "      <td>0.913386</td>\n",
       "      <td>0.899225</td>\n",
       "      <td>0.930233</td>\n",
       "      <td>0.923077</td>\n",
       "      <td>0.900763</td>\n",
       "      <td>0.913351</td>\n",
       "      <td>0.013275</td>\n",
       "    </tr>\n",
       "    <tr>\n",
       "      <td>4</td>\n",
       "      <td>0.017381</td>\n",
       "      <td>0.001175</td>\n",
       "      <td>0.000000</td>\n",
       "      <td>0.000000</td>\n",
       "      <td>75</td>\n",
       "      <td>{'C': 75}</td>\n",
       "      <td>0.826087</td>\n",
       "      <td>0.826087</td>\n",
       "      <td>0.869565</td>\n",
       "      <td>0.904762</td>\n",
       "      <td>...</td>\n",
       "      <td>3</td>\n",
       "      <td>0.944882</td>\n",
       "      <td>0.897638</td>\n",
       "      <td>0.921260</td>\n",
       "      <td>0.899225</td>\n",
       "      <td>0.930233</td>\n",
       "      <td>0.930769</td>\n",
       "      <td>0.900763</td>\n",
       "      <td>0.917824</td>\n",
       "      <td>0.017362</td>\n",
       "    </tr>\n",
       "  </tbody>\n",
       "</table>\n",
       "<p>5 rows × 25 columns</p>\n",
       "</div>"
      ],
      "text/plain": [
       "   mean_fit_time  std_fit_time  mean_score_time  std_score_time param_C  \\\n",
       "0       0.007694      0.001021         0.000000        0.000000       1   \n",
       "1       0.011681      0.001270         0.000143        0.000350      10   \n",
       "2       0.013688      0.001262         0.000281        0.000444      25   \n",
       "3       0.014818      0.001123         0.000143        0.000350      50   \n",
       "4       0.017381      0.001175         0.000000        0.000000      75   \n",
       "\n",
       "      params  split0_test_score  split1_test_score  split2_test_score  \\\n",
       "0   {'C': 1}           0.739130           0.695652           0.782609   \n",
       "1  {'C': 10}           0.826087           0.826087           0.826087   \n",
       "2  {'C': 25}           0.826087           0.869565           0.826087   \n",
       "3  {'C': 50}           0.826087           0.869565           0.869565   \n",
       "4  {'C': 75}           0.826087           0.826087           0.869565   \n",
       "\n",
       "   split3_test_score  ...  rank_test_score  split0_train_score  \\\n",
       "0           0.761905  ...                6            0.779528   \n",
       "1           0.904762  ...                5            0.913386   \n",
       "2           0.952381  ...                1            0.929134   \n",
       "3           0.904762  ...                2            0.929134   \n",
       "4           0.904762  ...                3            0.944882   \n",
       "\n",
       "   split1_train_score  split2_train_score  split3_train_score  \\\n",
       "0            0.771654            0.755906            0.767442   \n",
       "1            0.889764            0.921260            0.875969   \n",
       "2            0.905512            0.913386            0.899225   \n",
       "3            0.897638            0.913386            0.899225   \n",
       "4            0.897638            0.921260            0.899225   \n",
       "\n",
       "   split4_train_score  split5_train_score  split6_train_score  \\\n",
       "0            0.775194            0.784615            0.770992   \n",
       "1            0.914729            0.892308            0.893130   \n",
       "2            0.906977            0.907692            0.893130   \n",
       "3            0.930233            0.923077            0.900763   \n",
       "4            0.930233            0.930769            0.900763   \n",
       "\n",
       "   mean_train_score  std_train_score  \n",
       "0          0.772190         0.008508  \n",
       "1          0.900078         0.015291  \n",
       "2          0.907865         0.010563  \n",
       "3          0.913351         0.013275  \n",
       "4          0.917824         0.017362  \n",
       "\n",
       "[5 rows x 25 columns]"
      ]
     },
     "execution_count": 4,
     "metadata": {},
     "output_type": "execute_result"
    }
   ],
   "source": [
    "import pandas as pd\n",
    "result = pd.DataFrame(grid1.cv_results_)\n",
    "result.head()"
   ]
  },
  {
   "cell_type": "code",
   "execution_count": 5,
   "metadata": {},
   "outputs": [],
   "source": [
    "import matplotlib.pyplot as plt\n",
    "import numpy as np"
   ]
  },
  {
   "cell_type": "code",
   "execution_count": 6,
   "metadata": {},
   "outputs": [
    {
     "data": {
      "image/png": "[encoded data removed]",
      "text/plain": [
       "<Figure size 1440x360 with 1 Axes>"
      ]
     },
     "metadata": {
      "needs_background": "light"
     },
     "output_type": "display_data"
    }
   ],
   "source": [
    "#Plot the average train and test score for this grid search model.\n",
    "%matplotlib inline\n",
    "\n",
    "plt.subplots(figsize = (20,5))\n",
    "plt.plot(range(result['params'].shape[0]), result['mean_train_score'], label = 'mean train score')\n",
    "plt.plot(range(result['params'].shape[0]), result['mean_test_score'], label = 'mean test score')\n",
    "plt.xticks(range(result['params'].shape[0]), result['params'], rotation = 90)\n",
    "plt.plot([grid1.best_index_], result['mean_train_score'][grid1.best_index_], 'o', markersize = 15, fillstyle = 'none')\n",
    "plt.plot([grid1.best_index_], result['mean_test_score'][grid1.best_index_], 'o', markersize = 15, fillstyle = 'none')\n",
    "plt.legend()\n",
    "plt.grid()"
   ]
  },
  {
   "cell_type": "markdown",
   "metadata": {},
   "source": [
    "Now let's try a GridSearchCV with a user-defined scoring function like 'recall_macro.' You will see that the value of the best_score is different. This best_score is the average recall_macro score. "
   ]
  },
  {
   "cell_type": "code",
   "execution_count": 7,
   "metadata": {},
   "outputs": [
    {
     "name": "stdout",
     "output_type": "stream",
     "text": [
      "{'C': 25}\n",
      "0.8057359307359307\n",
      "make_scorer(recall_score, pos_label=None, average=macro)\n"
     ]
    }
   ],
   "source": [
    "from sklearn.svm import SVC\n",
    "param_grid = {'C':[1, 10, 25, 50, 75, 100]}\n",
    "\n",
    "grid2 = GridSearchCV(LogisticRegression(multi_class = 'auto', solver = 'lbfgs', max_iter = 5000), \n",
    "                     param_grid, cv =7 , return_train_score= True, scoring = 'recall_macro',\n",
    "                     iid = False)\n",
    "grid2.fit(X_train, y_train)\n",
    "print(grid2.best_params_)\n",
    "print(grid2.best_score_)\n",
    "print(grid2.scorer_)"
   ]
  },
  {
   "cell_type": "code",
   "execution_count": null,
   "metadata": {},
   "outputs": [],
   "source": [
    "print\n"
   ]
  },
  {
   "cell_type": "code",
   "execution_count": 8,
   "metadata": {},
   "outputs": [
    {
     "data": {
      "text/html": [
       "<div>\n",
       "<style scoped>\n",
       "    .dataframe tbody tr th:only-of-type {\n",
       "        vertical-align: middle;\n",
       "    }\n",
       "\n",
       "    .dataframe tbody tr th {\n",
       "        vertical-align: top;\n",
       "    }\n",
       "\n",
       "    .dataframe thead th {\n",
       "        text-align: right;\n",
       "    }\n",
       "</style>\n",
       "<table border=\"1\" class=\"dataframe\">\n",
       "  <thead>\n",
       "    <tr style=\"text-align: right;\">\n",
       "      <th></th>\n",
       "      <th>mean_fit_time</th>\n",
       "      <th>std_fit_time</th>\n",
       "      <th>mean_score_time</th>\n",
       "      <th>std_score_time</th>\n",
       "      <th>param_C</th>\n",
       "      <th>params</th>\n",
       "      <th>split0_test_score</th>\n",
       "      <th>split1_test_score</th>\n",
       "      <th>split2_test_score</th>\n",
       "      <th>split3_test_score</th>\n",
       "      <th>...</th>\n",
       "      <th>rank_test_score</th>\n",
       "      <th>split0_train_score</th>\n",
       "      <th>split1_train_score</th>\n",
       "      <th>split2_train_score</th>\n",
       "      <th>split3_train_score</th>\n",
       "      <th>split4_train_score</th>\n",
       "      <th>split5_train_score</th>\n",
       "      <th>split6_train_score</th>\n",
       "      <th>mean_train_score</th>\n",
       "      <th>std_train_score</th>\n",
       "    </tr>\n",
       "  </thead>\n",
       "  <tbody>\n",
       "    <tr>\n",
       "      <td>0</td>\n",
       "      <td>0.006870</td>\n",
       "      <td>0.006224</td>\n",
       "      <td>0.002374</td>\n",
       "      <td>0.005419</td>\n",
       "      <td>1</td>\n",
       "      <td>{'C': 1}</td>\n",
       "      <td>0.566667</td>\n",
       "      <td>0.516667</td>\n",
       "      <td>0.679167</td>\n",
       "      <td>0.566667</td>\n",
       "      <td>...</td>\n",
       "      <td>6</td>\n",
       "      <td>0.619223</td>\n",
       "      <td>0.596113</td>\n",
       "      <td>0.572479</td>\n",
       "      <td>0.607966</td>\n",
       "      <td>0.616895</td>\n",
       "      <td>0.623597</td>\n",
       "      <td>0.615438</td>\n",
       "      <td>0.607387</td>\n",
       "      <td>0.016493</td>\n",
       "    </tr>\n",
       "    <tr>\n",
       "      <td>1</td>\n",
       "      <td>0.010861</td>\n",
       "      <td>0.006535</td>\n",
       "      <td>0.000285</td>\n",
       "      <td>0.000450</td>\n",
       "      <td>10</td>\n",
       "      <td>{'C': 10}</td>\n",
       "      <td>0.762500</td>\n",
       "      <td>0.762500</td>\n",
       "      <td>0.762500</td>\n",
       "      <td>0.852273</td>\n",
       "      <td>...</td>\n",
       "      <td>5</td>\n",
       "      <td>0.874475</td>\n",
       "      <td>0.858193</td>\n",
       "      <td>0.889181</td>\n",
       "      <td>0.823286</td>\n",
       "      <td>0.870361</td>\n",
       "      <td>0.837993</td>\n",
       "      <td>0.854073</td>\n",
       "      <td>0.858223</td>\n",
       "      <td>0.020760</td>\n",
       "    </tr>\n",
       "    <tr>\n",
       "      <td>2</td>\n",
       "      <td>0.011157</td>\n",
       "      <td>0.007056</td>\n",
       "      <td>0.000000</td>\n",
       "      <td>0.000000</td>\n",
       "      <td>25</td>\n",
       "      <td>{'C': 25}</td>\n",
       "      <td>0.762500</td>\n",
       "      <td>0.845833</td>\n",
       "      <td>0.762500</td>\n",
       "      <td>0.977273</td>\n",
       "      <td>...</td>\n",
       "      <td>1</td>\n",
       "      <td>0.907038</td>\n",
       "      <td>0.881828</td>\n",
       "      <td>0.885504</td>\n",
       "      <td>0.884369</td>\n",
       "      <td>0.877821</td>\n",
       "      <td>0.874363</td>\n",
       "      <td>0.867116</td>\n",
       "      <td>0.882577</td>\n",
       "      <td>0.011587</td>\n",
       "    </tr>\n",
       "    <tr>\n",
       "      <td>3</td>\n",
       "      <td>0.015621</td>\n",
       "      <td>0.008349</td>\n",
       "      <td>0.000000</td>\n",
       "      <td>0.000000</td>\n",
       "      <td>50</td>\n",
       "      <td>{'C': 50}</td>\n",
       "      <td>0.762500</td>\n",
       "      <td>0.845833</td>\n",
       "      <td>0.845833</td>\n",
       "      <td>0.927273</td>\n",
       "      <td>...</td>\n",
       "      <td>2</td>\n",
       "      <td>0.912290</td>\n",
       "      <td>0.892332</td>\n",
       "      <td>0.885504</td>\n",
       "      <td>0.884369</td>\n",
       "      <td>0.927821</td>\n",
       "      <td>0.899650</td>\n",
       "      <td>0.883783</td>\n",
       "      <td>0.897964</td>\n",
       "      <td>0.015457</td>\n",
       "    </tr>\n",
       "    <tr>\n",
       "      <td>4</td>\n",
       "      <td>0.014703</td>\n",
       "      <td>0.004187</td>\n",
       "      <td>0.000143</td>\n",
       "      <td>0.000349</td>\n",
       "      <td>75</td>\n",
       "      <td>{'C': 75}</td>\n",
       "      <td>0.762500</td>\n",
       "      <td>0.825000</td>\n",
       "      <td>0.845833</td>\n",
       "      <td>0.927273</td>\n",
       "      <td>...</td>\n",
       "      <td>3</td>\n",
       "      <td>0.948004</td>\n",
       "      <td>0.892332</td>\n",
       "      <td>0.903361</td>\n",
       "      <td>0.884369</td>\n",
       "      <td>0.927821</td>\n",
       "      <td>0.916317</td>\n",
       "      <td>0.896827</td>\n",
       "      <td>0.909861</td>\n",
       "      <td>0.020662</td>\n",
       "    </tr>\n",
       "  </tbody>\n",
       "</table>\n",
       "<p>5 rows × 25 columns</p>\n",
       "</div>"
      ],
      "text/plain": [
       "   mean_fit_time  std_fit_time  mean_score_time  std_score_time param_C  \\\n",
       "0       0.006870      0.006224         0.002374        0.005419       1   \n",
       "1       0.010861      0.006535         0.000285        0.000450      10   \n",
       "2       0.011157      0.007056         0.000000        0.000000      25   \n",
       "3       0.015621      0.008349         0.000000        0.000000      50   \n",
       "4       0.014703      0.004187         0.000143        0.000349      75   \n",
       "\n",
       "      params  split0_test_score  split1_test_score  split2_test_score  \\\n",
       "0   {'C': 1}           0.566667           0.516667           0.679167   \n",
       "1  {'C': 10}           0.762500           0.762500           0.762500   \n",
       "2  {'C': 25}           0.762500           0.845833           0.762500   \n",
       "3  {'C': 50}           0.762500           0.845833           0.845833   \n",
       "4  {'C': 75}           0.762500           0.825000           0.845833   \n",
       "\n",
       "   split3_test_score  ...  rank_test_score  split0_train_score  \\\n",
       "0           0.566667  ...                6            0.619223   \n",
       "1           0.852273  ...                5            0.874475   \n",
       "2           0.977273  ...                1            0.907038   \n",
       "3           0.927273  ...                2            0.912290   \n",
       "4           0.927273  ...                3            0.948004   \n",
       "\n",
       "   split1_train_score  split2_train_score  split3_train_score  \\\n",
       "0            0.596113            0.572479            0.607966   \n",
       "1            0.858193            0.889181            0.823286   \n",
       "2            0.881828            0.885504            0.884369   \n",
       "3            0.892332            0.885504            0.884369   \n",
       "4            0.892332            0.903361            0.884369   \n",
       "\n",
       "   split4_train_score  split5_train_score  split6_train_score  \\\n",
       "0            0.616895            0.623597            0.615438   \n",
       "1            0.870361            0.837993            0.854073   \n",
       "2            0.877821            0.874363            0.867116   \n",
       "3            0.927821            0.899650            0.883783   \n",
       "4            0.927821            0.916317            0.896827   \n",
       "\n",
       "   mean_train_score  std_train_score  \n",
       "0          0.607387         0.016493  \n",
       "1          0.858223         0.020760  \n",
       "2          0.882577         0.011587  \n",
       "3          0.897964         0.015457  \n",
       "4          0.909861         0.020662  \n",
       "\n",
       "[5 rows x 25 columns]"
      ]
     },
     "execution_count": 8,
     "metadata": {},
     "output_type": "execute_result"
    }
   ],
   "source": [
    "result = pd.DataFrame(grid2.cv_results_)\n",
    "result.head()"
   ]
  },
  {
   "cell_type": "code",
   "execution_count": 9,
   "metadata": {},
   "outputs": [
    {
     "data": {
      "image/png": "[encoded data removed]",
      "text/plain": [
       "<Figure size 1440x360 with 1 Axes>"
      ]
     },
     "metadata": {
      "needs_background": "light"
     },
     "output_type": "display_data"
    }
   ],
   "source": [
    "%matplotlib inline\n",
    "\n",
    "plt.subplots(figsize = (20,5))\n",
    "plt.plot(range(result['params'].shape[0]), result['mean_train_score'], label = 'mean train score')\n",
    "plt.plot(range(result['params'].shape[0]), result['mean_test_score'], label = 'mean test score')\n",
    "plt.xticks(range(result['params'].shape[0]), result['params'], rotation = 90)\n",
    "plt.plot([grid2.best_index_], result['mean_train_score'][grid2.best_index_], 'o', markersize = 15, fillstyle = 'none')\n",
    "plt.plot([grid2.best_index_], result['mean_test_score'][grid2.best_index_], 'o', markersize = 15, fillstyle = 'none')\n",
    "plt.legend()\n",
    "plt.grid()"
   ]
  },
  {
   "cell_type": "markdown",
   "metadata": {},
   "source": [
    "# Example 2"
   ]
  },
  {
   "cell_type": "markdown",
   "metadata": {},
   "source": [
    "There are times that we need to have some post-processing on model values. In this example, we are generating another dataset with only two labels. As you can see, this dataset is imbalanced, so obviously, we need to have another evaluation metric to test our models. "
   ]
  },
  {
   "cell_type": "code",
   "execution_count": 10,
   "metadata": {},
   "outputs": [
    {
     "name": "stdout",
     "output_type": "stream",
     "text": [
      "label 0: 0.344\n",
      "label 1: 0.656\n"
     ]
    }
   ],
   "source": [
    "from sklearn.datasets import make_multilabel_classification\n",
    "X, y = make_multilabel_classification(n_samples=500, n_features=10, n_classes = 1, n_labels = 2,\n",
    "                                     random_state = 0)\n",
    "print('label 0:', len(y[y == 0])/len(y))\n",
    "print('label 1:', len(y[y == 1])/len(y))\n",
    "y = y.reshape(-1,)"
   ]
  },
  {
   "cell_type": "code",
   "execution_count": 11,
   "metadata": {},
   "outputs": [],
   "source": [
    "#preprocessing steps: spliting the dataset\n",
    "#scaling train and test datasets\n",
    "X_train_org, X_test_org, y_train, y_test = train_test_split(X, y, random_state = 42)\n",
    "\n",
    "scaler = MinMaxScaler()\n",
    "X_train = scaler.fit_transform(X_train_org)\n",
    "X_test = scaler.transform(X_test_org)"
   ]
  },
  {
   "cell_type": "code",
   "execution_count": 12,
   "metadata": {},
   "outputs": [
    {
     "name": "stdout",
     "output_type": "stream",
     "text": [
      "{'max_depth': 5}\n",
      "0.7813333333333332\n",
      "<function _passthrough_scorer at 0x000001D46C991DC8>\n"
     ]
    }
   ],
   "source": [
    "from sklearn.tree import DecisionTreeClassifier\n",
    "\n",
    "param_grid = {'max_depth':[1, 2, 3, 5, 7, 10]}\n",
    "\n",
    "grid3 = GridSearchCV(DecisionTreeClassifier(random_state = 0), param_grid, cv = 5, \n",
    "                    return_train_score= True, iid = False)\n",
    "grid3.fit(X_train, y_train)\n",
    "print(grid3.best_params_)\n",
    "print(grid3.best_score_)\n",
    "print(grid3.scorer_)"
   ]
  },
  {
   "cell_type": "code",
   "execution_count": 13,
   "metadata": {},
   "outputs": [
    {
     "data": {
      "text/html": [
       "<div>\n",
       "<style scoped>\n",
       "    .dataframe tbody tr th:only-of-type {\n",
       "        vertical-align: middle;\n",
       "    }\n",
       "\n",
       "    .dataframe tbody tr th {\n",
       "        vertical-align: top;\n",
       "    }\n",
       "\n",
       "    .dataframe thead th {\n",
       "        text-align: right;\n",
       "    }\n",
       "</style>\n",
       "<table border=\"1\" class=\"dataframe\">\n",
       "  <thead>\n",
       "    <tr style=\"text-align: right;\">\n",
       "      <th></th>\n",
       "      <th>mean_fit_time</th>\n",
       "      <th>std_fit_time</th>\n",
       "      <th>mean_score_time</th>\n",
       "      <th>std_score_time</th>\n",
       "      <th>param_max_depth</th>\n",
       "      <th>params</th>\n",
       "      <th>split0_test_score</th>\n",
       "      <th>split1_test_score</th>\n",
       "      <th>split2_test_score</th>\n",
       "      <th>split3_test_score</th>\n",
       "      <th>...</th>\n",
       "      <th>mean_test_score</th>\n",
       "      <th>std_test_score</th>\n",
       "      <th>rank_test_score</th>\n",
       "      <th>split0_train_score</th>\n",
       "      <th>split1_train_score</th>\n",
       "      <th>split2_train_score</th>\n",
       "      <th>split3_train_score</th>\n",
       "      <th>split4_train_score</th>\n",
       "      <th>mean_train_score</th>\n",
       "      <th>std_train_score</th>\n",
       "    </tr>\n",
       "  </thead>\n",
       "  <tbody>\n",
       "    <tr>\n",
       "      <td>0</td>\n",
       "      <td>0.000000</td>\n",
       "      <td>0.000000</td>\n",
       "      <td>0.0</td>\n",
       "      <td>0.0</td>\n",
       "      <td>1</td>\n",
       "      <td>{'max_depth': 1}</td>\n",
       "      <td>0.773333</td>\n",
       "      <td>0.706667</td>\n",
       "      <td>0.680000</td>\n",
       "      <td>0.720000</td>\n",
       "      <td>...</td>\n",
       "      <td>0.730667</td>\n",
       "      <td>0.037142</td>\n",
       "      <td>6</td>\n",
       "      <td>0.746667</td>\n",
       "      <td>0.763333</td>\n",
       "      <td>0.706667</td>\n",
       "      <td>0.760000</td>\n",
       "      <td>0.746667</td>\n",
       "      <td>0.744667</td>\n",
       "      <td>0.020177</td>\n",
       "    </tr>\n",
       "    <tr>\n",
       "      <td>1</td>\n",
       "      <td>0.000000</td>\n",
       "      <td>0.000000</td>\n",
       "      <td>0.0</td>\n",
       "      <td>0.0</td>\n",
       "      <td>2</td>\n",
       "      <td>{'max_depth': 2}</td>\n",
       "      <td>0.773333</td>\n",
       "      <td>0.706667</td>\n",
       "      <td>0.746667</td>\n",
       "      <td>0.706667</td>\n",
       "      <td>...</td>\n",
       "      <td>0.744000</td>\n",
       "      <td>0.033092</td>\n",
       "      <td>5</td>\n",
       "      <td>0.800000</td>\n",
       "      <td>0.780000</td>\n",
       "      <td>0.793333</td>\n",
       "      <td>0.840000</td>\n",
       "      <td>0.796667</td>\n",
       "      <td>0.802000</td>\n",
       "      <td>0.020177</td>\n",
       "    </tr>\n",
       "    <tr>\n",
       "      <td>2</td>\n",
       "      <td>0.000000</td>\n",
       "      <td>0.000000</td>\n",
       "      <td>0.0</td>\n",
       "      <td>0.0</td>\n",
       "      <td>3</td>\n",
       "      <td>{'max_depth': 3}</td>\n",
       "      <td>0.786667</td>\n",
       "      <td>0.760000</td>\n",
       "      <td>0.733333</td>\n",
       "      <td>0.720000</td>\n",
       "      <td>...</td>\n",
       "      <td>0.773333</td>\n",
       "      <td>0.051983</td>\n",
       "      <td>3</td>\n",
       "      <td>0.850000</td>\n",
       "      <td>0.846667</td>\n",
       "      <td>0.830000</td>\n",
       "      <td>0.850000</td>\n",
       "      <td>0.830000</td>\n",
       "      <td>0.841333</td>\n",
       "      <td>0.009333</td>\n",
       "    </tr>\n",
       "    <tr>\n",
       "      <td>3</td>\n",
       "      <td>0.000000</td>\n",
       "      <td>0.000000</td>\n",
       "      <td>0.0</td>\n",
       "      <td>0.0</td>\n",
       "      <td>5</td>\n",
       "      <td>{'max_depth': 5}</td>\n",
       "      <td>0.786667</td>\n",
       "      <td>0.786667</td>\n",
       "      <td>0.720000</td>\n",
       "      <td>0.746667</td>\n",
       "      <td>...</td>\n",
       "      <td>0.781333</td>\n",
       "      <td>0.049603</td>\n",
       "      <td>1</td>\n",
       "      <td>0.930000</td>\n",
       "      <td>0.923333</td>\n",
       "      <td>0.930000</td>\n",
       "      <td>0.936667</td>\n",
       "      <td>0.916667</td>\n",
       "      <td>0.927333</td>\n",
       "      <td>0.006799</td>\n",
       "    </tr>\n",
       "    <tr>\n",
       "      <td>4</td>\n",
       "      <td>0.003396</td>\n",
       "      <td>0.006792</td>\n",
       "      <td>0.0</td>\n",
       "      <td>0.0</td>\n",
       "      <td>7</td>\n",
       "      <td>{'max_depth': 7}</td>\n",
       "      <td>0.760000</td>\n",
       "      <td>0.773333</td>\n",
       "      <td>0.746667</td>\n",
       "      <td>0.773333</td>\n",
       "      <td>...</td>\n",
       "      <td>0.776000</td>\n",
       "      <td>0.027195</td>\n",
       "      <td>2</td>\n",
       "      <td>0.976667</td>\n",
       "      <td>0.993333</td>\n",
       "      <td>0.983333</td>\n",
       "      <td>0.980000</td>\n",
       "      <td>0.960000</td>\n",
       "      <td>0.978667</td>\n",
       "      <td>0.010873</td>\n",
       "    </tr>\n",
       "  </tbody>\n",
       "</table>\n",
       "<p>5 rows × 21 columns</p>\n",
       "</div>"
      ],
      "text/plain": [
       "   mean_fit_time  std_fit_time  mean_score_time  std_score_time  \\\n",
       "0       0.000000      0.000000              0.0             0.0   \n",
       "1       0.000000      0.000000              0.0             0.0   \n",
       "2       0.000000      0.000000              0.0             0.0   \n",
       "3       0.000000      0.000000              0.0             0.0   \n",
       "4       0.003396      0.006792              0.0             0.0   \n",
       "\n",
       "  param_max_depth            params  split0_test_score  split1_test_score  \\\n",
       "0               1  {'max_depth': 1}           0.773333           0.706667   \n",
       "1               2  {'max_depth': 2}           0.773333           0.706667   \n",
       "2               3  {'max_depth': 3}           0.786667           0.760000   \n",
       "3               5  {'max_depth': 5}           0.786667           0.786667   \n",
       "4               7  {'max_depth': 7}           0.760000           0.773333   \n",
       "\n",
       "   split2_test_score  split3_test_score  ...  mean_test_score  std_test_score  \\\n",
       "0           0.680000           0.720000  ...         0.730667        0.037142   \n",
       "1           0.746667           0.706667  ...         0.744000        0.033092   \n",
       "2           0.733333           0.720000  ...         0.773333        0.051983   \n",
       "3           0.720000           0.746667  ...         0.781333        0.049603   \n",
       "4           0.746667           0.773333  ...         0.776000        0.027195   \n",
       "\n",
       "   rank_test_score  split0_train_score  split1_train_score  \\\n",
       "0                6            0.746667            0.763333   \n",
       "1                5            0.800000            0.780000   \n",
       "2                3            0.850000            0.846667   \n",
       "3                1            0.930000            0.923333   \n",
       "4                2            0.976667            0.993333   \n",
       "\n",
       "   split2_train_score  split3_train_score  split4_train_score  \\\n",
       "0            0.706667            0.760000            0.746667   \n",
       "1            0.793333            0.840000            0.796667   \n",
       "2            0.830000            0.850000            0.830000   \n",
       "3            0.930000            0.936667            0.916667   \n",
       "4            0.983333            0.980000            0.960000   \n",
       "\n",
       "   mean_train_score  std_train_score  \n",
       "0          0.744667         0.020177  \n",
       "1          0.802000         0.020177  \n",
       "2          0.841333         0.009333  \n",
       "3          0.927333         0.006799  \n",
       "4          0.978667         0.010873  \n",
       "\n",
       "[5 rows x 21 columns]"
      ]
     },
     "execution_count": 13,
     "metadata": {},
     "output_type": "execute_result"
    }
   ],
   "source": [
    "result = pd.DataFrame(grid3.cv_results_)\n",
    "result.head()"
   ]
  },
  {
   "cell_type": "code",
   "execution_count": 14,
   "metadata": {},
   "outputs": [
    {
     "data": {
      "image/png": "[encoded data removed]",
      "text/plain": [
       "<Figure size 1440x360 with 1 Axes>"
      ]
     },
     "metadata": {
      "needs_background": "light"
     },
     "output_type": "display_data"
    }
   ],
   "source": [
    "%matplotlib inline\n",
    "\n",
    "plt.subplots(figsize = (20,5))\n",
    "plt.plot(range(result['params'].shape[0]), result['mean_train_score'], label = 'mean train score')\n",
    "plt.plot(range(result['params'].shape[0]), result['mean_test_score'], label = 'mean test score')\n",
    "plt.xticks(range(result['params'].shape[0]), result['params'], rotation = 90)\n",
    "plt.plot([grid3.best_index_], result['mean_train_score'][grid3.best_index_], 'o', markersize = 15, fillstyle = 'none')\n",
    "plt.plot([grid3.best_index_], result['mean_test_score'][grid3.best_index_], 'o', markersize = 15, fillstyle = 'none')\n",
    "plt.legend()\n",
    "plt.grid()"
   ]
  },
  {
   "cell_type": "code",
   "execution_count": 15,
   "metadata": {},
   "outputs": [
    {
     "name": "stdout",
     "output_type": "stream",
     "text": [
      "{'max_depth': 3}\n",
      "0.8266875981161697\n",
      "make_scorer(roc_auc_score, needs_threshold=True)\n"
     ]
    }
   ],
   "source": [
    "#Now we are creating a model with user-defined scoring function\n",
    "param_grid = {'max_depth':[1, 2, 3, 5, 7, 10]}\n",
    "\n",
    "grid4 = GridSearchCV(DecisionTreeClassifier(random_state = 0), param_grid, cv = 5, return_train_score= True,\n",
    "                    scoring = 'roc_auc', iid = False)\n",
    "grid4.fit(X_train, y_train)\n",
    "print(grid4.best_params_)\n",
    "print(grid4.best_score_)\n",
    "print(grid4.scorer_)"
   ]
  },
  {
   "cell_type": "code",
   "execution_count": 16,
   "metadata": {},
   "outputs": [
    {
     "data": {
      "text/html": [
       "<div>\n",
       "<style scoped>\n",
       "    .dataframe tbody tr th:only-of-type {\n",
       "        vertical-align: middle;\n",
       "    }\n",
       "\n",
       "    .dataframe tbody tr th {\n",
       "        vertical-align: top;\n",
       "    }\n",
       "\n",
       "    .dataframe thead th {\n",
       "        text-align: right;\n",
       "    }\n",
       "</style>\n",
       "<table border=\"1\" class=\"dataframe\">\n",
       "  <thead>\n",
       "    <tr style=\"text-align: right;\">\n",
       "      <th></th>\n",
       "      <th>mean_fit_time</th>\n",
       "      <th>std_fit_time</th>\n",
       "      <th>mean_score_time</th>\n",
       "      <th>std_score_time</th>\n",
       "      <th>param_max_depth</th>\n",
       "      <th>params</th>\n",
       "      <th>split0_test_score</th>\n",
       "      <th>split1_test_score</th>\n",
       "      <th>split2_test_score</th>\n",
       "      <th>split3_test_score</th>\n",
       "      <th>...</th>\n",
       "      <th>mean_test_score</th>\n",
       "      <th>std_test_score</th>\n",
       "      <th>rank_test_score</th>\n",
       "      <th>split0_train_score</th>\n",
       "      <th>split1_train_score</th>\n",
       "      <th>split2_train_score</th>\n",
       "      <th>split3_train_score</th>\n",
       "      <th>split4_train_score</th>\n",
       "      <th>mean_train_score</th>\n",
       "      <th>std_train_score</th>\n",
       "    </tr>\n",
       "  </thead>\n",
       "  <tbody>\n",
       "    <tr>\n",
       "      <td>0</td>\n",
       "      <td>0.0</td>\n",
       "      <td>0.0</td>\n",
       "      <td>0.000000</td>\n",
       "      <td>0.000000</td>\n",
       "      <td>1</td>\n",
       "      <td>{'max_depth': 1}</td>\n",
       "      <td>0.754317</td>\n",
       "      <td>0.694270</td>\n",
       "      <td>0.691915</td>\n",
       "      <td>0.704474</td>\n",
       "      <td>...</td>\n",
       "      <td>0.716248</td>\n",
       "      <td>0.024753</td>\n",
       "      <td>6</td>\n",
       "      <td>0.724882</td>\n",
       "      <td>0.739894</td>\n",
       "      <td>0.734890</td>\n",
       "      <td>0.737343</td>\n",
       "      <td>0.729396</td>\n",
       "      <td>0.733281</td>\n",
       "      <td>0.005449</td>\n",
       "    </tr>\n",
       "    <tr>\n",
       "      <td>1</td>\n",
       "      <td>0.0</td>\n",
       "      <td>0.0</td>\n",
       "      <td>0.003131</td>\n",
       "      <td>0.006262</td>\n",
       "      <td>2</td>\n",
       "      <td>{'max_depth': 2}</td>\n",
       "      <td>0.781005</td>\n",
       "      <td>0.766876</td>\n",
       "      <td>0.734694</td>\n",
       "      <td>0.740581</td>\n",
       "      <td>...</td>\n",
       "      <td>0.772370</td>\n",
       "      <td>0.037240</td>\n",
       "      <td>3</td>\n",
       "      <td>0.853414</td>\n",
       "      <td>0.839359</td>\n",
       "      <td>0.817013</td>\n",
       "      <td>0.831927</td>\n",
       "      <td>0.837863</td>\n",
       "      <td>0.835915</td>\n",
       "      <td>0.011790</td>\n",
       "    </tr>\n",
       "    <tr>\n",
       "      <td>2</td>\n",
       "      <td>0.0</td>\n",
       "      <td>0.0</td>\n",
       "      <td>0.000000</td>\n",
       "      <td>0.000000</td>\n",
       "      <td>3</td>\n",
       "      <td>{'max_depth': 3}</td>\n",
       "      <td>0.792386</td>\n",
       "      <td>0.803768</td>\n",
       "      <td>0.810440</td>\n",
       "      <td>0.826531</td>\n",
       "      <td>...</td>\n",
       "      <td>0.826688</td>\n",
       "      <td>0.038436</td>\n",
       "      <td>1</td>\n",
       "      <td>0.902718</td>\n",
       "      <td>0.895187</td>\n",
       "      <td>0.886014</td>\n",
       "      <td>0.904116</td>\n",
       "      <td>0.892514</td>\n",
       "      <td>0.896110</td>\n",
       "      <td>0.006686</td>\n",
       "    </tr>\n",
       "    <tr>\n",
       "      <td>3</td>\n",
       "      <td>0.0</td>\n",
       "      <td>0.0</td>\n",
       "      <td>0.003129</td>\n",
       "      <td>0.006258</td>\n",
       "      <td>5</td>\n",
       "      <td>{'max_depth': 5}</td>\n",
       "      <td>0.765306</td>\n",
       "      <td>0.837127</td>\n",
       "      <td>0.700549</td>\n",
       "      <td>0.760989</td>\n",
       "      <td>...</td>\n",
       "      <td>0.791523</td>\n",
       "      <td>0.066939</td>\n",
       "      <td>2</td>\n",
       "      <td>0.969780</td>\n",
       "      <td>0.980377</td>\n",
       "      <td>0.974514</td>\n",
       "      <td>0.970320</td>\n",
       "      <td>0.977826</td>\n",
       "      <td>0.974563</td>\n",
       "      <td>0.004131</td>\n",
       "    </tr>\n",
       "    <tr>\n",
       "      <td>4</td>\n",
       "      <td>0.0</td>\n",
       "      <td>0.0</td>\n",
       "      <td>0.003122</td>\n",
       "      <td>0.006244</td>\n",
       "      <td>7</td>\n",
       "      <td>{'max_depth': 7}</td>\n",
       "      <td>0.720958</td>\n",
       "      <td>0.767661</td>\n",
       "      <td>0.714286</td>\n",
       "      <td>0.735086</td>\n",
       "      <td>...</td>\n",
       "      <td>0.756672</td>\n",
       "      <td>0.048012</td>\n",
       "      <td>4</td>\n",
       "      <td>0.995634</td>\n",
       "      <td>0.999657</td>\n",
       "      <td>0.999166</td>\n",
       "      <td>0.997768</td>\n",
       "      <td>0.994751</td>\n",
       "      <td>0.997395</td>\n",
       "      <td>0.001923</td>\n",
       "    </tr>\n",
       "  </tbody>\n",
       "</table>\n",
       "<p>5 rows × 21 columns</p>\n",
       "</div>"
      ],
      "text/plain": [
       "   mean_fit_time  std_fit_time  mean_score_time  std_score_time  \\\n",
       "0            0.0           0.0         0.000000        0.000000   \n",
       "1            0.0           0.0         0.003131        0.006262   \n",
       "2            0.0           0.0         0.000000        0.000000   \n",
       "3            0.0           0.0         0.003129        0.006258   \n",
       "4            0.0           0.0         0.003122        0.006244   \n",
       "\n",
       "  param_max_depth            params  split0_test_score  split1_test_score  \\\n",
       "0               1  {'max_depth': 1}           0.754317           0.694270   \n",
       "1               2  {'max_depth': 2}           0.781005           0.766876   \n",
       "2               3  {'max_depth': 3}           0.792386           0.803768   \n",
       "3               5  {'max_depth': 5}           0.765306           0.837127   \n",
       "4               7  {'max_depth': 7}           0.720958           0.767661   \n",
       "\n",
       "   split2_test_score  split3_test_score  ...  mean_test_score  std_test_score  \\\n",
       "0           0.691915           0.704474  ...         0.716248        0.024753   \n",
       "1           0.734694           0.740581  ...         0.772370        0.037240   \n",
       "2           0.810440           0.826531  ...         0.826688        0.038436   \n",
       "3           0.700549           0.760989  ...         0.791523        0.066939   \n",
       "4           0.714286           0.735086  ...         0.756672        0.048012   \n",
       "\n",
       "   rank_test_score  split0_train_score  split1_train_score  \\\n",
       "0                6            0.724882            0.739894   \n",
       "1                3            0.853414            0.839359   \n",
       "2                1            0.902718            0.895187   \n",
       "3                2            0.969780            0.980377   \n",
       "4                4            0.995634            0.999657   \n",
       "\n",
       "   split2_train_score  split3_train_score  split4_train_score  \\\n",
       "0            0.734890            0.737343            0.729396   \n",
       "1            0.817013            0.831927            0.837863   \n",
       "2            0.886014            0.904116            0.892514   \n",
       "3            0.974514            0.970320            0.977826   \n",
       "4            0.999166            0.997768            0.994751   \n",
       "\n",
       "   mean_train_score  std_train_score  \n",
       "0          0.733281         0.005449  \n",
       "1          0.835915         0.011790  \n",
       "2          0.896110         0.006686  \n",
       "3          0.974563         0.004131  \n",
       "4          0.997395         0.001923  \n",
       "\n",
       "[5 rows x 21 columns]"
      ]
     },
     "execution_count": 16,
     "metadata": {},
     "output_type": "execute_result"
    }
   ],
   "source": [
    "result = pd.DataFrame(grid4.cv_results_)\n",
    "result.head()"
   ]
  },
  {
   "cell_type": "code",
   "execution_count": 17,
   "metadata": {},
   "outputs": [
    {
     "data": {
      "image/png": "[encoded data removed]",
      "text/plain": [
       "<Figure size 1440x360 with 1 Axes>"
      ]
     },
     "metadata": {
      "needs_background": "light"
     },
     "output_type": "display_data"
    }
   ],
   "source": [
    "%matplotlib inline\n",
    "\n",
    "plt.subplots(figsize = (20,5))\n",
    "plt.plot(range(result['params'].shape[0]), result['mean_train_score'], label = 'mean train score')\n",
    "plt.plot(range(result['params'].shape[0]), result['mean_test_score'], label = 'mean test score')\n",
    "plt.xticks(range(result['params'].shape[0]), result['params'], rotation = 90)\n",
    "plt.plot([grid4.best_index_], result['mean_train_score'][grid4.best_index_], 'o', markersize = 15, fillstyle = 'none')\n",
    "plt.plot([grid4.best_index_], result['mean_test_score'][grid4.best_index_], 'o', markersize = 15, fillstyle = 'none')\n",
    "plt.legend()\n",
    "plt.grid()"
   ]
  },
  {
   "cell_type": "markdown",
   "metadata": {},
   "source": [
    "Now let's take a look at the decision function and see if we can improve the recall score. "
   ]
  },
  {
   "cell_type": "code",
   "execution_count": 18,
   "metadata": {},
   "outputs": [],
   "source": [
    "y_train_pred = grid4.predict_proba(X_train)[:,0]"
   ]
  },
  {
   "cell_type": "code",
   "execution_count": 19,
   "metadata": {},
   "outputs": [
    {
     "name": "stdout",
     "output_type": "stream",
     "text": [
      "[1.95238095 0.95238095 0.92307692 0.85714286 0.63157895 0.35714286\n",
      " 0.30136986 0.13793103 0.03571429]\n",
      "[0.         0.30769231 0.4        0.44615385 0.72307692 0.76153846\n",
      " 0.93076923 0.96153846 1.        ]\n",
      "[0.         0.00816327 0.0122449  0.01632653 0.10204082 0.13877551\n",
      " 0.34693878 0.44897959 1.        ]\n"
     ]
    }
   ],
   "source": [
    "from sklearn.metrics import roc_curve\n",
    "\n",
    "tpr, fpr, threshold = roc_curve(y_train, y_train_pred)\n",
    "print(threshold)\n",
    "print(tpr)\n",
    "print(fpr)"
   ]
  },
  {
   "cell_type": "code",
   "execution_count": 22,
   "metadata": {},
   "outputs": [
    {
     "data": {
      "text/plain": [
       "Text(0, 0.5, 'TPR (Recall)')"
      ]
     },
     "execution_count": 22,
     "metadata": {},
     "output_type": "execute_result"
    },
    {
     "data": {
      "image/png": "[encoded data removed]",
      "text/plain": [
       "<Figure size 432x288 with 1 Axes>"
      ]
     },
     "metadata": {
      "needs_background": "light"
     },
     "output_type": "display_data"
    }
   ],
   "source": [
    "%matplotlib inline\n",
    "\n",
    "plt.plot( fpr, tpr, 'o-')\n",
    "#default thrshold for predict_proba is 0.5\n",
    "default_index = np.argmin(np.abs(threshold - 0.5))\n",
    "plt.plot(fpr[default_index], tpr[default_index], 'o', markersize = 15, fillstyle = 'none')\n",
    "plt.xlabel('FPR')\n",
    "plt.ylabel('TPR (Recall)')"
   ]
  },
  {
   "cell_type": "markdown",
   "metadata": {},
   "source": [
    "The following is the confusion matrix for ``grid4`` model. "
   ]
  },
  {
   "cell_type": "code",
   "execution_count": 57,
   "metadata": {},
   "outputs": [
    {
     "data": {
      "text/plain": [
       "array([[ 94,  36],\n",
       "       [ 25, 220]], dtype=int64)"
      ]
     },
     "execution_count": 57,
     "metadata": {},
     "output_type": "execute_result"
    }
   ],
   "source": [
    "from sklearn.metrics import confusion_matrix, roc_auc_score\n",
    "\n",
    "confusion_matrix(y_train, grid4.predict(X_train))"
   ]
  },
  {
   "cell_type": "code",
   "execution_count": 58,
   "metadata": {},
   "outputs": [
    {
     "data": {
      "text/plain": [
       "0.8105180533751962"
      ]
     },
     "execution_count": 58,
     "metadata": {},
     "output_type": "execute_result"
    }
   ],
   "source": [
    "roc_auc_score(y_train, grid4.predict(X_train))"
   ]
  },
  {
   "cell_type": "markdown",
   "metadata": {},
   "source": [
    "Now, we are going to post-process the prdiction of ``grid4`` model to have a higher recall value. Lets say we would like to keep the ``FPR`` around 0.2. We need to find the threshold for this FPR range. "
   ]
  },
  {
   "cell_type": "code",
   "execution_count": 92,
   "metadata": {},
   "outputs": [],
   "source": [
    "#np.argmin(np.abs(fpr - 0.20)): find the index of the closest value in fpr array\n",
    "y_train_post_pred = np.where(y_train_pred < threshold[np.argmin(np.abs(fpr - 0.20))], 1, 0)"
   ]
  },
  {
   "cell_type": "code",
   "execution_count": 93,
   "metadata": {},
   "outputs": [
    {
     "data": {
      "text/plain": [
       "array([[ 99,  31],\n",
       "       [ 34, 211]], dtype=int64)"
      ]
     },
     "execution_count": 93,
     "metadata": {},
     "output_type": "execute_result"
    }
   ],
   "source": [
    "confusion_matrix(y_train, y_train_post_pred)"
   ]
  },
  {
   "cell_type": "code",
   "execution_count": 94,
   "metadata": {},
   "outputs": [
    {
     "data": {
      "text/plain": [
       "0.8113814756671899"
      ]
     },
     "execution_count": 94,
     "metadata": {},
     "output_type": "execute_result"
    }
   ],
   "source": [
    "roc_auc_score(y_train, y_train_post_pred)"
   ]
  },
  {
   "cell_type": "markdown",
   "metadata": {},
   "source": [
    "You can see with this simple post processing we could slightly make the ``roc_auc_score`` better. "
   ]
  },
  {
   "cell_type": "code",
   "execution_count": null,
   "metadata": {},
   "outputs": [],
   "source": []
  }
 ],
 "metadata": {
  "kernelspec": {
   "display_name": "Python 3",
   "language": "python",
   "name": "python3"
  },
  "language_info": {
   "codemirror_mode": {
    "name": "ipython",
    "version": 3
   },
   "file_extension": ".py",
   "mimetype": "text/x-python",
   "name": "python",
   "nbconvert_exporter": "python",
   "pygments_lexer": "ipython3",
   "version": "3.7.4"
  }
 },
 "nbformat": 4,
 "nbformat_minor": 2
}

{
 "cells": [
  {
   "cell_type": "markdown",
   "metadata": {},
   "source": [
    "# Lecture 8--Ensemble Learning"
   ]
  },
  {
   "cell_type": "markdown",
   "metadata": {},
   "source": [
    "## 1. Programming: Bootstrap"
   ]
  },
  {
   "cell_type": "code",
   "execution_count": 24,
   "metadata": {},
   "outputs": [],
   "source": [
    "import numpy as np\n",
    "import pandas as pd\n",
    "from cleands import *\n",
    "\n",
    "def generate_mvt_normal(n,r,means=None):\n",
    "    if means is None: means = np.zeros(size=(r,))\n",
    "    if r == 1: return np.random.normal(loc=means,size=(n,1))\n",
    "    P = np.array([[1,1]])\n",
    "    for i in range(2,r):\n",
    "        ones = np.ones([i,1])\n",
    "        zeros = np.zeros([P.shape[0],1])\n",
    "        ident = np.eye(i)\n",
    "        upper = np.hstack([ones,ident])\n",
    "        lower = np.hstack([zeros,P])\n",
    "        P = np.vstack([upper,lower])\n",
    "    covariates = np.random.normal(size=(n,P.shape[0]))\n",
    "    idiosyncratics = np.random.normal(loc=means,size=(n,P.shape[1]))\n",
    "    covariate_loadings = np.random.uniform(size=P.shape[0])*3-1\n",
    "    return covariates@np.diagflat(covariate_loadings)@P+idiosyncratics\n",
    "\n",
    "n = 1000\n",
    "npx = generate_mvt_normal(n,4,means=np.random.uniform(size=(4,))*2-1)\n",
    "ones = np.ones((n,1))\n",
    "onpx = np.hstack((ones,npx))\n",
    "bvec = np.random.uniform(size=(5,))\n",
    "npy = np.random.normal(size=(n,))+onpx@bvec"
   ]
  },
  {
   "cell_type": "markdown",
   "metadata": {},
   "source": [
    "## 2. Data Science\n",
    "\n",
    "\n",
    "### 2.1 Bagging\n",
    "\n",
    "Average multiple models fit with bootstrap samples"
   ]
  },
  {
   "cell_type": "markdown",
   "metadata": {},
   "source": [
    "### 2.1 Random Forest\n",
    "\n",
    "Average multiple models fit with subsets of the x variables and bootstrap samples"
   ]
  },
  {
   "cell_type": "markdown",
   "metadata": {},
   "source": [
    "### 2.2 Boosting\n",
    "\n",
    "Repeatedly fit trees on the residuals"
   ]
  },
  {
   "cell_type": "markdown",
   "metadata": {},
   "source": [
    "## 3. Programming challenges"
   ]
  },
  {
   "cell_type": "markdown",
   "metadata": {},
   "source": [
    "## 3.1 Gradient boosting\n",
    "\n",
    "Create plots for gradient boosting."
   ]
  },
  {
   "cell_type": "markdown",
   "metadata": {},
   "source": [
    "## 3.2 Insertion sort\n",
    "\n",
    "Put together a code to implement the insertion sort algorithm."
   ]
  },
  {
   "cell_type": "markdown",
   "metadata": {},
   "source": [
    "## 3.3 Principal components analysis\n",
    "\n",
    "Write a PCA class. Add an estimator for the number of principal componenets to use."
   ]
  }
 ],
 "metadata": {
  "kernelspec": {
   "display_name": "Python 3",
   "language": "python",
   "name": "python3"
  },
  "language_info": {
   "codemirror_mode": {
    "name": "ipython",
    "version": 3
   },
   "file_extension": ".py",
   "mimetype": "text/x-python",
   "name": "python",
   "nbconvert_exporter": "python",
   "pygments_lexer": "ipython3",
   "version": "3.7.4"
  }
 },
 "nbformat": 4,
 "nbformat_minor": 2
}

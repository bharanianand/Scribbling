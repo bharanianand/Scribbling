{
 "cells": [
  {
   "cell_type": "markdown",
   "metadata": {},
   "source": [
    "# 1.  $k$-Means clustering"
   ]
  },
  {
   "cell_type": "code",
   "execution_count": 1,
   "metadata": {},
   "outputs": [],
   "source": [
    "import numpy as np\n",
    "import pandas as pd\n",
    "from cleands import *"
   ]
  },
  {
   "cell_type": "code",
   "execution_count": 2,
   "metadata": {},
   "outputs": [
    {
     "data": {
      "text/plain": [
       "(array([0, 1, 2]), array([500, 500, 500], dtype=int64))"
      ]
     },
     "execution_count": 2,
     "metadata": {},
     "output_type": "execute_result"
    }
   ],
   "source": [
    "x1 = np.random.normal(loc=np.random.uniform(size=(5,))*10-5,size=(500,5))\n",
    "x2 = np.random.normal(loc=np.random.uniform(size=(5,))*10-5,size=(500,5))\n",
    "x3 = np.random.normal(loc=np.random.uniform(size=(5,))*10-5,size=(500,5))\n",
    "x = np.vstack((x1,x2,x3))\n",
    "shuffle = np.random.permutation(x.shape[0])\n",
    "x = x[shuffle,:]\n",
    "membership = shuffle.copy()\n",
    "for i in range(len(membership)):\n",
    "    if membership[i]<500: membership[i]=0\n",
    "    elif membership[i]<1000: membership[i]=1\n",
    "    else: membership[i]=2\n",
    "np.unique(membership,return_counts=True)"
   ]
  },
  {
   "cell_type": "code",
   "execution_count": 44,
   "metadata": {},
   "outputs": [
    {
     "data": {
      "text/plain": [
       "1500"
      ]
     },
     "execution_count": 44,
     "metadata": {},
     "output_type": "execute_result"
    }
   ],
   "source": [
    "x.shape[0]"
   ]
  },
  {
   "cell_type": "code",
   "execution_count": null,
   "metadata": {},
   "outputs": [],
   "source": [
    "def kmeans(x,k):\n",
    "    n  = x.shape[0]\n",
    "    groups = np.random.randint(k,size=(n,)\n",
    "    values = np.zeros((k,))\n",
    "    newvalues = np.unique(groups,return_counts=True)\n",
    "    while\n",
    "                            "
   ]
  },
  {
   "cell_type": "code",
   "execution_count": 3,
   "metadata": {},
   "outputs": [
    {
     "name": "stderr",
     "output_type": "stream",
     "text": [
      "c:\\users\\lenovo\\appdata\\local\\programs\\python\\python37\\lib\\site-packages\\ipykernel_launcher.py:6: DeprecationWarning: elementwise comparison failed; this will raise an error in the future.\n",
      "  \n",
      "c:\\users\\lenovo\\appdata\\local\\programs\\python\\python37\\lib\\site-packages\\ipykernel_launcher.py:25: RuntimeWarning: Mean of empty slice.\n",
      "c:\\users\\lenovo\\appdata\\local\\programs\\python\\python37\\lib\\site-packages\\numpy\\core\\_methods.py:154: RuntimeWarning: invalid value encountered in true_divide\n",
      "  ret, rcount, out=ret, casting='unsafe', subok=False)\n"
     ]
    },
    {
     "data": {
      "text/plain": [
       "7335.550895256064"
      ]
     },
     "execution_count": 3,
     "metadata": {},
     "output_type": "execute_result"
    }
   ],
   "source": [
    "def kmeans(x,k):\n",
    "    n = x.shape[0]\n",
    "    groups = np.random.randint(k,size=(n,))\n",
    "    values = np.zeros((k,))\n",
    "    newvalues = np.unique(groups,return_counts=True)[1]\n",
    "    while (newvalues!=values).any() if isinstance(newvalues!=values,np.ndarray) else False:\n",
    "        values = newvalues\n",
    "        means = []\n",
    "        dists = []\n",
    "        for i in range(k):\n",
    "            mean = x[groups==i,:].mean(0)\n",
    "            means += [mean]\n",
    "            dist = x-np.ones((n,1))@mean.reshape(1,-1)\n",
    "            dist = (dist**2).sum(1)\n",
    "            dists += [dist]\n",
    "        groups = np.array(dists).argmin(0)\n",
    "        newvalues = np.unique(groups,return_counts=True)[1]\n",
    "    return groups\n",
    "def rep_kmeans(x,k,n_start=100):\n",
    "    n = x.shape[0]\n",
    "    groups = []\n",
    "    wsses = []\n",
    "    for i in range(n_start):\n",
    "        group = kmeans(x,k)\n",
    "        means = np.array([x[group==i].mean(0) for i in range(np.unique(group).max()+1)])\n",
    "        wss = sum([((x[group==i]-means[i,:])**2).sum() for i in range(np.unique(group).max()+1)])\n",
    "        groups += [group]\n",
    "        wsses += [wss]\n",
    "    valu = np.array(wsses).argmin()\n",
    "    return groups[valu]\n",
    "groups = rep_kmeans(x,3)\n",
    "means = np.array([x[groups==i].mean(0) for i in range(np.unique(groups).max()+1)])\n",
    "wss = sum([((x[groups==i]-means[i,:])**2).sum() for i in range(np.unique(groups).max()+1)])\n",
    "np.unique(groups,return_counts=True)\n",
    "wss"
   ]
  },
  {
   "cell_type": "code",
   "execution_count": 4,
   "metadata": {},
   "outputs": [
    {
     "data": {
      "text/plain": [
       "[2513.913168099951, 2405.7354731342866, 2415.9022540218266]"
      ]
     },
     "execution_count": 4,
     "metadata": {},
     "output_type": "execute_result"
    }
   ],
   "source": [
    "[((x[groups==i]-means[i,:])**2).sum() for i in np.unique(groups)]"
   ]
  },
  {
   "cell_type": "code",
   "execution_count": 5,
   "metadata": {},
   "outputs": [
    {
     "data": {
      "text/plain": [
       "0.988"
      ]
     },
     "execution_count": 5,
     "metadata": {},
     "output_type": "execute_result"
    }
   ],
   "source": [
    "(groups==membership).mean()"
   ]
  },
  {
   "cell_type": "code",
   "execution_count": null,
   "metadata": {},
   "outputs": [],
   "source": []
  },
  {
   "cell_type": "code",
   "execution_count": 6,
   "metadata": {
    "scrolled": true
   },
   "outputs": [
    {
     "data": {
      "text/plain": [
       "array([[1, 1],\n",
       "       [0, 0],\n",
       "       [0, 0],\n",
       "       ...,\n",
       "       [0, 0],\n",
       "       [1, 1],\n",
       "       [1, 1]], dtype=int64)"
      ]
     },
     "execution_count": 6,
     "metadata": {},
     "output_type": "execute_result"
    }
   ],
   "source": [
    "np.hstack((groups.reshape(-1,1),membership.reshape(-1,1)))"
   ]
  },
  {
   "cell_type": "code",
   "execution_count": 7,
   "metadata": {},
   "outputs": [],
   "source": [
    "dummy = lambda x: pd.get_dummies(x).values"
   ]
  },
  {
   "cell_type": "code",
   "execution_count": 8,
   "metadata": {},
   "outputs": [
    {
     "data": {
      "text/plain": [
       "array([[244,   0,   0],\n",
       "       [  0, 233,   7],\n",
       "       [  0,  11, 237]], dtype=uint8)"
      ]
     },
     "execution_count": 8,
     "metadata": {},
     "output_type": "execute_result"
    }
   ],
   "source": [
    "dummy(groups).T@dummy(membership)"
   ]
  },
  {
   "cell_type": "code",
   "execution_count": 9,
   "metadata": {},
   "outputs": [
    {
     "data": {
      "text/plain": [
       "0.9754098360655737"
      ]
     },
     "execution_count": 9,
     "metadata": {},
     "output_type": "execute_result"
    }
   ],
   "source": [
    "cmat = dummy(groups).T@dummy(membership)\n",
    "(cmat.max(0)/cmat.sum(0)).mean()"
   ]
  },
  {
   "cell_type": "code",
   "execution_count": 10,
   "metadata": {},
   "outputs": [
    {
     "data": {
      "text/plain": [
       "1500"
      ]
     },
     "execution_count": 10,
     "metadata": {},
     "output_type": "execute_result"
    }
   ],
   "source": [
    "dummy(groups).sum(1).sum()"
   ]
  },
  {
   "cell_type": "code",
   "execution_count": null,
   "metadata": {},
   "outputs": [],
   "source": []
  },
  {
   "cell_type": "markdown",
   "metadata": {},
   "source": [
    "# 3. Programming challenges\n",
    "\n",
    "## 3.1 Quick sort\n",
    "\n",
    "## 3.2 $k$-Means class structure\n"
   ]
  }
 ],
 "metadata": {
  "kernelspec": {
   "display_name": "Python 3",
   "language": "python",
   "name": "python3"
  },
  "language_info": {
   "codemirror_mode": {
    "name": "ipython",
    "version": 3
   },
   "file_extension": ".py",
   "mimetype": "text/x-python",
   "name": "python",
   "nbconvert_exporter": "python",
   "pygments_lexer": "ipython3",
   "version": "3.7.4"
  }
 },
 "nbformat": 4,
 "nbformat_minor": 4
}

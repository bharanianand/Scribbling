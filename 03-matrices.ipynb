{
 "cells": [
  {
   "cell_type": "markdown",
   "metadata": {},
   "source": [
    "# Lecture 3--Matrices"
   ]
  },
  {
   "cell_type": "markdown",
   "metadata": {},
   "source": [
    "## 1. Data Science: Matrix algebra and calculus\n",
    "### Matrix algebra\n",
    "#### Solving systems\n",
    "\n",
    "When it exists, the **inverse** of a square ($n\\times n$) matrix $\\mathbf X$ is defined such that:\n",
    "$$\\mathbf X\\mathbf X^{-1}=\\mathbf X^{-1}\\mathbf X=\\mathbf I_n$$\n",
    "This means that the inverse cancels with the matrix so that they both together become an identity matrix. When an inverse exists, we can solve linear systems such as $\\mathbf Ax=y$ for $x$. \n",
    "$$\\begin{align}\n",
    "\\mathbf Ax &=y \\\\\n",
    "\\mathbf A^{-1}\\mathbf Ax &=\\mathbf A^{-1}y\\\\\n",
    "x &=\\mathbf A^{-1}y\n",
    "\\end{align}$$\n",
    "This is why we need inverses. The question then becomes, under what conditions does the inverse exist? The answer confusingly is that it exists so long as the determinant of the matrix is not equal to zero. If $\\text{det}(\\mathbf A)\\neq 0$ and $\\mathbf A$ is square, then $A^{-1}$ is guaranteed to exist. This condition is the matrix equivalent of not dividing by zero.\n",
    "\n",
    "#### Miscellaneous\n",
    "Sometimes when working with matrices it is necessary to consider **partition matrices** which is a way of representing a matrix using other smaller matrices. Consider the following $n\\times r$ matrix $\\mathbf X$:\n",
    "$$\\mathbf X = \n",
    "\\begin{bmatrix}\n",
    "\\mathbf X_{1,1} & \\mathbf X_{1,2} \\\\\n",
    "\\mathbf X_{2,1} & \\mathbf X_{2,2} \n",
    "\\end{bmatrix}\n",
    "$$\n",
    "where to make the dimensions match $\\mathbf X_{i,j}$ is $n_i\\times r_j$ where $n_1+n_2=n$ and $r_1+r_2=r$. If we transpose $\\mathbf X$, then consider what has to happen to the submatrices given that the dimensions still have to match:\n",
    "$$\\mathbf X' = \n",
    "\\begin{bmatrix}\n",
    "\\mathbf X_{1,1}' & \\mathbf X_{2,1}' \\\\\n",
    "\\mathbf X_{1,2}' & \\mathbf X_{2,2}' \n",
    "\\end{bmatrix}\n",
    "$$\n",
    "\n",
    "The **Hadamard product** of two matrices is just the **elementwise product** of those matrices: $\\mathbf X\\circ\\mathbf Y=\\left(x_{i,j}y_{i,j}\\right)_{i=1,..n;j=1,..r}$. \n",
    "\n",
    "On the other hand, the **Kronecker product** is defined as $\\mathbf X\\otimes\\mathbf Y=(x_{i,j}\\mathbf Y)_{i=1,..n;j=1,..r}$. This means that we have an entire copy of $\\mathbf Y$ for every element of $\\mathbf X$. This implies that if $\\mathbf X$ is $n\\times r$ and $\\mathbf Y$ is $m\\times s$, then $\\mathbf X\\otimes\\mathbf Y$ is $nm\\times rs$. \n",
    "    \n",
    "### Matrix calculus\n",
    "#### Types\n",
    "We only care about matrix differentiation. To understand matrix derivatives, you need to recognize that their are various possibilities. These cases can be defined by the intersection of two possible things: generalizing the derivative operator from being a scalar to being a vector or matrix and generalizing the quantity the operator is acting on from being a scalar to being a vector or matrix. We are not going to consider matrix operators or operands. These are just unnecessary for our purposes. We only care about vectors. The operator can be a vector and the operand can be a vector. This is enough generalization for us. If the operator is a vector and the operand is a vector, then the output will be a matrix.  \n",
    "#### Basic rules\t\n",
    "Doing calculus with matrices requires applying various known solutions. These can be verified and proven mathematically but that is not necessary for our purposes. We only need to know the rules. The first is that the derivative applies directly to sums just like a normal univariate derivative:\n",
    "$$\\frac{d}{dx}\\left(f(x)+g(x)\\right)=\\frac{d}{dx}f(x)+\\frac{d}{dx}g(x))$$\n",
    "The second rule is that linear terms have simple constant derivatives:\n",
    "$$\\frac{d}{dx}A'x=\\frac{d}{dx}x'A=A$$\n",
    "Our third and final basic rule is that quadratic forms become linear terms like so:\n",
    "$$\\frac{d}{dx}x'Ax=2Ax$$\n",
    "#### Advanced rules\n",
    "We don't need these rules for deriving OLS, but we might need these two rules in future. The first rule is the product rule for matrices. This is something like the univariate product rule, but it's somewhat different:\n",
    "$$\\frac{d}{dx}f(x)'g(x)=\\left(\\frac{d}{dx}g(x)'\\right)f(x)+\\left(\\frac{d}{dx}f(x)'\\right)g(x)$$\n",
    "The second rule is the chain rule. It's basically the same as the chain rule you already know:\n",
    "$$\\frac{d}{dx}f(g(x))=\\frac{dg}{dx}\\text{diag}\\left(\\frac{df}{dg}\\Big\\vert_{g(x)}\\right)$$\n",
    "#### Application: Derivation of OLS\n",
    "Consider the usual linear equation for OLS: $y=\\mathbf X\\beta +e$. Our goal is to find the $\\beta$ value which solves the following problem: $\\min_\\beta e'e$. To do this, we need to revise the goal to be in terms of the $\\beta$ values:\n",
    "$$\\begin{align}\n",
    "e'e&=(y-\\mathbf X\\beta)'(y-\\mathbf X\\beta)\\\\\n",
    "&=y'y-y'\\mathbf X\\beta-\\beta'\\mathbf X'y+\\beta'\n",
    "\\mathbf X'\\mathbf X\\beta\n",
    "\\end{align}$$\n",
    "Now we are ready to take the first derivative applying our matrix calculus formulas:\n",
    "$$\\frac{d}{d\\beta}e'e=\\mathbf 0-\\mathbf X'y-\\mathbf X'y+2\\mathbf X'\\mathbf X\\beta$$\n",
    "From here, we can set this derivative equal to $0$\n",
    "$$-\\mathbf X'y+\\mathbf X'\\mathbf X\\beta=0$$\n",
    "Now we solve for $\\beta$:\n",
    "$$\\beta=\\left(\\mathbf X'\\mathbf X\\right)^{-1}\\mathbf X'y$$\n",
    "So $\\hat\\beta=\\left(\\mathbf X'\\mathbf X\\right)^{-1}\\mathbf X'y$\n",
    "        "
   ]
  },
  {
   "cell_type": "markdown",
   "metadata": {},
   "source": [
    "## Programming: Linear algebra packages\n",
    "\n",
    "Numpy\n",
    "\n",
    "* [Introduction to NumPy](lec3files/02.00-Introduction-to-NumPy.ipynb)\n",
    "* [Understanding Data Types](lec3files/02.01-Understanding-Data-Types.ipynb)\n",
    "* [The Basics Of NumPy Arrays](lec3files/02.02-The-Basics-Of-NumPy-Arrays.ipynb)\n",
    "* [Computation on arrays aggregates](lec3files/02.04-Computation-on-arrays-aggregates.ipynb)\n",
    "* [Computation on arrays broadcasting](lec3files/02.05-Computation-on-arrays-broadcasting.ipynb)\n",
    "* [Boolean Arrays and Masks](lec3files/02.06-Boolean-Arrays-and-Masks.ipynb)\n",
    "* [Fancy Indexing](lec3files/02.07-Fancy-Indexing.ipynb)\n",
    "* [Sorting](lec3files/02.08-Sorting.ipynb)\n",
    "\n",
    "Matplotlib\n",
    "\n",
    "* [Introduction To Matplotlib](lec3files/04.00-Introduction-To-Matplotlib.ipynb)\n",
    "* [Simple Line Plots](lec3files/04.01-Simple-Line-Plots.ipynb)\n",
    "* [Simple Scatter Plots](lec3files/04.02-Simple-Scatter-Plots.ipynb)\n",
    "* [Density and Contour Plots](lec3files/04.04-Density-and-Contour-Plots.ipynb)\n",
    "* [Histograms and Binnings](lec3files/04.05-Histograms-and-Binnings.ipynb)\n",
    "* [Three Dimensional Plotting](lec3files/04.12-Three-Dimensional-Plotting.ipynb)\n",
    "* [Visualization With Seaborn](lec3files/04.14-Visualization-With-Seaborn.ipynb)\n",
    "* [Further Resources](lec3files/04.15-Further-Resources.ipynb)"
   ]
  },
  {
   "cell_type": "markdown",
   "metadata": {},
   "source": [
    "## Programming challenges\t\n",
    "### Pairwise combination matrix\n",
    "\n",
    "I call the following matrix the pairwise combination matrix of order $4$:\n",
    "\n",
    "$$\n",
    "\\begin{bmatrix}\n",
    "1 & 1 & 0 & 0 \\\\\n",
    "1 & 0 & 1 & 0 \\\\\n",
    "1 & 0 & 0 & 1 \\\\\n",
    "0 & 1 & 1 & 0 \\\\\n",
    "0 & 1 & 0 & 1 \\\\\n",
    "0 & 0 & 1 & 1 \\\\\n",
    "\\end{bmatrix}\n",
    "$$\n",
    "\n",
    "Notice that each line contains exactly two ones. This should be true of any pairwise combination matrix. Write a function which creates the pairwise combination matrix of order $n$.\n",
    "\n",
    "### Cantor-Lebesgue CDF\n",
    "\n",
    "Write a program that shows the Cantor-Lebesgue CDF.\n",
    "\n",
    "### Beta GMM\n",
    "\n",
    "Write an estimator for the beta distribution parameters using the generalized method of moments. That is, suppose that you estimate the mean and variance of the data. Then equate the mean and variance to $\\alpha$ and $\\beta$ using the beta distribution formulas from wikipedia:\n",
    "\n",
    "$$\\bar x = \\frac{\\alpha}{\\alpha+\\beta}$$\n",
    "$$s_x^2= \\frac{\\alpha\\beta}{(\\alpha+\\beta)^2 (\\alpha+\\beta+1)}$$\n",
    "\n",
    "then solve for $\\alpha$ and $\\beta$.\n",
    "\n"
   ]
  },
  {
   "cell_type": "code",
   "execution_count": 10,
   "metadata": {},
   "outputs": [
    {
     "name": "stdout",
     "output_type": "stream",
     "text": [
      "[[ 1.00000000e+00 -3.46944695e-18  1.95156391e-18  4.16333634e-17]\n",
      " [-8.67361738e-18  1.00000000e+00 -1.95156391e-18  1.38777878e-17]\n",
      " [ 2.81892565e-18 -1.57209315e-18  1.00000000e+00  0.00000000e+00]\n",
      " [-1.38777878e-17  6.93889390e-18  0.00000000e+00  1.00000000e+00]]\n",
      "matmul with @\n",
      "[[1000.           35.53988304   37.52207285  -93.80330066]\n",
      " [  35.53988304  902.69656115    6.72859891  -39.88443609]\n",
      " [  37.52207285    6.72859891 1082.32779527  -12.38143704]\n",
      " [ -93.80330066  -39.88443609  -12.38143704  973.76630539]]\n",
      "linal.inv\n"
     ]
    }
   ],
   "source": [
    "import numpy as np\n",
    "n=1000\n",
    "x=np.random.normal(size=(n,3))\n",
    "y= np.random.normal(size=(n,1))\n",
    "\n",
    "ones = np.ones((n,1))\n",
    "x = np.hstack((ones,x))\n",
    "\n",
    "xx = np.matmul(x.T,x)\n",
    "\n",
    "xx1 = x.T@x #matmul shortut -@\n",
    "xy = x.T@x\n",
    "print(np.linalg.inv(xx)@xy)\n",
    "\n",
    "np.linalg.solve(xx,xy)  ## OLS functional code.o\n",
    "\n",
    "print(\"matmul with @\")\n",
    "print(xx1)\n",
    "\n",
    "print(\"linal.inv\")"
   ]
  },
  {
   "cell_type": "code",
   "execution_count": 15,
   "metadata": {},
   "outputs": [
    {
     "data": {
      "text/plain": [
       "array([[ 1.        , -0.01962849, -0.33299963, ...,  0.77556964,\n",
       "        -0.76154313,  0.26943713],\n",
       "       [-0.01962849,  1.        ,  0.68180026, ..., -0.55849867,\n",
       "         0.07759263,  0.79780357],\n",
       "       [-0.33299963,  0.68180026,  1.        , ..., -0.64171272,\n",
       "         0.61897037,  0.40858728],\n",
       "       ...,\n",
       "       [ 0.77556964, -0.55849867, -0.64171272, ...,  1.        ,\n",
       "        -0.76487252, -0.29799008],\n",
       "       [-0.76154313,  0.07759263,  0.61897037, ..., -0.76487252,\n",
       "         1.        , -0.03839061],\n",
       "       [ 0.26943713,  0.79780357,  0.40858728, ..., -0.29799008,\n",
       "        -0.03839061,  1.        ]])"
      ]
     },
     "execution_count": 15,
     "metadata": {},
     "output_type": "execute_result"
    }
   ],
   "source": [
    "#Pairwise\n",
    "import numpy as np\n",
    "r = 6\n",
    "pair_matrix = np.array([[1,1]])\n",
    "for i in range(3,r+1):\n",
    "    lower = np.hstack([np.zeros([pair_matrix.shape[0],1]),pair_matrix])\n",
    "    upper = np.hstack([np.ones([i-1,1]),np.eye(i-1)])\n",
    "    pair_matrix = np.vstack([upper,lower])\n",
    "                   \n",
    "pair_matrix\n",
    "\n",
    "np.corrcoef(np.random.normal(size= (1000, pair_matrix.shape[0]))@pair_matrix + \\\n",
    "    np.random.normal(size=(1000,pair_matrix.shape[1])))"
   ]
  },
  {
   "cell_type": "code",
   "execution_count": 40,
   "metadata": {},
   "outputs": [
    {
     "data": {
      "text/plain": [
       "0.5009765625"
      ]
     },
     "execution_count": 40,
     "metadata": {},
     "output_type": "execute_result"
    }
   ],
   "source": [
    "#Cantor-Lebesgue CDF\n",
    "\n",
    "def cantor(x,lower=0, upper=1, level=1, offset=0):\n",
    "    division = (upper-lower)/3\n",
    "    new_offset = offset+1/2**level\n",
    "    \n",
    "    if level >= 10:\n",
    "        return new_offset\n",
    "    if x <= lower + division : \n",
    "        return cantor(x,lower+division,upper, level+1, offset)\n",
    "    elif x <= upper - division : \n",
    "        return new_offset \n",
    "    else : \n",
    "        return cantor(x,upper-division, upper , level+1, new_offset)\n",
    "cantor(3/4)"
   ]
  },
  {
   "cell_type": "code",
   "execution_count": 43,
   "metadata": {},
   "outputs": [],
   "source": [
    "x = np.linspace(0,1,2000)\n",
    "y=x.copy()\n",
    "for i in range(y.shape[0]):\n",
    "    y[i] = cantor(y[i])\n",
    "    "
   ]
  },
  {
   "cell_type": "code",
   "execution_count": 72,
   "metadata": {},
   "outputs": [
    {
     "data": {
      "text/plain": [
       "(2.9434185789385587, 0.985392329529689)"
      ]
     },
     "execution_count": 72,
     "metadata": {},
     "output_type": "execute_result"
    }
   ],
   "source": [
    "#BETA GMM\n",
    "\n",
    "\n",
    "n=1000\n",
    "x = np.random.beta(a=3,b=1,size=(n,))\n",
    "mx,sx = x.mean(),x.var()\n",
    "Q = mx*(1-mx)-sx\n",
    "Q /= sx\n",
    "a = mx*Q\n",
    "b = (1-mx)*Q\n",
    "a,b"
   ]
  },
  {
   "cell_type": "code",
   "execution_count": 44,
   "metadata": {},
   "outputs": [
    {
     "data": {
      "image/png": "[encoded data removed]",
      "text/plain": [
       "<Figure size 432x288 with 1 Axes>"
      ]
     },
     "metadata": {
      "needs_background": "light"
     },
     "output_type": "display_data"
    }
   ],
   "source": [
    "import matplotlib.pyplot as plt\n",
    "plt.plot(x,y)\n",
    "plt.show()"
   ]
  }
 ],
 "metadata": {
  "kernelspec": {
   "display_name": "Python 3",
   "language": "python",
   "name": "python3"
  },
  "language_info": {
   "codemirror_mode": {
    "name": "ipython",
    "version": 3
   },
   "file_extension": ".py",
   "mimetype": "text/x-python",
   "name": "python",
   "nbconvert_exporter": "python",
   "pygments_lexer": "ipython3",
   "version": "3.7.4"
  }
 },
 "nbformat": 4,
 "nbformat_minor": 2
}

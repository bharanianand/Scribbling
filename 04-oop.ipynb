{
 "cells": [
  {
   "cell_type": "markdown",
   "metadata": {},
   "source": [
    "# Lecture 4--Object oriented programming"
   ]
  },
  {
   "cell_type": "markdown",
   "metadata": {},
   "source": [
    "## 1. Programming: Pandas\n",
    "\n",
    "* [Introduction to Pandas](lec4files/03.00-Introduction-to-Pandas.ipynb)\n",
    "* [Introducing Pandas Objects](lec4files/03.01-Introducing-Pandas-Objects.ipynb)\n",
    "* [Data Indexing and Selection](lec4files/03.02-Data-Indexing-and-Selection.ipynb)\n",
    "* [Missing Values](lec4files/03.04-Missing-Values.ipynb)\n",
    "* [Concat And Append](lec4files/03.06-Concat-And-Append.ipynb)\n",
    "* [Merge and Join](lec4files/03.07-Merge-and-Join.ipynb)\n",
    "* [Aggregation and Grouping](lec4files/03.08-Aggregation-and-Grouping.ipynb)\n",
    "* [Working With Strings](lec4files/03.10-Working-With-Strings.ipynb)\n",
    "* [Working with Time Series](lec4files/03.11-Working-with-Time-Series.ipynb)\n",
    "* [Performance Eval and Query](lec4files/03.12-Performance-Eval-and-Query.ipynb)\n",
    "* [Further Resources](lec4files/03.13-Further-Resources.ipynb)\n"
   ]
  },
  {
   "cell_type": "markdown",
   "metadata": {},
   "source": [
    "## 2. Topic: Object-oriented programming\t\n",
    "\n",
    "### Benefits\n",
    "\n",
    "**Instantiation**\n",
    "\n",
    "Being able to make instances of something. Suppose you have a new data structure. You want to define the structure and makek instances given particular data sets. This can be accomplished with classes. You make a general class, then when faced with a data set, you make a new instance. This ties into the second benefit of object-orientation which is encapsulation\n",
    "\n",
    "**Encapsulation**\n",
    "\n",
    "Being able to combine multiple data points into a single object which will always have the same naming conventions. This allows us to define custom functions which work on a class and which all the instances of that class will have access to. For instance, in pandas, all data sets which would normally just be numpy matrices have dedicated column names attached to them. This allows us to query for the column names and guarantees that something will be there for every data set. \n",
    "\n",
    "**Inheritance**\n",
    "\n",
    "Suppose you wanted to make a panel data frame. This means that you need to create a bunch of panel functions and features, but if you didn't have inheritance, you would have to build this completely from scratch rewriting much of the pandas DataFrame code. With inheritance, you can simply extend the DataFrame class and start writing the new features and functions.\n",
    "\n",
    "### Example"
   ]
  },
  {
   "cell_type": "code",
   "execution_count": 1,
   "metadata": {},
   "outputs": [
    {
     "data": {
      "text/plain": [
       "<__main__.A at 0x7fe910190f98>"
      ]
     },
     "execution_count": 1,
     "metadata": {},
     "output_type": "execute_result"
    }
   ],
   "source": [
    "class A:\n",
    "    def __init__(self,name):\n",
    "        self.name = name\n",
    "    def print_name(self):\n",
    "        print(self.name)"
   ]
  },
  {
   "cell_type": "code",
   "execution_count": 5,
   "metadata": {},
   "outputs": [
    {
     "data": {
      "text/plain": [
       "<__main__.A at 0x7fe910190d68>"
      ]
     },
     "execution_count": 5,
     "metadata": {},
     "output_type": "execute_result"
    }
   ],
   "source": [
    "A('jason')"
   ]
  },
  {
   "cell_type": "code",
   "execution_count": 2,
   "metadata": {},
   "outputs": [
    {
     "data": {
      "text/plain": [
       "'jason'"
      ]
     },
     "execution_count": 2,
     "metadata": {},
     "output_type": "execute_result"
    }
   ],
   "source": [
    "A('jason').name"
   ]
  },
  {
   "cell_type": "code",
   "execution_count": 3,
   "metadata": {},
   "outputs": [
    {
     "name": "stdout",
     "output_type": "stream",
     "text": [
      "jason\n"
     ]
    }
   ],
   "source": [
    "A('jason').print_name()"
   ]
  },
  {
   "cell_type": "code",
   "execution_count": 7,
   "metadata": {},
   "outputs": [],
   "source": [
    "class B(A):\n",
    "    def __init__(self,name,job):\n",
    "        super(B,self).__init__(name)\n",
    "        self.job = job\n",
    "    def print_name_and_job(self):\n",
    "        print('{0}\\'s job is: {1}'.format(self.name,self.job))"
   ]
  },
  {
   "cell_type": "code",
   "execution_count": 8,
   "metadata": {},
   "outputs": [
    {
     "name": "stdout",
     "output_type": "stream",
     "text": [
      "jason\n"
     ]
    }
   ],
   "source": [
    "B('jason','teacher').print_name()"
   ]
  },
  {
   "cell_type": "code",
   "execution_count": 9,
   "metadata": {},
   "outputs": [
    {
     "name": "stdout",
     "output_type": "stream",
     "text": [
      "jason's job is: teacher\n"
     ]
    }
   ],
   "source": [
    "B('jason','teacher').print_name_and_job()"
   ]
  },
  {
   "cell_type": "markdown",
   "metadata": {},
   "source": [
    "## 3. Data Science: Linear model\t\n",
    "Our first goal is to understand the variance of $\\hat\\beta$. To do this, we will combine the formula for $\\hat\\beta$ with the linear modeling equation, $y=\\mathbf X\\beta+e$:\n",
    "$$\\begin{align}\n",
    "\\hat\\beta&=\\left(\\mathbf X'\\mathbf X\\right)^{-1}\\mathbf X'y\\\\\n",
    "&=\\left(\\mathbf X'\\mathbf X\\right)^{-1}\\mathbf X'\\mathbf X\\beta+\\left(\\mathbf X'\\mathbf X\\right)^{-1}\\mathbf X'e\\\\\n",
    "&=\\beta+\\left(\\mathbf X'\\mathbf X\\right)^{-1}\\mathbf X'e\\\\\n",
    "\\hat\\beta-\\beta&=\\left(\\mathbf X'\\mathbf X\\right)^{-1}\\mathbf X'e\n",
    "\\end{align}$$\n",
    "Then we can define the variance:\n",
    "$$\\text{Var}(\\hat\\beta\\vert\\mathbf X)=\\text{E}\\left[\\left(\\hat\\beta-\\beta\\right)\\left(\\hat\\beta-\\beta\\right)'\\vert\\mathbf X\\right]$$\n",
    "This is true so long as $\\text{E}(\\hat\\beta)=\\beta$. I.e., when there is no endogeneity. Notice how our derived equation fits neatly into this definition. \n",
    "$$\\text{Var}(\\hat\\beta\\vert\\mathbf X)=\\left(\\mathbf X'\\mathbf X\\right)^{-1}\\mathbf X'\\text{E}\\left[ee'\\vert\\mathbf X\\right]\\mathbf X\\left(\\mathbf X'\\mathbf X\\right)^{-1}$$\n",
    "So we have our general formula for the variance. The OLS assumptions (no heteroskedasticity, no autocorrelation) imply in matrix form that $\\text{E}\\left[ee'\\vert\\mathbf X\\right]=\\sigma^2\\mathbf I_n$. Now we can simply our variance as follows:\n",
    "$$\\begin{align}\n",
    "\\text{Var}(\\hat\\beta\\vert\\mathbf X)&=\\sigma^2\\left(\\mathbf X'\\mathbf X\\right)^{-1}\\mathbf X'\\mathbf I_n\\mathbf X\\left(\\mathbf X'\\mathbf X\\right)^{-1}\\\\\n",
    " &=\\sigma^2\\left(\\mathbf X'\\mathbf X\\right)^{-1}\\mathbf X'\\mathbf X\\left(\\mathbf X'\\mathbf X\\right)^{-1}\\\\\n",
    " &=\\sigma^2\\left(\\mathbf X'\\mathbf X\\right)^{-1}\n",
    "\\end{align}$$\n",
    "So we can define the OLS variance estimator:\n",
    "$$\\hat{\\text{Var}}(\\hat\\beta)_{\\text{OLS}}=s^2\\left(\\mathbf X'\\mathbf X\\right)^{-1}$$\n",
    "where $s^2=(n-r)^{-1}\\sum_{i=1}^n\\hat e_i^2$\n",
    "If we want to only assume no autocorrelation then $\\text{E}\\left[ee'\\vert\\mathbf X\\right]=\\text{diag}\\left( \\sigma_i^2\\right)$ and the variance becomes:\n",
    "$$\\hat{\\text{Var}}(\\hat\\beta)_{\\text{White}}=\\left(\\mathbf X'\\mathbf X\\right)^{-1}\\mathbf X' \\text{diag}\\left(\\hat{e}^2\\right)\\mathbf X\\left(\\mathbf X'\\mathbf X\\right)^{-1}$$\n",
    "t-statistics can be defined by:\n",
    "$$t_{\\hat\\beta}=\\hat\\beta\\circ\\text{diag}\\left(\\hat{\\text{Var}}(\\hat\\beta)^{-1}\\right)$$\n",
    "and p-values can similarly be defined:\n",
    "$$p_{\\hat\\beta}=2\\Phi(-\\vert t_{\\hat\\beta}\\vert)$$"
   ]
  },
  {
   "cell_type": "markdown",
   "metadata": {},
   "source": [
    "## 4. Programming challenges \n",
    "\n",
    "### Package structure\n",
    "\n",
    "Consider how you would organize a data science package. What classes would you use? How would the inheritance structure work?\n",
    "### Audioactive decay\n"
   ]
  },
  {
   "cell_type": "markdown",
   "metadata": {},
   "source": []
  },
  {
   "cell_type": "code",
   "execution_count": 14,
   "metadata": {},
   "outputs": [],
   "source": [
    "#Package structure\n",
    "\n",
    "class unsupervised_model :\n",
    "    def __init__(self,x):\n",
    "        self.x = x\n",
    "        self.n_obs = x.shape[0]\n",
    "        self.job = x.shape[1]\n",
    "        \n",
    "class supervised_model(unsupervised_model):\n",
    "    def __init__(self,x,y):\n",
    "        super(supervised_model,self).__init__(x)\n",
    "        self.y = y\n",
    "        \n",
    "class predictor(supervised_model):\n",
    "    def predict(self,newx):\n",
    "        raise NotImplementedError()\n",
    "    def fitted(self):\n",
    "        return self.predict(self.x)\n",
    "    def residuals(self):\n",
    "        return self.y-self.fitted()\n",
    "\n",
    "class linear_model(predictor):\n",
    "    def __init__(self,x,y):\n",
    "        super(linear_model,self).__init__(x,y)\n",
    "        self.params = self.__fit__()\n",
    "    def __fit__(self):\n",
    "        raise NotImplementedError()\n",
    "    def predict(self,newx):\n",
    "        return newx@self.params\n",
    "    \n",
    "class least_square_regressor(linear_model):\n",
    "    def __fit__(self):\n",
    "        return np.linalg.solve(self.x.T@self.x,self.x.T@self.y)\n",
    "    \n",
    "    "
   ]
  },
  {
   "cell_type": "code",
   "execution_count": 11,
   "metadata": {},
   "outputs": [
    {
     "data": {
      "text/html": [
       "<div>\n",
       "<style scoped>\n",
       "    .dataframe tbody tr th:only-of-type {\n",
       "        vertical-align: middle;\n",
       "    }\n",
       "\n",
       "    .dataframe tbody tr th {\n",
       "        vertical-align: top;\n",
       "    }\n",
       "\n",
       "    .dataframe thead th {\n",
       "        text-align: right;\n",
       "    }\n",
       "</style>\n",
       "<table border=\"1\" class=\"dataframe\">\n",
       "  <thead>\n",
       "    <tr style=\"text-align: right;\">\n",
       "      <th></th>\n",
       "      <th>faminc</th>\n",
       "      <th>cigtax</th>\n",
       "      <th>cigprice</th>\n",
       "      <th>bwght</th>\n",
       "      <th>fatheduc</th>\n",
       "      <th>motheduc</th>\n",
       "      <th>parity</th>\n",
       "      <th>male</th>\n",
       "      <th>white</th>\n",
       "      <th>cigs</th>\n",
       "      <th>lbwght</th>\n",
       "      <th>bwghtlbs</th>\n",
       "      <th>packs</th>\n",
       "      <th>lfaminc</th>\n",
       "    </tr>\n",
       "  </thead>\n",
       "  <tbody>\n",
       "    <tr>\n",
       "      <th>0</th>\n",
       "      <td>13.5</td>\n",
       "      <td>16.5</td>\n",
       "      <td>122.3</td>\n",
       "      <td>109</td>\n",
       "      <td>12.0</td>\n",
       "      <td>12.0</td>\n",
       "      <td>1</td>\n",
       "      <td>1</td>\n",
       "      <td>1</td>\n",
       "      <td>0</td>\n",
       "      <td>4.691348</td>\n",
       "      <td>6.8125</td>\n",
       "      <td>0.0</td>\n",
       "      <td>2.602690</td>\n",
       "    </tr>\n",
       "    <tr>\n",
       "      <th>1</th>\n",
       "      <td>7.5</td>\n",
       "      <td>16.5</td>\n",
       "      <td>122.3</td>\n",
       "      <td>133</td>\n",
       "      <td>6.0</td>\n",
       "      <td>12.0</td>\n",
       "      <td>2</td>\n",
       "      <td>1</td>\n",
       "      <td>0</td>\n",
       "      <td>0</td>\n",
       "      <td>4.890349</td>\n",
       "      <td>8.3125</td>\n",
       "      <td>0.0</td>\n",
       "      <td>2.014903</td>\n",
       "    </tr>\n",
       "    <tr>\n",
       "      <th>2</th>\n",
       "      <td>0.5</td>\n",
       "      <td>16.5</td>\n",
       "      <td>122.3</td>\n",
       "      <td>129</td>\n",
       "      <td>NaN</td>\n",
       "      <td>12.0</td>\n",
       "      <td>2</td>\n",
       "      <td>0</td>\n",
       "      <td>0</td>\n",
       "      <td>0</td>\n",
       "      <td>4.859812</td>\n",
       "      <td>8.0625</td>\n",
       "      <td>0.0</td>\n",
       "      <td>-0.693147</td>\n",
       "    </tr>\n",
       "    <tr>\n",
       "      <th>3</th>\n",
       "      <td>15.5</td>\n",
       "      <td>16.5</td>\n",
       "      <td>122.3</td>\n",
       "      <td>126</td>\n",
       "      <td>12.0</td>\n",
       "      <td>12.0</td>\n",
       "      <td>2</td>\n",
       "      <td>1</td>\n",
       "      <td>0</td>\n",
       "      <td>0</td>\n",
       "      <td>4.836282</td>\n",
       "      <td>7.8750</td>\n",
       "      <td>0.0</td>\n",
       "      <td>2.740840</td>\n",
       "    </tr>\n",
       "    <tr>\n",
       "      <th>4</th>\n",
       "      <td>27.5</td>\n",
       "      <td>16.5</td>\n",
       "      <td>122.3</td>\n",
       "      <td>134</td>\n",
       "      <td>14.0</td>\n",
       "      <td>12.0</td>\n",
       "      <td>2</td>\n",
       "      <td>1</td>\n",
       "      <td>1</td>\n",
       "      <td>0</td>\n",
       "      <td>4.897840</td>\n",
       "      <td>8.3750</td>\n",
       "      <td>0.0</td>\n",
       "      <td>3.314186</td>\n",
       "    </tr>\n",
       "    <tr>\n",
       "      <th>...</th>\n",
       "      <td>...</td>\n",
       "      <td>...</td>\n",
       "      <td>...</td>\n",
       "      <td>...</td>\n",
       "      <td>...</td>\n",
       "      <td>...</td>\n",
       "      <td>...</td>\n",
       "      <td>...</td>\n",
       "      <td>...</td>\n",
       "      <td>...</td>\n",
       "      <td>...</td>\n",
       "      <td>...</td>\n",
       "      <td>...</td>\n",
       "      <td>...</td>\n",
       "    </tr>\n",
       "    <tr>\n",
       "      <th>1383</th>\n",
       "      <td>27.5</td>\n",
       "      <td>30.0</td>\n",
       "      <td>138.3</td>\n",
       "      <td>110</td>\n",
       "      <td>12.0</td>\n",
       "      <td>12.0</td>\n",
       "      <td>4</td>\n",
       "      <td>1</td>\n",
       "      <td>1</td>\n",
       "      <td>0</td>\n",
       "      <td>4.700480</td>\n",
       "      <td>6.8750</td>\n",
       "      <td>0.0</td>\n",
       "      <td>3.314186</td>\n",
       "    </tr>\n",
       "    <tr>\n",
       "      <th>1384</th>\n",
       "      <td>5.5</td>\n",
       "      <td>30.0</td>\n",
       "      <td>138.3</td>\n",
       "      <td>146</td>\n",
       "      <td>NaN</td>\n",
       "      <td>16.0</td>\n",
       "      <td>2</td>\n",
       "      <td>1</td>\n",
       "      <td>1</td>\n",
       "      <td>0</td>\n",
       "      <td>4.983607</td>\n",
       "      <td>9.1250</td>\n",
       "      <td>0.0</td>\n",
       "      <td>1.704748</td>\n",
       "    </tr>\n",
       "    <tr>\n",
       "      <th>1385</th>\n",
       "      <td>65.0</td>\n",
       "      <td>8.0</td>\n",
       "      <td>118.6</td>\n",
       "      <td>135</td>\n",
       "      <td>18.0</td>\n",
       "      <td>16.0</td>\n",
       "      <td>2</td>\n",
       "      <td>0</td>\n",
       "      <td>1</td>\n",
       "      <td>0</td>\n",
       "      <td>4.905275</td>\n",
       "      <td>8.4375</td>\n",
       "      <td>0.0</td>\n",
       "      <td>4.174387</td>\n",
       "    </tr>\n",
       "    <tr>\n",
       "      <th>1386</th>\n",
       "      <td>27.5</td>\n",
       "      <td>8.0</td>\n",
       "      <td>118.6</td>\n",
       "      <td>118</td>\n",
       "      <td>NaN</td>\n",
       "      <td>14.0</td>\n",
       "      <td>2</td>\n",
       "      <td>0</td>\n",
       "      <td>1</td>\n",
       "      <td>0</td>\n",
       "      <td>4.770685</td>\n",
       "      <td>7.3750</td>\n",
       "      <td>0.0</td>\n",
       "      <td>3.314186</td>\n",
       "    </tr>\n",
       "    <tr>\n",
       "      <th>1387</th>\n",
       "      <td>37.5</td>\n",
       "      <td>8.0</td>\n",
       "      <td>118.6</td>\n",
       "      <td>111</td>\n",
       "      <td>16.0</td>\n",
       "      <td>13.0</td>\n",
       "      <td>2</td>\n",
       "      <td>0</td>\n",
       "      <td>1</td>\n",
       "      <td>0</td>\n",
       "      <td>4.709530</td>\n",
       "      <td>6.9375</td>\n",
       "      <td>0.0</td>\n",
       "      <td>3.624341</td>\n",
       "    </tr>\n",
       "  </tbody>\n",
       "</table>\n",
       "<p>1388 rows × 14 columns</p>\n",
       "</div>"
      ],
      "text/plain": [
       "      faminc  cigtax  cigprice  bwght  fatheduc  motheduc  parity  male  \\\n",
       "0       13.5    16.5     122.3    109      12.0      12.0       1     1   \n",
       "1        7.5    16.5     122.3    133       6.0      12.0       2     1   \n",
       "2        0.5    16.5     122.3    129       NaN      12.0       2     0   \n",
       "3       15.5    16.5     122.3    126      12.0      12.0       2     1   \n",
       "4       27.5    16.5     122.3    134      14.0      12.0       2     1   \n",
       "...      ...     ...       ...    ...       ...       ...     ...   ...   \n",
       "1383    27.5    30.0     138.3    110      12.0      12.0       4     1   \n",
       "1384     5.5    30.0     138.3    146       NaN      16.0       2     1   \n",
       "1385    65.0     8.0     118.6    135      18.0      16.0       2     0   \n",
       "1386    27.5     8.0     118.6    118       NaN      14.0       2     0   \n",
       "1387    37.5     8.0     118.6    111      16.0      13.0       2     0   \n",
       "\n",
       "      white  cigs    lbwght  bwghtlbs  packs   lfaminc  \n",
       "0         1     0  4.691348    6.8125    0.0  2.602690  \n",
       "1         0     0  4.890349    8.3125    0.0  2.014903  \n",
       "2         0     0  4.859812    8.0625    0.0 -0.693147  \n",
       "3         0     0  4.836282    7.8750    0.0  2.740840  \n",
       "4         1     0  4.897840    8.3750    0.0  3.314186  \n",
       "...     ...   ...       ...       ...    ...       ...  \n",
       "1383      1     0  4.700480    6.8750    0.0  3.314186  \n",
       "1384      1     0  4.983607    9.1250    0.0  1.704748  \n",
       "1385      1     0  4.905275    8.4375    0.0  4.174387  \n",
       "1386      1     0  4.770685    7.3750    0.0  3.314186  \n",
       "1387      1     0  4.709530    6.9375    0.0  3.624341  \n",
       "\n",
       "[1388 rows x 14 columns]"
      ]
     },
     "execution_count": 11,
     "metadata": {},
     "output_type": "execute_result"
    }
   ],
   "source": [
    "\n",
    "import numpy as np\n",
    "import pandas as pd\n",
    "bwght = pd.read_csv('BWGHT.csv')\n",
    "bwght"
   ]
  },
  {
   "cell_type": "code",
   "execution_count": 15,
   "metadata": {},
   "outputs": [
    {
     "data": {
      "text/plain": [
       "array([ 1.15227708e+02, -4.61045700e-01,  9.68798348e-02,  3.11396789e+00])"
      ]
     },
     "execution_count": 15,
     "metadata": {},
     "output_type": "execute_result"
    }
   ],
   "source": [
    "bwght['(intercept)'] =1 \n",
    "\n",
    "x = bwght[['(intercept)','cigs','faminc', 'male']]\n",
    "y = bwght['bwght']\n",
    "least_square_regressor(x,y).params"
   ]
  }
 ],
 "metadata": {
  "kernelspec": {
   "display_name": "Python 3",
   "language": "python",
   "name": "python3"
  },
  "language_info": {
   "codemirror_mode": {
    "name": "ipython",
    "version": 3
   },
   "file_extension": ".py",
   "mimetype": "text/x-python",
   "name": "python",
   "nbconvert_exporter": "python",
   "pygments_lexer": "ipython3",
   "version": "3.7.4"
  }
 },
 "nbformat": 4,
 "nbformat_minor": 2
}
